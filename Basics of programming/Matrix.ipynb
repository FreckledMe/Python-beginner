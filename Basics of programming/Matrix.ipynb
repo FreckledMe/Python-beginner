{
 "cells": [
  {
   "cell_type": "code",
   "execution_count": 1,
   "metadata": {},
   "outputs": [
    {
     "name": "stdout",
     "output_type": "stream",
     "text": [
      "m=5\n",
      "n=2\n",
      "[[0, 0, 0, 0, 0], [10, 10, 10, 10, 10]]\n"
     ]
    }
   ],
   "source": [
    "#1\n",
    "m=int(input('m='))\n",
    "n=int(input('n='))\n",
    "a=[[10*j for i in range(m)] for j in range(n)]\n",
    "print(a)"
   ]
  },
  {
   "cell_type": "code",
   "execution_count": 1,
   "metadata": {},
   "outputs": [
    {
     "name": "stdout",
     "output_type": "stream",
     "text": [
      "m=4\n",
      "n=5\n",
      "[[0, 5, 10, 15], [0, 5, 10, 15], [0, 5, 10, 15], [0, 5, 10, 15], [0, 5, 10, 15]]\n"
     ]
    }
   ],
   "source": [
    "#2\n",
    "m=int(input('m='))\n",
    "n=int(input('n='))\n",
    "a=[[5*i for i in range(m)] for j in range(n)]\n",
    "print(a)"
   ]
  },
  {
   "cell_type": "code",
   "execution_count": 16,
   "metadata": {},
   "outputs": [
    {
     "name": "stdout",
     "output_type": "stream",
     "text": [
      "m=2\n",
      "n=3\n",
      "[7, 1]\n",
      "[[7, 7, 7], [1, 1, 1]]\n"
     ]
    }
   ],
   "source": [
    "#3\n",
    "from random import randint \n",
    "m=int(input('m='))\n",
    "n=int(input('n='))\n",
    "k=[randint(1,10) for i in range(m)]\n",
    "print(k)\n",
    "a=[[k[j] for i in range(n)] for j in range(m)]\n",
    "print(a)"
   ]
  },
  {
   "cell_type": "code",
   "execution_count": 2,
   "metadata": {},
   "outputs": [
    {
     "name": "stdout",
     "output_type": "stream",
     "text": [
      "m=2\n",
      "n=3\n",
      "[[0, 0], [1, 1], [2, 2]]\n"
     ]
    }
   ],
   "source": [
    "#4\n",
    "from random import randint \n",
    "m=int(input('m='))\n",
    "n=int(input('n='))\n",
    "k=[]\n",
    "\n",
    "for i in range(n):\n",
    "    s=[]\n",
    "    for j in range(m):\n",
    "        s.append(i)\n",
    "    a.append(s)\n",
    "print(a)"
   ]
  },
  {
   "cell_type": "code",
   "execution_count": 19,
   "metadata": {},
   "outputs": [
    {
     "name": "stdout",
     "output_type": "stream",
     "text": [
      "m=2\n",
      "n=3\n",
      "[1, 8]\n",
      "d=1\n",
      "[[1, 2, 3], [8, 9, 10]]\n"
     ]
    }
   ],
   "source": [
    "#5\n",
    "from random import randint \n",
    "m=int(input('m='))\n",
    "n=int(input('n='))\n",
    "k=[randint(1,10) for i in range(m)]\n",
    "print(k)\n",
    "d=int(input('d='))\n",
    "a=[]\n",
    "for i in range(m):\n",
    "    s=[]\n",
    "    x=k[i]\n",
    "    for j in range(n):\n",
    "        s.append(x)\n",
    "        x+=d\n",
    "    a.append(s)\n",
    "print(a)"
   ]
  },
  {
   "cell_type": "code",
   "execution_count": 20,
   "metadata": {},
   "outputs": [
    {
     "name": "stdout",
     "output_type": "stream",
     "text": [
      "m=2\n",
      "n=3\n",
      "[2, 5]\n",
      "q=2\n",
      "[[2, 4, 8], [5, 10, 20]]\n"
     ]
    }
   ],
   "source": [
    "#6\n",
    "from random import randint \n",
    "m=int(input('m='))\n",
    "n=int(input('n='))\n",
    "k=[randint(1,10) for i in range(m)]\n",
    "print(k)\n",
    "q=int(input('q='))\n",
    "a=[]\n",
    "for i in range(m):\n",
    "    s=[]\n",
    "    x=k[i]\n",
    "    for j in range(n):\n",
    "        s.append(x)\n",
    "        x*=q\n",
    "    a.append(s)\n",
    "print(a)"
   ]
  },
  {
   "cell_type": "code",
   "execution_count": 10,
   "metadata": {},
   "outputs": [
    {
     "name": "stdout",
     "output_type": "stream",
     "text": [
      "m=2\n",
      "n=3\n",
      "k=2\n",
      "[[0, 0], [1, 1], [2, 2]]\n",
      "[2, 2]\n"
     ]
    }
   ],
   "source": [
    "#7\n",
    "m=int(input('m='))\n",
    "n=int(input('n='))\n",
    "k=int(input('k=')\n",
    "a=[[j for i in range(m)] for j in range(n)]\n",
    "print(a)\n",
    "print(a[k])"
   ]
  },
  {
   "cell_type": "code",
   "execution_count": 30,
   "metadata": {},
   "outputs": [
    {
     "name": "stdout",
     "output_type": "stream",
     "text": [
      "m=3\n",
      "n=4\n",
      "k=2\n",
      "[3, 2, 4] [8, 9, 9] [1, 9, 9] [5, 3, 10]\n",
      "4\n",
      "9\n",
      "9\n"
     ]
    }
   ],
   "source": [
    "#8\n",
    "from random import randint\n",
    "m=int(input('m='))\n",
    "n=int(input('n='))\n",
    "k=int(input('k='))\n",
    "a=[[randint(1,10) for i in range(m)] for j in range(n)]\n",
    "print(*a)\n",
    "for i in range(m):\n",
    "    print(a[i][k])"
   ]
  },
  {
   "cell_type": "code",
   "execution_count": 11,
   "metadata": {},
   "outputs": [
    {
     "name": "stdout",
     "output_type": "stream",
     "text": [
      "m=2\n",
      "n=3\n",
      "[[0, 0], [1, 1], [2, 2]]\n",
      "[[0, 0], [2, 2]]\n"
     ]
    }
   ],
   "source": [
    "#9\n",
    "from random import randint\n",
    "m=int(input('m='))\n",
    "n=int(input('n='))\n",
    "a=[[j for i in range(m)] for j in range(n)]\n",
    "print(a)\n",
    "a=[a[i] for i in range(0,n,2)]\n",
    "print(a)"
   ]
  },
  {
   "cell_type": "code",
   "execution_count": 20,
   "metadata": {},
   "outputs": [
    {
     "name": "stdout",
     "output_type": "stream",
     "text": [
      "m=2\n",
      "n=3\n",
      "[[8, 8], [10, 4], [2, 7]]\n",
      "[[10, 4]]\n"
     ]
    }
   ],
   "source": [
    "#10\n",
    "from random import randint\n",
    "m=int(input('m='))\n",
    "n=int(input('n='))\n",
    "a=[[j for i in range(m)] for j in range(n)]\n",
    "print(a)\n",
    "a=[a[i] for i in range(1,n,2)]\n",
    "print(a)"
   ]
  },
  {
   "cell_type": "code",
   "execution_count": 25,
   "metadata": {},
   "outputs": [
    {
     "name": "stdout",
     "output_type": "stream",
     "text": [
      "m=2\n",
      "n=4\n",
      "[[6, 6], [5, 3], [6, 5], [10, 1]]\n",
      "[[6, 6], [3, 5], [6, 5], [1, 10]]\n"
     ]
    }
   ],
   "source": [
    "#11\n",
    "from random import randint\n",
    "m=int(input('m='))\n",
    "n=int(input('n='))\n",
    "a=[[j for i in range(m)] for j in range(n)]\n",
    "print(a)\n",
    "for i in range(n):\n",
    "    if i%2==1:\n",
    "        a[i].reverse()\n",
    "print(a)"
   ]
  },
  {
   "cell_type": "code",
   "execution_count": 32,
   "metadata": {},
   "outputs": [
    {
     "name": "stdout",
     "output_type": "stream",
     "text": [
      "m=4\n",
      "n=5\n",
      "[[4, 10, 6, 8], [7, 4, 9, 7], [10, 10, 8, 10], [3, 10, 7, 7], [10, 3, 3, 3]]\n",
      "4 3 6 3 \n",
      "7 10 9 7 \n",
      "10 10 8 10 \n",
      "3 4 7 7 \n",
      "10 10 3 8 \n"
     ]
    }
   ],
   "source": [
    "#12\n",
    "from random import randint\n",
    "m=int(input('m='))\n",
    "n=int(input('n='))\n",
    "a=[[randint(1,10) for i in range(m)] for j in range(n)]\n",
    "print(a)\n",
    "for i in range(n):\n",
    "        for j in range(m):\n",
    "            if j%2==1:\n",
    "                print(a[n-i-1][j],end=' ')\n",
    "            else:\n",
    "                print(a[i][j],end=' ')\n",
    "        print()\n",
    "            "
   ]
  },
  {
   "cell_type": "code",
   "execution_count": 14,
   "metadata": {},
   "outputs": [
    {
     "name": "stdout",
     "output_type": "stream",
     "text": [
      "m=5\n",
      "[4, 9, 3, 4, 8] [6, 1, 1, 7, 9] [2, 1, 6, 9, 1] [6, 6, 10, 10, 5] [8, 3, 5, 9, 2]\n",
      "4 9 3 4 8 \n",
      "1 1 7 9 \n",
      "6 9 1 \n",
      "10 5 \n",
      "2 \n"
     ]
    }
   ],
   "source": [
    "#13\n",
    "from random import randint\n",
    "m=int(input('m='))\n",
    "a=[[randint(1,10) for i in range(m)] for j in range(m)]\n",
    "print(*a)\n",
    "for i in range(m):\n",
    "    for j in range(m):\n",
    "        if j>=i:\n",
    "            print(a[i][j],end=' ')\n",
    "    print()"
   ]
  },
  {
   "cell_type": "code",
   "execution_count": 4,
   "metadata": {},
   "outputs": [
    {
     "name": "stdout",
     "output_type": "stream",
     "text": [
      "n=5\n",
      "2 1 0 0 0\n",
      "1 2 1 0 0\n",
      "0 1 2 1 0\n",
      "0 0 1 2 1\n",
      "0 0 0 1 2\n"
     ]
    }
   ],
   "source": [
    "n=int(input('n='))\n",
    "a=[]\n",
    "for i in range(n):\n",
    "    s=[]\n",
    "    for j in range(n):\n",
    "        if i==j:\n",
    "            s.append(2)\n",
    "        elif abs(j-i)==1:\n",
    "            s.append(1)\n",
    "        else:\n",
    "            s.append(0)\n",
    "    a.append(s)\n",
    "for i in range(n):\n",
    "    print(*a[i])"
   ]
  },
  {
   "cell_type": "code",
   "execution_count": 5,
   "metadata": {},
   "outputs": [
    {
     "name": "stdout",
     "output_type": "stream",
     "text": [
      "m=6\n",
      "1 2 3 4 5 6 \n",
      "20 21 22 23 24 7 \n",
      "19 32 33 34 25 8 \n",
      "18 31 36 35 26 9 \n",
      "17 30 29 28 27 10 \n",
      "16 15 14 13 12 11 \n"
     ]
    }
   ],
   "source": [
    "#15\n",
    "m=int(input(\"m=\"))\n",
    "a=[[0 for i in range(m)] for i in range(m)]\n",
    "left=1\n",
    "right=1\n",
    "up=m\n",
    "down=m\n",
    "k=m\n",
    "for i in range(m):\n",
    "    for j in range(i,k):\n",
    "        a[i][j]=left\n",
    "        left+=1\n",
    "    up=left\n",
    "    for j in range(i+1,k):\n",
    "        a[j][k-1]=up\n",
    "        up+=1\n",
    "    right=up\n",
    "    for j in range(k-2,i-1,-1):\n",
    "        a[k-1][j]=right\n",
    "        right+=1\n",
    "    down=right\n",
    "    for j in range(k-2,i,-1):\n",
    "        a[j][i]=down\n",
    "        down+=1\n",
    "    left=down\n",
    "    k-=1\n",
    "for i in range(m):\n",
    "    for j in range(m):\n",
    "        print(a[i][j],end=' ')\n",
    "    print()"
   ]
  },
  {
   "cell_type": "code",
   "execution_count": 3,
   "metadata": {},
   "outputs": [
    {
     "name": "stdout",
     "output_type": "stream",
     "text": [
      "m=6\n",
      "36 35 34 33 32 31 \n",
      "17 16 15 14 13 30 \n",
      "18 5 4 3 12 29 \n",
      "19 6 1 2 11 28 \n",
      "20 7 8 9 10 27 \n",
      "21 22 23 24 25 26 \n"
     ]
    }
   ],
   "source": [
    "#16\n",
    "#15\n",
    "m=int(input(\"m=\"))\n",
    "a=[[0 for i in range(m)] for i in range(m)]\n",
    "left=m**2\n",
    "right=1\n",
    "up=m\n",
    "down=m\n",
    "k=m\n",
    "for i in range(m):\n",
    "    for j in range(i,k):\n",
    "        a[i][j]=left\n",
    "        left-=1\n",
    "    up=left\n",
    "    for j in range(i+1,k):\n",
    "        a[j][k-1]=up\n",
    "        up-=1\n",
    "    right=up\n",
    "    for j in range(k-2,i-1,-1):\n",
    "        a[k-1][j]=right\n",
    "        right-=1\n",
    "    down=right\n",
    "    for j in range(k-2,i,-1):\n",
    "        a[j][i]=down\n",
    "        down-=1\n",
    "    left=down\n",
    "    k-=1\n",
    "for i in range(m):\n",
    "    for j in range(m):\n",
    "        print(a[i][j],end=' ')\n",
    "    print()"
   ]
  },
  {
   "cell_type": "code",
   "execution_count": 1,
   "metadata": {},
   "outputs": [
    {
     "name": "stdout",
     "output_type": "stream",
     "text": [
      "n=5\n",
      "1 2 3 4 5\n",
      "16 17 18 19 6\n",
      "15 24 25 20 7\n",
      "14 23 22 21 8\n",
      "13 12 11 10 9\n"
     ]
    }
   ],
   "source": [
    "#15\n",
    "def spiral_matrix(n):\n",
    "    m = [[0] * n for i in range(n)]\n",
    "    dx, dy = [0, 1, 0, -1], [1, 0, -1, 0]\n",
    "    x, y, c = 0, -1, 1\n",
    "    for i in range(2*n - 1):\n",
    "        for j in range((2*n - i) // 2):\n",
    "            x += dx[i % 4]\n",
    "            y += dy[i % 4]\n",
    "            m[x][y] = c\n",
    "            c += 1\n",
    "    return m\n",
    "n=int(input('n='))\n",
    "for i in spiral_matrix(n): print(*i)"
   ]
  },
  {
   "cell_type": "code",
   "execution_count": 6,
   "metadata": {},
   "outputs": [
    {
     "name": "stdout",
     "output_type": "stream",
     "text": [
      "n=7\n",
      "49 48 47 46 45 44 43\n",
      "26 25 24 23 22 21 42\n",
      "27 10 9 8 7 20 41\n",
      "28 11 2 1 6 19 40\n",
      "29 12 3 4 5 18 39\n",
      "30 13 14 15 16 17 38\n",
      "31 32 33 34 35 36 37\n"
     ]
    }
   ],
   "source": [
    "#16\n",
    "def spiral_matrix(n):\n",
    "    m = [[0] * n for i in range(n)]\n",
    "    dx, dy = [0, 1, 0, -1], [1, 0, -1, 0]\n",
    "    x, y, c = 0, -1, n**2\n",
    "    for i in range(2*n - 1):\n",
    "        for j in range((2*n - i) // 2):\n",
    "            x += dx[i % 4]\n",
    "            y += dy[i % 4]\n",
    "            m[x][y] = c\n",
    "            c -= 1\n",
    "    return m\n",
    "n=int(input('n='))\n",
    "for i in spiral_matrix(n): print(*i)"
   ]
  },
  {
   "cell_type": "code",
   "execution_count": 7,
   "metadata": {},
   "outputs": [
    {
     "name": "stdout",
     "output_type": "stream",
     "text": [
      "25\t24\t23\t22\t21\t\n",
      "10\t9\t8\t7\t20\t\n",
      "11\t2\t1\t6\t19\t\n",
      "12\t3\t4\t5\t18\t\n",
      "13\t14\t15\t16\t17\t\n"
     ]
    }
   ],
   "source": [
    "#16\n",
    "def printSpiralMatrix(N):\n",
    "    for i in range(N):\n",
    "        for j in range(N):\n",
    "            x = min(min(i, j), min(N - 1 - i, N - 1 - j))\n",
    "            if i <= j:\n",
    "                print((N - 2 * x) **2 - (i - x) - (j - x), end='')\n",
    "            else:\n",
    "                print((N - 2 * x - 2) **2 + (i - x) + (j - x), end='')\n",
    "            print('\\t', end='')\n",
    "        print()\n",
    "N = 5\n",
    "printSpiralMatrix(N)"
   ]
  },
  {
   "cell_type": "code",
   "execution_count": 16,
   "metadata": {},
   "outputs": [
    {
     "name": "stdout",
     "output_type": "stream",
     "text": [
      "m=3\n",
      "n=4\n",
      "[[9, 4, 2], [6, 9, 5], [3, 3, 8], [6, 3, 5]]\n",
      "k=2\n",
      "14\n",
      "72\n"
     ]
    }
   ],
   "source": [
    "#17\n",
    "from random import randint\n",
    "m=int(input('m='))\n",
    "n=int(input('n='))\n",
    "a=[[randint(1,10) for i in range(m)] for j in range(n)]\n",
    "print(a)\n",
    "k=int(input('k='))\n",
    "s=1\n",
    "print(sum(a[k]))\n",
    "for i in range(len(a[k])):\n",
    "    s*=a[k][i]\n",
    "print(s)"
   ]
  },
  {
   "cell_type": "code",
   "execution_count": 21,
   "metadata": {},
   "outputs": [
    {
     "name": "stdout",
     "output_type": "stream",
     "text": [
      "m=3\n",
      "n=4\n",
      "k=1\n",
      "[[8, 9, 3], [10, 3, 2], [9, 6, 10], [7, 5, 2]]\n",
      "23\n",
      "810\n"
     ]
    }
   ],
   "source": [
    "#18\n",
    "from random import randint\n",
    "m=int(input('m='))\n",
    "n=int(input('n='))\n",
    "a=[[randint(1,10) for i in range(m)] for j in range(n)]\n",
    "k=int(input('k='))\n",
    "print(a)\n",
    "\n",
    "s=0\n",
    "q=1\n",
    "for i in range(n):\n",
    "    for j in range(m):\n",
    "        if j==k:\n",
    "            s+=a[i][j]\n",
    "            q*=a[i][j]\n",
    "print(s)\n",
    "print(q)"
   ]
  },
  {
   "cell_type": "code",
   "execution_count": 22,
   "metadata": {},
   "outputs": [
    {
     "name": "stdout",
     "output_type": "stream",
     "text": [
      "m=3\n",
      "n=4\n",
      "[[1, 2, 8], [8, 8, 2], [8, 6, 5], [9, 5, 4]]\n",
      "11\n",
      "18\n",
      "19\n",
      "18\n"
     ]
    }
   ],
   "source": [
    "#19\n",
    "from random import randint\n",
    "m=int(input('m='))\n",
    "n=int(input('n='))\n",
    "a=[[randint(1,10) for i in range(m)] for j in range(n)]\n",
    "print(a)\n",
    "for i in range(n):\n",
    "    print(sum(a[i]))"
   ]
  },
  {
   "cell_type": "code",
   "execution_count": 29,
   "metadata": {},
   "outputs": [
    {
     "name": "stdout",
     "output_type": "stream",
     "text": [
      "m=5\n",
      "n=6\n",
      "[[6, 4, 9, 3, 6], [2, 4, 2, 5, 3], [6, 6, 4, 10, 6], [10, 10, 3, 6, 10], [8, 6, 5, 4, 9], [8, 7, 10, 7, 8]]\n",
      "46080\n",
      "40320\n",
      "10800\n",
      "25200\n",
      "77760\n"
     ]
    }
   ],
   "source": [
    "#20\n",
    "from random import randint\n",
    "m=int(input('m='))\n",
    "n=int(input('n='))\n",
    "a=[[randint(1,10) for i in range(m)] for j in range(n)]\n",
    "print(a)\n",
    "for j in range(m):\n",
    "    q=1\n",
    "    for i in range(n):\n",
    "        q*=a[i][j]\n",
    "    print(q)"
   ]
  },
  {
   "cell_type": "code",
   "execution_count": 31,
   "metadata": {},
   "outputs": [
    {
     "name": "stdout",
     "output_type": "stream",
     "text": [
      "m=4\n",
      "n=5\n",
      "[[2, 6, 7, 10], [9, 10, 5, 1], [4, 10, 7, 2], [7, 10, 10, 9], [7, 7, 4, 3]]\n",
      "8.0\n",
      "5.5\n",
      "6.0\n",
      "9.5\n",
      "5.0\n"
     ]
    }
   ],
   "source": [
    "#21\n",
    "from random import randint\n",
    "m=int(input('m='))\n",
    "n=int(input('n='))\n",
    "a=[[randint(1,10) for i in range(m)] for j in range(n)]\n",
    "print(a)\n",
    "for i in range(n):\n",
    "    s=0\n",
    "    k=0\n",
    "    for j in range(1,m,2):\n",
    "        s+=a[i][j]\n",
    "        k+=1\n",
    "    print(s/k)"
   ]
  },
  {
   "cell_type": "code",
   "execution_count": 36,
   "metadata": {},
   "outputs": [
    {
     "name": "stdout",
     "output_type": "stream",
     "text": [
      "m=3\n",
      "n=4\n",
      "[[4, 3, 8], [1, 6, 8], [4, 8, 9], [5, 8, 5]]\n",
      "8\n",
      "11\n",
      "17\n"
     ]
    }
   ],
   "source": [
    "#22\n",
    "from random import randint\n",
    "m=int(input('m='))\n",
    "n=int(input('n='))\n",
    "a=[[randint(1,10) for i in range(m)] for j in range(n)]\n",
    "print(a)\n",
    "for j in range(m):\n",
    "    s=0\n",
    "    for i in range(0,n,2):\n",
    "        s+=a[i][j]\n",
    "    print(s)"
   ]
  },
  {
   "cell_type": "code",
   "execution_count": 37,
   "metadata": {},
   "outputs": [
    {
     "name": "stdout",
     "output_type": "stream",
     "text": [
      "m=3\n",
      "n=4\n",
      "[[6, 5, 4], [4, 2, 3], [4, 1, 5], [10, 3, 9]]\n",
      "4 2 1 3 "
     ]
    }
   ],
   "source": [
    "#23\n",
    "from random import randint\n",
    "m=int(input('m='))\n",
    "n=int(input('n='))\n",
    "a=[[randint(1,10) for i in range(m)] for j in range(n)]\n",
    "print(a)\n",
    "for i in range(n):\n",
    "    print(min(a[i]),end=' ')"
   ]
  },
  {
   "cell_type": "code",
   "execution_count": 40,
   "metadata": {},
   "outputs": [
    {
     "name": "stdout",
     "output_type": "stream",
     "text": [
      "m=3\n",
      "n=4\n",
      "[[5, 5, 7], [1, 10, 5], [2, 6, 10], [9, 6, 9]]\n",
      "9 10 10 "
     ]
    }
   ],
   "source": [
    "#24\n",
    "from random import randint\n",
    "m=int(input('m='))\n",
    "n=int(input('n='))\n",
    "a=[[randint(1,10) for i in range(m)] for j in range(n)]\n",
    "print(a)\n",
    "for i in range(m):\n",
    "    s=[]\n",
    "    for j in range(n):\n",
    "        s.append(a[j][i])\n",
    "    print(max(s),end=' ')"
   ]
  },
  {
   "cell_type": "code",
   "execution_count": 41,
   "metadata": {},
   "outputs": [
    {
     "name": "stdout",
     "output_type": "stream",
     "text": [
      "m=3\n",
      "n=4\n",
      "[[6, 6, 10], [8, 9, 4], [10, 6, 10], [2, 5, 1]]\n",
      "26\n",
      "2\n"
     ]
    }
   ],
   "source": [
    "#25\n",
    "from random import randint\n",
    "m=int(input('m='))\n",
    "n=int(input('n='))\n",
    "a=[[randint(1,10) for i in range(m)] for j in range(n)]\n",
    "print(a)\n",
    "x=True\n",
    "for i in range(n):\n",
    "    if x:\n",
    "        maxi=sum(a[i])\n",
    "        index=i\n",
    "        x=False\n",
    "    if maxi<sum(a[i]):\n",
    "        maxi=sum(a[i])\n",
    "        index=i\n",
    "print(maxi)        \n",
    "print(index)"
   ]
  },
  {
   "cell_type": "code",
   "execution_count": 43,
   "metadata": {},
   "outputs": [
    {
     "name": "stdout",
     "output_type": "stream",
     "text": [
      "m=3\n",
      "n=4\n",
      "[[9, 5, 9], [8, 2, 3], [10, 3, 2], [8, 10, 7]]\n",
      "5760\n",
      "0\n"
     ]
    }
   ],
   "source": [
    "#26\n",
    "from random import randint\n",
    "m=int(input('m='))\n",
    "n=int(input('n='))\n",
    "a=[[randint(1,10) for i in range(m)] for j in range(n)]\n",
    "print(a)\n",
    "k=[]\n",
    "for i in range(m):\n",
    "    s=1\n",
    "    for j in range(n):\n",
    "        s*=a[j][i]\n",
    "    k.append(s)\n",
    "print(max(k))\n",
    "print(k.index(max(k)))"
   ]
  },
  {
   "cell_type": "code",
   "execution_count": 44,
   "metadata": {},
   "outputs": [
    {
     "name": "stdout",
     "output_type": "stream",
     "text": [
      "m=3\n",
      "n=4\n",
      "[[7, 7, 3], [7, 2, 3], [3, 8, 7], [8, 2, 6]]\n",
      "[7, 2, 3]\n",
      "12\n",
      "7\n"
     ]
    }
   ],
   "source": [
    "#27\n",
    "from random import randint\n",
    "m=int(input('m='))\n",
    "n=int(input('n='))\n",
    "a=[[randint(1,10) for i in range(m)] for j in range(n)]\n",
    "print(a)\n",
    "x=True\n",
    "for i in range(n):\n",
    "    if x:\n",
    "        mini=sum(a[i])\n",
    "        k=a[i]\n",
    "        x=False\n",
    "    if mini>sum(a[i]):\n",
    "        mini=sum(a[i])\n",
    "        k=a[i]\n",
    "print(k)\n",
    "print(mini)\n",
    "print(max(k))"
   ]
  },
  {
   "cell_type": "code",
   "execution_count": 49,
   "metadata": {},
   "outputs": [
    {
     "name": "stdout",
     "output_type": "stream",
     "text": [
      "m=3\n",
      "n=4\n",
      "[[8, 6, 9], [1, 9, 10], [9, 6, 8], [10, 2, 9]]\n",
      "36\n",
      "[[8, 1, 9, 10], [6, 9, 6, 2], [9, 10, 8, 9]]\n",
      "8\n"
     ]
    }
   ],
   "source": [
    "#28\n",
    "from random import randint\n",
    "m=int(input('m='))\n",
    "n=int(input('n='))\n",
    "a=[[randint(1,10) for i in range(m)] for j in range(n)]\n",
    "print(a)\n",
    "k=[]\n",
    "x=[]\n",
    "for i in range(m):\n",
    "    s=0\n",
    "    w=[]\n",
    "    for j in range(n):\n",
    "        s+=a[j][i]\n",
    "        w.append(a[j][i])\n",
    "    x.append(w)\n",
    "    k.append(s)\n",
    "print(max(k))\n",
    "print(x)\n",
    "print(min(x[k.index(max(k))]))"
   ]
  },
  {
   "cell_type": "code",
   "execution_count": 50,
   "metadata": {},
   "outputs": [
    {
     "name": "stdout",
     "output_type": "stream",
     "text": [
      "m=3\n",
      "n=4\n",
      "[[10, 9, 9], [4, 1, 4], [8, 6, 7], [6, 2, 1]]\n",
      "2\n",
      "1\n",
      "1\n",
      "2\n"
     ]
    }
   ],
   "source": [
    "#29\n",
    "from random import randint\n",
    "m=int(input('m='))\n",
    "n=int(input('n='))\n",
    "a=[[randint(1,10) for i in range(m)] for j in range(n)]\n",
    "print(a)\n",
    "for i in range(n):\n",
    "    s=sum(a[i])/m\n",
    "    k=0\n",
    "    for j in range(m):\n",
    "        if a[i][j]<s:\n",
    "            k+=1\n",
    "    print(k)"
   ]
  },
  {
   "cell_type": "code",
   "execution_count": 52,
   "metadata": {},
   "outputs": [
    {
     "name": "stdout",
     "output_type": "stream",
     "text": [
      "m=3\n",
      "n=4\n",
      "[[6, 1, 3], [5, 10, 2], [8, 1, 9], [10, 7, 8]]\n",
      "2\n",
      "2\n",
      "2\n"
     ]
    }
   ],
   "source": [
    "#30\n",
    "from random import randint\n",
    "m=int(input('m='))\n",
    "n=int(input('n='))\n",
    "a=[[randint(1,10) for i in range(m)] for j in range(n)]\n",
    "print(a)\n",
    "k=[]\n",
    "x=[]\n",
    "for i in range(m):\n",
    "    sana=0\n",
    "    s=0\n",
    "    w=[]\n",
    "    for j in range(n):\n",
    "        s+=a[j][i]\n",
    "        w.append(a[j][i])\n",
    "    x.append(w)\n",
    "    k.append(s/n)\n",
    "    for l in range(len(x[i])):\n",
    "            if k[i]<x[i][l]:\n",
    "                sana+=1\n",
    "    print(sana)"
   ]
  },
  {
   "cell_type": "code",
   "execution_count": 56,
   "metadata": {},
   "outputs": [
    {
     "name": "stdout",
     "output_type": "stream",
     "text": [
      "m=3\n",
      "n=4\n",
      "[[9, 2, 2], [3, 3, 7], [6, 2, 6], [3, 3, 6]]\n",
      "4.333333333333333\n",
      "3 0\n"
     ]
    }
   ],
   "source": [
    "#31\n",
    "from random import randint\n",
    "m=int(input('m='))\n",
    "n=int(input('n='))\n",
    "a=[[randint(1,10) for i in range(m)] for j in range(n)]\n",
    "print(a)\n",
    "w=[]\n",
    "z=[]\n",
    "x=True\n",
    "y=True\n",
    "s=0\n",
    "for i in  range(n):\n",
    "    s+=sum(a[i])\n",
    "    w.append(sum(a[i]))\n",
    "s=s/(m*n)\n",
    "for i in range(n):\n",
    "    if x:\n",
    "        mini=abs(s-w[i])\n",
    "        s_index=i\n",
    "        x=False\n",
    "    if mini>abs(s-w[i]):\n",
    "        mini=abs(s-w[i])\n",
    "        s_index=(i)\n",
    "for i in range(m):\n",
    "    u=0\n",
    "    for j in range(n):\n",
    "        u+=a[j][i]\n",
    "    z.append(u/n)\n",
    "for i in range(m):\n",
    "    if y:\n",
    "        u_mini=abs(s-z[i])\n",
    "        u_index=i\n",
    "        y=False\n",
    "    if u_mini>abs(s-z[i]):\n",
    "        u_mini=abs(s-z[i])\n",
    "        u_index=(i)\n",
    "print(s)\n",
    "print(s_index,u_index)"
   ]
  },
  {
   "cell_type": "code",
   "execution_count": 3,
   "metadata": {},
   "outputs": [
    {
     "name": "stdout",
     "output_type": "stream",
     "text": [
      "m=7\n",
      "n=8\n",
      "[[3, 5, -3, 5, 4, 4, 8], [-2, 0, -1, -4, 10, 4, 3], [7, 9, 2, -5, -10, 1, -4], [-6, -7, 10, -2, 7, 6, -9], [-10, 10, -8, 1, -7, -4, -10], [-4, 6, -6, 9, 6, -1, -5], [0, -9, -9, 7, -1, -4, -6], [3, -5, -8, -5, 5, -10, -4]]\n",
      "[-2, 0, -1, -4, 10, 4, 3]\n"
     ]
    }
   ],
   "source": [
    "#32\n",
    "from random import randint\n",
    "m=int(input('m='))\n",
    "n=int(input('n='))\n",
    "a=[[randint(-10,10) for i in range(m)] for j in range(n)]\n",
    "print(a)\n",
    "for i in range(n):\n",
    "    musbat=0\n",
    "    manfiy=0\n",
    "    for j in range(m):\n",
    "        if a[i][j]>0:\n",
    "            musbat+=1\n",
    "        elif a[i][j]<0:\n",
    "            manfiy+=1\n",
    "    if musbat==manfiy:\n",
    "        print(a[i])\n",
    "        break\n",
    "else:\n",
    "    print(\"Bunday satr yo'q\")"
   ]
  },
  {
   "cell_type": "code",
   "execution_count": 10,
   "metadata": {},
   "outputs": [
    {
     "name": "stdout",
     "output_type": "stream",
     "text": [
      "m=5\n",
      "n=6\n",
      "[[2, 9, 2, -4, 8], [-6, 4, -8, -8, 6], [7, -3, 3, 9, -4], [-6, -2, 9, -9, -8], [2, 2, 1, 7, -10], [6, 8, -4, -5, -9]]\n",
      "Bunday ustun yo'q\n"
     ]
    }
   ],
   "source": [
    "#33\n",
    "from random import randint\n",
    "m=int(input('m='))\n",
    "n=int(input('n='))\n",
    "a=[[randint(-10,10) for i in range(m)] for j in range(n)]\n",
    "print(a)\n",
    "x=False\n",
    "for i in range(m):\n",
    "    musbat=0\n",
    "    manfiy=0\n",
    "    for j in range(n):\n",
    "        if a[j][i]>0:\n",
    "            musbat+=1\n",
    "        elif a[j][i]<0:\n",
    "            manfiy+=1\n",
    "    if musbat==manfiy:\n",
    "        nomer=i\n",
    "        x=True\n",
    "if x:\n",
    "    print(nomer)\n",
    "else:\n",
    "    print(\"Bunday ustun yo'q\")"
   ]
  },
  {
   "cell_type": "code",
   "execution_count": 12,
   "metadata": {},
   "outputs": [
    {
     "name": "stdout",
     "output_type": "stream",
     "text": [
      "m=3\n",
      "n=4\n",
      "[[8, 10, 10], [4, 4, 7], [4, 4, 6], [3, 8, 6]]\n",
      "2\n"
     ]
    }
   ],
   "source": [
    "#34\n",
    "from random import randint\n",
    "m=int(input('m='))\n",
    "n=int(input('n='))\n",
    "a=[[randint(1,10) for i in range(m)] for j in range(n)]\n",
    "print(a)\n",
    "x=False\n",
    "for i in range(n):\n",
    "    juft=0\n",
    "    for j in range(m):\n",
    "        if a[i][j]%2==0:\n",
    "            juft+=1\n",
    "    if juft==m:\n",
    "        nomer=i\n",
    "        x=True\n",
    "if x:\n",
    "    print(nomer)\n",
    "else:\n",
    "    print(\"Bunday satr yo'q\")"
   ]
  },
  {
   "cell_type": "code",
   "execution_count": 13,
   "metadata": {},
   "outputs": [
    {
     "name": "stdout",
     "output_type": "stream",
     "text": [
      "m=3\n",
      "n=4\n",
      "[[3, 2, 10], [10, 2, 8], [9, 2, 1], [3, 1, 5]]\n",
      "3\n"
     ]
    }
   ],
   "source": [
    "#35\n",
    "from random import randint\n",
    "m=int(input('m='))\n",
    "n=int(input('n='))\n",
    "a=[[randint(1,10) for i in range(m)] for j in range(n)]\n",
    "print(a)\n",
    "for i in range(n):\n",
    "    toq=0\n",
    "    for j in range(m):\n",
    "        if a[i][j]%2==1:\n",
    "            toq+=1\n",
    "    if toq==m:\n",
    "        print(i)\n",
    "        break\n",
    "else:\n",
    "    print(\"Bunday satr yo'q\")"
   ]
  },
  {
   "cell_type": "code",
   "execution_count": 17,
   "metadata": {},
   "outputs": [
    {
     "name": "stdout",
     "output_type": "stream",
     "text": [
      "m=2\n",
      "n=3\n",
      "[[2, 5], [5, 2], [2, 1]]\n",
      "1\n"
     ]
    }
   ],
   "source": [
    "#36\n",
    "from random import randint\n",
    "m=int(input('m='))\n",
    "n=int(input('n='))\n",
    "a=[[randint(1,5) for i in range(m)] for j in range(n)]\n",
    "print(a)\n",
    "sana=0\n",
    "for i in range(1,n):\n",
    "    if set(a[i])==set(a[0]):\n",
    "        sana+=1\n",
    "print(sana)"
   ]
  },
  {
   "cell_type": "code",
   "execution_count": 20,
   "metadata": {},
   "outputs": [
    {
     "name": "stdout",
     "output_type": "stream",
     "text": [
      "m=2\n",
      "n=10\n",
      "[[3, 5], [3, 2], [1, 1], [4, 4], [1, 1], [5, 5], [4, 3], [3, 5], [1, 1], [1, 1]]\n",
      "1\n"
     ]
    }
   ],
   "source": [
    "#36\n",
    "from random import randint\n",
    "m=int(input('m='))\n",
    "n=int(input('n='))\n",
    "a=[[randint(1,5) for i in range(m)] for j in range(n)]\n",
    "print(a)\n",
    "sana=0\n",
    "for i in range(1,n):\n",
    "    if sorted(a[0])==sorted(a[i])\n",
    "        sana+=1\n",
    "print(sana)"
   ]
  },
  {
   "cell_type": "code",
   "execution_count": 16,
   "metadata": {},
   "outputs": [
    {
     "name": "stdout",
     "output_type": "stream",
     "text": [
      "m=2\n",
      "n=5\n",
      "2 3 \n",
      "2 3 \n",
      "2 3 \n",
      "3 3 \n",
      "2 2 \n",
      "-----------------\n",
      "1\n"
     ]
    }
   ],
   "source": [
    "#37\n",
    "from random import randint\n",
    "m=int(input('m='))\n",
    "n=int(input('n='))\n",
    "a=[[randint(1,3) for i in range(m)] for j in range(n)]\n",
    "for i in range(n):\n",
    "    for j in range(m):\n",
    "        print(a[i][j],end=' ')\n",
    "    print()\n",
    "sana=0\n",
    "s=[]\n",
    "for i in range(n):\n",
    "    s.append(a[i][-1])       \n",
    "for i in range(m-1):\n",
    "    k=[]\n",
    "    for j in range(n-1):\n",
    "        k.append(a[j][i])\n",
    "    if set(k)==set(s):\n",
    "        sana+=1\n",
    "print('-----------------')\n",
    "print(sana)"
   ]
  },
  {
   "cell_type": "code",
   "execution_count": 13,
   "metadata": {},
   "outputs": [
    {
     "name": "stdout",
     "output_type": "stream",
     "text": [
      "m=3\n",
      "n=4\n",
      "[[3, 6, 4], [1, 6, 8], [8, 2, 10], [3, 3, 3]]\n",
      "3\n"
     ]
    }
   ],
   "source": [
    "#38\n",
    "from random import randint\n",
    "m=int(input('m='))\n",
    "n=int(input('n='))\n",
    "a=[[randint(1,10) for i in range(m)] for j in range(n)]\n",
    "print(a)\n",
    "sana=0\n",
    "for i in range(n):\n",
    "    if len(set(a[i]))==len(a[i]):\n",
    "        sana+=1\n",
    "print(sana)"
   ]
  },
  {
   "cell_type": "code",
   "execution_count": 14,
   "metadata": {},
   "outputs": [
    {
     "name": "stdout",
     "output_type": "stream",
     "text": [
      "m=4\n",
      "n=5\n",
      "1 2 8 7 \n",
      "7 5 4 8 \n",
      "10 9 2 3 \n",
      "9 6 9 2 \n",
      "9 8 2 3 \n",
      "-----------------\n",
      "1\n"
     ]
    }
   ],
   "source": [
    "#39\n",
    "from random import randint\n",
    "m=int(input('m='))\n",
    "n=int(input('n='))\n",
    "a=[[randint(1,10) for i in range(m)] for j in range(n)]\n",
    "for i in range(n):\n",
    "    for j in range(m):\n",
    "        print(a[i][j],end=' ')\n",
    "    print()\n",
    "sana=0\n",
    "for i in range(m):\n",
    "    s=[]\n",
    "    for j in range(n):\n",
    "         s.append(a[j][i])\n",
    "    if len(set(s))==len(s):\n",
    "        sana+=1\n",
    "print('-----------------')\n",
    "print(sana)"
   ]
  },
  {
   "cell_type": "code",
   "execution_count": 2,
   "metadata": {},
   "outputs": [
    {
     "name": "stdout",
     "output_type": "stream",
     "text": [
      "m=4\n",
      "n=5\n",
      "4 5 5 2 \n",
      "2 1 5 3 \n",
      "3 5 1 3 \n",
      "5 4 4 2 \n",
      "4 2 3 3 \n",
      "[4, 2, 3, 3]\n"
     ]
    }
   ],
   "source": [
    "#40\n",
    "from random import randint\n",
    "m=int(input('m='))\n",
    "n=int(input('n='))\n",
    "a=[[randint(1,5) for i in range(m)] for j in range(n)]\n",
    "for i in range(n):\n",
    "    for j in range(m):\n",
    "        print(a[i][j],end=' ')\n",
    "    print()\n",
    "x=True\n",
    "for i in range(n):\n",
    "    if x:\n",
    "        mini=set(a[i])\n",
    "        index=i\n",
    "        x=False\n",
    "    if len(mini)>=len(set(a[i])):\n",
    "        mini=set(a[i])\n",
    "        index=i\n",
    "print(a[index])"
   ]
  },
  {
   "cell_type": "code",
   "execution_count": 20,
   "metadata": {},
   "outputs": [
    {
     "name": "stdout",
     "output_type": "stream",
     "text": [
      "m=3\n",
      "n=4\n",
      "4 3 4 \n",
      "3 5 3 \n",
      "3 4 5 \n",
      "5 4 1 \n",
      "-----------------\n",
      "[4, 5, 5, 5]\n"
     ]
    }
   ],
   "source": [
    "#41\n",
    "from random import randint\n",
    "m=int(input('m='))\n",
    "n=int(input('n='))\n",
    "a=[[randint(1,5) for i in range(m)] for j in range(n)]\n",
    "for i in range(n):\n",
    "    for j in range(m):\n",
    "        print(a[i][j],end=' ')\n",
    "    print()\n",
    "print('-----------------')\n",
    "for i in range(m):\n",
    "    s=[]\n",
    "    for j in range(n):\n",
    "        s.append(a[j][i])\n",
    "    if x:\n",
    "        mini=s\n",
    "        x=False\n",
    "    if len(set(mini))>len(set(s)) and s!=[]:\n",
    "        mini=s\n",
    "print(mini)"
   ]
  },
  {
   "cell_type": "code",
   "execution_count": 19,
   "metadata": {},
   "outputs": [
    {
     "name": "stdout",
     "output_type": "stream",
     "text": [
      "m=2\n",
      "n=3\n",
      "4 2 \n",
      "2 2 \n",
      "3 3 \n",
      "-----------------\n",
      "2\n"
     ]
    }
   ],
   "source": [
    "#42\n",
    "from random import randint\n",
    "m=int(input('m='))\n",
    "n=int(input('n='))\n",
    "a=[[randint(1,5) for i in range(m)] for j in range(n)]\n",
    "print(a)\n",
    "print('-----------------')\n",
    "tartib=0\n",
    "for i in range(n):\n",
    "    s=0\n",
    "    for j in range(m-1):\n",
    "        if a[i][j]<=a[i][j+1]:\n",
    "            s+=1\n",
    "    if s==m-1:\n",
    "        tartib+=1\n",
    "print(tartib)"
   ]
  },
  {
   "cell_type": "code",
   "execution_count": 22,
   "metadata": {},
   "outputs": [
    {
     "name": "stdout",
     "output_type": "stream",
     "text": [
      "m=3\n",
      "n=4\n",
      "4 3 5 \n",
      "3 4 5 \n",
      "2 5 5 \n",
      "3 5 4 \n",
      "-----------------\n",
      "1\n"
     ]
    }
   ],
   "source": [
    "#43\n",
    "from random import randint\n",
    "m=int(input('m='))\n",
    "n=int(input('n='))\n",
    "a=[[randint(1,5) for i in range(m)] for j in range(n)]\n",
    "for i in range(n):\n",
    "    for j in range(m):\n",
    "        print(a[i][j],end=' ')\n",
    "    print()\n",
    "print('-----------------')\n",
    "tartib=0;x=[]\n",
    "for i in range(m):\n",
    "    s=[];k=0\n",
    "    for j in range(n):\n",
    "        s.append(a[j][i])\n",
    "    x.append(s)\n",
    "    for l in range(n-1):\n",
    "        if x[-1][l]>=x[-1][l+1]:\n",
    "            k+=1\n",
    "    if k==n-1:\n",
    "        tartib+=1\n",
    "print(tartib)"
   ]
  },
  {
   "cell_type": "code",
   "execution_count": 25,
   "metadata": {},
   "outputs": [
    {
     "name": "stdout",
     "output_type": "stream",
     "text": [
      "m=3\n",
      "n=4\n",
      "[[1, 5, 2], [4, 1, 4], [5, 1, 4], [2, 4, 4]]\n",
      "2\n"
     ]
    }
   ],
   "source": [
    "#44\n",
    "from random import randint\n",
    "m=int(input('m='))\n",
    "n=int(input('n='))\n",
    "a=[[randint(1,5) for i in range(m)] for j in range(n)]\n",
    "print(a)\n",
    "x=True\n",
    "for i in range(n):\n",
    "    s=0\n",
    "    k=0\n",
    "    for j in range(m-1):\n",
    "        if a[i][j]<=a[i][j+1]:\n",
    "            s+=1\n",
    "        elif a[i][j]<=a[i][j+1]:\n",
    "            k+=1\n",
    "    if s==m-1 or k==m-1:\n",
    "        if x:\n",
    "            mini=min(a[i])\n",
    "            x=False\n",
    "        if mini>min(a[i]):\n",
    "            mini=min(a[i])\n",
    "if x:\n",
    "    print(0)\n",
    "else:\n",
    "    print(mini)"
   ]
  },
  {
   "cell_type": "code",
   "execution_count": 41,
   "metadata": {},
   "outputs": [
    {
     "name": "stdout",
     "output_type": "stream",
     "text": [
      "m=5\n",
      "n=3\n",
      "2 5 2 3 3 \n",
      "1 1 4 2 1 \n",
      "1 5 2 4 5 \n",
      "-----------------\n",
      "   2\n"
     ]
    }
   ],
   "source": [
    "#45\n",
    "from random import randint\n",
    "m=int(input('m='))\n",
    "n=int(input('n='))\n",
    "a=[[randint(1,5) for i in range(m)] for j in range(n)]\n",
    "for i in range(n):\n",
    "    for j in range(m):\n",
    "        print(a[i][j],end=' ')\n",
    "    print()\n",
    "print('-----------------')\n",
    "y=True\n",
    "for i in range(m):\n",
    "    s=[];k=0;t=0\n",
    "    for j in range(n):\n",
    "        s.append(a[j][i])\n",
    "    for l in range(n-1):\n",
    "        if s[l]>=s[l+1]:\n",
    "            k+=1\n",
    "        if s[l]<=s[l+1]:\n",
    "            t+=1\n",
    "    if k==n-1 or t==n-1:\n",
    "        if y:\n",
    "            maxi=max(s)\n",
    "            y=False\n",
    "        if maxi<max(s):\n",
    "            maxi=max(s)\n",
    "if y:\n",
    "    print(0)\n",
    "else:\n",
    "    print(maxi)"
   ]
  },
  {
   "cell_type": "code",
   "execution_count": 22,
   "metadata": {},
   "outputs": [
    {
     "name": "stdout",
     "output_type": "stream",
     "text": [
      "m=10\n",
      "n=3\n",
      "5 5 1 4 2 1 2 3 4 2 \n",
      "3 3 2 2 2 3 1 1 2 3 \n",
      "4 5 5 1 3 2 5 5 3 4 \n",
      "-----------------\n",
      "3 "
     ]
    }
   ],
   "source": [
    "#46\n",
    "from random import randint\n",
    "m=int(input('m='))\n",
    "n=int(input('n='))\n",
    "a=[[randint(1,5) for i in range(m)] for j in range(n)]\n",
    "for i in range(n):\n",
    "    for j in range(m):\n",
    "        print(a[i][j],end=' ')\n",
    "    print()\n",
    "print('-----------------')\n",
    "k=0;x=[]\n",
    "for i in range(m):\n",
    "    s=[]\n",
    "    for j in range(n):\n",
    "        s.append(a[j][i])\n",
    "    x.append(s)\n",
    "l=0\n",
    "for i in range(n):\n",
    "    t=max(a[i])\n",
    "    if max(a[i])==min(x[a[i].index(max(a[i]))]):\n",
    "        print(max(a[i]),end=' ')\n",
    "        l+=1\n",
    "if l==0:\n",
    "    print(0)"
   ]
  },
  {
   "cell_type": "code",
   "execution_count": 4,
   "metadata": {},
   "outputs": [
    {
     "name": "stdout",
     "output_type": "stream",
     "text": [
      "m=3\n",
      "n=4\n",
      "6 3 5 \n",
      "9 9 6 \n",
      "4 7 6 \n",
      "6 1 9 \n",
      "-----------------\n",
      "k1=1\n",
      "k2=3\n",
      "6 3 5 \n",
      "6 1 9 \n",
      "4 7 6 \n",
      "9 9 6 \n"
     ]
    }
   ],
   "source": [
    "#47\n",
    "from random import randint\n",
    "m=int(input('m='))\n",
    "n=int(input('n='))\n",
    "a=[[randint(1,10) for i in range(m)] for j in range(n)]\n",
    "for i in range(n):\n",
    "    for j in range(m):\n",
    "        print(a[i][j],end=' ')\n",
    "    print()\n",
    "print('-----------------')\n",
    "k1=int(input('k1='))\n",
    "k2=int(input('k2='))\n",
    "a[k1],a[k2]=a[k2],a[k1]\n",
    "for i in range(n):\n",
    "    for j in range(m):\n",
    "        print(a[i][j],end=' ')\n",
    "    print()"
   ]
  },
  {
   "cell_type": "code",
   "execution_count": 6,
   "metadata": {},
   "outputs": [
    {
     "name": "stdout",
     "output_type": "stream",
     "text": [
      "m=3\n",
      "n=4\n",
      "3 10 7 \n",
      "7 4 6 \n",
      "3 3 3 \n",
      "9 2 9 \n",
      "-----------------\n",
      "10 3 7 \n",
      "4 7 6 \n",
      "3 3 3 \n",
      "2 9 9 \n"
     ]
    }
   ],
   "source": [
    "#49\n",
    "from random import randint\n",
    "m=int(input('m='))\n",
    "n=int(input('n='))\n",
    "a=[[randint(1,10) for i in range(m)] for j in range(n)]\n",
    "for i in range(n):\n",
    "    for j in range(m):\n",
    "        print(a[i][j],end=' ')\n",
    "    print()\n",
    "print('-----------------')\n",
    "for i in range(n):\n",
    "    k1=a[i].index(max(a[i]))\n",
    "    k2=a[i].index(min(a[i]))\n",
    "    a[i][k1],a[i][k2]=a[i][k2],a[i][k1]\n",
    "for i in range(n):\n",
    "    print(*a[i])\n",
    "    ()"
   ]
  },
  {
   "cell_type": "code",
   "execution_count": 1,
   "metadata": {},
   "outputs": [
    {
     "name": "stdout",
     "output_type": "stream",
     "text": [
      "m=3\n",
      "n=4\n",
      "9 10 5\n",
      "2 10 7\n",
      "1 1 5\n",
      "9 10 7\n",
      "k1=0\n",
      "k2=1\n",
      "\n",
      "10 9 5\n",
      "10 2 7\n",
      "1 1 5\n",
      "10 9 7\n"
     ]
    }
   ],
   "source": [
    "#48\n",
    "from random import randint\n",
    "m=int(input('m='))\n",
    "n=int(input('n='))\n",
    "a=[[randint(1,10) for i in range(m)] for j in range(n)]\n",
    "for i in range(n):\n",
    "    print(*a[i])\n",
    "k1=int(input('k1='))\n",
    "k2=int(input('k2='))\n",
    "for i in range(n):\n",
    "    a[i][k1],a[i][k2]=a[i][k2],a[i][k1]\n",
    "print()\n",
    "for i in range(n):\n",
    "    print(*a[i])"
   ]
  },
  {
   "cell_type": "code",
   "execution_count": 26,
   "metadata": {},
   "outputs": [
    {
     "name": "stdout",
     "output_type": "stream",
     "text": [
      "m=4\n",
      "n=5\n",
      "5 10 8 7 \n",
      "7 10 2 7 \n",
      "9 3 9 3 \n",
      "2 3 3 9 \n",
      "2 3 8 8 \n",
      "-----------------\n",
      "5 3 8 7\n",
      "7 10 9 7\n",
      "2 10 2 9\n",
      "9 3 3 3\n",
      "2 3 8 8\n"
     ]
    }
   ],
   "source": [
    "#50\n",
    "from random import randint\n",
    "m=int(input('m='))\n",
    "n=int(input('n='))\n",
    "a=[[randint(1,10) for i in range(m)] for j in range(n)]\n",
    "for i in range(n):\n",
    "    print(*a[i])\n",
    "print('-----------------')\n",
    "x=[]\n",
    "for i in range(m):\n",
    "    s=[]\n",
    "    for j in range(n):\n",
    "        s.append(a[j][i])\n",
    "    x.append(s)\n",
    "a=[]\n",
    "for i in range(m):\n",
    "    k=x[i].index(max(x[i]))\n",
    "    z=x[i].index(min(x[i]))\n",
    "    x[i][k],x[i][z]=x[i][z],x[i][k]\n",
    "for i in range(n):\n",
    "    b=[]\n",
    "    for j in range(m):\n",
    "        b.append(x[j][i])\n",
    "    a.append(b)\n",
    "for i in range(n):\n",
    "    print(*a[i])\n",
    "    "
   ]
  },
  {
   "cell_type": "code",
   "execution_count": 34,
   "metadata": {},
   "outputs": [
    {
     "name": "stdout",
     "output_type": "stream",
     "text": [
      "m=4\n",
      "n=5\n",
      "10 9 4 10\n",
      "4 4 8 3\n",
      "10 9 10 7\n",
      "2 9 4 10\n",
      "3 1 4 3\n",
      "-----------------\n",
      "3 1 4 3\n",
      "4 4 8 3\n",
      "10 9 10 7\n",
      "2 9 4 10\n",
      "10 9 4 10\n"
     ]
    }
   ],
   "source": [
    "#51\n",
    "from random import randint\n",
    "m=int(input('m='))\n",
    "n=int(input('n='))\n",
    "a=[[randint(1,10) for i in range(m)] for j in range(n)]\n",
    "for i in range(n):\n",
    "    print(*a[i])\n",
    "print('-----------------')\n",
    "x=True\n",
    "for i in range(n):\n",
    "    if x:\n",
    "        min_i=min(a[i])\n",
    "        index1=i\n",
    "        index2=i\n",
    "        max_i=max(a[i])\n",
    "        x=False\n",
    "    if min_i>min(a[i]):\n",
    "        min_i=min(a[i])\n",
    "        index1=i\n",
    "    if max_i<max(a[i]):\n",
    "        max_i=max(a[i])\n",
    "        index2=i\n",
    "a[index1],a[index2]=a[index2],a[index1]\n",
    "for i in range(n):\n",
    "    print(*a[i])"
   ]
  },
  {
   "cell_type": "code",
   "execution_count": 37,
   "metadata": {},
   "outputs": [
    {
     "name": "stdout",
     "output_type": "stream",
     "text": [
      "m=4\n",
      "n=5\n",
      "6 4 2 8\n",
      "5 7 9 4\n",
      "10 2 9 6\n",
      "7 3 3 5\n",
      "4 4 4 10\n",
      "-----------------\n",
      "4 6 2 8\n",
      "7 5 9 4\n",
      "2 10 9 6\n",
      "3 7 3 5\n",
      "4 4 4 10\n"
     ]
    }
   ],
   "source": [
    "#52\n",
    "from random import randint\n",
    "m=int(input('m='))\n",
    "n=int(input('n='))\n",
    "a=[[randint(1,10) for i in range(m)] for j in range(n)]\n",
    "for i in range(n):\n",
    "    print(*a[i])\n",
    "print('-----------------')\n",
    "x=[]\n",
    "for i in range(m):\n",
    "    s=[]\n",
    "    for j in range(n):\n",
    "        s.append(a[j][i])\n",
    "    x.append(s)\n",
    "a=[]\n",
    "y=True\n",
    "for i in range(m):\n",
    "    if y:\n",
    "        mini=min(x[i])\n",
    "        maxi=max(x[i])\n",
    "        i1=i\n",
    "        i2=i\n",
    "        y=False\n",
    "    if mini>min(x[i]):\n",
    "        mini=min(x[i])\n",
    "        i1=i\n",
    "    if maxi<max(x[i]):\n",
    "        maxi=max(x[i])\n",
    "        i2=i\n",
    "x[i1],x[i2]=x[i2],x[i1]\n",
    "for i in range(n):\n",
    "    b=[]\n",
    "    for j in range(m):\n",
    "        b.append(x[j][i])\n",
    "    a.append(b)\n",
    "for i in range(n):\n",
    "    print(*a[i])"
   ]
  },
  {
   "cell_type": "code",
   "execution_count": 50,
   "metadata": {},
   "outputs": [
    {
     "name": "stdout",
     "output_type": "stream",
     "text": [
      "m=4\n",
      "n=5\n",
      "-2 -1 -2 5\n",
      "9 4 6 1\n",
      "7 -2 5 10\n",
      "7 5 -2 6\n",
      "-3 2 2 7\n",
      "-----------------\n",
      "5 -1 -2 -2\n",
      "1 4 6 9\n",
      "10 -2 5 7\n",
      "6 5 -2 7\n",
      "7 2 2 -3\n"
     ]
    }
   ],
   "source": [
    "#53\n",
    "from random import randint\n",
    "m=int(input('m='))\n",
    "n=int(input('n='))\n",
    "a=[[randint(-3,10) for i in range(m)] for j in range(n)]\n",
    "for i in range(n):\n",
    "    print(*a[i])\n",
    "print('-----------------')\n",
    "y=False\n",
    "x=[]\n",
    "for i in range(m):\n",
    "    s=[]\n",
    "    k=0\n",
    "    for j in range(n):\n",
    "        s.append(a[j][i])\n",
    "        if a[j][i]>0:\n",
    "            k+=1\n",
    "    x.append(s)\n",
    "    if k==n:\n",
    "        index=i\n",
    "        y=True\n",
    "a=[]\n",
    "if y:\n",
    "    x[0],x[index]=x[index],x[0]\n",
    "for i in range(n):\n",
    "    b=[]\n",
    "    for j in range(m):\n",
    "        b.append(x[j][i])\n",
    "    a.append(b)\n",
    "for i in range(n):\n",
    "    print(*a[i])"
   ]
  },
  {
   "cell_type": "code",
   "execution_count": 58,
   "metadata": {},
   "outputs": [
    {
     "name": "stdout",
     "output_type": "stream",
     "text": [
      "m=7\n",
      "n=4\n",
      "-9 1 -5 -7 8 -9 3\n",
      "-2 0 -2 -10 -8 -4 10\n",
      "-10 -8 7 5 -8 -5 7\n",
      "-10 -2 -3 8 7 7 10\n",
      "-----------------\n",
      "3 1 -5 -7 8 -9 -9\n",
      "10 0 -2 -10 -8 -4 -2\n",
      "7 -8 7 5 -8 -5 -10\n",
      "10 -2 -3 8 7 7 -10\n"
     ]
    }
   ],
   "source": [
    "#54\n",
    "from random import randint\n",
    "m=int(input('m='))\n",
    "n=int(input('n='))\n",
    "a=[[randint(-10,10) for i in range(m)] for j in range(n)]\n",
    "for i in range(n):\n",
    "    print(*a[i])\n",
    "print('-----------------')\n",
    "y=True\n",
    "x=[]\n",
    "for i in range(m):\n",
    "    s=[]\n",
    "    k=0\n",
    "    for j in range(n):\n",
    "        s.append(a[j][i])\n",
    "        if a[j][i]<0:\n",
    "            k+=1\n",
    "    x.append(s)\n",
    "    if k==n and y:\n",
    "        index=i\n",
    "        y=False\n",
    "a=[]\n",
    "if not y:\n",
    "    x[-1],x[index]=x[index],x[-1]\n",
    "for i in range(n):\n",
    "    b=[]\n",
    "    for j in range(m):\n",
    "        b.append(x[j][i])\n",
    "    a.append(b)\n",
    "for i in range(n):\n",
    "    print(*a[i])"
   ]
  },
  {
   "cell_type": "code",
   "execution_count": 64,
   "metadata": {},
   "outputs": [
    {
     "name": "stdout",
     "output_type": "stream",
     "text": [
      "n=6\n",
      "m=5\n",
      "1 1 1 1 1\n",
      "2 2 2 2 2\n",
      "3 3 3 3 3\n",
      "4 4 4 4 4\n",
      "5 5 5 5 5\n",
      "6 6 6 6 6\n",
      "-----------------\n",
      "4 4 4 4 4\n",
      "5 5 5 5 5\n",
      "6 6 6 6 6\n",
      "1 1 1 1 1\n",
      "2 2 2 2 2\n",
      "3 3 3 3 3\n"
     ]
    }
   ],
   "source": [
    "#55\n",
    "n=int(input('n='))\n",
    "m=int(input('m='))\n",
    "a=[[j+1 for i in range(m)] for j in range(n)]\n",
    "for i in range(n):\n",
    "    print(*a[i])\n",
    "print('-----------------')\n",
    "for i in range(n//2):\n",
    "    a[i],a[n//2+i]=a[n//2+i],a[i]\n",
    "for i in range(n):\n",
    "    print(*a[i])"
   ]
  },
  {
   "cell_type": "code",
   "execution_count": 68,
   "metadata": {},
   "outputs": [
    {
     "name": "stdout",
     "output_type": "stream",
     "text": [
      "m=4\n",
      "n=3\n",
      "1 2 3 4\n",
      "1 2 3 4\n",
      "1 2 3 4\n",
      "-----------------\n",
      "3 4 1 2\n",
      "3 4 1 2\n",
      "3 4 1 2\n"
     ]
    }
   ],
   "source": [
    "#56\n",
    "m=int(input('m='))\n",
    "n=int(input('n='))\n",
    "a=[[i+1 for i in range(m)] for j in range(n)]\n",
    "for i in range(n):\n",
    "    print(*a[i])\n",
    "print('-----------------')\n",
    "for i in range(n):\n",
    "    for j in range(m//2):\n",
    "        a[i][j],a[i][m//2+j]=a[i][m//2+j],a[i][j]\n",
    "for i in range(n):\n",
    "    print(*a[i])"
   ]
  },
  {
   "cell_type": "code",
   "execution_count": 24,
   "metadata": {},
   "outputs": [
    {
     "name": "stdout",
     "output_type": "stream",
     "text": [
      "n=2\n",
      "m=4\n",
      "1 2 3 4\n",
      "5 6 7 8\n",
      "-----------------\n",
      "7 8 3 4\n",
      "5 6 1 2\n"
     ]
    }
   ],
   "source": [
    "#57\n",
    "n=int(input('n='))\n",
    "m=int(input('m='))\n",
    "a=[]\n",
    "k=1\n",
    "for i in range(n):\n",
    "    s=[]\n",
    "    for j in range(m):\n",
    "        s.append(k)\n",
    "        k+=1\n",
    "    a.append(s)\n",
    "\n",
    "for i in range(n):\n",
    "    print(*a[i])\n",
    "    \n",
    "print('-----------------')\n",
    "\n",
    "for i in range(n//2):\n",
    "    for j in range(m//2):\n",
    "        a[i][j],a[n//2+i][m//2+j]=a[n//2+i][m//2+j],a[i][j]\n",
    "for i in range(n):\n",
    "    print(*a[i])"
   ]
  },
  {
   "cell_type": "code",
   "execution_count": 34,
   "metadata": {},
   "outputs": [
    {
     "name": "stdout",
     "output_type": "stream",
     "text": [
      "n=6\n",
      "m=4\n",
      "1 2 3 4\n",
      "5 6 7 8\n",
      "9 10 11 12\n",
      "13 14 15 16\n",
      "17 18 19 20\n",
      "21 22 23 24\n",
      "-----------------\n",
      "1 2 13 14\n",
      "5 6 17 18\n",
      "9 10 21 22\n",
      "3 4 15 16\n",
      "7 8 19 20\n",
      "11 12 23 24\n"
     ]
    }
   ],
   "source": [
    "#58\n",
    "n=int(input('n='))\n",
    "m=int(input('m='))\n",
    "a=[]\n",
    "k=1\n",
    "for i in range(n):\n",
    "    s=[]\n",
    "    for j in range(m):\n",
    "        s.append(k)\n",
    "        k+=1\n",
    "    a.append(s)\n",
    "for i in range(n):\n",
    "    print(*a[i])\n",
    "print('-----------------')\n",
    "for i in range(n//2):\n",
    "    for j in range(m//2):\n",
    "        a[i][m//2+j],a[n//2+i][j]=a[n//2+i][j],a[i][m//2+j]\n",
    "for i in range(n):\n",
    "    print(*a[i])"
   ]
  },
  {
   "cell_type": "code",
   "execution_count": 44,
   "metadata": {},
   "outputs": [
    {
     "name": "stdout",
     "output_type": "stream",
     "text": [
      "n=4\n",
      "m=4\n",
      "1 2 3 4\n",
      "5 6 7 8\n",
      "9 10 11 12\n",
      "13 14 15 16\n",
      "-----------------\n",
      "9 10 11 12\n",
      "13 14 15 16\n",
      "1 2 3 4\n",
      "5 6 7 8\n"
     ]
    }
   ],
   "source": [
    "#59\n",
    "n=int(input('n='))\n",
    "m=int(input('m='))\n",
    "a=[]\n",
    "k=1\n",
    "for i in range(n):\n",
    "    s=[]\n",
    "    for j in range(m):\n",
    "        s.append(k)\n",
    "        k+=1\n",
    "    a.append(s)\n",
    "for i in range(n):\n",
    "    print(*a[i])\n",
    "print('-----------------')\n",
    "if n%2==0:\n",
    "    z=0\n",
    "else:\n",
    "    z=1\n",
    "for i in range(n//2):\n",
    "    a[i],a[n//2+i+z]=a[n//2+i+z],a[i]\n",
    "for i in range(n):\n",
    "    print(*a[i])"
   ]
  },
  {
   "cell_type": "code",
   "execution_count": 56,
   "metadata": {},
   "outputs": [
    {
     "name": "stdout",
     "output_type": "stream",
     "text": [
      "n=5\n",
      "m=5\n",
      "1 2 3 4 5\n",
      "6 7 8 9 10\n",
      "11 12 13 14 15\n",
      "16 17 18 19 20\n",
      "21 22 23 24 25\n",
      "-----------------\n",
      "5 4 3 2 1\n",
      "10 9 8 7 6\n",
      "15 14 13 12 11\n",
      "20 19 18 17 16\n",
      "25 24 23 22 21\n"
     ]
    }
   ],
   "source": [
    "#60\n",
    "n=int(input('n='))\n",
    "m=int(input('m='))\n",
    "a=[]\n",
    "k=1\n",
    "for i in range(n):\n",
    "    s=[]\n",
    "    for j in range(m):\n",
    "        s.append(k)\n",
    "        k+=1\n",
    "    a.append(s)\n",
    "for i in range(n):\n",
    "    print(*a[i])\n",
    "print('-----------------')\n",
    "for i in range(n):\n",
    "    for j in range(m//2):\n",
    "        a[i][j],a[i][m-1-j]=a[i][m-1-j],a[i][j]\n",
    "for i in range(n):\n",
    "    print(*a[i])"
   ]
  },
  {
   "cell_type": "code",
   "execution_count": 57,
   "metadata": {},
   "outputs": [
    {
     "name": "stdout",
     "output_type": "stream",
     "text": [
      "n=3\n",
      "m=4\n",
      "1 2 3 4\n",
      "5 6 7 8\n",
      "9 10 11 12\n",
      "-----------------\n",
      "k=2\n",
      "1 2 3 4\n",
      "5 6 7 8\n"
     ]
    }
   ],
   "source": [
    "#61\n",
    "n=int(input('n='))\n",
    "m=int(input('m='))\n",
    "a=[]\n",
    "k=1\n",
    "for i in range(n):\n",
    "    s=[]\n",
    "    for j in range(m):\n",
    "        s.append(k)\n",
    "        k+=1\n",
    "    a.append(s)\n",
    "for i in range(n):\n",
    "    print(*a[i])\n",
    "print('-----------------')\n",
    "s=int(input('k='))\n",
    "a.remove(a[s])\n",
    "for i in range(n-1):\n",
    "    print(*a[i])"
   ]
  },
  {
   "cell_type": "code",
   "execution_count": 61,
   "metadata": {},
   "outputs": [
    {
     "name": "stdout",
     "output_type": "stream",
     "text": [
      "n=3\n",
      "m=4\n",
      "k=2\n",
      "7 4 10 6\n",
      "9 5 5 6\n",
      "7 8 2 10\n",
      "-----------------------\n",
      "7 4 6\n",
      "9 5 6\n",
      "7 8 10\n"
     ]
    }
   ],
   "source": [
    "#62\n",
    "from random import randint\n",
    "n=int(input('n='))\n",
    "m=int(input('m='))\n",
    "a=[[randint(1,10) for i in range(m)] for j in range(n)]\n",
    "k=int(input('k='))\n",
    "for i in range(n):\n",
    "    print(*a[i])\n",
    "print('-----------------------')\n",
    "for i in range(n):\n",
    "    a[i].pop(k)\n",
    "for i in range(n):\n",
    "    print(*a[i])    "
   ]
  },
  {
   "cell_type": "code",
   "execution_count": 63,
   "metadata": {},
   "outputs": [
    {
     "name": "stdout",
     "output_type": "stream",
     "text": [
      "n=3\n",
      "m=4\n",
      "4 3 1 6\n",
      "2 2 1 6\n",
      "7 3 4 2\n",
      "-----------------------\n",
      "2 2 1 6\n",
      "7 3 4 2\n"
     ]
    }
   ],
   "source": [
    "#63\n",
    "from random import randint\n",
    "n=int(input('n='))\n",
    "m=int(input('m='))\n",
    "a=[[randint(1,10) for i in range(m)] for j in range(n)]\n",
    "for i in range(n):\n",
    "    print(*a[i])\n",
    "print('-----------------------')\n",
    "x=True\n",
    "for i in range(n):\n",
    "    if x:\n",
    "        mini=min(a[i])\n",
    "        min_i=i\n",
    "        x=False\n",
    "    if mini>min(a[i]):\n",
    "        mini=min(a[i])\n",
    "        min_i=i\n",
    "a.pop(min_i)\n",
    "for i in range(n-1):\n",
    "    print(*a[i])"
   ]
  },
  {
   "cell_type": "code",
   "execution_count": 64,
   "metadata": {},
   "outputs": [
    {
     "name": "stdout",
     "output_type": "stream",
     "text": [
      "n=4\n",
      "m=5\n",
      "4 7 3 2 1\n",
      "7 9 1 7 10\n",
      "10 4 2 5 1\n",
      "7 8 8 9 7\n",
      "-----------------------\n",
      "4 7 3 2\n",
      "7 9 1 7\n",
      "10 4 2 5\n",
      "7 8 8 9\n"
     ]
    }
   ],
   "source": [
    "#64\n",
    "from random import randint\n",
    "n=int(input('n='))\n",
    "m=int(input('m='))\n",
    "a=[[randint(1,10) for i in range(m)] for j in range(n)]\n",
    "for i in range(n):\n",
    "    print(*a[i])\n",
    "print('-----------------------')\n",
    "x=True\n",
    "for i in range(n):\n",
    "    if x:\n",
    "        maxi=max(a[i])\n",
    "        max_i=a[i].index(maxi)\n",
    "        x=False\n",
    "    if maxi<max(a[i]):\n",
    "        maxi=max(a[i])\n",
    "        max_i=a[i].index(maxi)\n",
    "for i in range(n):\n",
    "    a[i].pop(max_i)\n",
    "for i in range(n):\n",
    "    print(*a[i])"
   ]
  },
  {
   "cell_type": "code",
   "execution_count": 67,
   "metadata": {},
   "outputs": [
    {
     "name": "stdout",
     "output_type": "stream",
     "text": [
      "n=3\n",
      "m=4\n",
      "8 0 -1 4\n",
      "10 5 -1 0\n",
      "4 8 3 4\n",
      "-----------------------\n",
      "0 -1 4\n",
      "5 -1 0\n",
      "8 3 4\n"
     ]
    }
   ],
   "source": [
    "#65\n",
    "from random import randint\n",
    "n=int(input('n='))\n",
    "m=int(input('m='))\n",
    "a=[[randint(-1,10) for i in range(m)] for j in range(n)]\n",
    "for i in range(n):\n",
    "    print(*a[i])\n",
    "print('-----------------------')\n",
    "for i in range(m):\n",
    "    k=0\n",
    "    for j in range(n):\n",
    "        if a[j][i]>0:\n",
    "            k+=1\n",
    "    if k==n:\n",
    "        i1=i\n",
    "        break\n",
    "for i in range(n):\n",
    "    a[i].pop(i1)\n",
    "for i in range(n):\n",
    "    print(*a[i])"
   ]
  },
  {
   "cell_type": "code",
   "execution_count": 85,
   "metadata": {},
   "outputs": [
    {
     "name": "stdout",
     "output_type": "stream",
     "text": [
      "n=2\n",
      "m=5\n",
      "-3 -4 10 6 -8\n",
      "-2 -1 2 8 4\n",
      "-----------------------\n",
      "-3 10 6 -8\n",
      "-2 2 8 4\n"
     ]
    }
   ],
   "source": [
    "#66\n",
    "from random import randint\n",
    "n=int(input('n='))\n",
    "m=int(input('m='))\n",
    "a=[[randint(-10,10) for i in range(m)] for j in range(n)]\n",
    "for i in range(n):\n",
    "    print(*a[i])\n",
    "print('-----------------------')\n",
    "x=False\n",
    "for i in range(m):\n",
    "    k=0\n",
    "    for j in range(n):\n",
    "        if a[j][i]<0:\n",
    "            k+=1\n",
    "    if k==n:\n",
    "        i1=i\n",
    "        x=True\n",
    "if x:\n",
    "    for i in range(n):\n",
    "        a[i].pop(i1)\n",
    "for i in range(n):\n",
    "    print(*a[i])"
   ]
  },
  {
   "cell_type": "code",
   "execution_count": 7,
   "metadata": {},
   "outputs": [
    {
     "name": "stdout",
     "output_type": "stream",
     "text": [
      "n=4\n",
      "m=5\n",
      "-7 1 -7 -2 0\n",
      "-9 6 -2 -10 7\n",
      "-3 8 5 9 4\n",
      "1 4 0 -5 -4\n",
      "-----------------------\n",
      "[[-7, -7, -2, 0], [-9, -2, -10, 7], [-3, 5, 9, 4], [1, 0, -5, -4]]\n"
     ]
    }
   ],
   "source": [
    "#67\n",
    "from random import randint\n",
    "n=int(input('n='))\n",
    "m=int(input('m='))\n",
    "a=[[randint(-10,10) for i in range(m)] for j in range(n)]\n",
    "for i in range(n):\n",
    "    print(*a[i])\n",
    "print('-----------------------')\n",
    "i1=[]\n",
    "x=False\n",
    "c=[]\n",
    "for i in range(m):\n",
    "    d=[]\n",
    "    k=0\n",
    "    for j in range(n):\n",
    "        d.append(a[j][i])\n",
    "        if a[j][i]>0:\n",
    "             k+=1\n",
    "    c.append(d)\n",
    "    if k==n:\n",
    "        i1.append(i)\n",
    "for i in range(len(i1)):\n",
    "    del c[i1[i]-i]\n",
    "a=[]\n",
    "for i in range(n):\n",
    "    t=[]\n",
    "    for j in range(len(c)):\n",
    "         t.append(c[j][i])\n",
    "    a.append(t)\n",
    "print(a)"
   ]
  },
  {
   "cell_type": "code",
   "execution_count": 9,
   "metadata": {},
   "outputs": [
    {
     "name": "stdout",
     "output_type": "stream",
     "text": [
      "n=3\n",
      "m=4\n",
      "5 9 -8 -2\n",
      "-4 3 1 7\n",
      "-8 4 8 -1\n",
      "-----------------------\n",
      "k=1\n",
      "5 9 -8 -2\n",
      "0 0 0 0\n",
      "-4 3 1 7\n",
      "-8 4 8 -1\n"
     ]
    }
   ],
   "source": [
    "#68\n",
    "from random import randint\n",
    "n=int(input('n='))\n",
    "m=int(input('m='))\n",
    "a=[[randint(-10,10) for i in range(m)] for j in range(n)]\n",
    "for i in range(n):\n",
    "    print(*a[i])\n",
    "print('-----------------------')\n",
    "j=[0 for i in range(m)]\n",
    "k=int(input('k='))\n",
    "a.insert(k,j)\n",
    "for i in range(n+1):\n",
    "    print(*a[i])"
   ]
  },
  {
   "cell_type": "code",
   "execution_count": 11,
   "metadata": {},
   "outputs": [
    {
     "name": "stdout",
     "output_type": "stream",
     "text": [
      "n=3\n",
      "m=4\n",
      "-8 -2 -4 10\n",
      "5 0 0 -1\n",
      "7 -10 -2 2\n",
      "-----------------------\n",
      "k=1\n",
      "-8 -2 1 -4 10\n",
      "5 0 1 0 -1\n",
      "7 -10 1 -2 2\n"
     ]
    }
   ],
   "source": [
    "#69\n",
    "from random import randint\n",
    "n=int(input('n='))\n",
    "m=int(input('m='))\n",
    "a=[[randint(-10,10) for i in range(m)] for j in range(n)]\n",
    "for i in range(n):\n",
    "    print(*a[i])\n",
    "print('-----------------------')\n",
    "k=int(input('k='))\n",
    "for i in range(n):\n",
    "    for j in range(m):\n",
    "        if j==k:\n",
    "            a[i].insert(k+1,1)\n",
    "for i in range(n):\n",
    "    print(*a[i])"
   ]
  },
  {
   "cell_type": "code",
   "execution_count": 13,
   "metadata": {},
   "outputs": [
    {
     "name": "stdout",
     "output_type": "stream",
     "text": [
      "n=3\n",
      "m=4\n",
      "-9 -10 -6 0\n",
      "10 -5 1 -1\n",
      "8 6 -9 -6\n",
      "-----------------------\n",
      "-9 -10 -6 0\n",
      "10 -5 1 -1\n",
      "10 -5 1 -1\n",
      "8 6 -9 -6\n"
     ]
    }
   ],
   "source": [
    "#70\n",
    "from random import randint\n",
    "n=int(input('n='))\n",
    "m=int(input('m='))\n",
    "a=[[randint(-10,10) for i in range(m)] for j in range(n)]\n",
    "for i in range(n):\n",
    "    print(*a[i])\n",
    "print('-----------------------')\n",
    "x=True\n",
    "for i in range(n):\n",
    "    for j in range(m):\n",
    "        if x:\n",
    "            maxi=a[i][j]\n",
    "            index=i\n",
    "            x=False\n",
    "        if maxi<a[i][j]:\n",
    "            maxi=a[i][j]\n",
    "            index=i\n",
    "a.insert(index+1,a[index])\n",
    "for i in range(n+1):\n",
    "    print(*a[i])"
   ]
  },
  {
   "cell_type": "code",
   "execution_count": 15,
   "metadata": {},
   "outputs": [
    {
     "name": "stdout",
     "output_type": "stream",
     "text": [
      "n=2\n",
      "m=10\n",
      "9 5 2 8 -3 -5 -1 -10 9 -6\n",
      "-7 -6 -4 -7 -7 -1 -1 -1 4 -8\n",
      "-----------------------\n",
      "9 5 2 8 -3 -5 -1 -10 -10 9 -6\n",
      "-7 -6 -4 -7 -7 -1 -1 -1 -1 4 -8\n"
     ]
    }
   ],
   "source": [
    "#71\n",
    "from random import randint\n",
    "n=int(input('n='))\n",
    "m=int(input('m='))\n",
    "a=[[randint(-10,10) for i in range(m)] for j in range(n)]\n",
    "for i in range(n):\n",
    "    print(*a[i])\n",
    "print('-----------------------')\n",
    "x=True\n",
    "for i in range(m):\n",
    "    for j in range(n):\n",
    "        if x:\n",
    "            mini=a[j][i]\n",
    "            index=i\n",
    "            x=False\n",
    "        if mini>a[j][i]:\n",
    "            mini=a[j][i]\n",
    "            index=i\n",
    "for i in range(n):\n",
    "    for j in range(m):\n",
    "        if j==index:\n",
    "            a[i].insert(index+1,a[i][index])\n",
    "for i in range(n):\n",
    "    print(*a[i])"
   ]
  },
  {
   "cell_type": "code",
   "execution_count": 17,
   "metadata": {},
   "outputs": [
    {
     "name": "stdout",
     "output_type": "stream",
     "text": [
      "n=2\n",
      "m=10\n",
      "9 6 9 -6 -2 -7 2 6 0 -7\n",
      "4 -9 -10 -6 -8 4 -3 -1 8 -2\n",
      "-----------------------\n",
      "1 9 6 9 -6 -2 -7 2 6 0 -7\n",
      "1 4 -9 -10 -6 -8 4 -3 -1 8 -2\n"
     ]
    }
   ],
   "source": [
    "#72\n",
    "from random import randint\n",
    "n=int(input('n='))\n",
    "m=int(input('m='))\n",
    "a=[[randint(-10,10) for i in range(m)] for j in range(n)]\n",
    "for i in range(n):\n",
    "    print(*a[i])\n",
    "print('-----------------------')\n",
    "x=False\n",
    "for i in range(m):\n",
    "    k=0\n",
    "    for j in range(n):\n",
    "        if a[j][i]>0:\n",
    "             k+=1\n",
    "        if k==n:\n",
    "            index=i\n",
    "            x=True\n",
    "            break\n",
    "if x:\n",
    "    for i in range(n):\n",
    "        for j in range(m):\n",
    "            if j==index:\n",
    "                a[i].insert(index,1)\n",
    "for i in range(n):\n",
    "    print(*a[i])"
   ]
  },
  {
   "cell_type": "code",
   "execution_count": 19,
   "metadata": {},
   "outputs": [
    {
     "name": "stdout",
     "output_type": "stream",
     "text": [
      "n=2\n",
      "m=10\n",
      "3 3 -6 -5 0 -10 -10 -1 3 -3\n",
      "-5 -10 2 1 5 2 6 1 -2 -6\n",
      "-----------------------\n",
      "3 3 -6 -5 0 -10 -10 -1 3 -3 0\n",
      "-5 -10 2 1 5 2 6 1 -2 -6 0\n"
     ]
    }
   ],
   "source": [
    "#73\n",
    "from random import randint\n",
    "n=int(input('n='))\n",
    "m=int(input('m='))\n",
    "a=[[randint(-10,10) for i in range(m)] for j in range(n)]\n",
    "for i in range(n):\n",
    "    print(*a[i])\n",
    "print('-----------------------')\n",
    "x=False\n",
    "for i in range(m):\n",
    "    k=0\n",
    "    for j in range(n):\n",
    "        if a[j][i]<0:\n",
    "             k+=1\n",
    "        if k==n:\n",
    "            index=i\n",
    "            x=True\n",
    "if x:\n",
    "    for i in range(n):\n",
    "        for j in range(m):\n",
    "            if j==index:\n",
    "                a[i].insert(index+1,0)\n",
    "for i in range(n):\n",
    "    print(*a[i])"
   ]
  },
  {
   "cell_type": "code",
   "execution_count": 21,
   "metadata": {},
   "outputs": [
    {
     "name": "stdout",
     "output_type": "stream",
     "text": [
      "n=5\n",
      "m=6\n",
      "5 10 9 1 -1 -5\n",
      "-3 -10 -5 10 7 5\n",
      "0 -6 9 4 -5 2\n",
      "9 -8 -6 6 -1 -6\n",
      "3 0 -9 5 -7 -10\n",
      "-----------------------\n",
      "5 10 9 1 -1 -5\n",
      "-3 0 -5 10 7 5\n",
      "0 0 9 4 0 2\n",
      "9 0 -6 6 -1 -6\n",
      "3 0 0 5 -7 -10\n"
     ]
    }
   ],
   "source": [
    "#74\n",
    "from random import randint\n",
    "n=int(input('n='))\n",
    "m=int(input('m='))\n",
    "a=[[randint(-10,10) for i in range(m)] for j in range(n)]\n",
    "for i in range(n):\n",
    "    print(*a[i])\n",
    "print('-----------------------')\n",
    "for i in range(n):\n",
    "    s=[]\n",
    "    for j in range(1,m-1):\n",
    "        if a[i][j-1]>a[i][j]<a[i][j+1]:\n",
    "            s.append(j)\n",
    "    for k in range(len(s)):\n",
    "        a[i][s[k]]=0\n",
    "for i in range(n):\n",
    "    print(*a[i])"
   ]
  },
  {
   "cell_type": "code",
   "execution_count": 23,
   "metadata": {},
   "outputs": [
    {
     "name": "stdout",
     "output_type": "stream",
     "text": [
      "n=5\n",
      "m=6\n",
      "6 -6 -2 -2 10 -9\n",
      "-4 -5 7 -2 9 1\n",
      "-1 -5 5 -7 3 -2\n",
      "-4 -5 6 10 4 5\n",
      "-6 1 -6 -7 9 3\n",
      "-----------------------\n",
      "6 -6 -2 -2 0 -9\n",
      "-4 -5 0 -2 0 1\n",
      "-1 -5 0 -7 0 -2\n",
      "-4 -5 6 0 4 5\n",
      "-6 0 -6 -7 0 3\n"
     ]
    }
   ],
   "source": [
    "#75\n",
    "from random import randint\n",
    "n=int(input('n='))\n",
    "m=int(input('m='))\n",
    "a=[[randint(-10,10) for i in range(m)] for j in range(n)]\n",
    "for i in range(n):\n",
    "    print(*a[i])\n",
    "print('-----------------------')\n",
    "for i in range(n):\n",
    "    s=[]\n",
    "    for j in range(1,m-1):\n",
    "        if a[i][j-1]<a[i][j]>a[i][j+1]:\n",
    "            s.append(j)\n",
    "    for k in range(len(s)):\n",
    "        a[i][s[k]]=0\n",
    "for i in range(n):\n",
    "    print(*a[i])"
   ]
  },
  {
   "cell_type": "code",
   "execution_count": 27,
   "metadata": {},
   "outputs": [
    {
     "name": "stdout",
     "output_type": "stream",
     "text": [
      "n=6\n",
      "m=7\n",
      "-6 -5 6 -1 4 8 7\n",
      "8 0 -8 0 -3 7 -6\n",
      "8 5 -6 -9 3 8 -4\n",
      "-2 -1 4 10 -3 -5 9\n",
      "-1 7 -4 5 -8 -4 0\n",
      "-6 -9 7 -3 8 -8 -7\n",
      "-----------------------\n",
      "-6 -5 6 -1 4 8 7\n",
      "-6 -9 7 -3 8 -8 -7\n",
      "-2 -1 4 10 -3 -5 9\n",
      "-1 7 -4 5 -8 -4 0\n",
      "8 0 -8 0 -3 7 -6\n",
      "8 5 -6 -9 3 8 -4\n"
     ]
    }
   ],
   "source": [
    "#76\n",
    "from random import randint\n",
    "n=int(input('n='))\n",
    "m=int(input('m='))\n",
    "a=[[randint(-10,10) for i in range(m)] for j in range(n)]\n",
    "for i in range(n):\n",
    "    print(*a[i])\n",
    "print('-----------------------')\n",
    "for i in range(n-1):\n",
    "    for j in range(n-1):\n",
    "        if a[j][0]>a[j+1][0]:\n",
    "            a[j],a[j+1]=a[j+1],a[j]\n",
    "for i in range(n):\n",
    "    print(*a[i])"
   ]
  },
  {
   "cell_type": "code",
   "execution_count": 19,
   "metadata": {},
   "outputs": [
    {
     "name": "stdout",
     "output_type": "stream",
     "text": [
      "n=4\n",
      "m=5\n",
      "-3 -5 -9 -6 -1\n",
      "0 -5 1 -2 2\n",
      "2 2 -3 -3 -7\n",
      "3 9 -4 9 -5\n",
      "-----------------------\n",
      "-5 -3 -6 -9 -1\n",
      "0 -5 1 -2 2\n",
      "2 2 -3 -3 -7\n",
      "9 3 9 -4 -5\n"
     ]
    }
   ],
   "source": [
    "#77\n",
    "from random import randint\n",
    "n=int(input('n='))\n",
    "m=int(input('m='))\n",
    "a=[[randint(-10,10) for i in range(m)] for j in range(n)]\n",
    "for i in range(n):\n",
    "    print(*a[i])\n",
    "    \n",
    "for i in range(n):\n",
    "    x=True\n",
    "    for j in range(m-1):\n",
    "        if a[n-1][j]>a[n-1][j+1] and x:\n",
    "            a[n-1][j],a[n-1][j+1]=a[n-1][j+1],a[n-1][j]\n",
    "            x=False\n",
    "        if not x:\n",
    "            \n",
    "print('-----------------------')\n",
    "for i in range(n):\n",
    "    print(*a[i])"
   ]
  },
  {
   "cell_type": "code",
   "execution_count": 2,
   "metadata": {},
   "outputs": [
    {
     "name": "stdout",
     "output_type": "stream",
     "text": [
      "n=5\n",
      "m=4\n",
      "-1 -6 -7 -3\n",
      "7 6 -5 -7\n",
      "6 1 4 -10\n",
      "-3 4 5 -5\n",
      "8 5 -6 -6\n",
      "\n",
      "-3 4 5 -5\n",
      "8 5 -6 -6\n",
      "-1 -6 -7 -3\n",
      "7 6 -5 -7\n",
      "6 1 4 -10\n"
     ]
    }
   ],
   "source": [
    "#78\n",
    "from random import randint\n",
    "n=int(input('n='))\n",
    "m=int(input('m='))\n",
    "a=[[randint(-10,10) for i in range(m)] for j in range(n)]\n",
    "for i in range(n):\n",
    "    print(*a[i])\n",
    "    \n",
    "for i in range(n):\n",
    "    for j in range(n-1-i):\n",
    "        if min(a[j])<min(a[j+1]):\n",
    "            a[j+1],a[j]=a[j],a[j+1]\n",
    "print()\n",
    "for i in range(n):\n",
    "    print(*a[i])"
   ]
  },
  {
   "cell_type": "code",
   "execution_count": 5,
   "metadata": {},
   "outputs": [
    {
     "name": "stdout",
     "output_type": "stream",
     "text": [
      "n=4\n",
      "m=5\n",
      "-1 7 6 -10 7\n",
      "9 9 9 0 1\n",
      "6 4 -8 2 8\n",
      "5 -3 -2 -9 10\n",
      "\n",
      "-10 -1 7 6 7 \n",
      "0 9 9 9 1 \n",
      "2 6 4 -8 8 \n",
      "-9 5 -3 -2 10 \n"
     ]
    }
   ],
   "source": [
    "#79\n",
    "from random import randint\n",
    "n=int(input('n='))\n",
    "m=int(input('m='))\n",
    "a=[[randint(-10,10) for i in range(m)] for j in range(n)]\n",
    "for i in range(n):\n",
    "    print(*a[i])\n",
    "k=[]\n",
    "for i in range(m):\n",
    "    l=[]\n",
    "    for j in range(n):\n",
    "        l.append(a[j][i])\n",
    "    k.append(l)\n",
    "\n",
    "for i in range(m):\n",
    "    for j in range(m-1-i):\n",
    "        if max(k[j])>max(k[j+1]):\n",
    "            k[j],k[j+1]=k[j+1],k[j]\n",
    "print()            \n",
    "for i in range(n):\n",
    "    for j in range(m):\n",
    "        print(k[j][i],end=' ')\n",
    "    print()"
   ]
  },
  {
   "cell_type": "code",
   "execution_count": 10,
   "metadata": {},
   "outputs": [
    {
     "name": "stdout",
     "output_type": "stream",
     "text": [
      "n=3\n",
      "1 2 2\n",
      "1 1 1\n",
      "1 2 1\n",
      "------------------------\n",
      "1 1 2\n",
      "2 1 1\n",
      "2 1 2\n",
      "------------------------\n",
      "1 2 2\n",
      "1 1 1\n",
      "2 1 2\n"
     ]
    }
   ],
   "source": [
    "from random import randint\n",
    "n=int(input('n='))\n",
    "a=[[randint(1,2) for i in range(n)] for j in range(n)]\n",
    "b=[[randint(1,2) for i in range(n)] for j in range(n)]\n",
    "c=[[0 for i in range(n)] for j in range(n)]\n",
    "for i in range(n):\n",
    "    print(*a[i])\n",
    "print('------------------------')\n",
    "k=0\n",
    "for i in range(n):\n",
    "    for j in range(n):\n",
    "        c[i][j]+=a[i][k]*b[j][i]\n",
    "    k+=1\n",
    "    if k>n:\n",
    "        k=0\n",
    "for i in range(n):\n",
    "    print(*b[i])\n",
    "print('------------------------')\n",
    "for i in range(n):\n",
    "    print(*c[i])"
   ]
  },
  {
   "cell_type": "code",
   "execution_count": 2,
   "metadata": {},
   "outputs": [
    {
     "name": "stdout",
     "output_type": "stream",
     "text": [
      "m=2\n",
      "8 4\n",
      "1 8\n",
      "16\n"
     ]
    }
   ],
   "source": [
    "#80\n",
    "from random import randint\n",
    "m=int(input('m='))\n",
    "s=0\n",
    "a=[[randint(1,10) for i in range(m)] for j in range(m)]\n",
    "for i in range(m):\n",
    "    print(*a[i])\n",
    "for i in range(m):\n",
    "    for j in range(m):\n",
    "        if i==j:\n",
    "            s+=a[i][j]\n",
    "print(s)"
   ]
  },
  {
   "cell_type": "code",
   "execution_count": 1,
   "metadata": {},
   "outputs": [
    {
     "name": "stdout",
     "output_type": "stream",
     "text": [
      "m=2\n",
      "7 1\n",
      "8 7\n",
      "4.5\n"
     ]
    }
   ],
   "source": [
    "#81\n",
    "from random import randint\n",
    "m=int(input('m='))\n",
    "s=0\n",
    "a=[[randint(1,10) for i in range(m)] for j in range(m)]\n",
    "for i in range(m):\n",
    "    print(*a[i])\n",
    "for i in range(m):\n",
    "    for j in range(m):\n",
    "        if abs(i-j)==1:\n",
    "            s+=a[i][j]\n",
    "print(s/(2*(m-1)))"
   ]
  },
  {
   "cell_type": "code",
   "execution_count": 20,
   "metadata": {},
   "outputs": [
    {
     "name": "stdout",
     "output_type": "stream",
     "text": [
      "m=4\n",
      "5 7 7 1\n",
      "7 3 5 7\n",
      "5 6 9 9\n",
      "2 1 4 8\n",
      "\n",
      "[1, 14, 21, 17, 6, 2]\n"
     ]
    }
   ],
   "source": [
    "#82\n",
    "from random import randint\n",
    "m=int(input('m='))\n",
    "a=[[randint(1,9) for i in range(m)] for j in range(m)]\n",
    "for i in range(m):\n",
    "    print(*a[i])\n",
    "print()\n",
    "k=m-1\n",
    "u=[]\n",
    "v=[]\n",
    "for i in range(m-1):\n",
    "    S=0;s=0\n",
    "    x=0;y=i+1\n",
    "    z=i+1;t=0\n",
    "    for j in range(k):\n",
    "        s+=a[x][y]\n",
    "        x+=1\n",
    "        y+=1\n",
    "        \n",
    "    for j in range(k):\n",
    "        S+=a[z][t]\n",
    "        z+=1\n",
    "        t+=1\n",
    "    k-=1\n",
    "    u.append(s)\n",
    "    v.append(S)\n",
    "u.reverse()\n",
    "print(u+v)"
   ]
  },
  {
   "cell_type": "code",
   "execution_count": 21,
   "metadata": {},
   "outputs": [
    {
     "name": "stdout",
     "output_type": "stream",
     "text": [
      "m=4\n",
      "2 1 5 9\n",
      "5 3 9 1\n",
      "5 7 4 9\n",
      "2 4 2 5\n",
      "\n",
      "[2, 6, 13, 9, 11, 5]\n"
     ]
    }
   ],
   "source": [
    "#83\n",
    "from random import randint\n",
    "m=int(input('m='))\n",
    "a=[[randint(1,9) for i in range(m)] for j in range(m)]\n",
    "for i in range(m):\n",
    "    print(*a[i])\n",
    "print()\n",
    "k=m-1\n",
    "u=[]\n",
    "v=[]\n",
    "for i in range(m-1):\n",
    "    S=0;s=0\n",
    "    x=0;y=m-2-i\n",
    "    z=i+1;t=m-1\n",
    "    for j in range(k):\n",
    "        s+=a[x][y]\n",
    "        x+=1\n",
    "        y-=1\n",
    "        \n",
    "    for j in range(k):\n",
    "        S+=a[z][t]\n",
    "        z+=1\n",
    "        t-=1\n",
    "    k-=1\n",
    "    u.append(s)\n",
    "    v.append(S)\n",
    "u.reverse()\n",
    "print(u+v)"
   ]
  },
  {
   "cell_type": "code",
   "execution_count": 22,
   "metadata": {},
   "outputs": [
    {
     "name": "stdout",
     "output_type": "stream",
     "text": [
      "m=4\n",
      "5 1 4 8\n",
      "7 9 1 2\n",
      "8 3 1 2\n",
      "3 6 1 3\n",
      "\n",
      "[8.0, 3.0, 1.3333333333333333, 3.6666666666666665, 7.0, 3.0]\n"
     ]
    }
   ],
   "source": [
    "#84\n",
    "from random import randint\n",
    "m=int(input('m='))\n",
    "a=[[randint(1,9) for i in range(m)] for j in range(m)]\n",
    "for i in range(m):\n",
    "    print(*a[i])\n",
    "print()\n",
    "k=m-1\n",
    "u=[]\n",
    "v=[]\n",
    "for i in range(m-1):\n",
    "    S=0;s=0\n",
    "    x=0;y=i+1\n",
    "    z=i+1;t=0\n",
    "    for j in range(k):\n",
    "        s+=a[x][y]\n",
    "        x+=1\n",
    "        y+=1\n",
    "    s/=x    \n",
    "    for j in range(k):\n",
    "        S+=a[z][t]\n",
    "        z+=1\n",
    "        t+=1\n",
    "    S/=t\n",
    "    k-=1\n",
    "    u.append(s)\n",
    "    v.append(S)\n",
    "u.reverse()\n",
    "print(u+v)"
   ]
  },
  {
   "cell_type": "code",
   "execution_count": 23,
   "metadata": {},
   "outputs": [
    {
     "name": "stdout",
     "output_type": "stream",
     "text": [
      "m=4\n",
      "6 5 8 2\n",
      "6 2 9 9\n",
      "3 2 1 1\n",
      "6 3 9 2\n",
      "\n",
      "[6.0, 5.5, 4.333333333333333, 4.333333333333333, 3.3333333333333335, 0.6666666666666666]\n"
     ]
    }
   ],
   "source": [
    "#85\n",
    "from random import randint\n",
    "m=int(input('m='))\n",
    "a=[[randint(1,9) for i in range(m)] for j in range(m)]\n",
    "for i in range(m):\n",
    "    print(*a[i])\n",
    "print()\n",
    "k=m-1\n",
    "u=[]\n",
    "v=[]\n",
    "for i in range(m-1):\n",
    "    S=0;s=0\n",
    "    x=0;y=m-2-i\n",
    "    z=i+1;t=m-1\n",
    "    for j in range(k):\n",
    "        s+=a[x][y]\n",
    "        x+=1\n",
    "        y-=1\n",
    "    s/=x    \n",
    "    for j in range(k):\n",
    "        S+=a[z][t]\n",
    "        z+=1\n",
    "        t-=1\n",
    "    S/=(z-1)\n",
    "    k-=1\n",
    "    u.append(s)\n",
    "    v.append(S)\n",
    "u.reverse()\n",
    "print(u+v)"
   ]
  },
  {
   "cell_type": "code",
   "execution_count": 7,
   "metadata": {},
   "outputs": [
    {
     "name": "stdout",
     "output_type": "stream",
     "text": [
      "m=5\n",
      "5 6 6 8 8\n",
      "9 5 2 3 2\n",
      "5 7 1 9 3\n",
      "9 4 5 2 8\n",
      "2 7 2 5 7\n",
      "--------------\n",
      "5 0 0 0 0\n",
      "9 5 0 0 0\n",
      "5 7 1 0 0\n",
      "9 4 5 2 0\n",
      "2 7 2 5 7\n"
     ]
    }
   ],
   "source": [
    "#92_a\n",
    "from random import randint\n",
    "m=int(input('m='))\n",
    "a=[[randint(1,9) for i in range(m)] for j in range(m)]\n",
    "for i in range(m):\n",
    "    print(*a[i])\n",
    "k=1\n",
    "print('--------------')\n",
    "for i in range(m):\n",
    "    for j in range(k,m):\n",
    "        a[i][j]=0\n",
    "    k+=1\n",
    "for i in range(m):\n",
    "    print(*a[i])"
   ]
  },
  {
   "cell_type": "code",
   "execution_count": 24,
   "metadata": {},
   "outputs": [
    {
     "name": "stdout",
     "output_type": "stream",
     "text": [
      "m=5\n",
      "7 5 7 7 3\n",
      "2 1 4 8 2\n",
      "7 6 5 1 4\n",
      "2 3 3 7 2\n",
      "9 6 2 1 4\n",
      "\n",
      "[3, 2, 4, 1, 6, 7, 6, 9]\n"
     ]
    }
   ],
   "source": [
    "#86\n",
    "from random import randint\n",
    "m=int(input('m='))\n",
    "a=[[randint(1,9) for i in range(m)] for j in range(m)]\n",
    "for i in range(m):\n",
    "    print(*a[i])\n",
    "print()\n",
    "k=m-1\n",
    "u=[]\n",
    "v=[]\n",
    "for i in range(m-1):\n",
    "    S=0;s=0\n",
    "    x=0;y=i+1\n",
    "    z=i+1;t=0\n",
    "    g=True\n",
    "    h=True\n",
    "    for j in range(k):\n",
    "        if g:\n",
    "            min1=a[x][y]\n",
    "            g=False\n",
    "        if min1>a[x][y]:\n",
    "            min1=a[x][y]\n",
    "        x+=1\n",
    "        y+=1\n",
    "        \n",
    "    for j in range(k):\n",
    "        if h:\n",
    "            min2=a[z][t]\n",
    "            h=False\n",
    "        if min2<a[z][t]:\n",
    "            min2=a[z][t]\n",
    "        z+=1\n",
    "        t+=1\n",
    "    k-=1\n",
    "    u.append(min1)\n",
    "    v.append(min2)\n",
    "u.reverse()\n",
    "print(u+v)"
   ]
  },
  {
   "cell_type": "code",
   "execution_count": 25,
   "metadata": {},
   "outputs": [
    {
     "name": "stdout",
     "output_type": "stream",
     "text": [
      "m=4\n",
      "5 2 2 3\n",
      "1 1 2 5\n",
      "7 5 1 7\n",
      "9 4 1 3\n",
      "\n",
      "[5, 2, 7, 5, 7, 3]\n"
     ]
    }
   ],
   "source": [
    "#87\n",
    "from random import randint\n",
    "m=int(input('m='))\n",
    "a=[[randint(1,9) for i in range(m)] for j in range(m)]\n",
    "for i in range(m):\n",
    "    print(*a[i])\n",
    "print()\n",
    "k=m-1\n",
    "u=[]\n",
    "v=[]\n",
    "for i in range(m-1):\n",
    "    S=0;s=0\n",
    "    x=0;y=m-2-i\n",
    "    z=i+1;t=m-1\n",
    "    g=True\n",
    "    h=True\n",
    "    for j in range(k):\n",
    "        if g:\n",
    "            max1=a[x][y]\n",
    "            g=False\n",
    "        if max1<a[x][y]:\n",
    "            max1=a[x][y]\n",
    "        x+=1\n",
    "        y-=1\n",
    "        \n",
    "    for j in range(k):\n",
    "        if h:\n",
    "            max2=a[z][t]\n",
    "            h=False\n",
    "        if max2<a[z][t]:\n",
    "            max2=a[z][t]\n",
    "        z+=1\n",
    "        t-=1\n",
    "    k-=1\n",
    "    u.append(max1)\n",
    "    v.append(max2)\n",
    "u.reverse()\n",
    "print(u+v)"
   ]
  },
  {
   "cell_type": "code",
   "execution_count": 27,
   "metadata": {},
   "outputs": [
    {
     "name": "stdout",
     "output_type": "stream",
     "text": [
      "m=4\n",
      "5 2 1 5\n",
      "7 6 4 5\n",
      "8 1 7 5\n",
      "1 2 7 6\n",
      "--------------\n",
      "0 2 1 5\n",
      "0 0 4 5\n",
      "0 0 0 5\n",
      "0 0 0 0\n"
     ]
    }
   ],
   "source": [
    "#88\n",
    "from random import randint\n",
    "m=int(input('m='))\n",
    "a=[[randint(1,9) for i in range(m)] for j in range(m)]\n",
    "for i in range(m):\n",
    "    print(*a[i])\n",
    "k=1\n",
    "print('--------------')\n",
    "for i in range(m):\n",
    "    for j in range(k):\n",
    "        a[i][j]=0\n",
    "    k+=1\n",
    "for i in range(m):\n",
    "    print(*a[i])"
   ]
  },
  {
   "cell_type": "code",
   "execution_count": 29,
   "metadata": {},
   "outputs": [
    {
     "name": "stdout",
     "output_type": "stream",
     "text": [
      "m=4\n",
      "9 1 7 2\n",
      "7 1 4 4\n",
      "1 2 7 4\n",
      "9 4 8 7\n",
      "--------------\n",
      "0 0 0 0\n",
      "0 0 0 4\n",
      "0 0 7 4\n",
      "0 4 8 7\n"
     ]
    }
   ],
   "source": [
    "#89\n",
    "from random import randint\n",
    "m=int(input('m='))\n",
    "a=[[randint(1,9) for i in range(m)] for j in range(m)]\n",
    "for i in range(m):\n",
    "    print(*a[i])\n",
    "k=m\n",
    "print('--------------')\n",
    "for i in range(m):\n",
    "    for j in range(k):\n",
    "        a[i][j]=0\n",
    "    k-=1\n",
    "for i in range(m):\n",
    "    print(*a[i])"
   ]
  },
  {
   "cell_type": "code",
   "execution_count": 34,
   "metadata": {},
   "outputs": [
    {
     "name": "stdout",
     "output_type": "stream",
     "text": [
      "m=5\n",
      "6 2 8 2 7\n",
      "1 1 2 9 3\n",
      "8 4 1 5 9\n",
      "5 3 5 1 1\n",
      "2 9 2 6 9\n",
      "--------------\n",
      "6 2 8 2 0\n",
      "1 1 2 0 0\n",
      "8 4 0 0 0\n",
      "5 0 0 0 0\n",
      "0 0 0 0 0\n"
     ]
    }
   ],
   "source": [
    "#90\n",
    "from random import randint\n",
    "m=int(input('m='))\n",
    "a=[[randint(1,9) for i in range(m)] for j in range(m)]\n",
    "for i in range(m):\n",
    "    print(*a[i])\n",
    "k=m\n",
    "print('--------------')\n",
    "for i in range(m):\n",
    "    for j in range(m-1,k-2,-1):\n",
    "        a[i][j]=0\n",
    "    k-=1\n",
    "for i in range(m):\n",
    "    print(*a[i])"
   ]
  },
  {
   "cell_type": "code",
   "execution_count": 38,
   "metadata": {},
   "outputs": [
    {
     "name": "stdout",
     "output_type": "stream",
     "text": [
      "m=4\n",
      "7 5 1 2\n",
      "8 6 6 8\n",
      "2 8 6 6\n",
      "1 2 3 1\n",
      "--------------\n",
      "0 0 0 0\n",
      "8 0 0 0\n",
      "2 8 0 0\n",
      "1 2 3 0\n"
     ]
    }
   ],
   "source": [
    "#91\n",
    "from random import randint\n",
    "m=int(input('m='))\n",
    "a=[[randint(1,9) for i in range(m)] for j in range(m)]\n",
    "for i in range(m):\n",
    "    print(*a[i])\n",
    "print('--------------')\n",
    "for i in range(m):\n",
    "    for j in range(i,m):\n",
    "        a[i][j]=0\n",
    "for i in range(m):\n",
    "    print(*a[i])"
   ]
  },
  {
   "cell_type": "code",
   "execution_count": 26,
   "metadata": {},
   "outputs": [
    {
     "name": "stdout",
     "output_type": "stream",
     "text": [
      "m=4\n",
      "5 5 2 8\n",
      "5 4 2 4\n",
      "5 4 6 1\n",
      "5 7 8 6\n",
      "--------------\n",
      "0 5 2 8\n",
      "0 0 2 4\n",
      "0 0 0 1\n",
      "0 0 0 0\n"
     ]
    }
   ],
   "source": [
    "#92_b\n",
    "from random import randint\n",
    "m=int(input('m='))\n",
    "a=[[randint(1,9) for i in range(m)] for j in range(m)]\n",
    "for i in range(m):\n",
    "    print(*a[i])\n",
    "k=1\n",
    "print('--------------')\n",
    "for i in range(m):\n",
    "    for j in range(k):\n",
    "        a[i][j]=0\n",
    "    k+=1\n",
    "for i in range(m):\n",
    "    print(*a[i])"
   ]
  },
  {
   "cell_type": "code",
   "execution_count": 45,
   "metadata": {},
   "outputs": [
    {
     "name": "stdout",
     "output_type": "stream",
     "text": [
      "m=5\n",
      "2 2 1 9 6\n",
      "3 9 8 9 3\n",
      "3 6 4 4 6\n",
      "8 3 3 1 5\n",
      "1 4 5 1 1\n",
      "--------------\n",
      "0 0 0 0 0\n",
      "3 0 0 0 3\n",
      "3 6 0 4 6\n",
      "8 3 3 1 5\n",
      "1 4 5 1 1\n"
     ]
    }
   ],
   "source": [
    "#92_e\n",
    "from random import randint\n",
    "m=int(input('m='))\n",
    "a=[[randint(1,9) for i in range(m)] for j in range(m)]\n",
    "for i in range(m):\n",
    "    print(*a[i])\n",
    "k=0\n",
    "print('--------------')\n",
    "for i in range(m//2+1):\n",
    "    for j in range(k,m//2+1):\n",
    "        a[i][j]=0\n",
    "    k+=1\n",
    "l=m//2+2\n",
    "for i in range(m//2-1,-1,-1):\n",
    "    for j in range(m//2+1,l):\n",
    "        a[i][j]=0\n",
    "    l+=1\n",
    "for i in range(m):\n",
    "    print(*a[i])"
   ]
  },
  {
   "cell_type": "code",
   "execution_count": 29,
   "metadata": {},
   "outputs": [
    {
     "name": "stdout",
     "output_type": "stream",
     "text": [
      "m=5\n",
      "7 4 3 3 6\n",
      "1 6 5 9 7\n",
      "4 8 4 8 6\n",
      "3 1 1 1 2\n",
      "4 9 9 9 7\n",
      "--------------\n",
      "7 4 3 3 0\n",
      "1 6 5 0 0\n",
      "4 8 0 0 0\n",
      "3 1 1 0 0\n",
      "4 9 9 9 0\n"
     ]
    }
   ],
   "source": [
    "#93\n",
    "from random import randint\n",
    "m=int(input('m='))\n",
    "a=[[randint(1,9) for i in range(m)] for j in range(m)]\n",
    "for i in range(m):\n",
    "    print(*a[i])\n",
    "k=m-2\n",
    "print('--------------')\n",
    "for i in range(m//2+1):\n",
    "    for j in range(m-1,k,-1):\n",
    "        a[i][j]=0\n",
    "    k-=1\n",
    "l=m//2+1\n",
    "for i in range(m//2+1,m):\n",
    "    for j in range(l,m):\n",
    "        a[i][j]=0\n",
    "    l+=1\n",
    "for i in range(m):\n",
    "    print(*a[i])"
   ]
  },
  {
   "cell_type": "code",
   "execution_count": 34,
   "metadata": {},
   "outputs": [
    {
     "name": "stdout",
     "output_type": "stream",
     "text": [
      "m=7\n",
      "3 5 4 4 8 6 7\n",
      "1 5 2 8 7 1 7\n",
      "1 8 9 6 5 6 3\n",
      "7 5 1 8 2 4 3\n",
      "3 4 4 6 8 1 8\n",
      "1 8 4 1 2 9 4\n",
      "7 9 2 8 3 2 6\n",
      "--------------\n",
      "0 5 4 4 8 6 7\n",
      "0 0 2 8 7 1 7\n",
      "0 0 0 6 5 6 3\n",
      "0 0 0 0 2 4 3\n",
      "0 0 0 6 8 1 8\n",
      "0 0 4 1 2 9 4\n",
      "0 9 2 8 3 2 6\n"
     ]
    }
   ],
   "source": [
    "#94\n",
    "from random import randint\n",
    "m=int(input('m='))\n",
    "a=[[randint(1,9) for i in range(m)] for j in range(m)]\n",
    "for i in range(m):\n",
    "    print(*a[i])\n",
    "k=1\n",
    "print('--------------')\n",
    "for i in range(m//2+1):\n",
    "    for j in range(k):\n",
    "        a[i][j]=0\n",
    "    k+=1\n",
    "l=m//2-1\n",
    "for i in range(m//2+1,m):\n",
    "    for j in range(l+1):\n",
    "        a[i][j]=0\n",
    "    l-=1\n",
    "for i in range(m):\n",
    "    print(*a[i])"
   ]
  },
  {
   "cell_type": "code",
   "execution_count": 55,
   "metadata": {},
   "outputs": [
    {
     "name": "stdout",
     "output_type": "stream",
     "text": [
      "m=4\n",
      "1 8 8 3\n",
      "2 1 7 9\n",
      "8 8 2 1\n",
      "7 5 9 2\n",
      "--------------\n",
      "1 8 8 3\n",
      "2 1 7 9\n",
      "8 8 2 1\n",
      "0 0 0 0\n"
     ]
    }
   ],
   "source": [
    "#95\n",
    "from random import randint\n",
    "m=int(input('m='))\n",
    "a=[[randint(1,9) for i in range(m)] for j in range(m)]\n",
    "for i in range(m):\n",
    "    print(*a[i])\n",
    "k=m//2\n",
    "z=0\n",
    "if m%2==0:\n",
    "    z=1\n",
    "print('--------------')\n",
    "for i in range(m//2+z,m):\n",
    "    for j in range(k-z-1,):\n",
    "        a[i][j]=0\n",
    "    k+=1\n",
    "\n",
    "for i in a:\n",
    "    print(*i)"
   ]
  },
  {
   "cell_type": "code",
   "execution_count": 6,
   "metadata": {},
   "outputs": [
    {
     "name": "stdout",
     "output_type": "stream",
     "text": [
      "m=3\n",
      "80 71 69\n",
      "37 73 74\n",
      "65 41 63\n",
      "--------------\n",
      "80 37 65\n",
      "71 73 41\n",
      "69 74 63\n"
     ]
    }
   ],
   "source": [
    "#96\n",
    "from random import randint\n",
    "m=int(input('m='))\n",
    "a=[[randint(10,99) for i in range(m)] for j in range(m)]\n",
    "for i in range(m):\n",
    "    print(*a[i])\n",
    "k=1\n",
    "print('--------------')\n",
    "for i in range(m):\n",
    "    for j in range(k,m):\n",
    "        a[i][j],a[j][i]=a[j][i],a[i][j]\n",
    "    k+=1\n",
    "for i in range(m):\n",
    "    print(*a[i])"
   ]
  },
  {
   "cell_type": "code",
   "execution_count": 11,
   "metadata": {},
   "outputs": [
    {
     "name": "stdout",
     "output_type": "stream",
     "text": [
      "m=5\n",
      "20 87 22 50 29\n",
      "23 29 22 18 90\n",
      "80 89 26 79 34\n",
      "58 24 91 44 37\n",
      "19 32 69 15 63\n",
      "--------------\n",
      "63 37 34 90 29\n",
      "15 44 79 18 50\n",
      "69 91 26 22 22\n",
      "32 24 89 29 87\n",
      "19 58 80 23 20\n"
     ]
    }
   ],
   "source": [
    "#97\n",
    "from random import randint\n",
    "m=int(input('m='))\n",
    "a=[[randint(10,99) for i in range(m)] for j in range(m)]\n",
    "for i in range(m):\n",
    "    print(*a[i])\n",
    "k=m\n",
    "print('--------------')\n",
    "for i in range(m):\n",
    "    for j in range(k-1):\n",
    "        a[i][j],a[m-j-1][m-i-1]=a[m-j-1][m-i-1],a[i][j]\n",
    "    k-=1\n",
    "for i in range(m):\n",
    "    print(*a[i])"
   ]
  },
  {
   "cell_type": "code",
   "execution_count": 28,
   "metadata": {},
   "outputs": [
    {
     "name": "stdout",
     "output_type": "stream",
     "text": [
      "m=4\n",
      "2 1 8 6\n",
      "6 3 7 1\n",
      "9 6 1 4\n",
      "5 6 7 8\n",
      "\n",
      "8 7 6 5\n",
      "4 1 6 9\n",
      "1 7 3 6\n",
      "6 8 1 2\n"
     ]
    }
   ],
   "source": [
    "#98\n",
    "from random import randint\n",
    "m=int(input('m='))\n",
    "a=[[randint(1,9) for i in range(m)] for j in range(m)]\n",
    "\n",
    "for i in range(m):\n",
    "    print(*a[i])\n",
    "print()\n",
    "\n",
    "for i in range(m):\n",
    "    a[i].reverse()\n",
    "k=1\n",
    "if m %2 == 0:\n",
    "    k=0\n",
    "    \n",
    "for i in range(m//2+k):\n",
    "    a[i],a[m-i-1]=a[m-i-1],a[i]\n",
    "    \n",
    "for i in range(m):\n",
    "    print(*a[i])\n"
   ]
  },
  {
   "cell_type": "code",
   "execution_count": 22,
   "metadata": {},
   "outputs": [
    {
     "name": "stdout",
     "output_type": "stream",
     "text": [
      "m=4\n",
      "3 2 5 9\n",
      "1 7 8 9\n",
      "7 2 6 9\n",
      "4 7 5 4\n",
      "\n",
      "4 5 7 4\n",
      "9 6 2 7\n",
      "9 8 7 1\n",
      "9 5 2 3\n"
     ]
    }
   ],
   "source": [
    "#98\n",
    "from random import randint\n",
    "m=int(input('m='))\n",
    "a=[[randint(1,9) for i in range(m)] for j in range(m)]\n",
    "\n",
    "for i in a:\n",
    "    print(*i)\n",
    "print()\n",
    "\n",
    "a=[[a[m-i-1][j] for j in range(m-1,-1,-1)] for i in range(m)]\n",
    "\n",
    "for i in range(m):\n",
    "    print(*a[i])"
   ]
  },
  {
   "cell_type": "code",
   "execution_count": 7,
   "metadata": {},
   "outputs": [
    {
     "name": "stdout",
     "output_type": "stream",
     "text": [
      "m=4\n",
      "6 10 7 2\n",
      "6 6 1 3\n",
      "3 3 8 5\n",
      "2 3 2 4\n",
      "\n",
      "2 3 5 4\n",
      "7 1 8 2\n",
      "10 6 3 3\n",
      "6 6 3 2\n"
     ]
    }
   ],
   "source": [
    "#99\n",
    "from random import randint\n",
    "m=int(input('m='))\n",
    "a=[[randint(1,10) for i in range(m)] for i in range(m)]\n",
    "\n",
    "for i in a:\n",
    "    print(*i)\n",
    "print() \n",
    "\n",
    "a=[[a[i][j] for i in range(m)] for j in range(m-1,-1,-1)]\n",
    "\n",
    "for i in a:\n",
    "    print(*i)"
   ]
  },
  {
   "cell_type": "code",
   "execution_count": 7,
   "metadata": {},
   "outputs": [
    {
     "name": "stdout",
     "output_type": "stream",
     "text": [
      "m=4\n",
      "10 11 12 13\n",
      "14 15 16 17\n",
      "18 19 20 21\n",
      "22 23 24 25\n",
      "\n",
      "22 18 14 10\n",
      "23 19 15 11\n",
      "24 20 16 12\n",
      "25 21 17 13\n"
     ]
    }
   ],
   "source": [
    "#100\n",
    "m=int(input('m='))\n",
    "a=[]\n",
    "k=10\n",
    "for i in range(m):\n",
    "    s=[]\n",
    "    for j in range(m):\n",
    "        s.append(k)\n",
    "        k+=1\n",
    "    a.append(s)\n",
    "for i in range(m):\n",
    "    print(*a[i])\n",
    "print()\n",
    "\n",
    "for i in range(m//2):\n",
    "    for j in range(i,m-i-1):\n",
    "        b = a[i][j]\n",
    "        a[i][j] = a[m - 1 - j][i]\n",
    "        a[m - 1 - j][i] = a[m - 1 - i][m - 1 - j]\n",
    "        a[m - 1 - i][m - 1 - j] = a[j][m - 1 - i]\n",
    "        a[j][m - 1 - i] = b\n",
    "\n",
    "for i in range(m):\n",
    "    print(*a[i])"
   ]
  },
  {
   "cell_type": "code",
   "execution_count": 4,
   "metadata": {},
   "outputs": [
    {
     "name": "stdout",
     "output_type": "stream",
     "text": [
      "m=4\n",
      "2 3 4 1\n",
      "2 9 4 1\n",
      "6 1 5 5\n",
      "7 3 4 1\n",
      "\n",
      "7 6 2 2\n",
      "3 1 9 3\n",
      "4 5 4 4\n",
      "1 5 1 1\n"
     ]
    }
   ],
   "source": [
    "#100_1\n",
    "from random import randint\n",
    "m=int(input('m='))\n",
    "a=[[randint(1,9) for i in range(m)] for i in range(m)]\n",
    "for i in a:\n",
    "    print(*i)\n",
    "print()\n",
    "a=[[a[j][i] for j in range(m-1,-1,-1)] for i in range(m)]\n",
    "for i in a:\n",
    "    print(*i)"
   ]
  }
 ],
 "metadata": {
  "kernelspec": {
   "display_name": "Python 3",
   "language": "python",
   "name": "python3"
  },
  "language_info": {
   "codemirror_mode": {
    "name": "ipython",
    "version": 3
   },
   "file_extension": ".py",
   "mimetype": "text/x-python",
   "name": "python",
   "nbconvert_exporter": "python",
   "pygments_lexer": "ipython3",
   "version": "3.8.5"
  }
 },
 "nbformat": 4,
 "nbformat_minor": 4
}

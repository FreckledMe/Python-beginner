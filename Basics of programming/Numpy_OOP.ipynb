{
 "cells": [
  {
   "cell_type": "code",
   "execution_count": 18,
   "metadata": {},
   "outputs": [],
   "source": [
    "import numpy as np\n",
    "from random import randint"
   ]
  },
  {
   "cell_type": "code",
   "execution_count": 20,
   "metadata": {},
   "outputs": [
    {
     "name": "stdout",
     "output_type": "stream",
     "text": [
      "['msalom hello kattaesalom hello kattansalom hello kattagsalom hello kattaa'\n",
      " 'usalom hello kattalsalom hello kattaksalom hello kattaasalom hello kattan']\n"
     ]
    }
   ],
   "source": [
    "a = 'salom hello katta'\n",
    "b = np.array(['menga','ulkan'])\n",
    "c = np.char.join(a,b)\n",
    "print(c)"
   ]
  },
  {
   "cell_type": "code",
   "execution_count": 26,
   "metadata": {},
   "outputs": [
    {
     "data": {
      "text/plain": [
       "array([' Katta ', ' Ulka'], dtype='<U7')"
      ]
     },
     "execution_count": 26,
     "metadata": {},
     "output_type": "execute_result"
    }
   ],
   "source": [
    "np.char.strip([' Katta ',' Ulkan'],'n')"
   ]
  },
  {
   "cell_type": "code",
   "execution_count": 30,
   "metadata": {},
   "outputs": [
    {
     "data": {
      "text/plain": [
       "array([' Kbtta Ulkan'], dtype='<U12')"
      ]
     },
     "execution_count": 30,
     "metadata": {},
     "output_type": "execute_result"
    }
   ],
   "source": [
    "np.char.replace([' Katta Ulkan'],'a','b',1)"
   ]
  },
  {
   "cell_type": "code",
   "execution_count": 50,
   "metadata": {},
   "outputs": [
    {
     "data": {
      "text/plain": [
       "array([0, 0])"
      ]
     },
     "execution_count": 50,
     "metadata": {},
     "output_type": "execute_result"
    }
   ],
   "source": [
    "np.char.count([' Katta ',' Ulkan'],['a','n'],[0,1],[2,3])"
   ]
  },
  {
   "cell_type": "code",
   "execution_count": 52,
   "metadata": {},
   "outputs": [
    {
     "data": {
      "text/plain": [
       "array([0, 1, 0])"
      ]
     },
     "execution_count": 52,
     "metadata": {},
     "output_type": "execute_result"
    }
   ],
   "source": [
    "np.char.find(['sdf','dslfad','sdhkjg'],'s')"
   ]
  },
  {
   "cell_type": "code",
   "execution_count": 57,
   "metadata": {},
   "outputs": [
    {
     "data": {
      "text/plain": [
       "array([0, 1, 0])"
      ]
     },
     "execution_count": 57,
     "metadata": {},
     "output_type": "execute_result"
    }
   ],
   "source": [
    "np.char.index(['sdf','dslfad','sdhkjg'],'s')"
   ]
  },
  {
   "cell_type": "code",
   "execution_count": 59,
   "metadata": {},
   "outputs": [
    {
     "data": {
      "text/plain": [
       "array([ True, False])"
      ]
     },
     "execution_count": 59,
     "metadata": {},
     "output_type": "execute_result"
    }
   ],
   "source": [
    "np.char.endswith(['Katta','ulkan'],['a','b'],[1,2],[5,4])"
   ]
  },
  {
   "cell_type": "code",
   "execution_count": 62,
   "metadata": {},
   "outputs": [
    {
     "data": {
      "text/plain": [
       "array(['kattakattakatta'], dtype='<U15')"
      ]
     },
     "execution_count": 62,
     "metadata": {},
     "output_type": "execute_result"
    }
   ],
   "source": [
    "np.char.multiply(['katta'],3)"
   ]
  },
  {
   "cell_type": "code",
   "execution_count": 2,
   "metadata": {},
   "outputs": [],
   "source": [
    "import cv2\n",
    "import numpy as np"
   ]
  },
  {
   "cell_type": "code",
   "execution_count": 6,
   "metadata": {},
   "outputs": [
    {
     "name": "stdout",
     "output_type": "stream",
     "text": [
      "[[[0.7254902  0.95294118 0.18039216]\n",
      "  [0.56470588 0.3254902  0.89019608]\n",
      "  [0.37647059 0.72941176 0.90588235]\n",
      "  ...\n",
      "  [0.29803922 0.9372549  0.56078431]\n",
      "  [0.63921569 0.17647059 0.15686275]\n",
      "  [0.84313725 0.8627451  0.97254902]]\n",
      "\n",
      " [[0.63921569 0.26666667 0.24705882]\n",
      "  [0.24705882 0.84705882 0.91372549]\n",
      "  [0.1254902  0.01568627 0.46666667]\n",
      "  ...\n",
      "  [0.00392157 0.90980392 0.14117647]\n",
      "  [0.60392157 0.07843137 0.81960784]\n",
      "  [0.81568627 0.40784314 0.76078431]]\n",
      "\n",
      " [[0.87843137 0.70588235 0.8627451 ]\n",
      "  [0.48235294 0.97647059 0.33333333]\n",
      "  [0.59215686 0.53333333 0.40784314]\n",
      "  ...\n",
      "  [0.70588235 0.4745098  0.55294118]\n",
      "  [0.96862745 0.40784314 0.22352941]\n",
      "  [0.82352941 0.27058824 0.16470588]]\n",
      "\n",
      " ...\n",
      "\n",
      " [[0.85882353 0.7372549  0.69019608]\n",
      "  [0.43137255 0.59607843 0.88235294]\n",
      "  [0.08627451 0.56470588 0.02745098]\n",
      "  ...\n",
      "  [0.4        0.94509804 0.96078431]\n",
      "  [0.09019608 0.94509804 0.89411765]\n",
      "  [0.63529412 0.49411765 0.80784314]]\n",
      "\n",
      " [[0.21176471 0.43137255 0.36470588]\n",
      "  [0.06666667 0.1254902  0.25490196]\n",
      "  [0.45882353 0.5372549  0.49019608]\n",
      "  ...\n",
      "  [0.14117647 0.60784314 0.15686275]\n",
      "  [0.64313725 0.1372549  0.        ]\n",
      "  [0.81176471 0.52941176 0.87058824]]\n",
      "\n",
      " [[0.61960784 0.81568627 0.92156863]\n",
      "  [0.03137255 0.78039216 0.48627451]\n",
      "  [0.74509804 0.34117647 0.15294118]\n",
      "  ...\n",
      "  [0.56078431 0.1372549  0.19215686]\n",
      "  [0.09803922 0.20392157 0.76862745]\n",
      "  [0.56862745 0.65098039 0.89411765]]]\n"
     ]
    }
   ],
   "source": [
    "a=np.random.randint(0,255,(400,400,3))\n",
    "a=a.astype('float')/255.0\n",
    "print(a)\n",
    "cv2.imshow('Dars',a)\n",
    "cv2.waitKey(0)\n",
    "cv2.destroyAllWindows()"
   ]
  },
  {
   "cell_type": "code",
   "execution_count": 18,
   "metadata": {},
   "outputs": [
    {
     "name": "stdout",
     "output_type": "stream",
     "text": [
      "[[136 116  44 ...  23  95   9]\n",
      " [233 242 146 ... 151 176 115]\n",
      " [148 218 118 ...  47  71 134]\n",
      " ...\n",
      " [154  43 153 ...  41 132  21]\n",
      " [124  39 217 ... 216 204  78]\n",
      " [ 30  60 181 ... 216 103 197]]\n",
      "\n",
      "[[  20   72  -44 ...  -72   86    0]\n",
      " [  -9   96  -53 ...  -25   61    0]\n",
      " [ -70  100  -53 ...  -24  -63    0]\n",
      " ...\n",
      " [ 111 -110  148 ...  -91  111    0]\n",
      " [  85 -178  196 ...   12  126    0]\n",
      " [ -30 -121   87 ...  113  -94    0]]\n",
      "(100, 100)\n"
     ]
    }
   ],
   "source": [
    "a=np.random.randint(0,255,10000)\n",
    "a.resize(100,100)\n",
    "print(a)\n",
    "print()\n",
    "b=a[:,:-1]-a[:,1:]\n",
    "a[:,:-1] = b\n",
    "a[:,-1]=0\n",
    "print(a)\n",
    "print(a.shape)"
   ]
  },
  {
   "cell_type": "code",
   "execution_count": 4,
   "metadata": {},
   "outputs": [
    {
     "name": "stdout",
     "output_type": "stream",
     "text": [
      "[[202 215  60 ... 205 118 253]\n",
      " [163 226 251 ... 106 231  93]\n",
      " [ 89  70  24 ... 167 239   9]\n",
      " ...\n",
      " [ 91 124   9 ... 171 123 160]\n",
      " [229 107  97 ... 158  36 117]\n",
      " [230 241  62 ... 179 222 145]]\n",
      "\n",
      "[[  39  -11 -191 ...   99 -113  160]\n",
      " [  74  156  227 ...  -61   -8   84]\n",
      " [  66 -115  -79 ...  154  145 -162]\n",
      " ...\n",
      " [-138   17  -88 ...   13   87   43]\n",
      " [  -1 -134   35 ...  -21 -186  -28]\n",
      " [   0    0    0 ...    0    0    0]]\n",
      "(100, 100)\n"
     ]
    }
   ],
   "source": [
    "a=np.random.randint(0,255,10000)\n",
    "a.resize(100,100)\n",
    "print(a)\n",
    "print()\n",
    "b=a[:-1,:]-a[1:,:]\n",
    "a[:-1,:]=b\n",
    "a[-1,]=0\n",
    "print(a)\n",
    "print(a.shape)"
   ]
  },
  {
   "cell_type": "code",
   "execution_count": 9,
   "metadata": {},
   "outputs": [
    {
     "name": "stdout",
     "output_type": "stream",
     "text": [
      "[[1 2 3]\n",
      " [4 1 2]\n",
      " [3 4 2]\n",
      " [3 3 4]]\n",
      "\n",
      "[[1 2 3 4]\n",
      " [1 2 3 4]\n",
      " [2 3 3 4]]\n"
     ]
    }
   ],
   "source": [
    "a = np.array([[1,2,3,4],[1,2,3,4],[2,3,3,4]]).reshape(4,3)\n",
    "print(a)\n",
    "print()\n",
    "print(a.base)"
   ]
  },
  {
   "cell_type": "code",
   "execution_count": 17,
   "metadata": {},
   "outputs": [
    {
     "name": "stdout",
     "output_type": "stream",
     "text": [
      "[[[[ 1  2  3  4  5]\n",
      "   [ 6  7  8  9 10]]]]\n"
     ]
    }
   ],
   "source": [
    "a=np.array([[[1,2,3,4,5],[6,7,8,9,10]]],ndmin=4)\n",
    "print(a)"
   ]
  },
  {
   "cell_type": "code",
   "execution_count": 6,
   "metadata": {},
   "outputs": [
    {
     "name": "stdout",
     "output_type": "stream",
     "text": [
      "Machine parameters for float32\n",
      "---------------------------------------------------------------\n",
      "precision =   6   resolution = 1.0000000e-06\n",
      "machep =    -23   eps =        1.1920929e-07\n",
      "negep =     -24   epsneg =     5.9604645e-08\n",
      "minexp =   -126   tiny =       1.1754944e-38\n",
      "maxexp =    128   max =        3.4028235e+38\n",
      "nexp =        8   min =        -max\n",
      "---------------------------------------------------------------\n",
      "\n"
     ]
    }
   ],
   "source": [
    "print(np.finfo('float32'))"
   ]
  },
  {
   "cell_type": "code",
   "execution_count": 46,
   "metadata": {},
   "outputs": [
    {
     "name": "stdout",
     "output_type": "stream",
     "text": [
      "[[  31    6  117 ... -141  -75    5]\n",
      " [   5  -70 -150 ...   37  -20   80]\n",
      " [  36  -16  143 ...   68   16   -2]\n",
      " ...\n",
      " [ -65  -10   -4 ...  -22  -31 -112]\n",
      " [  43   -1    6 ...  -38  -66   93]\n",
      " [-169 -100   43 ...   90  -77  -74]]\n",
      "(999, 1000)\n"
     ]
    }
   ],
   "source": [
    "a=a[:-1]-a[1:]\n",
    "a+=[0]*1000\n",
    "print(a)\n",
    "print(a.shape)"
   ]
  },
  {
   "cell_type": "code",
   "execution_count": 47,
   "metadata": {},
   "outputs": [
    {
     "name": "stdout",
     "output_type": "stream",
     "text": [
      "[[213  90  60 ...  88 183 220]\n",
      " [ 65  45 184 ... 174 193  76]\n",
      " [158  94 156 ...  95 143 183]\n",
      " ...\n",
      " [249 115 120 ...  19  48 164]\n",
      " [ 93 238 191 ...  67  73 253]\n",
      " [ 47 207  49 ...  84 107  47]]\n"
     ]
    }
   ],
   "source": [
    "a=np.random.randint(0,255,1000000)\n",
    "a.resize((1000,1000))\n",
    "print(a)"
   ]
  },
  {
   "cell_type": "code",
   "execution_count": 49,
   "metadata": {},
   "outputs": [
    {
     "ename": "AttributeError",
     "evalue": "'numpy.ndarray' object has no attribute 'append'",
     "output_type": "error",
     "traceback": [
      "\u001b[1;31m---------------------------------------------------------------------------\u001b[0m",
      "\u001b[1;31mAttributeError\u001b[0m                            Traceback (most recent call last)",
      "\u001b[1;32m<ipython-input-49-9817053843f4>\u001b[0m in \u001b[0;36m<module>\u001b[1;34m\u001b[0m\n\u001b[0;32m      1\u001b[0m \u001b[0mb\u001b[0m\u001b[1;33m=\u001b[0m\u001b[0ma\u001b[0m\u001b[1;33m[\u001b[0m\u001b[1;33m:\u001b[0m\u001b[1;33m,\u001b[0m\u001b[1;33m:\u001b[0m\u001b[1;33m-\u001b[0m\u001b[1;36m1\u001b[0m\u001b[1;33m]\u001b[0m\u001b[1;33m-\u001b[0m\u001b[0ma\u001b[0m\u001b[1;33m[\u001b[0m\u001b[1;33m:\u001b[0m\u001b[1;33m,\u001b[0m\u001b[1;36m1\u001b[0m\u001b[1;33m:\u001b[0m\u001b[1;33m]\u001b[0m\u001b[1;33m\u001b[0m\u001b[1;33m\u001b[0m\u001b[0m\n\u001b[1;32m----> 2\u001b[1;33m \u001b[0ma\u001b[0m\u001b[1;33m.\u001b[0m\u001b[0mappend\u001b[0m\u001b[1;33m(\u001b[0m\u001b[1;36m0\u001b[0m\u001b[1;33m,\u001b[0m\u001b[0maxis\u001b[0m\u001b[1;33m=\u001b[0m\u001b[1;36m1\u001b[0m\u001b[1;33m)\u001b[0m\u001b[1;33m\u001b[0m\u001b[1;33m\u001b[0m\u001b[0m\n\u001b[0m\u001b[0;32m      3\u001b[0m \u001b[0mprint\u001b[0m\u001b[1;33m(\u001b[0m\u001b[0ma\u001b[0m\u001b[1;33m)\u001b[0m\u001b[1;33m\u001b[0m\u001b[1;33m\u001b[0m\u001b[0m\n\u001b[0;32m      4\u001b[0m \u001b[0mprint\u001b[0m\u001b[1;33m(\u001b[0m\u001b[0ma\u001b[0m\u001b[1;33m.\u001b[0m\u001b[0mshape\u001b[0m\u001b[1;33m)\u001b[0m\u001b[1;33m\u001b[0m\u001b[1;33m\u001b[0m\u001b[0m\n",
      "\u001b[1;31mAttributeError\u001b[0m: 'numpy.ndarray' object has no attribute 'append'"
     ]
    }
   ],
   "source": [
    "b=a[:,:-1]-a[:,1:]\n",
    "\n",
    "print(a)\n",
    "print(a.shape)"
   ]
  },
  {
   "cell_type": "code",
   "execution_count": 23,
   "metadata": {},
   "outputs": [
    {
     "name": "stdout",
     "output_type": "stream",
     "text": [
      "[[ -38    7    3 ...  123   -6    0]\n",
      " [ -34   -7  -18 ...  -60   80    0]\n",
      " [  97   -2  -17 ...   -8  125    0]\n",
      " ...\n",
      " [ -35   70  -56 ... -143   -9    0]\n",
      " [ -25   61 -155 ...  -16 -152    0]\n",
      " [-193  179   22 ... -187   61    0]]\n"
     ]
    }
   ],
   "source": [
    "for i in range(999):\n",
    "    a[:,i]-=a[:,i+1]\n",
    "a[:,-1]=0\n",
    "print(a)"
   ]
  },
  {
   "cell_type": "code",
   "execution_count": 25,
   "metadata": {},
   "outputs": [
    {
     "name": "stdout",
     "output_type": "stream",
     "text": [
      "[[-179   65  167 ...  105  -61   64]\n",
      " [  55  -61   -8 ... -197  -98  -51]\n",
      " [-120  104   -5 ...  207  185  -55]\n",
      " ...\n",
      " [  51 -109  -30 ... -170 -158   45]\n",
      " [ -39   81   90 ...  128   88   -8]\n",
      " [   0    0    0 ...    0    0    0]]\n"
     ]
    }
   ],
   "source": [
    "for i in range(999):\n",
    "    a[i,:]-=a[i+1,:]\n",
    "a[-1,:]=0\n",
    "print(a)"
   ]
  },
  {
   "cell_type": "code",
   "execution_count": 21,
   "metadata": {},
   "outputs": [
    {
     "name": "stdout",
     "output_type": "stream",
     "text": [
      "(1000, 1000)\n"
     ]
    }
   ],
   "source": [
    "print(a.shape)"
   ]
  },
  {
   "cell_type": "code",
   "execution_count": 11,
   "metadata": {},
   "outputs": [
    {
     "name": "stdout",
     "output_type": "stream",
     "text": [
      "73.54766737901014\n"
     ]
    }
   ],
   "source": [
    "print(np.std(a))"
   ]
  },
  {
   "cell_type": "code",
   "execution_count": 10,
   "metadata": {
    "run_control": {
     "marked": false
    }
   },
   "outputs": [
    {
     "name": "stdout",
     "output_type": "stream",
     "text": [
      "m=2\n",
      "n=3\n",
      "[[10 20 30]\n",
      " [40 50 60]]\n"
     ]
    }
   ],
   "source": [
    "#1\n",
    "m=int(input('m='))\n",
    "n=int(input('n='))\n",
    "a=np.arange(1,m*n+1).reshape(m,n)\n",
    "a*=10\n",
    "print(a)"
   ]
  },
  {
   "cell_type": "code",
   "execution_count": 16,
   "metadata": {
    "scrolled": true
   },
   "outputs": [
    {
     "ename": "TypeError",
     "evalue": "_full_like_dispatcher() missing 1 required positional argument: 'fill_value'",
     "output_type": "error",
     "traceback": [
      "\u001b[1;31m---------------------------------------------------------------------------\u001b[0m",
      "\u001b[1;31mTypeError\u001b[0m                                 Traceback (most recent call last)",
      "\u001b[1;32m<ipython-input-16-95df7334bee9>\u001b[0m in \u001b[0;36m<module>\u001b[1;34m\u001b[0m\n\u001b[0;32m      1\u001b[0m \u001b[0ma\u001b[0m\u001b[1;33m=\u001b[0m\u001b[0mnp\u001b[0m\u001b[1;33m.\u001b[0m\u001b[0marray\u001b[0m\u001b[1;33m(\u001b[0m\u001b[1;33m[\u001b[0m\u001b[1;36m1\u001b[0m\u001b[1;33m,\u001b[0m\u001b[1;36m2\u001b[0m\u001b[1;33m,\u001b[0m\u001b[1;36m3\u001b[0m\u001b[1;33m]\u001b[0m\u001b[1;33m)\u001b[0m\u001b[1;33m\u001b[0m\u001b[1;33m\u001b[0m\u001b[0m\n\u001b[1;32m----> 2\u001b[1;33m \u001b[0mprint\u001b[0m\u001b[1;33m(\u001b[0m\u001b[0mnp\u001b[0m\u001b[1;33m.\u001b[0m\u001b[0mfull_like\u001b[0m\u001b[1;33m(\u001b[0m\u001b[0ma\u001b[0m\u001b[1;33m)\u001b[0m\u001b[1;33m)\u001b[0m\u001b[1;33m\u001b[0m\u001b[1;33m\u001b[0m\u001b[0m\n\u001b[0m\u001b[0;32m      3\u001b[0m \u001b[0mprint\u001b[0m\u001b[1;33m(\u001b[0m\u001b[0ma\u001b[0m\u001b[1;33m)\u001b[0m\u001b[1;33m\u001b[0m\u001b[1;33m\u001b[0m\u001b[0m\n",
      "\u001b[1;32m<__array_function__ internals>\u001b[0m in \u001b[0;36mfull_like\u001b[1;34m(*args, **kwargs)\u001b[0m\n",
      "\u001b[1;31mTypeError\u001b[0m: _full_like_dispatcher() missing 1 required positional argument: 'fill_value'"
     ]
    }
   ],
   "source": [
    "a=np.array([1,2,3])\n",
    "print(np.full_like(a))\n",
    "print(a)"
   ]
  },
  {
   "cell_type": "code",
   "execution_count": 17,
   "metadata": {},
   "outputs": [
    {
     "name": "stdout",
     "output_type": "stream",
     "text": [
      "[[ 0  5 10 15]]\n"
     ]
    }
   ],
   "source": [
    "print(np.l((np.arange(0,20,5))))"
   ]
  },
  {
   "cell_type": "code",
   "execution_count": 19,
   "metadata": {},
   "outputs": [
    {
     "name": "stdout",
     "output_type": "stream",
     "text": [
      "m=4\n",
      "n=5\n",
      "[[ 1  2  3  4  5]\n",
      " [ 6  7  8  9 10]\n",
      " [11 12 13 14 15]\n",
      " [16 17 18 19 20]]\n",
      "k=2\n",
      "[11 12 13 14 15]\n"
     ]
    }
   ],
   "source": [
    "#7\n",
    "m=int(input('m='))\n",
    "n=int(input('n='))\n",
    "a=np.arange(1,m*n+1).reshape(m,n)\n",
    "print(a)\n",
    "k=int(input('k='))\n",
    "print(a[k])"
   ]
  },
  {
   "cell_type": "code",
   "execution_count": 21,
   "metadata": {},
   "outputs": [
    {
     "name": "stdout",
     "output_type": "stream",
     "text": [
      "m=4\n",
      "n=5\n",
      "[[ 1  2  3  4  5]\n",
      " [ 6  7  8  9 10]\n",
      " [11 12 13 14 15]\n",
      " [16 17 18 19 20]]\n",
      "k=2\n",
      "[ 3  8 13 18]\n"
     ]
    }
   ],
   "source": [
    "#8\n",
    "m=int(input('m='))\n",
    "n=int(input('n='))\n",
    "a=np.arange(1,m*n+1).reshape(m,n)\n",
    "print(a)\n",
    "k=int(input('k='))\n",
    "print(a[:,k])"
   ]
  },
  {
   "cell_type": "code",
   "execution_count": 23,
   "metadata": {},
   "outputs": [
    {
     "name": "stdout",
     "output_type": "stream",
     "text": [
      "m=4\n",
      "n=5\n",
      "[[ 1  2  3  4  5]\n",
      " [ 6  7  8  9 10]\n",
      " [11 12 13 14 15]\n",
      " [16 17 18 19 20]]\n",
      "\n",
      "[[ 1  2  3  4  5]\n",
      " [11 12 13 14 15]]\n"
     ]
    }
   ],
   "source": [
    "#9\n",
    "m=int(input('m='))\n",
    "n=int(input('n='))\n",
    "a=np.arange(1,m*n+1).reshape(m,n)\n",
    "print(a)\n",
    "print()\n",
    "print(a[::2])"
   ]
  },
  {
   "cell_type": "code",
   "execution_count": null,
   "metadata": {},
   "outputs": [],
   "source": [
    "#10\n",
    "m=int(input('m='))\n",
    "n=int(input('n='))\n",
    "a=np.arange(1,m*n+1).reshape(m,n)\n",
    "print(a)\n",
    "print()\n",
    "print(a[1::2])"
   ]
  },
  {
   "cell_type": "code",
   "execution_count": 4,
   "metadata": {
    "run_control": {
     "marked": false
    },
    "scrolled": true
   },
   "outputs": [
    {
     "name": "stdout",
     "output_type": "stream",
     "text": [
      "m=2\n",
      "n=100\n",
      "[[  1   2   3   4   5   6   7   8   9  10  11  12  13  14  15  16  17  18\n",
      "   19  20  21  22  23  24  25  26  27  28  29  30  31  32  33  34  35  36\n",
      "   37  38  39  40  41  42  43  44  45  46  47  48  49  50  51  52  53  54\n",
      "   55  56  57  58  59  60  61  62  63  64  65  66  67  68  69  70  71  72\n",
      "   73  74  75  76  77  78  79  80  81  82  83  84  85  86  87  88  89  90\n",
      "   91  92  93  94  95  96  97  98  99 100]\n",
      " [101 102 103 104 105 106 107 108 109 110 111 112 113 114 115 116 117 118\n",
      "  119 120 121 122 123 124 125 126 127 128 129 130 131 132 133 134 135 136\n",
      "  137 138 139 140 141 142 143 144 145 146 147 148 149 150 151 152 153 154\n",
      "  155 156 157 158 159 160 161 162 163 164 165 166 167 168 169 170 171 172\n",
      "  173 174 175 176 177 178 179 180 181 182 183 184 185 186 187 188 189 190\n",
      "  191 192 193 194 195 196 197 198 199 200]]\n",
      "\n"
     ]
    }
   ],
   "source": [
    "#11\n",
    "m=int(input('m='))\n",
    "n=int(input('n='))\n",
    "a=np.arange(1,m*n+1).reshape(m,n)\n",
    "print(a)\n",
    "print()"
   ]
  },
  {
   "cell_type": "code",
   "execution_count": 13,
   "metadata": {},
   "outputs": [
    {
     "name": "stdout",
     "output_type": "stream",
     "text": [
      "m=4\n",
      "n=5\n",
      "[[ 1  2  3  4  5]\n",
      " [ 6  7  8  9 10]\n",
      " [11 12 13 14 15]\n",
      " [16 17 18 19 20]]\n",
      "\n",
      "k=1\n",
      "40\n",
      "30240\n"
     ]
    }
   ],
   "source": [
    "#17\n",
    "from math import factorial \n",
    "m=int(input('m='))\n",
    "n=int(input('n='))\n",
    "a=np.arange(1,m*n+1).reshape(m,n)\n",
    "print(a)\n",
    "print()\n",
    "k=int(input('k='))\n",
    "print(sum(a[k]))\n",
    "print(np.prod(a[k]))"
   ]
  },
  {
   "cell_type": "code",
   "execution_count": 14,
   "metadata": {},
   "outputs": [
    {
     "name": "stdout",
     "output_type": "stream",
     "text": [
      "m=4\n",
      "n=5\n",
      "[[ 1  2  3  4  5]\n",
      " [ 6  7  8  9 10]\n",
      " [11 12 13 14 15]\n",
      " [16 17 18 19 20]]\n",
      "\n",
      "k=2\n",
      "42\n",
      "360360\n"
     ]
    }
   ],
   "source": [
    "#18\n",
    "from math import factorial \n",
    "m=int(input('m='))\n",
    "n=int(input('n='))\n",
    "a=np.arange(1,m*n+1).reshape(m,n)\n",
    "print(a)\n",
    "print()\n",
    "k=int(input('k='))\n",
    "print(sum(a[:,k]))\n",
    "print(np.prod(a[k]))"
   ]
  },
  {
   "cell_type": "code",
   "execution_count": 12,
   "metadata": {},
   "outputs": [
    {
     "name": "stdout",
     "output_type": "stream",
     "text": [
      "m=4\n",
      "n=5\n",
      "[[ 1  2  3  4  5]\n",
      " [ 6  7  8  9 10]\n",
      " [11 12 13 14 15]\n",
      " [16 17 18 19 20]]\n",
      "\n",
      "Sum a0 15\n",
      "Kopaytma a0 120\n",
      "Sum a1 40\n",
      "Kopaytma a1 30240\n",
      "Sum a2 65\n",
      "Kopaytma a2 360360\n",
      "Sum a3 90\n",
      "Kopaytma a3 1860480\n"
     ]
    }
   ],
   "source": [
    "#19\n",
    "from math import factorial \n",
    "m=int(input('m='))\n",
    "n=int(input('n='))\n",
    "a=np.arange(1,m*n+1).reshape(m,n)\n",
    "print(a)\n",
    "print()\n",
    "for i in range(m):\n",
    "    print(f'Sum a{i}',sum(a[i]))\n",
    "    print(f'Kopaytma a{i}',np.prod(a[i]))"
   ]
  },
  {
   "cell_type": "code",
   "execution_count": 15,
   "metadata": {},
   "outputs": [
    {
     "name": "stdout",
     "output_type": "stream",
     "text": [
      "1056\n",
      "2856\n",
      "5616\n",
      "9576\n",
      "15000\n"
     ]
    }
   ],
   "source": [
    "#20\n",
    "for i in range(n):\n",
    "    print(np.prod(a[:,i]))"
   ]
  },
  {
   "cell_type": "code",
   "execution_count": 20,
   "metadata": {},
   "outputs": [
    {
     "name": "stdout",
     "output_type": "stream",
     "text": [
      "3.0\n",
      "8.0\n",
      "13.0\n",
      "18.0\n"
     ]
    }
   ],
   "source": [
    "#21\n",
    "for i in range(m):\n",
    "    print(sum(a[i,1::2])/(m//2))"
   ]
  },
  {
   "cell_type": "code",
   "execution_count": 22,
   "metadata": {},
   "outputs": [
    {
     "name": "stdout",
     "output_type": "stream",
     "text": [
      "12\n",
      "14\n",
      "16\n",
      "18\n",
      "20\n"
     ]
    }
   ],
   "source": [
    "#22\n",
    "for i in range(n):\n",
    "     print(sum(a[::2,i]))"
   ]
  },
  {
   "cell_type": "code",
   "execution_count": 46,
   "metadata": {},
   "outputs": [
    {
     "name": "stdout",
     "output_type": "stream",
     "text": [
      "2\n",
      "2\n",
      "2\n",
      "2\n"
     ]
    }
   ],
   "source": [
    "#29\n",
    "def func(a):\n",
    "    s=0\n",
    "    for k in a:\n",
    "        if k<np.mean(a):\n",
    "            s+=1\n",
    "    return s\n",
    "for i in range(m):\n",
    "    print(func(a[i]))"
   ]
  },
  {
   "cell_type": "code",
   "execution_count": 47,
   "metadata": {},
   "outputs": [
    {
     "name": "stdout",
     "output_type": "stream",
     "text": [
      "2\n",
      "2\n",
      "2\n",
      "2\n",
      "2\n"
     ]
    }
   ],
   "source": [
    "#30\n",
    "def func(a):\n",
    "    s=0\n",
    "    for k in a:\n",
    "        if k<np.mean(a):\n",
    "            s+=1\n",
    "    return s\n",
    "for i in range(n):\n",
    "    print(func(a[:,i]))"
   ]
  },
  {
   "cell_type": "code",
   "execution_count": 50,
   "metadata": {},
   "outputs": [
    {
     "name": "stdout",
     "output_type": "stream",
     "text": [
      "1\n",
      "2\n"
     ]
    }
   ],
   "source": [
    "#31\n",
    "satr=abs(np.mean(a)-np.mean(a[0]))\n",
    "s_i=0\n",
    "ustun=abs(np.mean(a)-np.mean(a[:,0]))\n",
    "u_i=0\n",
    "for i in range(m):\n",
    "    if satr>abs(np.mean(a)-np.mean(a[i])):\n",
    "        satr=abs(np.mean(a)-np.mean(a[i]))\n",
    "        s_i=i\n",
    "print(s_i)\n",
    "for i in range(n):\n",
    "    if ustun>abs(np.mean(a)-np.mean(a[:,i])):\n",
    "        ustun=abs(np.mean(a)-np.mean(a[:,i]))\n",
    "        u_i=i\n",
    "print(u_i)"
   ]
  },
  {
   "cell_type": "code",
   "execution_count": 3,
   "metadata": {},
   "outputs": [
    {
     "name": "stdout",
     "output_type": "stream",
     "text": [
      "[19, 20, 25]\n"
     ]
    }
   ],
   "source": [
    "class Talaba:\n",
    "    def __init__(self,ismi,yoshi):\n",
    "        self.ismi = ismi\n",
    "        self.yoshi = yoshi\n",
    "        \n",
    "a=Talaba('K',20)\n",
    "b=Talaba('A',25)\n",
    "c=Talaba('Z',19)\n",
    "\n",
    "print(sorted([a.yoshi,b.yoshi,c.yoshi]))"
   ]
  },
  {
   "cell_type": "code",
   "execution_count": null,
   "metadata": {},
   "outputs": [],
   "source": []
  }
 ],
 "metadata": {
  "kernelspec": {
   "display_name": "Python 3",
   "language": "python",
   "name": "python3"
  },
  "language_info": {
   "codemirror_mode": {
    "name": "ipython",
    "version": 3
   },
   "file_extension": ".py",
   "mimetype": "text/x-python",
   "name": "python",
   "nbconvert_exporter": "python",
   "pygments_lexer": "ipython3",
   "version": "3.8.5"
  }
 },
 "nbformat": 4,
 "nbformat_minor": 4
}

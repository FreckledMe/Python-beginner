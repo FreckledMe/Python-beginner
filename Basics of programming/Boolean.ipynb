{
 "cells": [
  {
   "cell_type": "code",
   "execution_count": 1,
   "metadata": {},
   "outputs": [
    {
     "name": "stdout",
     "output_type": "stream",
     "text": [
      "a=-6\n",
      "False\n"
     ]
    }
   ],
   "source": [
    "#1\n",
    "a=int(input('a='))\n",
    "print(a>0)"
   ]
  },
  {
   "cell_type": "code",
   "execution_count": 2,
   "metadata": {},
   "outputs": [
    {
     "name": "stdout",
     "output_type": "stream",
     "text": [
      "a=7\n",
      "True\n"
     ]
    }
   ],
   "source": [
    "#2\n",
    "a=int(input('a='))\n",
    "print(a%2==1)"
   ]
  },
  {
   "cell_type": "code",
   "execution_count": 3,
   "metadata": {},
   "outputs": [
    {
     "name": "stdout",
     "output_type": "stream",
     "text": [
      "a=7\n",
      "False\n"
     ]
    }
   ],
   "source": [
    "#3\n",
    "a=int(input('a='))\n",
    "print(a%2==0)"
   ]
  },
  {
   "cell_type": "code",
   "execution_count": 4,
   "metadata": {},
   "outputs": [
    {
     "name": "stdout",
     "output_type": "stream",
     "text": [
      "a=3\n",
      "b=0\n",
      "True\n"
     ]
    }
   ],
   "source": [
    "#4\n",
    "a=int(input('a='))\n",
    "b=int(input('b='))\n",
    "print(a>2 and b<=3 )"
   ]
  },
  {
   "cell_type": "code",
   "execution_count": 6,
   "metadata": {},
   "outputs": [
    {
     "name": "stdout",
     "output_type": "stream",
     "text": [
      "a=1\n",
      "b=1\n",
      "False\n"
     ]
    }
   ],
   "source": [
    "#5\n",
    "a=int(input('a='))\n",
    "b=int(input('b='))\n",
    "print(a>=0 and b<-2 )"
   ]
  },
  {
   "cell_type": "code",
   "execution_count": 7,
   "metadata": {},
   "outputs": [
    {
     "name": "stdout",
     "output_type": "stream",
     "text": [
      "a=1\n",
      "b=1\n",
      "c=1\n",
      "True\n"
     ]
    }
   ],
   "source": [
    "#6\n",
    "a=int(input('a='))\n",
    "b=int(input('b='))\n",
    "c=int(input('c='))\n",
    "print(a<=b<=c)"
   ]
  },
  {
   "cell_type": "code",
   "execution_count": 8,
   "metadata": {},
   "outputs": [
    {
     "name": "stdout",
     "output_type": "stream",
     "text": [
      "a=4\n",
      "b=5\n",
      "c=6\n",
      "True\n"
     ]
    }
   ],
   "source": [
    "#7\n",
    "a=int(input('a='))\n",
    "b=int(input('b='))\n",
    "c=int(input('c='))\n",
    "print(a<b<c or c<b<a)"
   ]
  },
  {
   "cell_type": "code",
   "execution_count": 9,
   "metadata": {},
   "outputs": [
    {
     "name": "stdout",
     "output_type": "stream",
     "text": [
      "a=3\n",
      "b=5\n",
      "True\n"
     ]
    }
   ],
   "source": [
    "#8\n",
    "a=int(input('a='))\n",
    "b=int(input('b='))\n",
    "print(a%2==1 and  b%2==1)"
   ]
  },
  {
   "cell_type": "code",
   "execution_count": 10,
   "metadata": {},
   "outputs": [
    {
     "name": "stdout",
     "output_type": "stream",
     "text": [
      "a=4\n",
      "b=5\n",
      "True\n"
     ]
    }
   ],
   "source": [
    "#9\n",
    "a=int(input('a='))\n",
    "b=int(input('b='))\n",
    "print(a%2==1 or  b%2==1)"
   ]
  },
  {
   "cell_type": "code",
   "execution_count": 11,
   "metadata": {},
   "outputs": [
    {
     "name": "stdout",
     "output_type": "stream",
     "text": [
      "a=4\n",
      "b=6\n",
      "False\n"
     ]
    }
   ],
   "source": [
    "#10\n",
    "a=int(input('a='))\n",
    "b=int(input('b='))\n",
    "print(a%2==1 and b%2==0 or a%2==0 and  b%2==1)"
   ]
  },
  {
   "cell_type": "code",
   "execution_count": 12,
   "metadata": {},
   "outputs": [
    {
     "name": "stdout",
     "output_type": "stream",
     "text": [
      "a=5\n",
      "b=4\n",
      "False\n"
     ]
    }
   ],
   "source": [
    "#11\n",
    "a=int(input('a='))\n",
    "b=int(input('b='))\n",
    "print(a%2==1 and b%2==1 or a%2==0 and  b%2==0)"
   ]
  },
  {
   "cell_type": "code",
   "execution_count": 13,
   "metadata": {},
   "outputs": [
    {
     "name": "stdout",
     "output_type": "stream",
     "text": [
      "a=4\n",
      "b=-2\n",
      "c=3\n",
      "False\n"
     ]
    }
   ],
   "source": [
    "#12\n",
    "a=int(input('a='))\n",
    "b=int(input('b='))\n",
    "c=int(input('c='))\n",
    "print(a>0 and b>0 and c>0)"
   ]
  },
  {
   "cell_type": "code",
   "execution_count": 14,
   "metadata": {},
   "outputs": [
    {
     "name": "stdout",
     "output_type": "stream",
     "text": [
      "a=-5\n",
      "b=-6\n",
      "c=3\n",
      "True\n"
     ]
    }
   ],
   "source": [
    "#13\n",
    "a=int(input('a='))\n",
    "b=int(input('b='))\n",
    "c=int(input('c='))\n",
    "print(a>0 or b>0 or c>0)"
   ]
  },
  {
   "cell_type": "code",
   "execution_count": 15,
   "metadata": {},
   "outputs": [
    {
     "name": "stdout",
     "output_type": "stream",
     "text": [
      "a=4\n",
      "b=-6\n",
      "c=-5\n",
      "True\n"
     ]
    }
   ],
   "source": [
    "#14\n",
    "a=int(input('a='))\n",
    "b=int(input('b='))\n",
    "c=int(input('c='))\n",
    "print(a>0 and b<0 and c<0 or a<0 and b>0 and c<0 or a<0 and b<0 and c>0)"
   ]
  },
  {
   "cell_type": "code",
   "execution_count": 16,
   "metadata": {},
   "outputs": [
    {
     "name": "stdout",
     "output_type": "stream",
     "text": [
      "a=-9\n",
      "b=6\n",
      "c=5\n",
      "True\n"
     ]
    }
   ],
   "source": [
    "#15\n",
    "a=int(input('a='))\n",
    "b=int(input('b='))\n",
    "c=int(input('c='))\n",
    "print(a>0 and b>0 and c<0 or a<0 and b>0 and c>0 or a>0 and b<0 and c>0)"
   ]
  },
  {
   "cell_type": "code",
   "execution_count": 19,
   "metadata": {},
   "outputs": [
    {
     "name": "stdout",
     "output_type": "stream",
     "text": [
      "a=24\n",
      "True\n"
     ]
    }
   ],
   "source": [
    "#16\n",
    "a=int(input('a='))\n",
    "print(a>=10 and a%2==0)"
   ]
  },
  {
   "cell_type": "code",
   "execution_count": 20,
   "metadata": {},
   "outputs": [
    {
     "name": "stdout",
     "output_type": "stream",
     "text": [
      "a=121\n",
      "True\n"
     ]
    }
   ],
   "source": [
    "#17\n",
    "a=int(input('a='))\n",
    "print(a>=100 and a%2==1)"
   ]
  },
  {
   "cell_type": "code",
   "execution_count": 23,
   "metadata": {},
   "outputs": [
    {
     "name": "stdout",
     "output_type": "stream",
     "text": [
      "a=1\n",
      "b=3\n",
      "c=3\n",
      "True\n"
     ]
    }
   ],
   "source": [
    "#18\n",
    "a=int(input('a='))\n",
    "b=int(input('b='))\n",
    "c=int(input('c='))\n",
    "print(a==b or b==c or a==c)"
   ]
  },
  {
   "cell_type": "code",
   "execution_count": 24,
   "metadata": {},
   "outputs": [
    {
     "name": "stdout",
     "output_type": "stream",
     "text": [
      "a=4\n",
      "b=-2\n",
      "c=2\n",
      "True\n"
     ]
    }
   ],
   "source": [
    "#19\n",
    "a=int(input('a='))\n",
    "b=int(input('b='))\n",
    "c=int(input('c='))\n",
    "print(a+b==0 or b+c==0 or a+c==0)"
   ]
  },
  {
   "cell_type": "code",
   "execution_count": 27,
   "metadata": {},
   "outputs": [
    {
     "name": "stdout",
     "output_type": "stream",
     "text": [
      "a=123\n",
      "True\n"
     ]
    }
   ],
   "source": [
    "#20\n",
    "a=int(input('a='))\n",
    "print(a//100!=a%10!=a//10%10)"
   ]
  },
  {
   "cell_type": "code",
   "execution_count": 29,
   "metadata": {},
   "outputs": [
    {
     "name": "stdout",
     "output_type": "stream",
     "text": [
      "a=321\n",
      "True\n"
     ]
    }
   ],
   "source": [
    "#21\n",
    "a=int(input('a='))\n",
    "print(a//100>a//10%10>a%10)"
   ]
  },
  {
   "cell_type": "code",
   "execution_count": 30,
   "metadata": {},
   "outputs": [
    {
     "name": "stdout",
     "output_type": "stream",
     "text": [
      "a=123\n",
      "True\n"
     ]
    }
   ],
   "source": [
    "#22\n",
    "a=int(input('a='))\n",
    "print(a//100>a//10%10>a%10 or a//100<a//10%10<a%10)"
   ]
  },
  {
   "cell_type": "code",
   "execution_count": 32,
   "metadata": {},
   "outputs": [
    {
     "name": "stdout",
     "output_type": "stream",
     "text": [
      "a=212\n",
      "True\n"
     ]
    }
   ],
   "source": [
    "#23\n",
    "a=int(input('a='))\n",
    "print(a//100==a%10)"
   ]
  },
  {
   "cell_type": "code",
   "execution_count": 33,
   "metadata": {},
   "outputs": [
    {
     "name": "stdout",
     "output_type": "stream",
     "text": [
      "a=1\n",
      "b=2\n",
      "c=3\n",
      "False\n"
     ]
    }
   ],
   "source": [
    "#24\n",
    "a=int(input('a='))\n",
    "b=int(input('b='))\n",
    "c=int(input('c='))\n",
    "d=b*b-4*a*c\n",
    "print(d>0)"
   ]
  },
  {
   "cell_type": "code",
   "execution_count": 34,
   "metadata": {},
   "outputs": [
    {
     "name": "stdout",
     "output_type": "stream",
     "text": [
      "x=-2\n",
      "y=5\n",
      "True\n"
     ]
    }
   ],
   "source": [
    "#25\n",
    "x=int(input('x='))\n",
    "y=int(input('y='))\n",
    "print(x<0 and y>0)"
   ]
  },
  {
   "cell_type": "code",
   "execution_count": 35,
   "metadata": {},
   "outputs": [
    {
     "name": "stdout",
     "output_type": "stream",
     "text": [
      "x=4\n",
      "y=-5\n",
      "True\n"
     ]
    }
   ],
   "source": [
    "#26\n",
    "x=int(input('x='))\n",
    "y=int(input('y='))\n",
    "print(x>0 and y<0)"
   ]
  },
  {
   "cell_type": "code",
   "execution_count": 36,
   "metadata": {},
   "outputs": [
    {
     "name": "stdout",
     "output_type": "stream",
     "text": [
      "x=-38\n",
      "y=4\n",
      "True\n"
     ]
    }
   ],
   "source": [
    "#27\n",
    "x=int(input('x='))\n",
    "y=int(input('y='))\n",
    "print(x<0 and y>0 or x<0 and y<0)"
   ]
  },
  {
   "cell_type": "code",
   "execution_count": 37,
   "metadata": {},
   "outputs": [
    {
     "name": "stdout",
     "output_type": "stream",
     "text": [
      "x=1\n",
      "y=1\n",
      "True\n"
     ]
    }
   ],
   "source": [
    "#28\n",
    "x=int(input('x='))\n",
    "y=int(input('y='))\n",
    "print(x>0 and y>0 or x<0 and y<0)"
   ]
  },
  {
   "cell_type": "code",
   "execution_count": 40,
   "metadata": {},
   "outputs": [
    {
     "name": "stdout",
     "output_type": "stream",
     "text": [
      "x1=2\n",
      "y1=6\n",
      "x2=8\n",
      "y2=3\n",
      "x=5\n",
      "y=4\n",
      "True\n"
     ]
    }
   ],
   "source": [
    "#29\n",
    "x1=int(input('x1='))\n",
    "y1=int(input('y1='))\n",
    "x2=int(input('x2='))\n",
    "y2=int(input('y2='))\n",
    "x=int(input('x='))\n",
    "y=int(input('y='))\n",
    "print(x1<x<x2 and y2<y<y1)"
   ]
  },
  {
   "cell_type": "code",
   "execution_count": 42,
   "metadata": {},
   "outputs": [
    {
     "name": "stdout",
     "output_type": "stream",
     "text": [
      "a=4\n",
      "b=4\n",
      "c=4\n",
      "True\n"
     ]
    }
   ],
   "source": [
    "#30\n",
    "a=int(input('a='))\n",
    "b=int(input('b='))\n",
    "c=int(input('c='))\n",
    "print(a==b==c)"
   ]
  },
  {
   "cell_type": "code",
   "execution_count": 44,
   "metadata": {},
   "outputs": [
    {
     "name": "stdout",
     "output_type": "stream",
     "text": [
      "a=4\n",
      "b=6\n",
      "c=4\n",
      "True\n"
     ]
    }
   ],
   "source": [
    "#31\n",
    "a=int(input('a='))\n",
    "b=int(input('b='))\n",
    "c=int(input('c='))\n",
    "print(a==b or a==c or b==c)"
   ]
  },
  {
   "cell_type": "code",
   "execution_count": 46,
   "metadata": {},
   "outputs": [
    {
     "name": "stdout",
     "output_type": "stream",
     "text": [
      "a=5\n",
      "b=4\n",
      "c=3\n",
      "True\n"
     ]
    }
   ],
   "source": [
    "#32\n",
    "a=int(input('a='))\n",
    "b=int(input('b='))\n",
    "c=int(input('c='))\n",
    "print(c*c==a*a+b*b or a*a==c*c+b*b or b*b==a*a+c*c)"
   ]
  },
  {
   "cell_type": "code",
   "execution_count": 47,
   "metadata": {},
   "outputs": [
    {
     "name": "stdout",
     "output_type": "stream",
     "text": [
      "a=3\n",
      "b=4\n",
      "c=5\n",
      "True\n"
     ]
    }
   ],
   "source": [
    "#33\n",
    "a=int(input('a='))\n",
    "b=int(input('b='))\n",
    "c=int(input('c='))\n",
    "print(c<a+b or a<c+b or b<a+c)"
   ]
  },
  {
   "cell_type": "code",
   "execution_count": 48,
   "metadata": {},
   "outputs": [
    {
     "name": "stdout",
     "output_type": "stream",
     "text": [
      "x=3\n",
      "y=2\n",
      "True\n"
     ]
    }
   ],
   "source": [
    "#34\n",
    "x=int(input('x='))\n",
    "y=int(input('y='))\n",
    "print(abs(x-y)%2==1)"
   ]
  },
  {
   "cell_type": "code",
   "execution_count": 49,
   "metadata": {},
   "outputs": [
    {
     "name": "stdout",
     "output_type": "stream",
     "text": [
      "x1=2\n",
      "y1=6\n",
      "x2=8\n",
      "y2=2\n",
      "True\n"
     ]
    }
   ],
   "source": [
    "#35\n",
    "x1=int(input('x1='))\n",
    "y1=int(input('y1='))\n",
    "x2=int(input('x2='))\n",
    "y2=int(input('y2='))\n",
    "print(abs(x1-y1)%2==abs(x2-y2)%2)"
   ]
  },
  {
   "cell_type": "code",
   "execution_count": 50,
   "metadata": {},
   "outputs": [
    {
     "name": "stdout",
     "output_type": "stream",
     "text": [
      "x1=4\n",
      "y1=2\n",
      "x2=5\n",
      "y2=2\n",
      "True\n"
     ]
    }
   ],
   "source": [
    "#36\n",
    "x1=int(input('x1='))\n",
    "y1=int(input('y1='))\n",
    "x2=int(input('x2='))\n",
    "y2=int(input('y2='))\n",
    "print(abs(x1-x2)==1 and y1==y2 or abs(y1-y2)==1 and x1==x2)"
   ]
  },
  {
   "cell_type": "code",
   "execution_count": 51,
   "metadata": {},
   "outputs": [
    {
     "name": "stdout",
     "output_type": "stream",
     "text": [
      "x1=4\n",
      "y1=7\n",
      "x2=5\n",
      "y2=8\n",
      "True\n"
     ]
    }
   ],
   "source": [
    "#37\n",
    "x1=int(input('x1='))\n",
    "y1=int(input('y1='))\n",
    "x2=int(input('x2='))\n",
    "y2=int(input('y2='))\n",
    "print(abs(x1-x2)==1 and y1==y2 or abs(y1-y2)==1 and x1==x2 or abs(x1-x2)==1 and abs(y1-y2)==1  )"
   ]
  },
  {
   "cell_type": "code",
   "execution_count": 54,
   "metadata": {},
   "outputs": [
    {
     "name": "stdout",
     "output_type": "stream",
     "text": [
      "x1=5\n",
      "y1=3\n",
      "x2=1\n",
      "y2=7\n",
      "True\n"
     ]
    }
   ],
   "source": [
    "#38\n",
    "x1=int(input('x1='))\n",
    "y1=int(input('y1='))\n",
    "x2=int(input('x2='))\n",
    "y2=int(input('y2='))\n",
    "print(abs(x1-x2)==abs(y1-y2))"
   ]
  },
  {
   "cell_type": "code",
   "execution_count": 53,
   "metadata": {},
   "outputs": [
    {
     "name": "stdout",
     "output_type": "stream",
     "text": [
      "x1=6\n",
      "y1=2\n",
      "x2=1\n",
      "y2=7\n",
      "True\n"
     ]
    }
   ],
   "source": [
    "#39\n",
    "x1=int(input('x1='))\n",
    "y1=int(input('y1='))\n",
    "x2=int(input('x2='))\n",
    "y2=int(input('y2='))\n",
    "print(y1==y2 or x1==x2 or abs(x1-x2)==abs(y1-y2))"
   ]
  },
  {
   "cell_type": "code",
   "execution_count": 55,
   "metadata": {},
   "outputs": [
    {
     "name": "stdout",
     "output_type": "stream",
     "text": [
      "x1=5\n",
      "y1=1\n",
      "x2=6\n",
      "y2=3\n",
      "True\n"
     ]
    }
   ],
   "source": [
    "#40\n",
    "x1=int(input('x1='))\n",
    "y1=int(input('y1='))\n",
    "x2=int(input('x2='))\n",
    "y2=int(input('y2='))\n",
    "print(abs(x1-x2)==1 and abs(y1-y2)==2 or abs(x1-x2)==2 and abs(y1-y2)==1)"
   ]
  },
  {
   "cell_type": "code",
   "execution_count": null,
   "metadata": {},
   "outputs": [],
   "source": [
    "def xor(x,y):\n",
    "    return x or y "
   ]
  },
  {
   "cell_type": "code",
   "execution_count": null,
   "metadata": {},
   "outputs": [],
   "source": [
    "True False -> True\n",
    "(True,True) or (False,False) -> False"
   ]
  },
  {
   "cell_type": "code",
   "execution_count": null,
   "metadata": {},
   "outputs": [],
   "source": [
    "1 0 yoki 0 1 =t\n",
    "1 1 yoki 0 0 =f  "
   ]
  }
 ],
 "metadata": {
  "kernelspec": {
   "display_name": "Python 3",
   "language": "python",
   "name": "python3"
  },
  "language_info": {
   "codemirror_mode": {
    "name": "ipython",
    "version": 3
   },
   "file_extension": ".py",
   "mimetype": "text/x-python",
   "name": "python",
   "nbconvert_exporter": "python",
   "pygments_lexer": "ipython3",
   "version": "3.8.5"
  }
 },
 "nbformat": 4,
 "nbformat_minor": 4
}

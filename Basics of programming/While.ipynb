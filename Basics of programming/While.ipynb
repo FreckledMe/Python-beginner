{
 "cells": [
  {
   "cell_type": "code",
   "execution_count": 2,
   "metadata": {},
   "outputs": [
    {
     "name": "stdout",
     "output_type": "stream",
     "text": [
      "a=13\n",
      "b=2\n",
      "1\n"
     ]
    }
   ],
   "source": [
    "#1\n",
    "a=int(input('a='))\n",
    "b=int(input('b='))\n",
    "while b<=a:\n",
    "    a-=b\n",
    "print(a)"
   ]
  },
  {
   "cell_type": "code",
   "execution_count": 3,
   "metadata": {},
   "outputs": [
    {
     "name": "stdout",
     "output_type": "stream",
     "text": [
      "a=15\n",
      "b=2\n",
      "7\n"
     ]
    }
   ],
   "source": [
    "#2\n",
    "a=int(input('a='))\n",
    "b=int(input('b='))\n",
    "s=0\n",
    "while b<=a:\n",
    "    a-=b\n",
    "    s+=1\n",
    "print(s)"
   ]
  },
  {
   "cell_type": "code",
   "execution_count": 5,
   "metadata": {},
   "outputs": [
    {
     "name": "stdout",
     "output_type": "stream",
     "text": [
      "n=21\n",
      "k=5\n",
      "4 1\n"
     ]
    }
   ],
   "source": [
    "#3\n",
    "n=int(input('n='))\n",
    "k=int(input('k='))\n",
    "s=0\n",
    "while n>=k:\n",
    "    n-=k\n",
    "    s+=1\n",
    "print(s,n)"
   ]
  },
  {
   "cell_type": "code",
   "execution_count": 26,
   "metadata": {},
   "outputs": [
    {
     "name": "stdout",
     "output_type": "stream",
     "text": [
      "n=30\n",
      "3 ning darajasi emas\n"
     ]
    }
   ],
   "source": [
    "#4\n",
    "n=int(input('n='))\n",
    "j=1\n",
    "k=1\n",
    "s=0\n",
    "while j<=n:\n",
    "    l=1\n",
    "    m=k\n",
    "    while l<3:\n",
    "        k+=m\n",
    "        l+=1\n",
    "    if k==n:\n",
    "        s+=1\n",
    "    j+=1\n",
    "if s>0:\n",
    "    print('3 ning darajasi')\n",
    "else:\n",
    "    print('3 ning darajasi emas')"
   ]
  },
  {
   "cell_type": "code",
   "execution_count": 28,
   "metadata": {},
   "outputs": [
    {
     "name": "stdout",
     "output_type": "stream",
     "text": [
      "n=8\n",
      "3\n"
     ]
    }
   ],
   "source": [
    "#5\n",
    "n=int(input('n='))\n",
    "k=0\n",
    "while n>=2:\n",
    "    n/=2\n",
    "    k+=1\n",
    "print(k)"
   ]
  },
  {
   "cell_type": "code",
   "execution_count": 30,
   "metadata": {},
   "outputs": [
    {
     "name": "stdout",
     "output_type": "stream",
     "text": [
      "n=7\n",
      "105\n"
     ]
    }
   ],
   "source": [
    "#6\n",
    "n=int(input('n='))\n",
    "k=0\n",
    "s=1\n",
    "while n>2:\n",
    "    s*=n\n",
    "    n-=2\n",
    "print(s)"
   ]
  },
  {
   "cell_type": "code",
   "execution_count": 34,
   "metadata": {},
   "outputs": [
    {
     "name": "stdout",
     "output_type": "stream",
     "text": [
      "n=15\n",
      "4\n"
     ]
    }
   ],
   "source": [
    "#7\n",
    "n=int(input('n='))\n",
    "k=0\n",
    "while k*k<=n:\n",
    "    k+=1\n",
    "print(k)"
   ]
  },
  {
   "cell_type": "code",
   "execution_count": 40,
   "metadata": {},
   "outputs": [
    {
     "name": "stdout",
     "output_type": "stream",
     "text": [
      "n=17\n",
      "4\n"
     ]
    }
   ],
   "source": [
    "#8\n",
    "n=int(input('n='))\n",
    "k=0\n",
    "while k*k<=n:\n",
    "    k+=1\n",
    "print(k-1)"
   ]
  },
  {
   "cell_type": "code",
   "execution_count": 43,
   "metadata": {},
   "outputs": [
    {
     "name": "stdout",
     "output_type": "stream",
     "text": [
      "n=8\n",
      "2\n"
     ]
    }
   ],
   "source": [
    "#9\n",
    "n=int(input('n='))\n",
    "k=0\n",
    "while 3**k<=n:\n",
    "    k+=1\n",
    "print(k)"
   ]
  },
  {
   "cell_type": "code",
   "execution_count": 45,
   "metadata": {},
   "outputs": [
    {
     "name": "stdout",
     "output_type": "stream",
     "text": [
      "n=10\n",
      "2\n"
     ]
    }
   ],
   "source": [
    "#10\n",
    "n=int(input('n='))\n",
    "k=0\n",
    "while 3**k<=n:\n",
    "    k+=1\n",
    "print(k-1)"
   ]
  },
  {
   "cell_type": "code",
   "execution_count": 53,
   "metadata": {},
   "outputs": [
    {
     "name": "stdout",
     "output_type": "stream",
     "text": [
      "n=6\n",
      "3\n"
     ]
    }
   ],
   "source": [
    "#11\n",
    "n=int(input('n='))\n",
    "k=0\n",
    "s=0\n",
    "while s<n:\n",
    "    s+=k\n",
    "    k+=1\n",
    "print(k-1)"
   ]
  },
  {
   "cell_type": "code",
   "execution_count": 58,
   "metadata": {},
   "outputs": [
    {
     "name": "stdout",
     "output_type": "stream",
     "text": [
      "n=7\n",
      "3\n"
     ]
    }
   ],
   "source": [
    "#12\n",
    "n=int(input('n='))\n",
    "k=0\n",
    "s=0\n",
    "while s<=n:\n",
    "    s+=k\n",
    "    k+=1\n",
    "print(k-2)"
   ]
  },
  {
   "cell_type": "code",
   "execution_count": 62,
   "metadata": {},
   "outputs": [
    {
     "name": "stdout",
     "output_type": "stream",
     "text": [
      "n=1.4\n",
      "2\n"
     ]
    }
   ],
   "source": [
    "#13\n",
    "n=float(input('n='))\n",
    "k=1\n",
    "s=0\n",
    "while s<n:\n",
    "    s+=1/k\n",
    "    k+=1\n",
    "print(k-1)"
   ]
  },
  {
   "cell_type": "code",
   "execution_count": 64,
   "metadata": {},
   "outputs": [
    {
     "name": "stdout",
     "output_type": "stream",
     "text": [
      "n=1.6\n",
      "2\n"
     ]
    }
   ],
   "source": [
    "#14\n",
    "n=float(input('n='))\n",
    "k=1\n",
    "s=0\n",
    "while s<=n:\n",
    "    s+=1/k\n",
    "    k+=1\n",
    "print(k-2)"
   ]
  },
  {
   "cell_type": "code",
   "execution_count": 66,
   "metadata": {},
   "outputs": [
    {
     "name": "stdout",
     "output_type": "stream",
     "text": [
      "s=100\n",
      "p=10\n",
      "8 214.35888099999997\n"
     ]
    }
   ],
   "source": [
    "#15\n",
    "s=int(input('s='))\n",
    "p=int(input('p='))\n",
    "t=2*s\n",
    "k=0\n",
    "while s<=t:\n",
    "    s+=s*p/100\n",
    "    k+=1\n",
    "print(k,s)"
   ]
  },
  {
   "cell_type": "code",
   "execution_count": 67,
   "metadata": {},
   "outputs": [
    {
     "name": "stdout",
     "output_type": "stream",
     "text": [
      "p=50\n",
      "8 256.2890625\n"
     ]
    }
   ],
   "source": [
    "#16\n",
    "s=10\n",
    "p=int(input('p='))\n",
    "t=200\n",
    "k=0\n",
    "while s<=t:\n",
    "    s+=s*p/100\n",
    "    k+=1\n",
    "print(k,s)"
   ]
  },
  {
   "cell_type": "code",
   "execution_count": 71,
   "metadata": {},
   "outputs": [
    {
     "name": "stdout",
     "output_type": "stream",
     "text": [
      "n=25\n",
      "m=3\n",
      "8 1\n"
     ]
    }
   ],
   "source": [
    "#17\n",
    "n=int(input('n='))\n",
    "m=int(input('m='))\n",
    "k=0\n",
    "while n>1:\n",
    "    n-=m\n",
    "    k+=1\n",
    "print(k,n)"
   ]
  },
  {
   "cell_type": "code",
   "execution_count": 81,
   "metadata": {},
   "outputs": [
    {
     "name": "stdout",
     "output_type": "stream",
     "text": [
      "n=123\n",
      "321\n"
     ]
    }
   ],
   "source": [
    "#18\n",
    "n=int(input('n='))\n",
    "s=0\n",
    "while n>=1:\n",
    "    s=s*10+n%10\n",
    "    n=n//10\n",
    "print(s)"
   ]
  },
  {
   "cell_type": "code",
   "execution_count": 82,
   "metadata": {},
   "outputs": [
    {
     "name": "stdout",
     "output_type": "stream",
     "text": [
      "n=1231\n",
      "7 4\n"
     ]
    }
   ],
   "source": [
    "#19\n",
    "n=int(input('n='))\n",
    "s=0\n",
    "k=0\n",
    "while n>=1:\n",
    "    s+=n%10\n",
    "    n//=10\n",
    "    k+=1\n",
    "print(s,k)"
   ]
  },
  {
   "cell_type": "code",
   "execution_count": 84,
   "metadata": {},
   "outputs": [
    {
     "name": "stdout",
     "output_type": "stream",
     "text": [
      "n=158572578\n",
      "2 bor\n"
     ]
    }
   ],
   "source": [
    "#20\n",
    "n=int(input('n='))\n",
    "s=0\n",
    "while n>=1:\n",
    "    if n%10==2:\n",
    "        s+=1\n",
    "    n//=10\n",
    "if s>0:\n",
    "    print('2 bor')\n",
    "else:\n",
    "    print('2 yoq')"
   ]
  },
  {
   "cell_type": "code",
   "execution_count": 86,
   "metadata": {},
   "outputs": [
    {
     "name": "stdout",
     "output_type": "stream",
     "text": [
      "n=48628\n",
      "toq son yoq\n"
     ]
    }
   ],
   "source": [
    "#21\n",
    "n=int(input('n='))\n",
    "s=0\n",
    "while n>=1:\n",
    "    if n%10%2==1:\n",
    "        s+=1\n",
    "    n//=10\n",
    "if s>0:\n",
    "    print('toq son bor')\n",
    "else:\n",
    "    print('toq son yoq')"
   ]
  },
  {
   "cell_type": "code",
   "execution_count": 91,
   "metadata": {},
   "outputs": [
    {
     "name": "stdout",
     "output_type": "stream",
     "text": [
      "n=17\n",
      "tub\n"
     ]
    }
   ],
   "source": [
    "#22\n",
    "n=int(input('n='))\n",
    "i=2\n",
    "s=0\n",
    "while i<=n**0.5:\n",
    "    if n%i==0:\n",
    "        s+=1\n",
    "    i+=1\n",
    "if s==0:\n",
    "    print('tub')\n",
    "else:\n",
    "    print('tub emas')"
   ]
  },
  {
   "cell_type": "code",
   "execution_count": 111,
   "metadata": {},
   "outputs": [
    {
     "name": "stdout",
     "output_type": "stream",
     "text": [
      "a=100\n",
      "b=625\n",
      "25\n",
      "2\n"
     ]
    }
   ],
   "source": [
    "#23\n",
    "a=int(input('a='))\n",
    "b=int(input('b='))\n",
    "sana=0\n",
    "while a!=b:\n",
    "    sana+=1\n",
    "    if a>b:\n",
    "        a%=b\n",
    "        if a==0:\n",
    "            a=b\n",
    "            break\n",
    "    if b>a:\n",
    "        b%=a\n",
    "        if b==0:\n",
    "            b=a\n",
    "            break\n",
    "print(a)"
   ]
  },
  {
   "cell_type": "code",
   "execution_count": 118,
   "metadata": {},
   "outputs": [
    {
     "name": "stdout",
     "output_type": "stream",
     "text": [
      "a=100\n",
      "b=625\n",
      "25\n",
      "76\n"
     ]
    }
   ],
   "source": [
    "#23_1\n",
    "a=int(input('a='))\n",
    "b=int(input('b='))\n",
    "i=min(a,b)\n",
    "sana=0\n",
    "while i>=1:\n",
    "    sana+=1\n",
    "    if a%i==0 and b%i==0:\n",
    "        break\n",
    "    i-=1\n",
    "print(i)\n",
    "print(sana)"
   ]
  },
  {
   "cell_type": "code",
   "execution_count": 124,
   "metadata": {},
   "outputs": [
    {
     "name": "stdout",
     "output_type": "stream",
     "text": [
      "n=13\n",
      "bor\n"
     ]
    }
   ],
   "source": [
    "#24\n",
    "n=int(input('n='))\n",
    "f1=1\n",
    "f2=1\n",
    "fk=f1+f2\n",
    "s=0\n",
    "while fk<=n:\n",
    "    if f1==n or f2==n or fk==n:\n",
    "        print('bor')\n",
    "        s+=1\n",
    "    fk=f1+f2\n",
    "    f2=f1\n",
    "    f1=fk\n",
    "if s==0:\n",
    "    print('yoq')\n"
   ]
  },
  {
   "cell_type": "code",
   "execution_count": 126,
   "metadata": {},
   "outputs": [
    {
     "name": "stdout",
     "output_type": "stream",
     "text": [
      "n=12\n",
      "13\n"
     ]
    }
   ],
   "source": [
    "#25\n",
    "n=int(input('n='))\n",
    "f1=1\n",
    "f2=1\n",
    "fk=f1+f2\n",
    "while fk<=n:\n",
    "    fk=f1+f2\n",
    "    f2=f1\n",
    "    f1=fk\n",
    "print(fk)"
   ]
  },
  {
   "cell_type": "code",
   "execution_count": 145,
   "metadata": {},
   "outputs": [
    {
     "name": "stdout",
     "output_type": "stream",
     "text": [
      "n=10\n",
      "5 13\n"
     ]
    }
   ],
   "source": [
    "#26\n",
    "n=int(input('n='))\n",
    "f1=1\n",
    "f2=1\n",
    "fk=f1+f2\n",
    "while fk<=n:\n",
    "    f1=f2\n",
    "    f2=fk\n",
    "    fk=f1+f2\n",
    "print(f1,f1+f2)"
   ]
  },
  {
   "cell_type": "code",
   "execution_count": 146,
   "metadata": {},
   "outputs": [
    {
     "name": "stdout",
     "output_type": "stream",
     "text": [
      "n=21\n",
      "7\n"
     ]
    }
   ],
   "source": [
    "#27\n",
    "n=int(input('n='))\n",
    "f1=1\n",
    "f2=1\n",
    "fk=f1+f2\n",
    "i=1\n",
    "while i<=n:\n",
    "    if f1==n:\n",
    "        print(i)\n",
    "        break\n",
    "    fk=f1+f2\n",
    "    f2=f1\n",
    "    f1=fk\n",
    "    i+=1"
   ]
  },
  {
   "cell_type": "code",
   "execution_count": 152,
   "metadata": {},
   "outputs": [
    {
     "name": "stdout",
     "output_type": "stream",
     "text": [
      "e=1\n",
      "1 -0.5\n"
     ]
    }
   ],
   "source": [
    "#28\n",
    "e=float(input('e='))\n",
    "a1=2\n",
    "k=1\n",
    "ak=2+1/a1\n",
    "while abs(ak-a1)>=e:\n",
    "    a1=ak\n",
    "    ak=2+1/a1\n",
    "    k+=1\n",
    "print(k,a1-ak)\n"
   ]
  },
  {
   "cell_type": "code",
   "execution_count": 153,
   "metadata": {},
   "outputs": [
    {
     "name": "stdout",
     "output_type": "stream",
     "text": [
      "e=0.254\n",
      "2 -0.33333333333333326\n"
     ]
    }
   ],
   "source": [
    "#29\n",
    "e=float(input('e='))\n",
    "a1=1\n",
    "a2=2\n",
    "k=1\n",
    "ak=(a1+2*a2)/3\n",
    "while abs(ak-a1)>=e:\n",
    "    a1=a2\n",
    "    a2=ak\n",
    "    ak=(a1+2*a2)/3\n",
    "    k+=1\n",
    "print(k,a2-a1)\n"
   ]
  },
  {
   "cell_type": "code",
   "execution_count": 163,
   "metadata": {},
   "outputs": [
    {
     "name": "stdout",
     "output_type": "stream",
     "text": [
      "a=21\n",
      "b=100\n",
      "c=10\n",
      "20\n"
     ]
    }
   ],
   "source": [
    "#30\n",
    "a=int(input('a='))\n",
    "b=int(input('b='))\n",
    "c=int(input('c='))\n",
    "k=0\n",
    "m=0\n",
    "s=0\n",
    "i=0\n",
    "while a>=c:\n",
    "    a-=c\n",
    "    k+=1\n",
    "while b>=c:\n",
    "    b-=c\n",
    "    m+=1\n",
    "while i<m:\n",
    "    s+=k\n",
    "    i+=1\n",
    "print(s)"
   ]
  },
  {
   "cell_type": "code",
   "execution_count": null,
   "metadata": {},
   "outputs": [],
   "source": []
  },
  {
   "cell_type": "code",
   "execution_count": null,
   "metadata": {},
   "outputs": [],
   "source": []
  }
 ],
 "metadata": {
  "kernelspec": {
   "display_name": "Python 3",
   "language": "python",
   "name": "python3"
  },
  "language_info": {
   "codemirror_mode": {
    "name": "ipython",
    "version": 3
   },
   "file_extension": ".py",
   "mimetype": "text/x-python",
   "name": "python",
   "nbconvert_exporter": "python",
   "pygments_lexer": "ipython3",
   "version": "3.8.5"
  }
 },
 "nbformat": 4,
 "nbformat_minor": 4
}

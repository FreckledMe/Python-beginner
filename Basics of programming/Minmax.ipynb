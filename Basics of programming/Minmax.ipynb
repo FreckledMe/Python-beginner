{
 "cells": [
  {
   "cell_type": "code",
   "execution_count": 1,
   "metadata": {},
   "outputs": [
    {
     "name": "stdout",
     "output_type": "stream",
     "text": [
      "n=5\n",
      "a=1\n",
      "a=2\n",
      "a=0\n",
      "a=5\n",
      "a=63\n",
      "63 0\n"
     ]
    }
   ],
   "source": [
    "#1\n",
    "n=int(input('n='))\n",
    "x=True\n",
    "for i in range(1,n+1):\n",
    "    a=int(input('a='))\n",
    "    if x:\n",
    "        maxi=mini=a\n",
    "        x=False\n",
    "    if maxi<a:\n",
    "        maxi=a\n",
    "    if mini>a:\n",
    "        mini=a\n",
    "print(maxi,mini)"
   ]
  },
  {
   "cell_type": "code",
   "execution_count": 2,
   "metadata": {},
   "outputs": [
    {
     "name": "stdout",
     "output_type": "stream",
     "text": [
      "n=3\n",
      "a=2\n",
      "b=3\n",
      "a=5\n",
      "b=6\n",
      "a=1\n",
      "b=4\n",
      "4\n"
     ]
    }
   ],
   "source": [
    "#2\n",
    "n=int(input('n='))\n",
    "x=True\n",
    "for i in range(1,n+1):\n",
    "    a=int(input('a='))\n",
    "    b=int(input('b='))\n",
    "    if x:\n",
    "        maxi=a+b\n",
    "        x=False\n",
    "    if maxi<a+b:\n",
    "        mini=a+b\n",
    "print(maxi)"
   ]
  },
  {
   "cell_type": "code",
   "execution_count": null,
   "metadata": {},
   "outputs": [],
   "source": [
    "n=int(input('n='))\n",
    "x=True\n",
    "for i in range(1,n+1):\n",
    "    a=int(input('a='))\n",
    "    b=int(input('b='))\n",
    "    if x:\n",
    "        mini=a*b\n",
    "        x=False\n",
    "    if mini>a*b:\n",
    "        mini=a*b\n",
    "print(mini)"
   ]
  },
  {
   "cell_type": "code",
   "execution_count": 4,
   "metadata": {},
   "outputs": [
    {
     "name": "stdout",
     "output_type": "stream",
     "text": [
      "n=4\n",
      "a=1\n",
      "a=3\n",
      "a=1\n",
      "a=5\n",
      "1\n"
     ]
    }
   ],
   "source": [
    "#4\n",
    "n=int(input('n='))\n",
    "x=True\n",
    "for i in range(1,n+1):\n",
    "    a=int(input('a='))\n",
    "    if x:\n",
    "        mini=a\n",
    "        k=i\n",
    "        x=False\n",
    "    if mini>a:\n",
    "        mini=a\n",
    "        k=i\n",
    "print(k)"
   ]
  },
  {
   "cell_type": "code",
   "execution_count": 6,
   "metadata": {},
   "outputs": [
    {
     "name": "stdout",
     "output_type": "stream",
     "text": [
      "n=6\n",
      "a=1\n",
      "a=2\n",
      "a=3\n",
      "a=1\n",
      "a=5\n",
      "a=1\n",
      "5 1\n"
     ]
    }
   ],
   "source": [
    "#6\n",
    "n=int(input('n='))\n",
    "x=True\n",
    "for i in range(1,n+1):\n",
    "    a=int(input('a='))\n",
    "    if x:\n",
    "        maxi=mini=a\n",
    "        k=j=i\n",
    "        x=False\n",
    "    if maxi<a:\n",
    "        maxi=a\n",
    "        k=i\n",
    "    if mini>a:\n",
    "        mini=a\n",
    "        j=i\n",
    "print(k,j)"
   ]
  },
  {
   "cell_type": "code",
   "execution_count": 8,
   "metadata": {},
   "outputs": [
    {
     "name": "stdout",
     "output_type": "stream",
     "text": [
      "n=6\n",
      "a=3\n",
      "a=1\n",
      "a=2\n",
      "a=3\n",
      "a=1\n",
      "a=2\n",
      "1 5\n"
     ]
    }
   ],
   "source": [
    "#7\n",
    "n=int(input('n='))\n",
    "x=True\n",
    "for i in range(1,n+1):\n",
    "    a=int(input('a='))\n",
    "    if x:\n",
    "        maxi=mini=a\n",
    "        k=j=i\n",
    "        x=False\n",
    "    if maxi<a:\n",
    "        maxi=a\n",
    "        k=i\n",
    "    if mini>=a:\n",
    "        mini=a\n",
    "        j=i\n",
    "print(k,j)"
   ]
  },
  {
   "cell_type": "code",
   "execution_count": 10,
   "metadata": {},
   "outputs": [
    {
     "name": "stdout",
     "output_type": "stream",
     "text": [
      "n=6\n",
      "a=1\n",
      "a=2\n",
      "a=3\n",
      "a=4\n",
      "a=5\n",
      "a=1\n",
      "1 6\n"
     ]
    }
   ],
   "source": [
    "#8\n",
    "n=int(input('n='))\n",
    "x=True\n",
    "for i in range(1,n+1):\n",
    "    a=int(input('a='))\n",
    "    if x:\n",
    "        mini=a\n",
    "        j=k=i\n",
    "        x=False\n",
    "    if mini>a:\n",
    "        mini=a\n",
    "        k=i\n",
    "    if mini>=a:\n",
    "        j=i\n",
    "print(k,j)"
   ]
  },
  {
   "cell_type": "code",
   "execution_count": 12,
   "metadata": {},
   "outputs": [
    {
     "name": "stdout",
     "output_type": "stream",
     "text": [
      "n=6\n",
      "a=1\n",
      "a=6\n",
      "a=2\n",
      "a=3\n",
      "a=6\n",
      "a=2\n",
      "2 5\n"
     ]
    }
   ],
   "source": [
    "#9\n",
    "n=int(input('n='))\n",
    "x=True\n",
    "for i in range(1,n+1):\n",
    "    a=int(input('a='))\n",
    "    if x:\n",
    "        maxi=a\n",
    "        k=j=i\n",
    "        x=False\n",
    "    if maxi<a:\n",
    "        maxi=a\n",
    "        k=i\n",
    "    if maxi<=a:\n",
    "        j=i\n",
    "print(k,j)"
   ]
  },
  {
   "cell_type": "code",
   "execution_count": 41,
   "metadata": {},
   "outputs": [
    {
     "name": "stdout",
     "output_type": "stream",
     "text": [
      "n=6\n",
      "a=0\n",
      "a=6\n",
      "a=0\n",
      "a=1\n",
      "a=2\n",
      "a=6\n",
      "1\n"
     ]
    }
   ],
   "source": [
    "#10\n",
    "n=int(input('n='))\n",
    "x=True\n",
    "for i in range(1,n+1):\n",
    "    a=int(input('a='))\n",
    "    if x:\n",
    "        maxi=mini=a\n",
    "        k=j=i\n",
    "        x=False\n",
    "    if maxi<a:\n",
    "        maxi=a\n",
    "        k=i\n",
    "    if mini>a:\n",
    "        mini=a\n",
    "        j=i\n",
    "print(min(j,k))"
   ]
  },
  {
   "cell_type": "code",
   "execution_count": 42,
   "metadata": {},
   "outputs": [
    {
     "name": "stdout",
     "output_type": "stream",
     "text": [
      "n=6\n",
      "a=0\n",
      "a=6\n",
      "a=4\n",
      "a=6\n",
      "a=0\n",
      "a=6\n",
      "6\n"
     ]
    }
   ],
   "source": [
    "#11\n",
    "n=int(input('n='))\n",
    "x=True\n",
    "for i in range(1,n+1):\n",
    "    a=int(input('a='))\n",
    "    if x:\n",
    "        maxi=mini=a\n",
    "        k=j=i\n",
    "        x=False\n",
    "    if maxi<=a:\n",
    "        maxi=a\n",
    "        k=i\n",
    "    if mini>=a:\n",
    "        mini=a\n",
    "        j=i\n",
    "print(max(j,k))"
   ]
  },
  {
   "cell_type": "code",
   "execution_count": 4,
   "metadata": {},
   "outputs": [
    {
     "name": "stdout",
     "output_type": "stream",
     "text": [
      "n=3\n",
      "a=-4\n",
      "a=2\n",
      "a=4\n",
      "2\n"
     ]
    }
   ],
   "source": [
    "#12\n",
    "n=int(input('n='))\n",
    "x=True\n",
    "s=0\n",
    "for i in range(1,n+1):\n",
    "    a=int(input('a='))\n",
    "    if x and a>0:\n",
    "        musbat=a\n",
    "        s+=1\n",
    "        x=False\n",
    "    if musbat>a and a>0:\n",
    "        musbat=a\n",
    "if s==0:\n",
    "    print(0)\n",
    "else:\n",
    "    print(musbat)\n"
   ]
  },
  {
   "cell_type": "code",
   "execution_count": 46,
   "metadata": {},
   "outputs": [
    {
     "name": "stdout",
     "output_type": "stream",
     "text": [
      "n=6\n",
      "a=5\n",
      "a=7\n",
      "a=8\n",
      "a=10\n",
      "a=7\n",
      "a=5\n",
      "2\n"
     ]
    }
   ],
   "source": [
    "#13\n",
    "n=int(input('n='))\n",
    "x=True\n",
    "s=0\n",
    "for i in range(1,n+1):\n",
    "    a=int(input('a='))\n",
    "    if x and a%2==1:\n",
    "        toq=a\n",
    "        k=i\n",
    "        x=False\n",
    "    if toq<a and a%2==1:\n",
    "        toq=a\n",
    "        k=i\n",
    "print(k)\n"
   ]
  },
  {
   "cell_type": "code",
   "execution_count": 4,
   "metadata": {},
   "outputs": [
    {
     "name": "stdout",
     "output_type": "stream",
     "text": [
      "b=2\n",
      "a=4\n",
      "a=5\n",
      "a=3\n",
      "a=2\n",
      "a=4\n",
      "a=5\n",
      "a=7\n",
      "a=8\n",
      "a=9\n",
      "a=6\n",
      "4\n"
     ]
    }
   ],
   "source": [
    "#14\n",
    "b=int(input('b='))\n",
    "x=True\n",
    "s=0\n",
    "mini=0\n",
    "for i in range(1,11):\n",
    "    a=int(input('a='))\n",
    "    if x and a>b:\n",
    "        k=i\n",
    "        mini=a\n",
    "        s+=1\n",
    "        x=False\n",
    "    if mini>a:\n",
    "        mini=a\n",
    "        k=i\n",
    "if s==0:\n",
    "    print('00')\n",
    "else:\n",
    "    print(k)"
   ]
  },
  {
   "cell_type": "code",
   "execution_count": 2,
   "metadata": {},
   "outputs": [
    {
     "name": "stdout",
     "output_type": "stream",
     "text": [
      "b=7\n",
      "c=10\n",
      "a=1\n",
      "a=5\n",
      "a=6\n",
      "a=5\n",
      "a=9\n",
      "a=5\n",
      "a=8\n",
      "a=5\n",
      "a=4\n",
      "a=6\n",
      "9 5\n"
     ]
    }
   ],
   "source": [
    "#15\n",
    "b=int(input('b='))\n",
    "c=int(input('c='))\n",
    "x=True\n",
    "s=0\n",
    "for i in range(1,11):\n",
    "    a=int(input('a='))\n",
    "    if x and b<a<c:\n",
    "        k=i\n",
    "        s+=1\n",
    "        maxi=a\n",
    "        x=False\n",
    "    if b<a<c and maxi<a:\n",
    "        k=i\n",
    "        maxi=a\n",
    "if s==0:\n",
    "    print('00')\n",
    "else:\n",
    "    print(maxi,k)"
   ]
  },
  {
   "cell_type": "code",
   "execution_count": 69,
   "metadata": {},
   "outputs": [
    {
     "name": "stdout",
     "output_type": "stream",
     "text": [
      "n=6\n",
      "a=1\n",
      "a=2\n",
      "a=3\n",
      "a=0\n",
      "a=2\n",
      "a=0\n",
      "3\n"
     ]
    }
   ],
   "source": [
    "#16\n",
    "n=int(input('n='))\n",
    "x=True\n",
    "for i in range(1,n+1):\n",
    "    a=int(input('a='))\n",
    "    if x:\n",
    "        mini=a\n",
    "        k=i\n",
    "        x=False\n",
    "    if mini>a:\n",
    "        mini=a\n",
    "        k=i\n",
    "print(k-1)"
   ]
  },
  {
   "cell_type": "code",
   "execution_count": 74,
   "metadata": {},
   "outputs": [
    {
     "name": "stdout",
     "output_type": "stream",
     "text": [
      "n=6\n",
      "a=1\n",
      "a=2\n",
      "a=9\n",
      "a=2\n",
      "a=9\n",
      "a=5\n",
      "1\n"
     ]
    }
   ],
   "source": [
    "#17\n",
    "n=int(input('n='))\n",
    "x=True\n",
    "for i in range(1,n+1):\n",
    "    a=int(input('a='))\n",
    "    if x:\n",
    "        maxi=a\n",
    "        k=j=i\n",
    "        x=False\n",
    "    if maxi<a:\n",
    "        maxi=a\n",
    "        k=i\n",
    "    if maxi<=a:\n",
    "        j=i\n",
    "print(n-j)"
   ]
  },
  {
   "cell_type": "code",
   "execution_count": 77,
   "metadata": {},
   "outputs": [
    {
     "name": "stdout",
     "output_type": "stream",
     "text": [
      "n=6\n",
      "a=5\n",
      "a=9\n",
      "a=6\n",
      "a=5\n",
      "a=9\n",
      "a=6\n",
      "2\n"
     ]
    }
   ],
   "source": [
    "#18\n",
    "n=int(input('n='))\n",
    "x=True\n",
    "for i in range(1,n+1):\n",
    "    a=int(input('a='))\n",
    "    if x:\n",
    "        maxi=a\n",
    "        k=j=i\n",
    "        x=False\n",
    "    if maxi<a:\n",
    "        maxi=a\n",
    "        k=i\n",
    "    if maxi<=a:\n",
    "        j=i\n",
    "print(j-k-1)"
   ]
  },
  {
   "cell_type": "code",
   "execution_count": 1,
   "metadata": {},
   "outputs": [
    {
     "name": "stdout",
     "output_type": "stream",
     "text": [
      "n=5\n",
      "a=0\n",
      "a=1\n",
      "a=2\n",
      "a=0\n",
      "a=3\n",
      "2\n"
     ]
    }
   ],
   "source": [
    "#19\n",
    "n=int(input('n='))\n",
    "x=True \n",
    "j=0\n",
    "for i in range(1,n+1):\n",
    "    a=int(input('a='))\n",
    "    if x:\n",
    "        mini=a\n",
    "        x=False\n",
    "    if mini==a:\n",
    "        j+=1\n",
    "    if mini>a:\n",
    "        mini=a\n",
    "        j=0\n",
    "print(j)\n"
   ]
  },
  {
   "cell_type": "code",
   "execution_count": 10,
   "metadata": {},
   "outputs": [
    {
     "name": "stdout",
     "output_type": "stream",
     "text": [
      "n=10\n",
      "a=0\n",
      "a=1\n",
      "a=0\n",
      "a=0\n",
      "a=4\n",
      "a=8\n",
      "a=6\n",
      "a=8\n",
      "a=4\n",
      "a=5\n",
      "5\n"
     ]
    }
   ],
   "source": [
    "#20\n",
    "n=int(input('n='))\n",
    "x=True \n",
    "j=0\n",
    "k=0\n",
    "for i in range(1,n+1):\n",
    "    a=int(input('a='))\n",
    "    if x:\n",
    "        maxi=mini=a\n",
    "        x=False\n",
    "        continue\n",
    "    if mini==a:\n",
    "        j+=1\n",
    "    if mini>a:\n",
    "        mini=a\n",
    "        j=1\n",
    "    if maxi==a:\n",
    "        k+=1\n",
    "    if maxi<a:\n",
    "        maxi=a\n",
    "        k=1\n",
    "print(j+k)"
   ]
  },
  {
   "cell_type": "code",
   "execution_count": 11,
   "metadata": {},
   "outputs": [
    {
     "name": "stdout",
     "output_type": "stream",
     "text": [
      "n=10\n",
      "a=0\n",
      "a=1\n",
      "a=2\n",
      "a=0\n",
      "a=8\n",
      "a=8\n",
      "a=4\n",
      "a=5\n",
      "a=0\n",
      "a=6\n",
      "3.6\n"
     ]
    }
   ],
   "source": [
    "#21\n",
    "n=int(input('n='))\n",
    "x=True \n",
    "j=0\n",
    "k=0\n",
    "s=0\n",
    "for i in range(1,n+1):\n",
    "    a=int(input('a='))\n",
    "    s+=a\n",
    "    if x:\n",
    "        maxi=mini=a\n",
    "        x=False\n",
    "    if mini==a:\n",
    "        j+=1\n",
    "    if mini>a:\n",
    "        mini=a\n",
    "        j=0\n",
    "    if maxi==a:\n",
    "        k+=1\n",
    "    if maxi<a:\n",
    "        maxi=a\n",
    "        k=0\n",
    "print((s-j*mini-k*maxi)/(n-j-k))"
   ]
  },
  {
   "cell_type": "code",
   "execution_count": 2,
   "metadata": {},
   "outputs": [
    {
     "name": "stdout",
     "output_type": "stream",
     "text": [
      "n=10\n",
      "a=0\n",
      "a=2\n",
      "a=5\n",
      "a=1\n",
      "a=3\n",
      "a=5\n",
      "a=7\n",
      "a=8\n",
      "a=7\n",
      "a=2\n",
      "0 1\n"
     ]
    }
   ],
   "source": [
    "#22\n",
    "n=int(input('n='))\n",
    "mini=int(input('a='))\n",
    "mini1=int(input('a='))\n",
    "if mini>mini1:\n",
    "    mini,mini1=mini1,mini\n",
    "for i in range(3,n+1):\n",
    "    a=int(input('a='))\n",
    "    if a<mini:\n",
    "        mini1=mini\n",
    "        mini=a\n",
    "    if a>mini and a<mini1:\n",
    "        mini1=a\n",
    "print(mini,mini1)\n",
    "        "
   ]
  },
  {
   "cell_type": "code",
   "execution_count": 3,
   "metadata": {},
   "outputs": [
    {
     "name": "stdout",
     "output_type": "stream",
     "text": [
      "n=10\n",
      "a=2\n",
      "a=3\n",
      "a=5\n",
      "a=7\n",
      "a=8\n",
      "a=5\n",
      "a=1\n",
      "a=4\n",
      "a=5\n",
      "a=6\n",
      "8 7 6\n"
     ]
    }
   ],
   "source": [
    "#23\n",
    "n=int(input('n='))\n",
    "\n",
    "max1=int(input('a='))\n",
    "max2=int(input('a='))\n",
    "max3=int(input('a='))\n",
    "\n",
    "if max1<max2:\n",
    "    max1,max2=max2,max1\n",
    "if max1<max3:\n",
    "    max1,max3=max3,max1\n",
    "if max2<max3:\n",
    "    max2,max3=max3,max2\n",
    "    \n",
    "for i in range(4,n+1):\n",
    "    a=int(input('a='))\n",
    "    if max1<a:\n",
    "        max3=max2\n",
    "        max2=max1\n",
    "        max1=a\n",
    "    if max1>a and max2<a:\n",
    "        max3=max2\n",
    "        max2=a\n",
    "    if max1>max2>a and max3<a:\n",
    "        max3=a\n",
    "print(max1,max2,max3)\n",
    "    "
   ]
  },
  {
   "cell_type": "code",
   "execution_count": 14,
   "metadata": {},
   "outputs": [
    {
     "name": "stdout",
     "output_type": "stream",
     "text": [
      "n=10\n",
      "a=0\n",
      "a=1\n",
      "a=-6\n",
      "a=-6\n",
      "a=-1\n",
      "a=-6\n",
      "a=-7\n",
      "a=-8\n",
      "a=-8\n",
      "a=-9\n",
      "1\n"
     ]
    }
   ],
   "source": [
    "#24\n",
    "n=int(input('n='))\n",
    "s=0\n",
    "b=0\n",
    "m=0\n",
    "t=0\n",
    "y=True\n",
    "for i in range(1,n+1):\n",
    "    a=int(input('a='))\n",
    "    if i%2==1:\n",
    "        m=a\n",
    "    if i%2==0:\n",
    "        b=a\n",
    "        t=1\n",
    "    if t==0:\n",
    "        continue\n",
    "    s=m+b\n",
    "    if y:\n",
    "        smax=s\n",
    "        y=False\n",
    "    if smax<s:\n",
    "        smax=s\n",
    "print(smax)"
   ]
  },
  {
   "cell_type": "code",
   "execution_count": 12,
   "metadata": {},
   "outputs": [
    {
     "name": "stdout",
     "output_type": "stream",
     "text": [
      "n=10\n",
      "a=1\n",
      "a=2\n",
      "a=3\n",
      "a=2\n",
      "a=0\n",
      "a=-1\n",
      "a=2\n",
      "a=3\n",
      "a=5\n",
      "a=6\n",
      "-2\n",
      "6 7\n"
     ]
    }
   ],
   "source": [
    "#25\n",
    "n=int(input('n='))\n",
    "s=0\n",
    "k=0\n",
    "b=0\n",
    "t=0\n",
    "index=0\n",
    "x=True \n",
    "for i in range(1,n+1):\n",
    "    a=int(input('a='))\n",
    "    if i%2==1:\n",
    "        k=a\n",
    "    if i%2==0:\n",
    "        b=a\n",
    "        t=1\n",
    "    if t==0:\n",
    "        continue\n",
    "    s=k*b\n",
    "    if x:\n",
    "        index=i\n",
    "        smin=s\n",
    "        x=False\n",
    "    if smin>s:\n",
    "        smin=s\n",
    "        index=i\n",
    "print(smin)\n",
    "print(index-1,index)\n"
   ]
  },
  {
   "cell_type": "code",
   "execution_count": 4,
   "metadata": {},
   "outputs": [
    {
     "name": "stdout",
     "output_type": "stream",
     "text": [
      "n=10\n",
      "a=2\n",
      "a=4\n",
      "a=8\n",
      "a=7\n",
      "a=8\n",
      "a=4\n",
      "a=2\n",
      "a=6\n",
      "a=2\n",
      "a=10\n",
      "6\n"
     ]
    }
   ],
   "source": [
    "#26\n",
    "n=int(input('n='))\n",
    "x=True \n",
    "k=0\n",
    "s=0\n",
    "kmax=0\n",
    "for i in range(1,n+1):\n",
    "    a=int(input('a='))\n",
    "    if x and a%2==0:\n",
    "        s+=1\n",
    "        kmax=1\n",
    "        x=False\n",
    "    if a%2==0:\n",
    "        k+=1\n",
    "        s+=1\n",
    "    if a%2==1:\n",
    "        k=0\n",
    "    if kmax<k:\n",
    "        kmax=k\n",
    "if s==0 or kmax==1:\n",
    "    print(0)\n",
    "else:\n",
    "    print(kmax)"
   ]
  },
  {
   "cell_type": "code",
   "execution_count": 51,
   "metadata": {},
   "outputs": [
    {
     "name": "stdout",
     "output_type": "stream",
     "text": [
      "n=10\n",
      "a=0\n",
      "a=0\n",
      "a=1\n",
      "a=1\n",
      "a=1\n",
      "a=1\n",
      "a=0\n",
      "a=1\n",
      "a=0\n",
      "a=0\n",
      "3\n",
      "4\n"
     ]
    }
   ],
   "source": [
    "#27\n",
    "n=int(input('n='))\n",
    "s=0\n",
    "j=1\n",
    "k=0\n",
    "x=True\n",
    "imax=0\n",
    "jmax=0\n",
    "m=0\n",
    "r=1\n",
    "l=0\n",
    "for i in range(1,n+1):\n",
    "    a=int(input('a='))\n",
    "    if a==1:\n",
    "        s+=a\n",
    "        if s/j==a:\n",
    "            j+=1\n",
    "            k+=1  \n",
    "        m=0\n",
    "        r=1\n",
    "        l=0\n",
    "    else:\n",
    "        m+=1\n",
    "        if m/r==1:\n",
    "            r+=1\n",
    "            l+=1\n",
    "        s=0\n",
    "        j=1\n",
    "        k=0\n",
    "    if x:\n",
    "        smax=s\n",
    "        mmax=m\n",
    "        x=False\n",
    "    if smax<s:\n",
    "        smax=s\n",
    "        \n",
    "    if smax==s:\n",
    "        imax=i\n",
    "        \n",
    "    if mmax<m:\n",
    "        mmax=m\n",
    "        \n",
    "    if mmax==m:\n",
    "        jmax=i\n",
    "if mmax>smax:\n",
    "    print(jmax-mmax+1)\n",
    "    print(mmax)\n",
    "else:\n",
    "    print(imax-smax+1)\n",
    "    print(smax)"
   ]
  },
  {
   "cell_type": "code",
   "execution_count": 49,
   "metadata": {},
   "outputs": [
    {
     "name": "stdout",
     "output_type": "stream",
     "text": [
      "n=10\n",
      "a=1\n",
      "a=2\n",
      "a=3\n",
      "a=0\n",
      "a=5\n",
      "a=8\n",
      "a=9\n",
      "a=6\n",
      "a=5\n",
      "a=7\n",
      "1\n",
      "1\n"
     ]
    }
   ],
   "source": [
    "#28\n",
    "n=int(input('n='))\n",
    "s=0\n",
    "j=1\n",
    "k=0\n",
    "x=True\n",
    "imax=0\n",
    "for i in range(1,n+1):\n",
    "    a=int(input('a='))\n",
    "    if a==1:\n",
    "        s+=a\n",
    "        if s/j==a:\n",
    "            j+=1\n",
    "            k+=1        \n",
    "    else:\n",
    "        s=0\n",
    "        j=1\n",
    "        k=0\n",
    "    if x:\n",
    "        smax=s\n",
    "        x=False\n",
    "    if smax<s:\n",
    "        smax=s\n",
    "    if smax==s:\n",
    "        imax=i\n",
    "print(imax-smax+1)\n",
    "print(smax)"
   ]
  },
  {
   "cell_type": "code",
   "execution_count": 21,
   "metadata": {},
   "outputs": [
    {
     "name": "stdout",
     "output_type": "stream",
     "text": [
      "n=10\n",
      "a=2\n",
      "a=3\n",
      "a=4\n",
      "a=1\n",
      "a=1\n",
      "a=1\n",
      "a=1\n",
      "a=1\n",
      "a=1\n",
      "a=1\n",
      "7.0\n"
     ]
    }
   ],
   "source": [
    "#29\n",
    "n=int(input('n='))\n",
    "x=True \n",
    "s=0\n",
    "j=0\n",
    "smax=0\n",
    "for i in range(1,n+1):\n",
    "    a=int(input('a='))\n",
    "    if x:\n",
    "        mini=a\n",
    "        smax=s\n",
    "        x=False\n",
    "    if mini>a:\n",
    "        mini=a\n",
    "    if mini==a:\n",
    "        s+=mini\n",
    "    else:\n",
    "        s=0\n",
    "    if smax<s:\n",
    "        smax=s\n",
    "print(smax/mini)"
   ]
  },
  {
   "cell_type": "code",
   "execution_count": 3,
   "metadata": {},
   "outputs": [
    {
     "name": "stdout",
     "output_type": "stream",
     "text": [
      "n=10\n",
      "a=5\n",
      "a=5\n",
      "a=2\n",
      "a=3\n",
      "a=4\n",
      "a=1\n",
      "a=2\n",
      "a=3\n",
      "a=4\n",
      "a=5\n",
      "2\n"
     ]
    }
   ],
   "source": [
    "#30\n",
    "n=int(input('n='))\n",
    "x=True \n",
    "j=n;k=1\n",
    "for i in range(1,n+1):\n",
    "    a=int(input('a='))\n",
    "    if x:\n",
    "        maxi=a\n",
    "        x=False\n",
    "        continue\n",
    "    if maxi<a:\n",
    "        maxi=a\n",
    "        k=1\n",
    "        j=n-i\n",
    "    elif maxi==a:\n",
    "        k+=1\n",
    "    else:\n",
    "        if j>k and k!=0:\n",
    "            j=k\n",
    "        k=0\n",
    "if j>k and k!=0:\n",
    "    j=k\n",
    "print(j)"
   ]
  },
  {
   "cell_type": "code",
   "execution_count": 20,
   "metadata": {},
   "outputs": [
    {
     "name": "stdout",
     "output_type": "stream",
     "text": [
      "a=-100\n",
      "b=-10\n",
      "n=5\n",
      "c=-1\n",
      "c=-4\n",
      "c=-5\n",
      "c=6\n",
      "c=3\n",
      "4.0\n"
     ]
    }
   ],
   "source": [
    "a=int(input('a='))\n",
    "b=int(input('b='))\n",
    "n=int(input('n='))\n",
    "s=0\n",
    "k=0\n",
    "x=True\n",
    "for i in range(1,n+1):\n",
    "    c=int(input('c='))\n",
    "    if c<0:\n",
    "        k=-1\n",
    "    if c>0:\n",
    "        k=1\n",
    "    if x and a<k*c*c<b:\n",
    "        maxi=c*c\n",
    "        s+=1\n",
    "        x=False\n",
    "    else:\n",
    "        continue\n",
    "    if maxi<c*c and a<k*c*c<b:\n",
    "        maxi=c*c\n",
    "if s==0:\n",
    "    print(\"Bunday son yo'q\")\n",
    "else:\n",
    "    print(k*maxi**0.5)"
   ]
  }
 ],
 "metadata": {
  "celltoolbar": "Raw Cell Format",
  "kernelspec": {
   "display_name": "Python 3",
   "language": "python",
   "name": "python3"
  },
  "language_info": {
   "codemirror_mode": {
    "name": "ipython",
    "version": 3
   },
   "file_extension": ".py",
   "mimetype": "text/x-python",
   "name": "python",
   "nbconvert_exporter": "python",
   "pygments_lexer": "ipython3",
   "version": "3.8.6rc1"
  }
 },
 "nbformat": 4,
 "nbformat_minor": 4
}

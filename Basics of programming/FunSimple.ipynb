{
 "cells": [
  {
   "cell_type": "code",
   "execution_count": 5,
   "metadata": {},
   "outputs": [
    {
     "data": {
      "text/plain": [
       "1024"
      ]
     },
     "execution_count": 5,
     "metadata": {},
     "output_type": "execute_result"
    }
   ],
   "source": [
    "def power(a,b):\n",
    "    k=a\n",
    "    b-=1\n",
    "    while b>0:\n",
    "        a*=k\n",
    "        b-=1\n",
    "    return a\n",
    "power(2,10)"
   ]
  },
  {
   "cell_type": "code",
   "execution_count": 17,
   "metadata": {},
   "outputs": [
    {
     "name": "stdout",
     "output_type": "stream",
     "text": [
      "2\n"
     ]
    }
   ],
   "source": [
    "import math\n",
    "x=math.ceil(1.4)\n",
    "print(x)"
   ]
  },
  {
   "cell_type": "code",
   "execution_count": 2,
   "metadata": {},
   "outputs": [
    {
     "name": "stdout",
     "output_type": "stream",
     "text": [
      "20\n"
     ]
    }
   ],
   "source": [
    "def kop(a,b):\n",
    "    k=a\n",
    "    b-=1\n",
    "    while b>0:\n",
    "        a+=k\n",
    "        b-=1\n",
    "    return a\n",
    "print(kop(4,5))"
   ]
  },
  {
   "cell_type": "code",
   "execution_count": 3,
   "metadata": {},
   "outputs": [
    {
     "name": "stdout",
     "output_type": "stream",
     "text": [
      "a=2.5\n",
      "b=3.2\n",
      "c=2.6\n",
      "d=8\n",
      "e=9\n",
      "15.625\n",
      "32.76800000000001\n",
      "17.576\n",
      "512\n",
      "729\n"
     ]
    }
   ],
   "source": [
    "#1\n",
    "def power3(a):\n",
    "    return a**3\n",
    "a=float(input('a='))\n",
    "b=float(input('b='))\n",
    "c=float(input('c='))\n",
    "d=int(input('d='))\n",
    "e=int(input('e='))\n",
    "print(power3(a))\n",
    "print(power3(b))\n",
    "print(power3(c))\n",
    "print(power3(d))\n",
    "print(power3(e))"
   ]
  },
  {
   "cell_type": "code",
   "execution_count": 4,
   "metadata": {},
   "outputs": [
    {
     "name": "stdout",
     "output_type": "stream",
     "text": [
      "a=2\n"
     ]
    },
    {
     "data": {
      "text/plain": [
       "(4, 8, 16)"
      ]
     },
     "execution_count": 4,
     "metadata": {},
     "output_type": "execute_result"
    }
   ],
   "source": [
    "#2\n",
    "def power234(a):\n",
    "    return a**2,a**3,a**4\n",
    "a=int(input('a='))\n",
    "power234(a)"
   ]
  },
  {
   "cell_type": "code",
   "execution_count": 6,
   "metadata": {},
   "outputs": [
    {
     "name": "stdout",
     "output_type": "stream",
     "text": [
      "a=2\n",
      "b=3\n",
      "c=4\n",
      "d=5\n"
     ]
    },
    {
     "data": {
      "text/plain": [
       "(2.5, 3.5, 4.5, 3.5)"
      ]
     },
     "execution_count": 6,
     "metadata": {},
     "output_type": "execute_result"
    }
   ],
   "source": [
    "#3\n",
    "def mean(a,b,c,d):\n",
    "    return (a+b)/2,(b+c)/2,(c+d)/2,(a+d)/2\n",
    "a=float(input('a='))\n",
    "b=float(input('b='))\n",
    "c=float(input('c='))\n",
    "d=int(input('d='))\n",
    "mean(a,b,c,d)"
   ]
  },
  {
   "cell_type": "code",
   "execution_count": 7,
   "metadata": {},
   "outputs": [
    {
     "name": "stdout",
     "output_type": "stream",
     "text": [
      "a=4\n",
      "b=6\n",
      "c=8\n"
     ]
    },
    {
     "data": {
      "text/plain": [
       "(12.0, 6.928203230275509, 18.0, 15.588457268119896, 24.0, 27.712812921102035)"
      ]
     },
     "execution_count": 7,
     "metadata": {},
     "output_type": "execute_result"
    }
   ],
   "source": [
    "#4\n",
    "def triangle(a,b,c):\n",
    "    return 3*a,3**0.5*a*a/4,3*b,3**0.5*b*b/4,3*c,3**0.5*c*c/4\n",
    "a=float(input('a='))\n",
    "b=float(input('b='))\n",
    "c=float(input('c='))\n",
    "triangle(a,b,c)"
   ]
  },
  {
   "cell_type": "code",
   "execution_count": 9,
   "metadata": {},
   "outputs": [
    {
     "name": "stdout",
     "output_type": "stream",
     "text": [
      "x1=2\n",
      "y1=8\n",
      "x2=6\n",
      "y2=-2\n",
      "a=-2\n",
      "b=3\n",
      "c=2\n",
      "d=5\n",
      "(40, 28)\n"
     ]
    },
    {
     "data": {
      "text/plain": [
       "(8, 12)"
      ]
     },
     "execution_count": 9,
     "metadata": {},
     "output_type": "execute_result"
    }
   ],
   "source": [
    "#5\n",
    "def RectPS(x1,y1,x2,y2):\n",
    "    return abs((x2-x1)*(y2-y1)),2*(abs(x2-x1)+abs((y2-y1)))\n",
    "x1=int(input('x1='))\n",
    "y1=int(input('y1='))\n",
    "x2=int(input('x2='))\n",
    "y2=int(input('y2='))\n",
    "a=int(input('a='))\n",
    "b=int(input('b='))\n",
    "c=int(input('c='))\n",
    "d=int(input('d='))\n",
    "print(RectPS(x1,y1,x2,y2))\n",
    "RectPS(a,b,c,d)"
   ]
  },
  {
   "cell_type": "code",
   "execution_count": 11,
   "metadata": {},
   "outputs": [
    {
     "name": "stdout",
     "output_type": "stream",
     "text": [
      "a=123\n",
      "b=45\n",
      "c=1\n",
      "(3, 6)\n",
      "(2, 9)\n"
     ]
    },
    {
     "data": {
      "text/plain": [
       "(1, 1)"
      ]
     },
     "execution_count": 11,
     "metadata": {},
     "output_type": "execute_result"
    }
   ],
   "source": [
    "#6\n",
    "def DigitCountSum(a):\n",
    "    k=0\n",
    "    s=0\n",
    "    while a>0:\n",
    "        k+=a%10\n",
    "        s+=1\n",
    "        a//=10\n",
    "    return s,k\n",
    "a=int(input('a='))\n",
    "b=int(input('b='))\n",
    "c=int(input('c='))\n",
    "print(DigitCountSum(a))\n",
    "print(DigitCountSum(b))\n",
    "DigitCountSum(c)"
   ]
  },
  {
   "cell_type": "code",
   "execution_count": 12,
   "metadata": {},
   "outputs": [
    {
     "name": "stdout",
     "output_type": "stream",
     "text": [
      "a=123\n",
      "b=45\n",
      "c=7896\n",
      "321\n",
      "54\n",
      "6987\n"
     ]
    }
   ],
   "source": [
    "#7\n",
    "def InvertDigit(a):\n",
    "    s=0\n",
    "    while a>0:\n",
    "        s=s*10+a%10\n",
    "        a//=10\n",
    "    return s\n",
    "a=int(input('a='))\n",
    "b=int(input('b='))\n",
    "c=int(input('c='))\n",
    "print(InvertDigit(a))\n",
    "print(InvertDigit(b))\n",
    "print(InvertDigit(c))"
   ]
  },
  {
   "cell_type": "code",
   "execution_count": 13,
   "metadata": {},
   "outputs": [
    {
     "name": "stdout",
     "output_type": "stream",
     "text": [
      "a=123\n",
      "b=4\n"
     ]
    },
    {
     "data": {
      "text/plain": [
       "1234"
      ]
     },
     "execution_count": 13,
     "metadata": {},
     "output_type": "execute_result"
    }
   ],
   "source": [
    "#8\n",
    "def AddRightDigit(a,b):\n",
    "    a=a*10+b\n",
    "    return a\n",
    "a=int(input('a='))\n",
    "b=int(input('b='))\n",
    "AddRightDigit(a,b)\n",
    "    \n",
    "    "
   ]
  },
  {
   "cell_type": "code",
   "execution_count": 7,
   "metadata": {},
   "outputs": [
    {
     "name": "stdout",
     "output_type": "stream",
     "text": [
      "a=23\n",
      "b=4\n"
     ]
    },
    {
     "data": {
      "text/plain": [
       "423"
      ]
     },
     "execution_count": 7,
     "metadata": {},
     "output_type": "execute_result"
    }
   ],
   "source": [
    "#9\n",
    "def AddLeftDigit(a,b):\n",
    "    s=0\n",
    "    k=a\n",
    "    while a>0:\n",
    "        s+=1\n",
    "        a//=10\n",
    "    return b*10**s+k\n",
    "a=int(input('a='))\n",
    "b=int(input('b='))\n",
    "AddLeftDigit(a,b)"
   ]
  },
  {
   "cell_type": "code",
   "execution_count": 16,
   "metadata": {},
   "outputs": [
    {
     "name": "stdout",
     "output_type": "stream",
     "text": [
      "a=3\n",
      "b=7\n"
     ]
    },
    {
     "data": {
      "text/plain": [
       "(7, 3)"
      ]
     },
     "execution_count": 16,
     "metadata": {},
     "output_type": "execute_result"
    }
   ],
   "source": [
    "#10_1\n",
    "def Swap(a,b):\n",
    "    a=a+b\n",
    "    b=a-b\n",
    "    a=a-b\n",
    "    return a,b\n",
    "a=int(input('a='))\n",
    "b=int(input('b='))\n",
    "Swap(a,b)"
   ]
  },
  {
   "cell_type": "code",
   "execution_count": 17,
   "metadata": {},
   "outputs": [
    {
     "name": "stdout",
     "output_type": "stream",
     "text": [
      "a=5\n",
      "b=2\n"
     ]
    },
    {
     "data": {
      "text/plain": [
       "(2, 5)"
      ]
     },
     "execution_count": 17,
     "metadata": {},
     "output_type": "execute_result"
    }
   ],
   "source": [
    "#10_2\n",
    "def Swap(a,b):\n",
    "    a,b=b,a\n",
    "    return a,b\n",
    "a=int(input('a='))\n",
    "b=int(input('b='))\n",
    "Swap(a,b)"
   ]
  },
  {
   "cell_type": "code",
   "execution_count": 21,
   "metadata": {},
   "outputs": [
    {
     "name": "stdout",
     "output_type": "stream",
     "text": [
      "a=8\n",
      "b=9\n",
      "c=5\n",
      "d=6\n"
     ]
    },
    {
     "data": {
      "text/plain": [
       "(8, 6)"
      ]
     },
     "execution_count": 21,
     "metadata": {},
     "output_type": "execute_result"
    }
   ],
   "source": [
    "#11\n",
    "def Minmax(x,y):\n",
    "    if x<y:\n",
    "        x,y=y,x\n",
    "    return x,y\n",
    "a=int(input('a='))\n",
    "b=int(input('b='))\n",
    "c=int(input('c='))\n",
    "d=int(input('d='))\n",
    "Minmax(a,b)\n",
    "Minmax(a,c)\n",
    "Minmax(a,d)"
   ]
  },
  {
   "cell_type": "code",
   "execution_count": 28,
   "metadata": {},
   "outputs": [
    {
     "name": "stdout",
     "output_type": "stream",
     "text": [
      "a=9\n",
      "b=7\n",
      "c=2\n",
      "(2, 7, 9)\n",
      "a1=10\n",
      "b1=3\n",
      "c1=4\n"
     ]
    },
    {
     "data": {
      "text/plain": [
       "(3, 4, 10)"
      ]
     },
     "execution_count": 28,
     "metadata": {},
     "output_type": "execute_result"
    }
   ],
   "source": [
    "#12\n",
    "def SortInc(a,b,c):\n",
    "    if b>c:\n",
    "        c,b=b,c\n",
    "    if a>c:\n",
    "        c,a=a,c\n",
    "    if a>b:\n",
    "        a,b=b,a\n",
    "    return a,b,c\n",
    "a=int(input('a='))\n",
    "b=int(input('b='))\n",
    "c=int(input('c='))\n",
    "print(SortInc(a,b,c))\n",
    "a1=int(input('a1='))\n",
    "b1=int(input('b1='))\n",
    "c1=int(input('c1='))\n",
    "SortInc(a1,b1,c1)"
   ]
  },
  {
   "cell_type": "code",
   "execution_count": 30,
   "metadata": {},
   "outputs": [
    {
     "name": "stdout",
     "output_type": "stream",
     "text": [
      "a=3\n",
      "b=2\n",
      "c=6\n",
      "(6, 3, 2)\n",
      "a1=1\n",
      "b1=9\n",
      "c1=7\n"
     ]
    },
    {
     "data": {
      "text/plain": [
       "(9, 7, 1)"
      ]
     },
     "execution_count": 30,
     "metadata": {},
     "output_type": "execute_result"
    }
   ],
   "source": [
    "#13\n",
    "def SortDec(a,b,c):\n",
    "    if b>a:\n",
    "        a,b=b,a\n",
    "    if c>a:\n",
    "        a,c=c,a\n",
    "    if c>b:\n",
    "        c,b=b,c\n",
    "    return a,b,c\n",
    "a=int(input('a='))\n",
    "b=int(input('b='))\n",
    "c=int(input('c='))\n",
    "print(SortDec(a,b,c))\n",
    "a1=int(input('a1='))\n",
    "b1=int(input('b1='))\n",
    "c1=int(input('c1='))\n",
    "SortDec(a1,b1,c1)\n",
    "    "
   ]
  },
  {
   "cell_type": "code",
   "execution_count": 31,
   "metadata": {},
   "outputs": [
    {
     "name": "stdout",
     "output_type": "stream",
     "text": [
      "a=1\n",
      "b=2\n",
      "c=3\n",
      "(2, 3, 1)\n",
      "a1=4\n",
      "b1=5\n",
      "c1=6\n"
     ]
    },
    {
     "data": {
      "text/plain": [
       "(5, 6, 4)"
      ]
     },
     "execution_count": 31,
     "metadata": {},
     "output_type": "execute_result"
    }
   ],
   "source": [
    "#14\n",
    "def ShiftRight(a,b,c):\n",
    "    a,b,c=b,c,a\n",
    "    return a,b,c\n",
    "a=int(input('a='))\n",
    "b=int(input('b='))\n",
    "c=int(input('c='))\n",
    "print(ShiftRight(a,b,c))\n",
    "a1=int(input('a1='))\n",
    "b1=int(input('b1='))\n",
    "c1=int(input('c1='))\n",
    "ShiftRight(a1,b1,c1)"
   ]
  },
  {
   "cell_type": "code",
   "execution_count": 32,
   "metadata": {},
   "outputs": [
    {
     "name": "stdout",
     "output_type": "stream",
     "text": [
      "a=1\n",
      "b=2\n",
      "c=3\n",
      "(3, 1, 2)\n",
      "a1=4\n",
      "b1=5\n",
      "c1=6\n"
     ]
    },
    {
     "data": {
      "text/plain": [
       "(6, 4, 5)"
      ]
     },
     "execution_count": 32,
     "metadata": {},
     "output_type": "execute_result"
    }
   ],
   "source": [
    "#15\n",
    "def ShiftLeft(a,b,c):\n",
    "    c,b,a=b,a,c\n",
    "    return a,b,c\n",
    "a=int(input('a='))\n",
    "b=int(input('b='))\n",
    "c=int(input('c='))\n",
    "print(ShiftLeft(a,b,c))\n",
    "a1=int(input('a1='))\n",
    "b1=int(input('b1='))\n",
    "c1=int(input('c1='))\n",
    "ShiftLeft(a1,b1,c1)"
   ]
  },
  {
   "cell_type": "code",
   "execution_count": 35,
   "metadata": {},
   "outputs": [
    {
     "name": "stdout",
     "output_type": "stream",
     "text": [
      "a=-2\n",
      "b=0\n",
      "-1\n"
     ]
    }
   ],
   "source": [
    "#16\n",
    "def ishora(a):\n",
    "    if a<0:\n",
    "        return -1\n",
    "    if a>0:\n",
    "        return 1\n",
    "    if a==0:\n",
    "        return 0\n",
    "a=int(input('a='))\n",
    "b=int(input('b='))\n",
    "print(ishora(a)+ishora(b))"
   ]
  },
  {
   "cell_type": "code",
   "execution_count": 36,
   "metadata": {},
   "outputs": [
    {
     "name": "stdout",
     "output_type": "stream",
     "text": [
      "a=1\n",
      "b=-2\n",
      "c=1\n"
     ]
    },
    {
     "data": {
      "text/plain": [
       "'bitta yechim bor'"
      ]
     },
     "execution_count": 36,
     "metadata": {},
     "output_type": "execute_result"
    }
   ],
   "source": [
    "#17\n",
    "def soni(a,b,c):\n",
    "    d=b*b-4*a*c\n",
    "    if d>0:\n",
    "        return 'ikkita yechimi bor'\n",
    "    if d==0:\n",
    "        return 'bitta yechim bor'\n",
    "    if d<0:\n",
    "        return 'yechim yoq'\n",
    "a=int(input('a='))\n",
    "b=int(input('b='))\n",
    "c=int(input('c='))\n",
    "print(soni(a,b,c))"
   ]
  },
  {
   "cell_type": "code",
   "execution_count": 37,
   "metadata": {},
   "outputs": [
    {
     "name": "stdout",
     "output_type": "stream",
     "text": [
      "r=2\n",
      "12.566\n",
      "r1=3\n",
      "28.2735\n",
      "r2=4\n"
     ]
    },
    {
     "data": {
      "text/plain": [
       "50.264"
      ]
     },
     "execution_count": 37,
     "metadata": {},
     "output_type": "execute_result"
    }
   ],
   "source": [
    "#18\n",
    "def yuzi(a):\n",
    "    pi=3.1415\n",
    "    return pi*a*a\n",
    "r=int(input('r='))\n",
    "print(yuzi(r))\n",
    "r1=int(input('r1='))\n",
    "print(yuzi(r1))\n",
    "r2=int(input('r2='))\n",
    "print(yuzi(r2))"
   ]
  },
  {
   "cell_type": "code",
   "execution_count": 40,
   "metadata": {},
   "outputs": [
    {
     "name": "stdout",
     "output_type": "stream",
     "text": [
      "r1=3\n",
      "r2=4\n"
     ]
    },
    {
     "data": {
      "text/plain": [
       "21.9905"
      ]
     },
     "execution_count": 40,
     "metadata": {},
     "output_type": "execute_result"
    }
   ],
   "source": [
    "#19\n",
    "def kesishmaydigan(a,b):\n",
    "    pi=3.1415\n",
    "    return pi*abs(a*a-b*b)\n",
    "r1=int(input('r1='))\n",
    "r2=int(input('r2='))\n",
    "print(kesishmaydigan(r1,r2))"
   ]
  },
  {
   "cell_type": "code",
   "execution_count": 41,
   "metadata": {},
   "outputs": [
    {
     "name": "stdout",
     "output_type": "stream",
     "text": [
      "a=3\n",
      "b=4\n"
     ]
    },
    {
     "data": {
      "text/plain": [
       "12.0"
      ]
     },
     "execution_count": 41,
     "metadata": {},
     "output_type": "execute_result"
    }
   ],
   "source": [
    "#20\n",
    "def p(a,b):\n",
    "    return a+b+(a*a+b*b)**0.5\n",
    "a=int(input('a='))\n",
    "b=int(input('b='))\n",
    "print(p(a,b))"
   ]
  },
  {
   "cell_type": "code",
   "execution_count": 22,
   "metadata": {},
   "outputs": [
    {
     "name": "stdout",
     "output_type": "stream",
     "text": [
      "a=0\n",
      "b=10\n",
      "45\n"
     ]
    }
   ],
   "source": [
    "#21\n",
    "def SumRange(a,b):\n",
    "    s=0\n",
    "    if a>b:\n",
    "        return 0\n",
    "    else:\n",
    "        for i in range(a+1,b):\n",
    "            s+=i\n",
    "        return s\n",
    "a=int(input('a='))\n",
    "b=int(input('b='))\n",
    "print(SumRange(a,b))"
   ]
  },
  {
   "cell_type": "code",
   "execution_count": 23,
   "metadata": {},
   "outputs": [
    {
     "name": "stdout",
     "output_type": "stream",
     "text": [
      "a=2\n",
      "b=3\n",
      "op=*\n"
     ]
    },
    {
     "data": {
      "text/plain": [
       "6"
      ]
     },
     "execution_count": 23,
     "metadata": {},
     "output_type": "execute_result"
    }
   ],
   "source": [
    "#22\n",
    "def calc(a,b,op):\n",
    "    if op == '+':\n",
    "        return a+b\n",
    "    if op == '-':\n",
    "        return a-b\n",
    "    if op == '*':\n",
    "        return a*b\n",
    "    if op == '/':\n",
    "        return a/b\n",
    "a=int(input('a='))\n",
    "b=int(input('b='))\n",
    "op=input('op=')\n",
    "print(calc(a,b,op))"
   ]
  },
  {
   "cell_type": "code",
   "execution_count": 24,
   "metadata": {},
   "outputs": [
    {
     "name": "stdout",
     "output_type": "stream",
     "text": [
      "x=2\n",
      "y=3\n",
      "I chorak\n",
      "x=-2\n",
      "y=3\n",
      "II chorak\n",
      "x=-5\n",
      "y=-6\n",
      "III chorak\n",
      "x=2\n",
      "y=-3\n",
      "IV chorak\n"
     ]
    }
   ],
   "source": [
    "#23\n",
    "def quarter(x,y):\n",
    "    if x>0 and y>0:\n",
    "        return 'I chorak'\n",
    "    if x>0 and y<0:\n",
    "        return 'IV chorak'\n",
    "    if x<0 and y<0:\n",
    "        return 'III chorak'\n",
    "    if x<0 and y>0:\n",
    "        return 'II chorak'\n",
    "for i in range(4):\n",
    "    x=int(input('x='))\n",
    "    y=int(input('y='))\n",
    "    print(quarter(x,y))"
   ]
  },
  {
   "cell_type": "code",
   "execution_count": 25,
   "metadata": {},
   "outputs": [
    {
     "name": "stdout",
     "output_type": "stream",
     "text": [
      "a=2\n",
      "True\n",
      "a=3\n",
      "False\n",
      "a=4\n",
      "True\n"
     ]
    }
   ],
   "source": [
    "#24\n",
    "def even(a):\n",
    "    if a%2==0:\n",
    "        return True\n",
    "    else:\n",
    "        return False\n",
    "for i in range(3):\n",
    "    a=int(input('a='))\n",
    "    print(even(a))"
   ]
  },
  {
   "cell_type": "code",
   "execution_count": 26,
   "metadata": {},
   "outputs": [
    {
     "name": "stdout",
     "output_type": "stream",
     "text": [
      "a=25\n",
      "True\n",
      "a=20\n",
      "False\n",
      "a=36\n",
      "True\n"
     ]
    }
   ],
   "source": [
    "#25\n",
    "def issquare(k):\n",
    "    if k**0.5==int(k**0.5):\n",
    "        return True\n",
    "    else:\n",
    "        return False\n",
    "for i in range(3):\n",
    "    a=int(input('a='))\n",
    "    print(issquare(a))       "
   ]
  },
  {
   "cell_type": "code",
   "execution_count": 28,
   "metadata": {},
   "outputs": [
    {
     "name": "stdout",
     "output_type": "stream",
     "text": [
      "a=125\n",
      "True\n",
      "a=20\n",
      "False\n",
      "a=625\n",
      "True\n"
     ]
    }
   ],
   "source": [
    "#26\n",
    "def ispower5(k):\n",
    "    while k>=5:\n",
    "        k//=5\n",
    "    if k==1:\n",
    "        return True\n",
    "    else:\n",
    "        return False\n",
    "for i in range(3):\n",
    "    a=int(input('a='))\n",
    "    print(ispower5(a))       "
   ]
  },
  {
   "cell_type": "code",
   "execution_count": 5,
   "metadata": {},
   "outputs": [
    {
     "name": "stdout",
     "output_type": "stream",
     "text": [
      "a=2\n",
      "b=27\n"
     ]
    },
    {
     "data": {
      "text/plain": [
       "False"
      ]
     },
     "execution_count": 5,
     "metadata": {},
     "output_type": "execute_result"
    }
   ],
   "source": [
    "#27\n",
    "def ispower(k,n):\n",
    "    a=k\n",
    "    while n>=k:\n",
    "        k*=a\n",
    "        if n==k:\n",
    "            return True\n",
    "            break\n",
    "    else:\n",
    "        return False\n",
    "a=int(input('a='))\n",
    "b=int(input('b='))\n",
    "print(ispower(a,b))"
   ]
  },
  {
   "cell_type": "code",
   "execution_count": 9,
   "metadata": {},
   "outputs": [
    {
     "name": "stdout",
     "output_type": "stream",
     "text": [
      "a=19\n"
     ]
    },
    {
     "data": {
      "text/plain": [
       "True"
      ]
     },
     "execution_count": 9,
     "metadata": {},
     "output_type": "execute_result"
    }
   ],
   "source": [
    "#28\n",
    "def isprime(n):\n",
    "    s=0\n",
    "    for i in range(2,int(n**0.5)+1):\n",
    "        if n%i==0:\n",
    "            s=1\n",
    "    if s==1:\n",
    "        return False\n",
    "    else:\n",
    "        return True\n",
    "a=int(input('a='))\n",
    "print(isprime(a))"
   ]
  },
  {
   "cell_type": "code",
   "execution_count": 11,
   "metadata": {},
   "outputs": [
    {
     "name": "stdout",
     "output_type": "stream",
     "text": [
      "a=12\n",
      "2\n",
      "a=123\n",
      "3\n",
      "a=123456\n",
      "6\n",
      "a=1\n",
      "1\n",
      "a=25\n",
      "2\n"
     ]
    }
   ],
   "source": [
    "#29\n",
    "def digitcount(k):\n",
    "    s=0\n",
    "    while k>0:\n",
    "        s+=1\n",
    "        k//=10\n",
    "    return s\n",
    "for i in range(5):\n",
    "    a=int(input('a='))\n",
    "    print(digitcount(a))"
   ]
  },
  {
   "cell_type": "code",
   "execution_count": 18,
   "metadata": {},
   "outputs": [
    {
     "name": "stdout",
     "output_type": "stream",
     "text": [
      "a=789\n",
      "b=3\n",
      "9\n",
      "a=456987\n",
      "b=3\n",
      "6\n",
      "a=7896541236\n",
      "b=6\n",
      "4\n"
     ]
    }
   ],
   "source": [
    "#30\n",
    "def digitN(k,n):\n",
    "    if k<10**(n-1):\n",
    "        return -1\n",
    "    while k>10**n:\n",
    "        k//=10\n",
    "    return k%10\n",
    "for i in range(3):\n",
    "    a=int(input('a='))\n",
    "    b=int(input('b='))\n",
    "    print(digitN(a,b))"
   ]
  },
  {
   "cell_type": "code",
   "execution_count": 2,
   "metadata": {},
   "outputs": [
    {
     "name": "stdout",
     "output_type": "stream",
     "text": [
      "a=123\n",
      "False\n"
     ]
    }
   ],
   "source": [
    "#31\n",
    "def ispalindrome(n):\n",
    "    s=0\n",
    "    k=n\n",
    "    while n>0:\n",
    "        s=s*10+n%10\n",
    "        n//=10\n",
    "    if s==k:\n",
    "        return True\n",
    "    else:\n",
    "        return False\n",
    "a=int(input('a='))\n",
    "print(ispalindrome(a))\n",
    "    "
   ]
  },
  {
   "cell_type": "code",
   "execution_count": 27,
   "metadata": {},
   "outputs": [
    {
     "name": "stdout",
     "output_type": "stream",
     "text": [
      "a=12\n",
      "0.20943951023931953\n",
      "a=360\n",
      "6.283185307179586\n",
      "a=90\n",
      "1.5707963267948966\n"
     ]
    }
   ],
   "source": [
    "#32\n",
    "from math import pi\n",
    "def DegToRad(d):\n",
    "    return pi*d/180\n",
    "for i in range(3):\n",
    "    a=int(input('a='))\n",
    "    print(DegToRad(a))"
   ]
  },
  {
   "cell_type": "code",
   "execution_count": 29,
   "metadata": {},
   "outputs": [
    {
     "name": "stdout",
     "output_type": "stream",
     "text": [
      "a=0.2\n",
      "11.459155902616464\n",
      "a=2\n",
      "114.59155902616465\n",
      "a=0.3\n",
      "17.188733853924695\n"
     ]
    }
   ],
   "source": [
    "#33\n",
    "from math import pi\n",
    "def RadToDeg(d):\n",
    "    return 180*d/pi\n",
    "for i in range(3):\n",
    "    a=float(input('a='))\n",
    "    print(RadToDeg(a))"
   ]
  },
  {
   "cell_type": "code",
   "execution_count": 30,
   "metadata": {},
   "outputs": [
    {
     "name": "stdout",
     "output_type": "stream",
     "text": [
      "a=6\n",
      "720\n",
      "a=5\n",
      "120\n",
      "a=3\n",
      "6\n"
     ]
    }
   ],
   "source": [
    "#34\n",
    "def Fact(n):\n",
    "    s=1\n",
    "    for i in range(2,n+1):\n",
    "        s*=i\n",
    "    return s\n",
    "for i in range(3):\n",
    "    a=int(input('a='))\n",
    "    print(Fact(a))"
   ]
  },
  {
   "cell_type": "code",
   "execution_count": 33,
   "metadata": {},
   "outputs": [
    {
     "name": "stdout",
     "output_type": "stream",
     "text": [
      "a=4\n",
      "620448401733239439360000\n",
      "a=3\n",
      "720\n",
      "a=2\n",
      "2\n"
     ]
    }
   ],
   "source": [
    "#35\n",
    "def Fact2(n):\n",
    "    s=1\n",
    "    a=1\n",
    "    for i in range(2,n+1):\n",
    "        s*=i\n",
    "    for k in range(2,s+1):\n",
    "        a*=k\n",
    "    return a\n",
    "for i in range(3):\n",
    "    a=int(input('a='))\n",
    "    print(Fact2(a))"
   ]
  },
  {
   "cell_type": "code",
   "execution_count": 36,
   "metadata": {},
   "outputs": [
    {
     "name": "stdout",
     "output_type": "stream",
     "text": [
      "a=4\n"
     ]
    },
    {
     "data": {
      "text/plain": [
       "5"
      ]
     },
     "execution_count": 36,
     "metadata": {},
     "output_type": "execute_result"
    }
   ],
   "source": [
    "#36\n",
    "def Fib(n):\n",
    "    f1=1\n",
    "    f2=1\n",
    "    fk=f1+f2\n",
    "    i=1\n",
    "    while i<=n:\n",
    "        if f1==n:\n",
    "            break\n",
    "        fk=f1+f2\n",
    "        f2=f1\n",
    "        f1=fk\n",
    "        i+=1\n",
    "    return i\n",
    "a=int(input('a='))\n",
    "print(Fib(a))"
   ]
  },
  {
   "cell_type": "code",
   "execution_count": 37,
   "metadata": {},
   "outputs": [
    {
     "name": "stdout",
     "output_type": "stream",
     "text": [
      "a=2\n",
      "b=3\n",
      "8\n",
      "a=3\n",
      "27\n",
      "a=6\n",
      "216\n"
     ]
    }
   ],
   "source": [
    "#37\n",
    "def power1(a,b):\n",
    "    return a**b\n",
    "x=True\n",
    "for i in range(3):\n",
    "    a=int(input('a='))\n",
    "    if x:\n",
    "        b=int(input('b='))\n",
    "        x=False\n",
    "    print(power1(a,b))"
   ]
  },
  {
   "cell_type": "code",
   "execution_count": 38,
   "metadata": {},
   "outputs": [
    {
     "name": "stdout",
     "output_type": "stream",
     "text": [
      "a=2\n",
      "b=3\n",
      "8\n",
      "a=-2\n",
      "-0.125\n",
      "a=3\n",
      "27\n"
     ]
    }
   ],
   "source": [
    "#38\n",
    "def power2(a,n):\n",
    "    if a<0:\n",
    "        return 1/a**n\n",
    "    else:\n",
    "        return a**n\n",
    "x=True\n",
    "for i in range(3):\n",
    "    a=int(input('a='))\n",
    "    if x:\n",
    "        b=int(input('b='))\n",
    "        x=False\n",
    "    print(power2(a,b))"
   ]
  },
  {
   "cell_type": "code",
   "execution_count": 9,
   "metadata": {},
   "outputs": [
    {
     "name": "stdout",
     "output_type": "stream",
     "text": [
      "a=4\n",
      "b=0.5\n",
      "2.0\n",
      "a=8\n",
      "b=0.3\n",
      "1.8660659830736148\n",
      "a=4\n",
      "b=0.55\n",
      "2.1435469250725863\n"
     ]
    }
   ],
   "source": [
    "#39\n",
    "def power1(a,n):\n",
    "    s=1\n",
    "    for i in range(int(n)):\n",
    "        s*=a\n",
    "    return s\n",
    "def power2(a,n):\n",
    "    if a<0:\n",
    "        return 1/a**n\n",
    "    else:\n",
    "        return a**n\n",
    "def power3(a,n):\n",
    "    c=1\n",
    "    while int(n)!=n:\n",
    "        n*=10\n",
    "        c*=10\n",
    "    k=n\n",
    "    m=c\n",
    "    while k!=c:\n",
    "        if k>c:\n",
    "            k%=c\n",
    "            if k==0:\n",
    "                k=c\n",
    "        if c>k:\n",
    "            c%=k\n",
    "            if c==0:\n",
    "                c=k\n",
    "    return power2(power1(a,n/k),c/m)\n",
    "for i in range(3):\n",
    "    a=float(input('a='))\n",
    "    b=float(input('b='))\n",
    "    print(power3(a,b))"
   ]
  },
  {
   "cell_type": "code",
   "execution_count": 2,
   "metadata": {},
   "outputs": [
    {
     "name": "stdout",
     "output_type": "stream",
     "text": [
      "x=1\n",
      "n=10000\n",
      "e=0.1\n",
      "2.6666666666666665\n",
      "e=0.156\n",
      "2.6666666666666665\n",
      "e=0.2\n",
      "2.5\n"
     ]
    }
   ],
   "source": [
    "#40\n",
    "def Exp(x,e,n):\n",
    "    s=1\n",
    "    k=1\n",
    "    a=0\n",
    "    for i in range(1,n+1):\n",
    "        k*=i\n",
    "        a=x**i/k\n",
    "        if s>e:\n",
    "            s+=a\n",
    "    return s\n",
    "x=int(input('x='))\n",
    "n=int(input('n='))\n",
    "for i in range(3):\n",
    "    e=float(input('e='))\n",
    "    print(Exp(x,e,n))"
   ]
  },
  {
   "cell_type": "code",
   "execution_count": 45,
   "metadata": {},
   "outputs": [
    {
     "name": "stdout",
     "output_type": "stream",
     "text": [
      "x=1\n",
      "n=10\n",
      "e=1\n",
      "1.0\n",
      "e=3\n",
      "1.0\n",
      "e=0.1\n",
      "0.8333333333333334\n"
     ]
    }
   ],
   "source": [
    "#41\n",
    "def sin1(x,e,n):\n",
    "    s=x\n",
    "    k=1\n",
    "    a=0\n",
    "    for i in range(3,2*n+2,2):\n",
    "        k*=i*(i-1)\n",
    "        a=x**i/k\n",
    "        a*=-1\n",
    "        if abs(a)>e:\n",
    "            s+=a\n",
    "    return s\n",
    "x=float(input('x='))\n",
    "n=int(input('n='))\n",
    "for i in range(3):\n",
    "    e=float(input('e='))\n",
    "    print(sin1(x,e,n))"
   ]
  },
  {
   "cell_type": "code",
   "execution_count": 47,
   "metadata": {},
   "outputs": [
    {
     "name": "stdout",
     "output_type": "stream",
     "text": [
      "x=1\n",
      "n=10\n",
      "e=0\n",
      "0.4569193651847561\n",
      "e=0.1\n",
      "0.5\n",
      "e=1\n",
      "1\n"
     ]
    }
   ],
   "source": [
    "#42\n",
    "def cos1(x,e,n):\n",
    "    s=1\n",
    "    k=1\n",
    "    a=0\n",
    "    for i in range(2,2*n+2,2):\n",
    "        k*=i*(i-1)\n",
    "        a=x**i/k\n",
    "        a*=-1\n",
    "        if abs(a)>e:\n",
    "            s+=a\n",
    "    return s\n",
    "x=float(input('x='))\n",
    "n=int(input('n='))\n",
    "for i in range(3):\n",
    "    e=float(input('e='))\n",
    "    print(cos1(x,e,n))"
   ]
  },
  {
   "cell_type": "code",
   "execution_count": 49,
   "metadata": {},
   "outputs": [
    {
     "name": "stdout",
     "output_type": "stream",
     "text": [
      "x=2\n",
      "n=10\n",
      "e=2\n",
      "419.4897546897547\n",
      "e=1\n",
      "423.4897546897547\n",
      "e=0.1\n",
      "423.4897546897547\n"
     ]
    }
   ],
   "source": [
    "#43\n",
    "def Ln1(x,e,n):\n",
    "    s=0\n",
    "    a=0\n",
    "    for i in range(1,n+2):\n",
    "        a=x**i/i\n",
    "        if abs(a)>e:\n",
    "            s+=a\n",
    "        a*=-1\n",
    "    return s\n",
    "x=int(input('x='))\n",
    "n=int(input('n='))\n",
    "for i in range(3):\n",
    "    e=float(input('e='))\n",
    "    print(Ln1(x,e,n))"
   ]
  },
  {
   "cell_type": "code",
   "execution_count": 51,
   "metadata": {},
   "outputs": [
    {
     "name": "stdout",
     "output_type": "stream",
     "text": [
      "x=1\n",
      "n=10\n",
      "e=2\n",
      "0\n",
      "e=0.1\n",
      "1.7873015873015872\n",
      "e=0.5\n",
      "1.0\n"
     ]
    }
   ],
   "source": [
    "#44\n",
    "def Arctg(x,e,n):\n",
    "    s=0\n",
    "    a=0\n",
    "    for i in range(1,2*n+2,2):\n",
    "        a=x**i/i\n",
    "        if abs(a)>e:\n",
    "            s+=a\n",
    "        a*=-1\n",
    "    return s\n",
    "x=int(input('x='))\n",
    "n=int(input('n='))\n",
    "for i in range(3):\n",
    "    e=float(input('e='))\n",
    "    print(Arctg(x,e,n))"
   ]
  },
  {
   "cell_type": "code",
   "execution_count": 10,
   "metadata": {},
   "outputs": [
    {
     "name": "stdout",
     "output_type": "stream",
     "text": [
      "a=4\n",
      "x=1\n",
      "e=0\n"
     ]
    },
    {
     "data": {
      "text/plain": [
       "13.083333333333334"
      ]
     },
     "execution_count": 10,
     "metadata": {},
     "output_type": "execute_result"
    }
   ],
   "source": [
    "#45\n",
    "from math import factorial\n",
    "def power4(x,a,e):\n",
    "    s=0\n",
    "    if 1>e: \n",
    "        s=1\n",
    "    k=1\n",
    "    for i in range(1,a+1):\n",
    "        k*=(a-i+1)*x\n",
    "        y=k/factorial(i)\n",
    "        if abs(y)>e:\n",
    "            s+=y\n",
    "    return s\n",
    "a=int(input('a='))\n",
    "x=float(input('x='))\n",
    "e=float(input('e='))\n",
    "print(power4(x,a,e))"
   ]
  },
  {
   "cell_type": "code",
   "execution_count": 3,
   "metadata": {},
   "outputs": [
    {
     "name": "stdout",
     "output_type": "stream",
     "text": [
      "a=8\n",
      "b=9\n",
      "1\n"
     ]
    }
   ],
   "source": [
    "#46\n",
    "def ekub(a,b):\n",
    "    while a!=b:\n",
    "        if a>b:\n",
    "            a%=b\n",
    "            if a==0:\n",
    "                a=b\n",
    "        if b>a:\n",
    "            b%=a\n",
    "            if b==0:\n",
    "                b=a\n",
    "    return a\n",
    "a=int(input('a='))\n",
    "b=int(input('b='))\n",
    "print(ekub(a,b))"
   ]
  },
  {
   "cell_type": "code",
   "execution_count": 10,
   "metadata": {},
   "outputs": [
    {
     "name": "stdout",
     "output_type": "stream",
     "text": [
      "n=3\n",
      "a=12\n",
      "a=24\n",
      "a=30\n",
      "6\n"
     ]
    }
   ],
   "source": [
    "n=int(input('n='))\n",
    "def EKUB(a,b):\n",
    "    while a!=b:\n",
    "        if a>b:\n",
    "            a%=b\n",
    "            if a==0:\n",
    "                a=b\n",
    "        if b>a:\n",
    "            b%=a\n",
    "            if b==0:\n",
    "                b=a\n",
    "    return a\n",
    "b=int(input('a='))\n",
    "for i in range(1,n):\n",
    "    a=int(input('a='))\n",
    "    b=EKUB(b,a)\n",
    "print(b)"
   ]
  },
  {
   "cell_type": "code",
   "execution_count": 4,
   "metadata": {},
   "outputs": [
    {
     "name": "stdout",
     "output_type": "stream",
     "text": [
      "a=8\n",
      "b=9\n",
      "c=5\n",
      "d=6\n",
      "(8.0, 9.0)\n",
      "(8.0, 5.0)\n",
      "(4.0, 3.0)\n"
     ]
    }
   ],
   "source": [
    "#47\n",
    "def Frac1(a,b):\n",
    "    k=a\n",
    "    c=b\n",
    "    while a!=b:\n",
    "        if a>b:\n",
    "            a%=b\n",
    "            if a==0:\n",
    "                a=b\n",
    "        if b>a:\n",
    "            b%=a\n",
    "            if b==0:\n",
    "                b=a \n",
    "    k/=a;c/=a\n",
    "    return k,c\n",
    "a=int(input('a='))\n",
    "b=int(input('b='))\n",
    "c=int(input('c='))\n",
    "d=int(input('d='))\n",
    "print(Frac1(a,b))\n",
    "print(Frac1(a,c))\n",
    "print(Frac1(a,d))"
   ]
  },
  {
   "cell_type": "code",
   "execution_count": 68,
   "metadata": {},
   "outputs": [
    {
     "name": "stdout",
     "output_type": "stream",
     "text": [
      "a=2\n",
      "b=12\n",
      "c=21\n",
      "d=36\n",
      "12.0\n",
      "42.0\n",
      "36.0\n"
     ]
    }
   ],
   "source": [
    "#48\n",
    "def ekuk(a,b):\n",
    "    k=a\n",
    "    c=b\n",
    "    while a!=b:\n",
    "        if a>b:\n",
    "            a%=b\n",
    "            if a==0:\n",
    "                a=b\n",
    "        if b>a:\n",
    "            b%=a\n",
    "            if b==0:\n",
    "                b=a \n",
    "    return k*c/a\n",
    "a=int(input('a='))\n",
    "b=int(input('b='))\n",
    "c=int(input('c='))\n",
    "d=int(input('d='))\n",
    "print(ekuk(a,b))\n",
    "print(ekuk(a,c))\n",
    "print(ekuk(a,d))"
   ]
  },
  {
   "cell_type": "code",
   "execution_count": null,
   "metadata": {},
   "outputs": [],
   "source": [
    "#n_ekuk\n",
    "def ekuk(a,b):\n",
    "    k=a\n",
    "    c=b\n",
    "    while a!=b:\n",
    "        if a>b:\n",
    "            a%=b\n",
    "            if a==0:\n",
    "                a=b\n",
    "        if b>a:\n",
    "            b%=a\n",
    "            if b==0:\n",
    "                b=a \n",
    "    return k*c/a\n",
    "n=int(input('n='))\n",
    "b=int(input('a='))\n",
    "for i in range(2,n):\n",
    "    a=int(input('a='))\n",
    "    b=ekuk(a,b)\n",
    "print(b)"
   ]
  },
  {
   "cell_type": "code",
   "execution_count": 69,
   "metadata": {},
   "outputs": [
    {
     "name": "stdout",
     "output_type": "stream",
     "text": [
      "a=12\n",
      "b=21\n",
      "c=5\n",
      "d=32\n",
      "630.0\n",
      "1920.0\n",
      "2016.0\n"
     ]
    }
   ],
   "source": [
    "#49\n",
    "def ekuk(a,b,d):\n",
    "    k=a\n",
    "    c=b\n",
    "    m=d\n",
    "    while a!=b:\n",
    "        if a>b:\n",
    "            a%=b\n",
    "            if a==0:\n",
    "                a=b\n",
    "        if b>a:\n",
    "            b%=a\n",
    "            if b==0:\n",
    "                b=a \n",
    "        if a>d:\n",
    "            a%=d\n",
    "            if a==0:\n",
    "                a=d\n",
    "        if b>d:\n",
    "            b%=d\n",
    "            if b==0:\n",
    "                b=d \n",
    "    return k*c*m/a\n",
    "a=int(input('a='))\n",
    "b=int(input('b='))\n",
    "c=int(input('c='))\n",
    "d=int(input('d='))\n",
    "print(ekuk(a,b,c))\n",
    "print(ekuk(a,c,d))\n",
    "print(ekuk(a,d,b))"
   ]
  },
  {
   "cell_type": "code",
   "execution_count": 17,
   "metadata": {},
   "outputs": [
    {
     "name": "stdout",
     "output_type": "stream",
     "text": [
      "T=3961\n",
      "1 : 6 : 1\n"
     ]
    }
   ],
   "source": [
    "#50\n",
    "def TimeToHMS(T):\n",
    "    S=T%60\n",
    "    H=T//3600\n",
    "    M=(T-H*3600)//60\n",
    "    print(H,':',M,':',S)\n",
    "T=int(input('T='))\n",
    "TimeToHMS(T)"
   ]
  },
  {
   "cell_type": "code",
   "execution_count": 73,
   "metadata": {},
   "outputs": [
    {
     "name": "stdout",
     "output_type": "stream",
     "text": [
      "H=1\n",
      "M=6\n",
      "S=40\n"
     ]
    },
    {
     "data": {
      "text/plain": [
       "4000"
      ]
     },
     "execution_count": 73,
     "metadata": {},
     "output_type": "execute_result"
    }
   ],
   "source": [
    "#51\n",
    "def IncTime(H,M,S):\n",
    "    return H*3600+M*60+S\n",
    "H=int(input('H='))\n",
    "M=int(input('M='))\n",
    "S=int(input('S='))\n",
    "print(IncTime(H,M,S))"
   ]
  },
  {
   "cell_type": "code",
   "execution_count": 75,
   "metadata": {},
   "outputs": [
    {
     "name": "stdout",
     "output_type": "stream",
     "text": [
      "y=1300\n",
      "kabisa emas\n"
     ]
    }
   ],
   "source": [
    "#52\n",
    "def IsLeapYear(y):\n",
    "    if y%100!=0 and y%4==0:\n",
    "        return 'kabisa'\n",
    "    elif y%100==0 and y%400==0:\n",
    "        return 'kabisa'\n",
    "    else:\n",
    "        return 'kabisa emas'\n",
    "y=int(input('y='))\n",
    "print(IsLeapYear(y))\n"
   ]
  },
  {
   "cell_type": "code",
   "execution_count": 4,
   "metadata": {},
   "outputs": [
    {
     "name": "stdout",
     "output_type": "stream",
     "text": [
      "Y=1300\n",
      "M=2\n"
     ]
    },
    {
     "data": {
      "text/plain": [
       "28"
      ]
     },
     "execution_count": 4,
     "metadata": {},
     "output_type": "execute_result"
    }
   ],
   "source": [
    "#53\n",
    "def MonthDays(M,y):\n",
    "    if y%100!=0 and y%4==0 and M==2:\n",
    "        return 29\n",
    "    elif y%100==0 and y%400==0 and M==2:\n",
    "        return 29\n",
    "    else:\n",
    "        if M==1 or M==12 or M==3 or M==5 or M==7 or M==8 or M==9:\n",
    "            return 31\n",
    "        elif M==2:\n",
    "            return 28\n",
    "        else:\n",
    "            return 30\n",
    "y=int(input(\"Y=\"))\n",
    "M=int(input('M='))\n",
    "print(MonthDays(M,y))"
   ]
  },
  {
   "cell_type": "code",
   "execution_count": 9,
   "metadata": {
    "scrolled": true
   },
   "outputs": [
    {
     "name": "stdout",
     "output_type": "stream",
     "text": [
      "D=1\n",
      "M=4\n",
      "Y=2000\n",
      "31 / 3 / 2000\n"
     ]
    }
   ],
   "source": [
    "#54\n",
    "def PrevDate(D,M,Y):\n",
    "    if D==1 and M==1:\n",
    "        Y-=1\n",
    "    if (y%100!=0 and y%4==0 or y%100==0 and y%400==0) and M==3 and D==31:\n",
    "        print(29,'/',M-1,'/',Y)\n",
    "    if (y%100!=0 and y%4==0 or y%100==0 and y%400==0) and M==2 and D==29:\n",
    "        print(28,'/',M,'/',Y)\n",
    "    elif (M==12 or M==3 or M==5 or M==7 or M==8 or M==9) and D==1:\n",
    "        print(30,'/',M-1,'/',Y)\n",
    "    elif D==1 and M==1:\n",
    "        print(31,'/',12,'/',Y)\n",
    "    elif M==2 and D==1:\n",
    "        print(27,'/',M-1,'/',Y)\n",
    "    elif (M==4 or M==6 or M==10 or M==1) and D==1:\n",
    "        print(31,'/',M-1,'/',Y)\n",
    "    else:\n",
    "        print(D-1,'/',M,'/',Y)\n",
    "D=int(input('D='))\n",
    "M=int(input('M='))\n",
    "Y=int(input('Y='))\n",
    "print(PrevDate(D,M,Y))"
   ]
  },
  {
   "cell_type": "code",
   "execution_count": 18,
   "metadata": {},
   "outputs": [
    {
     "name": "stdout",
     "output_type": "stream",
     "text": [
      "D=29\n",
      "M=2\n",
      "Y=2004\n",
      "1 / 3 / 2004\n",
      "None\n"
     ]
    }
   ],
   "source": [
    "#55\n",
    "def IsLeapYear(y):\n",
    "    if y%100!=0 and y%4==0:\n",
    "        return 'kabisa'\n",
    "    elif y%100==0 and y%400==0:\n",
    "        return 'kabisa'\n",
    "def NextDate(D,M,Y):\n",
    "    if D==31 and M==12:\n",
    "        print(1,'/',1,'/',Y+1)\n",
    "    elif IsLeapYear(Y) and M==2 and D==28:\n",
    "        print(29,'/',M,'/',Y)\n",
    "    elif IsLeapYear(Y) and M==2 and D==29:\n",
    "        print(1,'/',M+1,'/',Y)\n",
    "    elif (M==3 or M==5 or M==7 or M==8 or M==9) and D==31:\n",
    "        print(1,'/',M+1,'/',Y)\n",
    "    elif (M==4 or M==6 or M==10 or M==1) and D==30:\n",
    "        print(1,'/',M+1,'/',Y)\n",
    "    elif M==2 and D==28:\n",
    "        print(1,'/',M+1,'/',Y)\n",
    "    else:\n",
    "        print(D+1,'/',M,'/',Y)\n",
    "D=int(input('D='))\n",
    "M=int(input('M='))\n",
    "Y=int(input('Y='))\n",
    "print(NextDate(D,M,Y))    "
   ]
  },
  {
   "cell_type": "code",
   "execution_count": 14,
   "metadata": {},
   "outputs": [
    {
     "name": "stdout",
     "output_type": "stream",
     "text": [
      "x1=2\n",
      "y1=3\n",
      "x2=8\n",
      "y2=9\n",
      "8.48528137423857\n",
      "x2=1\n",
      "y2=0\n",
      "3.1622776601683795\n",
      "x2=2\n",
      "y2=5\n",
      "2.0\n"
     ]
    }
   ],
   "source": [
    "#56\n",
    "def Leng(x1,y1,x2,y2):\n",
    "    return ((x2-x1)**2+(y2-y1)**2)**0.5\n",
    "x1=int(input('x1='))\n",
    "y1=int(input('y1='))\n",
    "for i in range(3):\n",
    "    x2=int(input('x2='))\n",
    "    y2=int(input('y2='))\n",
    "    print(Leng(x1,y1,x2,y2))"
   ]
  },
  {
   "cell_type": "code",
   "execution_count": 11,
   "metadata": {},
   "outputs": [
    {
     "name": "stdout",
     "output_type": "stream",
     "text": [
      "x1=2\n",
      "y1=5\n",
      "x2=3\n",
      "y2=6\n",
      "x3=8\n",
      "y3=9\n",
      "14.456268008146374\n",
      "x2=1\n",
      "y2=0\n",
      "x3=2\n",
      "y3=3\n",
      "10.261297173761164\n",
      "x2=4\n",
      "y2=8\n",
      "x3=6\n",
      "y3=2\n",
      "14.930106595800748\n"
     ]
    }
   ],
   "source": [
    "#57\n",
    "def Perim(x1,y1,x2,y2,x3,y3):\n",
    "    return ((x2-x1)**2+(y2-y1)**2)**0.5+((x2-x3)**2+(y2-y3)**2)**0.5+((x3-x1)**2+(y3-y1)**2)**0.5\n",
    "x1=float(input('x1='))\n",
    "y1=float(input('y1='))\n",
    "for i in range(3):\n",
    "    x2=float(input('x2='))\n",
    "    y2=float(input('y2='))\n",
    "    x3=float(input('x3='))\n",
    "    y3=float(input('y3='))\n",
    "    print(Perim(x1,y1,x2,y2,x3,y3))"
   ]
  },
  {
   "cell_type": "code",
   "execution_count": 12,
   "metadata": {},
   "outputs": [
    {
     "name": "stdout",
     "output_type": "stream",
     "text": [
      "x1=2\n",
      "y1=3\n",
      "x2=4\n",
      "y2=5\n",
      "x3=6\n",
      "y3=7\n",
      "0.0\n",
      "x2=8\n",
      "y2=5\n",
      "x3=2\n",
      "y3=4\n",
      "2.9999999999999996\n",
      "x2=1\n",
      "y2=3\n",
      "x3=4\n",
      "y3=5\n",
      "1.0000000000000007\n"
     ]
    }
   ],
   "source": [
    "#58\n",
    "def Area(x1,y1,x2,y2,x3,y3):\n",
    "    a=((x2-x1)**2+(y2-y1)**2)**0.5\n",
    "    b=((x2-x3)**2+(y2-y3)**2)**0.5\n",
    "    c=((x3-x1)**2+(y3-y1)**2)**0.5\n",
    "    p=(a+b+c)/2\n",
    "    return (p*(p-a)*(p-b)*(p-c))**0.5\n",
    "x1=float(input('x1='))\n",
    "y1=float(input('y1='))\n",
    "for i in range(3):\n",
    "    x2=float(input('x2='))\n",
    "    y2=float(input('y2='))\n",
    "    x3=float(input('x3='))\n",
    "    y3=float(input('y3='))\n",
    "    print(Area(x1,y1,x2,y2,x3,y3))"
   ]
  },
  {
   "cell_type": "code",
   "execution_count": 14,
   "metadata": {},
   "outputs": [
    {
     "name": "stdout",
     "output_type": "stream",
     "text": [
      "xp=2\n",
      "yp=2\n",
      "x1=4\n",
      "y1=8\n",
      "x2=10\n",
      "y2=0\n",
      "5.200000000000004\n",
      "x1=7\n",
      "y1=1\n",
      "x2=3\n",
      "y2=9\n",
      "4.024922359499623\n",
      "x1=0\n",
      "y1=-4\n",
      "x2=-6\n",
      "y2=9\n",
      "4.3302678337713845\n"
     ]
    }
   ],
   "source": [
    "#59\n",
    "def Dist(x1,y1,x2,y2,x3,y3):\n",
    "    a=((x2-x1)**2+(y2-y1)**2)**0.5\n",
    "    b=((x2-x3)**2+(y2-y3)**2)**0.5\n",
    "    c=((x3-x1)**2+(y3-y1)**2)**0.5\n",
    "    p=(a+b+c)/2\n",
    "    ab=((x2-x1)**2+(y2-y1)**2)**0.5\n",
    "    return 2*(p*(p-a)*(p-b)*(p-c))**0.5/ab\n",
    "xp=float(input('xp='))\n",
    "yp=float(input('yp='))\n",
    "for i in range(3):\n",
    "    x1=float(input('x1='))\n",
    "    y1=float(input('y1='))\n",
    "    x2=float(input('x2='))\n",
    "    y2=float(input('y2='))\n",
    "    print(Dist(x1,y1,x2,y2,xp,yp))"
   ]
  },
  {
   "cell_type": "code",
   "execution_count": 1,
   "metadata": {},
   "outputs": [
    {
     "name": "stdout",
     "output_type": "stream",
     "text": [
      "x1=2\n",
      "y1=4\n",
      "x2=0\n",
      "y2=-1\n",
      "x3=3\n",
      "y3=4\n",
      "0.9284766908852581\n",
      "0.8574929257125429\n",
      "4.999999999999993\n"
     ]
    }
   ],
   "source": [
    "#60\n",
    "def Leng(x1,y1,x2,y2):\n",
    "    return ((x2-x1)**2+(y2-y1)**2)**0.5\n",
    "def Perim(x1,y1,x2,y2,x3,y3):\n",
    "    return Leng(x1,y1,x2,y2)+Leng(x2,y2,x3,y3)+Leng(x1,y1,x3,y3)\n",
    "def Area(x1,y1,x2,y2,x3,y3):\n",
    "    a=Leng(x1,y1,x2,y2)\n",
    "    b=Leng(x2,y2,x3,y3)\n",
    "    c=Leng(x1,y1,x3,y3)\n",
    "    p=Perim(x1,y1,x2,y2,x3,y3)/2\n",
    "    return (p*(p-a)*(p-b)*(p-c))**0.5\n",
    "def Dist(x1,y1,x2,y2,x3,y3):\n",
    "    print(2*Area(x1,y1,x2,y2,x3,y3)/Leng(x1,y1,x2,y2))\n",
    "    print(2*Area(x1,y1,x2,y2,x3,y3)/Leng(x2,y2,x3,y3))\n",
    "    return 2*Area(x1,y1,x2,y2,x3,y3)/Leng(x1,y1,x3,y3)\n",
    "def Heights(x1,y1,x2,y2,x3,y3):\n",
    "    return Dist(x1,y1,x2,y2,x3,y3)\n",
    "x1=float(input('x1='))\n",
    "y1=float(input('y1='))\n",
    "x2=float(input('x2='))\n",
    "y2=float(input('y2='))\n",
    "x3=float(input('x3='))\n",
    "y3=float(input('y3='))\n",
    "print(Heights(x1,y1,x2,y2,x3,y3))"
   ]
  },
  {
   "cell_type": "code",
   "execution_count": 1,
   "metadata": {},
   "outputs": [
    {
     "name": "stdout",
     "output_type": "stream",
     "text": [
      "d=12\n",
      "m=3\n",
      "y=2021\n",
      "n=347\n",
      "22:02:2022\n"
     ]
    },
    {
     "ename": "KeyboardInterrupt",
     "evalue": "Interrupted by user",
     "output_type": "error",
     "traceback": [
      "\u001b[1;31m---------------------------------------------------------------------------\u001b[0m",
      "\u001b[1;31mKeyboardInterrupt\u001b[0m                         Traceback (most recent call last)",
      "\u001b[1;32m<ipython-input-1-d1c0345e99c2>\u001b[0m in \u001b[0;36m<module>\u001b[1;34m\u001b[0m\n\u001b[0;32m     39\u001b[0m     \u001b[1;32mreturn\u001b[0m \u001b[0mstr\u001b[0m\u001b[1;33m(\u001b[0m\u001b[0md\u001b[0m\u001b[1;33m)\u001b[0m\u001b[1;33m+\u001b[0m\u001b[1;34m':'\u001b[0m\u001b[1;33m+\u001b[0m\u001b[0mstr\u001b[0m\u001b[1;33m(\u001b[0m\u001b[0mm\u001b[0m\u001b[1;33m)\u001b[0m\u001b[1;33m+\u001b[0m\u001b[1;34m':'\u001b[0m\u001b[1;33m+\u001b[0m\u001b[0mstr\u001b[0m\u001b[1;33m(\u001b[0m\u001b[0my\u001b[0m\u001b[1;33m)\u001b[0m\u001b[1;33m\u001b[0m\u001b[1;33m\u001b[0m\u001b[0m\n\u001b[0;32m     40\u001b[0m \u001b[1;32mfor\u001b[0m \u001b[0mi\u001b[0m \u001b[1;32min\u001b[0m \u001b[0mrange\u001b[0m\u001b[1;33m(\u001b[0m\u001b[1;36m3\u001b[0m\u001b[1;33m)\u001b[0m\u001b[1;33m:\u001b[0m\u001b[1;33m\u001b[0m\u001b[1;33m\u001b[0m\u001b[0m\n\u001b[1;32m---> 41\u001b[1;33m     \u001b[0md\u001b[0m\u001b[1;33m=\u001b[0m\u001b[0mint\u001b[0m\u001b[1;33m(\u001b[0m\u001b[0minput\u001b[0m\u001b[1;33m(\u001b[0m\u001b[1;34m'd='\u001b[0m\u001b[1;33m)\u001b[0m\u001b[1;33m)\u001b[0m\u001b[1;33m\u001b[0m\u001b[1;33m\u001b[0m\u001b[0m\n\u001b[0m\u001b[0;32m     42\u001b[0m     \u001b[0mm\u001b[0m\u001b[1;33m=\u001b[0m\u001b[0mint\u001b[0m\u001b[1;33m(\u001b[0m\u001b[0minput\u001b[0m\u001b[1;33m(\u001b[0m\u001b[1;34m'm='\u001b[0m\u001b[1;33m)\u001b[0m\u001b[1;33m)\u001b[0m\u001b[1;33m\u001b[0m\u001b[1;33m\u001b[0m\u001b[0m\n\u001b[0;32m     43\u001b[0m     \u001b[0my\u001b[0m\u001b[1;33m=\u001b[0m\u001b[0mint\u001b[0m\u001b[1;33m(\u001b[0m\u001b[0minput\u001b[0m\u001b[1;33m(\u001b[0m\u001b[1;34m'y='\u001b[0m\u001b[1;33m)\u001b[0m\u001b[1;33m)\u001b[0m\u001b[1;33m\u001b[0m\u001b[1;33m\u001b[0m\u001b[0m\n",
      "\u001b[1;32mD:\\Conda\\lib\\site-packages\\ipykernel\\kernelbase.py\u001b[0m in \u001b[0;36mraw_input\u001b[1;34m(self, prompt)\u001b[0m\n\u001b[0;32m    858\u001b[0m                 \u001b[1;34m\"raw_input was called, but this frontend does not support input requests.\"\u001b[0m\u001b[1;33m\u001b[0m\u001b[1;33m\u001b[0m\u001b[0m\n\u001b[0;32m    859\u001b[0m             )\n\u001b[1;32m--> 860\u001b[1;33m         return self._input_request(str(prompt),\n\u001b[0m\u001b[0;32m    861\u001b[0m             \u001b[0mself\u001b[0m\u001b[1;33m.\u001b[0m\u001b[0m_parent_ident\u001b[0m\u001b[1;33m,\u001b[0m\u001b[1;33m\u001b[0m\u001b[1;33m\u001b[0m\u001b[0m\n\u001b[0;32m    862\u001b[0m             \u001b[0mself\u001b[0m\u001b[1;33m.\u001b[0m\u001b[0m_parent_header\u001b[0m\u001b[1;33m,\u001b[0m\u001b[1;33m\u001b[0m\u001b[1;33m\u001b[0m\u001b[0m\n",
      "\u001b[1;32mD:\\Conda\\lib\\site-packages\\ipykernel\\kernelbase.py\u001b[0m in \u001b[0;36m_input_request\u001b[1;34m(self, prompt, ident, parent, password)\u001b[0m\n\u001b[0;32m    902\u001b[0m             \u001b[1;32mexcept\u001b[0m \u001b[0mKeyboardInterrupt\u001b[0m\u001b[1;33m:\u001b[0m\u001b[1;33m\u001b[0m\u001b[1;33m\u001b[0m\u001b[0m\n\u001b[0;32m    903\u001b[0m                 \u001b[1;31m# re-raise KeyboardInterrupt, to truncate traceback\u001b[0m\u001b[1;33m\u001b[0m\u001b[1;33m\u001b[0m\u001b[1;33m\u001b[0m\u001b[0m\n\u001b[1;32m--> 904\u001b[1;33m                 \u001b[1;32mraise\u001b[0m \u001b[0mKeyboardInterrupt\u001b[0m\u001b[1;33m(\u001b[0m\u001b[1;34m\"Interrupted by user\"\u001b[0m\u001b[1;33m)\u001b[0m \u001b[1;32mfrom\u001b[0m \u001b[1;32mNone\u001b[0m\u001b[1;33m\u001b[0m\u001b[1;33m\u001b[0m\u001b[0m\n\u001b[0m\u001b[0;32m    905\u001b[0m             \u001b[1;32mexcept\u001b[0m \u001b[0mException\u001b[0m \u001b[1;32mas\u001b[0m \u001b[0me\u001b[0m\u001b[1;33m:\u001b[0m\u001b[1;33m\u001b[0m\u001b[1;33m\u001b[0m\u001b[0m\n\u001b[0;32m    906\u001b[0m                 \u001b[0mself\u001b[0m\u001b[1;33m.\u001b[0m\u001b[0mlog\u001b[0m\u001b[1;33m.\u001b[0m\u001b[0mwarning\u001b[0m\u001b[1;33m(\u001b[0m\u001b[1;34m\"Invalid Message:\"\u001b[0m\u001b[1;33m,\u001b[0m \u001b[0mexc_info\u001b[0m\u001b[1;33m=\u001b[0m\u001b[1;32mTrue\u001b[0m\u001b[1;33m)\u001b[0m\u001b[1;33m\u001b[0m\u001b[1;33m\u001b[0m\u001b[0m\n",
      "\u001b[1;31mKeyboardInterrupt\u001b[0m: Interrupted by user"
     ]
    }
   ],
   "source": [
    "#N_Day_Next\n",
    "def IsLeapYear(y):\n",
    "    if y%100!=0 and y%4==0:\n",
    "        return True\n",
    "    elif y%100==0 and y%400==0:\n",
    "        return True\n",
    "    else:\n",
    "        return False\n",
    "def MonthDays(m,y):\n",
    "    if m==2:\n",
    "        return 28+IsLeapYear(y)\n",
    "    else:\n",
    "        if m==4 or m==6 or m==9 or m==11:\n",
    "            return 30\n",
    "        else:\n",
    "            return 31\n",
    "def NDayNext(d,m,y,n):\n",
    "    if m>12:\n",
    "        return \"Noto'g'ri oy kiritildi\"\n",
    "    while n > MonthDays(m,y):\n",
    "        n -= MonthDays(m,y)\n",
    "        m += 1\n",
    "        if m > 12:\n",
    "            m = 1\n",
    "            y += 1\n",
    "    while n>0:\n",
    "        dmax=MonthDays(m,y)\n",
    "        if d>dmax:\n",
    "            return \"Noto'g'ri sana kiritildi\"\n",
    "        while d<=dmax and n>0:\n",
    "            d+=1\n",
    "            n-=1\n",
    "            if d>dmax:\n",
    "                d=1\n",
    "                m+=1\n",
    "                if m>12:\n",
    "                    m=1\n",
    "                    y+=1\n",
    "                break\n",
    "    if d<10:\n",
    "        d='0'+str(d)\n",
    "    if m<10:\n",
    "        m='0'+str(m)\n",
    "    return str(d)+':'+str(m)+':'+str(y)\n",
    "for i in range(3):\n",
    "    d=int(input('d='))\n",
    "    m=int(input('m='))\n",
    "    y=int(input('y='))\n",
    "    n=int(input('n='))\n",
    "    print(NDayNext(d,m,y,n))"
   ]
  },
  {
   "cell_type": "code",
   "execution_count": null,
   "metadata": {},
   "outputs": [],
   "source": [
    "def IsLeapYear(y):\n",
    "    if y%100!=0 and y%4==0:\n",
    "        return True\n",
    "    elif y%100==0 and y%400==0:\n",
    "        return True\n",
    "    else:\n",
    "        return False\n",
    "def MonthDays(m,y):\n",
    "    if m==2:\n",
    "        return 28+IsLeapYear(y)\n",
    "    else:\n",
    "        if m==4 or m==6 or m==9 or m==11:\n",
    "            return 30\n",
    "        else:\n",
    "            return 31\n",
    "def NDayNext(d,m,y,n):\n",
    "    d += n\n",
    "    while d > MonthDays(m,y):\n",
    "        d -= MonthDays(m,y)\n",
    "        m += 1\n",
    "        if m > 12:\n",
    "            y += 1"
   ]
  },
  {
   "cell_type": "code",
   "execution_count": 14,
   "metadata": {},
   "outputs": [
    {
     "name": "stdout",
     "output_type": "stream",
     "text": [
      "d = 31\n",
      "m = 12\n",
      "y = 2001\n",
      "n = 365\n",
      "(31, 12, 2000)\n"
     ]
    }
   ],
   "source": [
    "def IsLeapYear(y):\n",
    "    if y%100!=0 and y%4==0:\n",
    "        return True\n",
    "    elif y%100==0 and y%400==0:\n",
    "        return True\n",
    "    else:\n",
    "        return False\n",
    "def MonthDays(m,y):\n",
    "    if m==2:\n",
    "        return 28+IsLeapYear(y)\n",
    "    else:\n",
    "        if m==4 or m==6 or m==9 or m==11:\n",
    "            return 30\n",
    "        else:\n",
    "            return 31\n",
    "def NDayPrev(d,m,y,n):\n",
    "    d -= n\n",
    "    while d <= 0:\n",
    "        m -= 1\n",
    "        d += MonthDays(m,y)\n",
    "        if m == 0:\n",
    "            m = 12\n",
    "            y -= 1\n",
    "    return d,m,y\n",
    "d = int(input('d = '))\n",
    "m = int(input('m = '))\n",
    "y = int(input('y = '))\n",
    "n = int(input('n = '))\n",
    "print(NDayPrev(d,m,y,n))"
   ]
  },
  {
   "cell_type": "code",
   "execution_count": null,
   "metadata": {},
   "outputs": [],
   "source": [
    "file_name=r\"table.txt\"\n",
    "\n",
    "def AddIDnumber():\n",
    "    global file_name\n",
    "    with open(file_name,'a') as table:\n",
    "        Fam=input(\"Familiyani kiriting = \")\n",
    "        Ism=input(\"Ismni kiriting = \")\n",
    "        Yosh=input(\"Yoshini kiriting = \")\n",
    "        Kurs=input(\"Kursini kiriting = \")\n",
    "        Average=float(input(\"O'rtacha bahosini kiriting = \"))\n",
    "        Tel=input('Telefoni raqamini kiriting = ')\n",
    "        print(Fam,\"\\t\",Ism,\"\\t\",Yosh,\"\\t\",Kurs,\"\\t\",Average,\"\\t\",Tel, file=table)\n",
    "\n",
    "def DeleteIDnumber():\n",
    "    global file_name\n",
    "    Fam=input(\"Familiyani kiriting = \")\n",
    "    with open(file_name,\"r\") as table:\n",
    "        lines=table.readlines()\n",
    "    with open(file_name,\"w\") as table:\n",
    "        for i in lines:\n",
    "            if not i.strip(\"\\n\").startswith(Fam):\n",
    "                table.write(i)\n",
    "    \n",
    "def EditIDnumber():\n",
    "    global file_name\n",
    "    Fam=input(\"Familiyani kiriting = \")\n",
    "    with open(file_name,\"r\") as table:\n",
    "        lines=table.readlines()\n",
    "    with open(file_name,\"w\") as table:\n",
    "        for i in lines:\n",
    "            if not i.strip(\"\\n\").startswith(Fam):\n",
    "                table.write(i)\n",
    "            else:\n",
    "                print(i)\n",
    "                Fam=input(\"Familiyani kiriting = \")\n",
    "                Ism=input(\"Ismni kiriting = \")\n",
    "                Yosh=input(\"Yoshini kiriting = \")\n",
    "                Kurs=input(\"Kursini kiriting = \")\n",
    "                Average=float(input(\"O'rtacha bahosini kiriting = \"))\n",
    "                Tel=input('Telefoni raqamini kiriting = ')\n",
    "                table.write(Fam+\"\\t\"+Ism+\"\\t\"+Yosh+\"\\t\"+Kurs+\"\\t\"+str(Average)+\"\\t\"+Tel+\"\\n\")\n",
    "\n",
    "def SearchbyFirstName():\n",
    "    global file_name\n",
    "    Fam=input(\"Familiyani kiriting = \")\n",
    "    with open(file_name,\"r\") as table:\n",
    "        for i in table:\n",
    "            S=i.split('\\t')[0]\n",
    "            if Fam in S:\n",
    "                print(i)\n",
    "        \n",
    "def Searchbyphone():\n",
    "    global file_name\n",
    "    Tel=input(\"Familiyani kiriting = \")\n",
    "    with open(file_name,\"r\") as table:\n",
    "        for i in table:\n",
    "            S=i.split('\\t')[-1]\n",
    "            if Tel in S:\n",
    "                print(i)\n",
    "\n",
    "def Printing():\n",
    "    global file_name\n",
    "    print(\"Familiya\\tIsm\\tYosh\\tKurs\\tAverage\\tTelefon\")\n",
    "    with open(file_name,\"r\") as table:\n",
    "        f=table.read()\n",
    "        print(f)\n",
    "    \n",
    "while True:\n",
    "    print(\"Buyruqlar\",\"1-Id qo'shish\",\"2-Idni o'chirish\",\"3-Idni edit qilish\",\"4-Familiya qidirish\",\"5-Telefon qidirish\",\\\n",
    "         \"6-Ekranga chiqarish\",\"0-Exit\",sep='\\n')\n",
    "    buyruq=int(input('Buyruq raqamini tanlang = '))\n",
    "    if buyruq==1:\n",
    "        AddIDnumber()\n",
    "    if buyruq==2:\n",
    "        DeleteIDnumber()\n",
    "    if buyruq==3:\n",
    "        EditIDnumber()\n",
    "    if buyruq==4:\n",
    "        SearchbyFirstName()\n",
    "    if buyruq==5:\n",
    "        Searchbyphone()\n",
    "    if buyruq==6:\n",
    "        Printing()\n",
    "    if buyruq==0:\n",
    "        print(\"Raxmat Men ishlashdan to'xtadim\")\n",
    "        break"
   ]
  }
 ],
 "metadata": {
  "kernelspec": {
   "display_name": "Python 3",
   "language": "python",
   "name": "python3"
  },
  "language_info": {
   "codemirror_mode": {
    "name": "ipython",
    "version": 3
   },
   "file_extension": ".py",
   "mimetype": "text/x-python",
   "name": "python",
   "nbconvert_exporter": "python",
   "pygments_lexer": "ipython3",
   "version": "3.8.5"
  }
 },
 "nbformat": 4,
 "nbformat_minor": 4
}

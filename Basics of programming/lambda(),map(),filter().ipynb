{
 "cells": [
  {
   "cell_type": "markdown",
   "metadata": {},
   "source": [
    "lambda()"
   ]
  },
  {
   "cell_type": "code",
   "execution_count": 1,
   "metadata": {},
   "outputs": [
    {
     "name": "stdout",
     "output_type": "stream",
     "text": [
      "18.84955592153876\n"
     ]
    }
   ],
   "source": [
    "import math\n",
    "y = lambda pi,r:2*pi*r\n",
    "print(y(math.pi,3))"
   ]
  },
  {
   "cell_type": "code",
   "execution_count": 2,
   "metadata": {},
   "outputs": [
    {
     "name": "stdout",
     "output_type": "stream",
     "text": [
      "8\n"
     ]
    }
   ],
   "source": [
    "z = lambda x,y:x**y\n",
    "print(z(2,3))"
   ]
  },
  {
   "cell_type": "code",
   "execution_count": 4,
   "metadata": {},
   "outputs": [
    {
     "name": "stdout",
     "output_type": "stream",
     "text": [
      "8\n"
     ]
    }
   ],
   "source": [
    "def daraja(n):\n",
    "    return lambda a:a**n\n",
    "a = daraja(3)\n",
    "print(a(2))"
   ]
  },
  {
   "cell_type": "markdown",
   "metadata": {},
   "source": [
    "map()"
   ]
  },
  {
   "cell_type": "code",
   "execution_count": 7,
   "metadata": {},
   "outputs": [
    {
     "name": "stdout",
     "output_type": "stream",
     "text": [
      "[0.0, 1.0, 1.4142135623730951, 1.7320508075688772, 2.0, 2.23606797749979, 2.449489742783178, 2.6457513110645907, 2.8284271247461903, 3.0, 3.1622776601683795]\n"
     ]
    }
   ],
   "source": [
    "from math import sqrt\n",
    "a =list(range(11))\n",
    "ildizlar = list(map(sqrt,a))\n",
    "print(ildizlar)"
   ]
  },
  {
   "cell_type": "code",
   "execution_count": 9,
   "metadata": {},
   "outputs": [
    {
     "name": "stdout",
     "output_type": "stream",
     "text": [
      "[0, 1, 4, 9, 16, 25, 36, 49, 64, 81, 100]\n"
     ]
    }
   ],
   "source": [
    "def daraja(x):\n",
    "    return x*x\n",
    "darajalar = list(map(daraja,a))\n",
    "print(darajalar)"
   ]
  },
  {
   "cell_type": "code",
   "execution_count": 10,
   "metadata": {},
   "outputs": [
    {
     "name": "stdout",
     "output_type": "stream",
     "text": [
      "[0, 1, 4, 9, 16, 25, 36, 49, 64, 81, 100]\n"
     ]
    }
   ],
   "source": [
    "daraja1 = list(map(lambda x:x*x,a))\n",
    "print(daraja1)"
   ]
  },
  {
   "cell_type": "code",
   "execution_count": 11,
   "metadata": {},
   "outputs": [
    {
     "name": "stdout",
     "output_type": "stream",
     "text": [
      "[5, 7, 9]\n"
     ]
    }
   ],
   "source": [
    "a = [1,2,3]\n",
    "b = [4,5,6]\n",
    "plus = list(map(lambda x,y:x+y,a,b))\n",
    "print(plus)"
   ]
  },
  {
   "cell_type": "code",
   "execution_count": 12,
   "metadata": {},
   "outputs": [
    {
     "name": "stdout",
     "output_type": "stream",
     "text": [
      "['mustang', 'bugatti', 'lamborghini', 'chevrolet']\n"
     ]
    }
   ],
   "source": [
    "mashinalar = ['Mustang','Bugatti','Lamborghini','Chevrolet']\n",
    "print(list(map(lambda m:m.lower(),mashinalar)))"
   ]
  },
  {
   "cell_type": "markdown",
   "metadata": {},
   "source": [
    "filter()"
   ]
  },
  {
   "cell_type": "code",
   "execution_count": 15,
   "metadata": {},
   "outputs": [
    {
     "name": "stdout",
     "output_type": "stream",
     "text": [
      "[8, 79, 24, 96, 39, 58, 88, 31, 77, 54]\n",
      "[8, 24, 96, 58, 88, 54]\n"
     ]
    }
   ],
   "source": [
    "import random as r\n",
    "sonlar = r.sample(range(100),10)\n",
    "print(sonlar)\n",
    "def juftmi(x):\n",
    "    return x%2 == 0\n",
    "juft = list(filter(juftmi,sonlar))\n",
    "print(juft)"
   ]
  },
  {
   "cell_type": "code",
   "execution_count": 16,
   "metadata": {},
   "outputs": [
    {
     "name": "stdout",
     "output_type": "stream",
     "text": [
      "[16, 30, 41, 1, 94, 15, 44, 25, 4, 39]\n",
      "[16, 30, 94, 44, 4]\n"
     ]
    }
   ],
   "source": [
    "sonlar = r.sample(range(100),10)\n",
    "print(sonlar)\n",
    "juftlar = list(filter(lambda x:x%2==0,sonlar))\n",
    "print(juftlar)"
   ]
  },
  {
   "cell_type": "code",
   "execution_count": 18,
   "metadata": {},
   "outputs": [
    {
     "name": "stdout",
     "output_type": "stream",
     "text": [
      "['Physic', 'PE']\n"
     ]
    }
   ],
   "source": [
    "fanlar = ['Physic','Math','English','Chemistry','History','PE','Biology']\n",
    "p_begins = list(filter(lambda m:m.startswith('P'),fanlar))\n",
    "print(p_begins)"
   ]
  },
  {
   "cell_type": "code",
   "execution_count": 21,
   "metadata": {},
   "outputs": [
    {
     "name": "stdout",
     "output_type": "stream",
     "text": [
      "['Math', 'PE']\n"
     ]
    }
   ],
   "source": [
    "print(list(filter(lambda x:len(x)<5,fanlar)))"
   ]
  },
  {
   "cell_type": "code",
   "execution_count": 25,
   "metadata": {},
   "outputs": [
    {
     "name": "stdout",
     "output_type": "stream",
     "text": [
      "9 3\n",
      "9\n",
      "3\n",
      "3.0\n"
     ]
    }
   ],
   "source": [
    "a,b=map(int,input().split())\n",
    "print(a)\n",
    "print(b)\n",
    "print(a/b)"
   ]
  },
  {
   "cell_type": "code",
   "execution_count": null,
   "metadata": {},
   "outputs": [],
   "source": []
  }
 ],
 "metadata": {
  "kernelspec": {
   "display_name": "Python 3",
   "language": "python",
   "name": "python3"
  },
  "language_info": {
   "codemirror_mode": {
    "name": "ipython",
    "version": 3
   },
   "file_extension": ".py",
   "mimetype": "text/x-python",
   "name": "python",
   "nbconvert_exporter": "python",
   "pygments_lexer": "ipython3",
   "version": "3.8.5"
  }
 },
 "nbformat": 4,
 "nbformat_minor": 4
}

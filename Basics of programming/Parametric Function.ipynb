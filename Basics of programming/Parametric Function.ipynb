{
 "cells": [
  {
   "cell_type": "code",
   "execution_count": 3,
   "metadata": {},
   "outputs": [
    {
     "name": "stdout",
     "output_type": "stream",
     "text": [
      "(1, 2, 3, 4, 5, 56)\n",
      "{}\n"
     ]
    }
   ],
   "source": [
    "def arg(*a,**b):\n",
    "    print(a)\n",
    "    print(b)\n",
    "arg(1,2,3,4,5,56)"
   ]
  },
  {
   "cell_type": "code",
   "execution_count": 2,
   "metadata": {},
   "outputs": [
    {
     "name": "stdout",
     "output_type": "stream",
     "text": [
      "[3]\n"
     ]
    }
   ],
   "source": [
    "def func(i):\n",
    "    if i%3==0:return i\n",
    "a = [1,2,3,4,4,4]\n",
    "a = list(filter(func,a))\n",
    "print(a)"
   ]
  },
  {
   "cell_type": "code",
   "execution_count": 1,
   "metadata": {},
   "outputs": [
    {
     "name": "stdout",
     "output_type": "stream",
     "text": [
      "n = 10\n",
      "10\n",
      "20\n",
      "20\n"
     ]
    }
   ],
   "source": [
    "#1\n",
    "from random import randint\n",
    "def minElem(a,n):\n",
    "    return min(a)\n",
    "n = int(input('n = '))\n",
    "a = [randint(10,99) for i in range(n)]\n",
    "b = [randint(10,99) for i in range(n)]\n",
    "c = [randint(10,99) for i in range(n)]\n",
    "print(minElem(a,n))\n",
    "print(minElem(b,n))\n",
    "print(minElem(c,n))"
   ]
  },
  {
   "cell_type": "code",
   "execution_count": null,
   "metadata": {},
   "outputs": [],
   "source": [
    "#2\n",
    "from random import randint\n",
    "def minElem(a,n):\n",
    "    return max(a)\n",
    "n = int(input('n = '))\n",
    "a = [randint(10,99) for i in range(n)]\n",
    "b = [randint(10,99) for i in range(n)]\n",
    "c = [randint(10,99) for i in range(n)]\n",
    "print(minElem(a,n))\n",
    "print(minElem(b,n))\n",
    "print(minElem(c,n))"
   ]
  },
  {
   "cell_type": "code",
   "execution_count": 2,
   "metadata": {},
   "outputs": [
    {
     "name": "stdout",
     "output_type": "stream",
     "text": [
      "n = 10\n",
      "(2, 8)\n",
      "(4, 5)\n",
      "(1, 4)\n"
     ]
    }
   ],
   "source": [
    "#3\n",
    "def MinmaxNum(a):\n",
    "    return a.index(max(a)),a.index(min(a))\n",
    "n = int(input('n = '))\n",
    "a = [randint(10,99) for i in range(n)]\n",
    "b = [randint(10,99) for i in range(n)]\n",
    "c = [randint(10,99) for i in range(n)]\n",
    "print(MinmaxNum(a))\n",
    "print(MinmaxNum(b))\n",
    "print(MinmaxNum(c))"
   ]
  },
  {
   "cell_type": "code",
   "execution_count": 5,
   "metadata": {},
   "outputs": [
    {
     "name": "stdout",
     "output_type": "stream",
     "text": [
      "n = 4\n",
      "a = 1.2\n",
      "a = 1.1\n",
      "a = 0.5\n",
      "a = 3.6\n",
      "b = 8\n",
      "b = 5\n",
      "b = 3\n",
      "b = 5.2\n",
      "c = 1\n",
      "c = 2\n",
      "c = 3\n",
      "c = 4\n",
      "[3.6, 1.2, 1.1, 0.5]\n",
      "[8.0, 5.2, 5.0, 3.0]\n",
      "[4.0, 3.0, 2.0, 1.0]\n"
     ]
    }
   ],
   "source": [
    "#4\n",
    "def Invert(a):\n",
    "    a.sort()\n",
    "    a = a[::-1]\n",
    "    return a\n",
    "n = int(input('n = '))\n",
    "a = [float(input('a = ')) for i in range(n)]\n",
    "b = [float(input('b = ')) for i in range(n)]\n",
    "c = [float(input('c = ')) for i in range(n)]\n",
    "print(Invert(a))\n",
    "print(Invert(b))\n",
    "print(Invert(c))"
   ]
  },
  {
   "cell_type": "code",
   "execution_count": 11,
   "metadata": {
    "run_control": {
     "marked": false
    }
   },
   "outputs": [
    {
     "name": "stdout",
     "output_type": "stream",
     "text": [
      "n = 5\n",
      "a = 1\n",
      "a = 2\n",
      "a = 3\n",
      "a = 4\n",
      "a = 5\n",
      "[1, 2, 3, 4, 5]\n",
      "[1.0, 1.125, 1.25, 1.375, 1.5]\n"
     ]
    }
   ],
   "source": [
    "#5\n",
    "n = int(input('n = '))\n",
    "a = [int(input('a = ')) for i in range(n)]\n",
    "print(a)\n",
    "def Smooth(a,n):\n",
    "    k = a.copy()\n",
    "    a = [sum(k[:i+1])/(i+1) for i in range(n)]\n",
    "    return a\n",
    "for i in range(3):\n",
    "    a = Smooth(a,n)\n",
    "print(a)"
   ]
  },
  {
   "cell_type": "code",
   "execution_count": 1,
   "metadata": {},
   "outputs": [
    {
     "name": "stdout",
     "output_type": "stream",
     "text": [
      "n = 5\n",
      "a = 1\n",
      "a = 2\n",
      "a = 3\n",
      "a = 4\n",
      "a = 5\n",
      "[1, 2, 3, 4, 5]\n",
      "[1, 1.5, 2.5, 3.5, 4.5]\n",
      "[1, 1.25, 2.0, 3.0, 4.0]\n",
      "[1, 1.125, 1.625, 2.5, 3.5]\n"
     ]
    }
   ],
   "source": [
    "#6\n",
    "n = int(input('n = '))\n",
    "a = [int(input('a = ')) for i in range(n)]\n",
    "print(a)\n",
    "def Smooth2(a,n):\n",
    "    k = a.copy()\n",
    "    for i in range(1,n):\n",
    "        a[i] = (k[i] + k[i-1])/2\n",
    "    return a\n",
    "for i in range(3):\n",
    "    a = Smooth2(a,n)\n",
    "    print(a)"
   ]
  },
  {
   "cell_type": "code",
   "execution_count": 13,
   "metadata": {},
   "outputs": [
    {
     "name": "stdout",
     "output_type": "stream",
     "text": [
      "n = 5\n",
      "a = 1\n",
      "a = 2\n",
      "a = 3\n",
      "a = 4\n",
      "a = 5\n",
      "[1, 2, 3, 4, 5]\n",
      "[3.5, 2.0, 3.0, 4.0, 2.5]\n",
      "[2.25, 3.25, 3.0, 2.75, 3.75]\n",
      "[3.5, 2.625, 3.0, 3.375, 2.5]\n"
     ]
    }
   ],
   "source": [
    "#7\n",
    "n = int(input('n = '))\n",
    "a = [int(input('a = ')) for i in range(n)]\n",
    "print(a)\n",
    "def Smooth3(a,n):\n",
    "    k = a.copy()\n",
    "    for i in range(n):\n",
    "        j = i + 1\n",
    "        if j == n:\n",
    "            j = 0\n",
    "        a[i] = (k[i-1] + k[j])/2\n",
    "    return a\n",
    "for i in range(3):\n",
    "    a = Smooth3(a,n)\n",
    "    print(a)"
   ]
  },
  {
   "cell_type": "code",
   "execution_count": 14,
   "metadata": {},
   "outputs": [
    {
     "name": "stdout",
     "output_type": "stream",
     "text": [
      "n = 10\n",
      "a = 1\n",
      "a = 2\n",
      "a = 2\n",
      "a = 2\n",
      "a = 3\n",
      "a = 1\n",
      "a = 4\n",
      "a = 4\n",
      "a = 5\n",
      "a = 6\n",
      "x1=7\n",
      "[1, 2, 2, 2, 3, 1, 4, 4, 5, 6]\n",
      "x2=2\n",
      "[1, 3, 1, 4, 4, 5, 6]\n",
      "x3=4\n",
      "[1, 3, 1, 5, 6]\n"
     ]
    }
   ],
   "source": [
    "#8\n",
    "n = int(input('n = '))\n",
    "a = [int(input('a = ')) for i in range(n)]\n",
    "def Remove(a,n,x):\n",
    "    while a.count(x) > 0:\n",
    "        a.remove(x)\n",
    "    print(len(a))\n",
    "    return a\n",
    "for i in range(3):\n",
    "    x = int(input(f\"x{i+1}=\"))\n",
    "    a = Remove(a,n,x)\n",
    "    print(a)"
   ]
  },
  {
   "cell_type": "code",
   "execution_count": 23,
   "metadata": {},
   "outputs": [
    {
     "name": "stdout",
     "output_type": "stream",
     "text": [
      "n = 6\n",
      "a=5.5\n",
      "a=2.5\n",
      "a=4.6\n",
      "a=7.2\n",
      "a=5.8\n",
      "a=9.4\n",
      "3\n",
      "[5.5, 7.2, 9.4]\n",
      "b=6\n",
      "b=3\n",
      "b=2\n",
      "b=4\n",
      "b=8\n",
      "b=2\n",
      "2\n",
      "[6.0, 8.0]\n",
      "c=9\n",
      "c=6\n",
      "c=5\n",
      "c=4\n",
      "c=3\n",
      "c=2\n",
      "1\n",
      "[9.0]\n"
     ]
    }
   ],
   "source": [
    "#9\n",
    "n = int(input('n = '))\n",
    "def ortiqcha(a):\n",
    "    i = 0\n",
    "    while i < len(a) - 1 :\n",
    "        if a[i] > a[i + 1]:\n",
    "            a.pop(i+1)\n",
    "            i -= 1\n",
    "        i += 1\n",
    "    print(len(a))\n",
    "    return a\n",
    "for i in range(3):\n",
    "    a = [float(input(f\"{chr(ord('a')+i)}=\")) for j in range(n)]\n",
    "    a = ortiqcha(a)\n",
    "    print(a)"
   ]
  },
  {
   "cell_type": "code",
   "execution_count": null,
   "metadata": {},
   "outputs": [],
   "source": [
    "#10\n",
    "def DoubleX(a,n,x):\n",
    "    for i in range(n):\n",
    "        if a[i] == x:\n",
    "            a[i] *= 2\n",
    "    print(len(a))\n",
    "    return a\n",
    "for i in range(3):\n",
    "    n = int(input('n = '))\n",
    "    a = [float(input(f\"{chr(ord('a')+i)}=\")) for j in range(n)]\n",
    "    x = float(input('x = '))\n",
    "    print(DoubleX(a,n,x))"
   ]
  },
  {
   "cell_type": "code",
   "execution_count": 26,
   "metadata": {
    "scrolled": true
   },
   "outputs": [
    {
     "name": "stdout",
     "output_type": "stream",
     "text": [
      "n = 3\n",
      "a=1\n",
      "a=1\n",
      "a=0\n",
      "[0.0, 1.0, 1.0]\n",
      "n = 5\n",
      "b=4\n",
      "b=2\n",
      "b=7\n",
      "b=1\n",
      "b=3\n",
      "[1.0, 2.0, 3.0, 4.0, 7.0]\n",
      "n = 0\n",
      "[]\n"
     ]
    }
   ],
   "source": [
    "#11\n",
    "def SortArray(a,n):\n",
    "    a.sort()\n",
    "    return a\n",
    "for i in range(3):\n",
    "    n = int(input('n = '))\n",
    "    a = [float(input(f\"{chr(ord('a')+i)}=\")) for j in range(n)]\n",
    "    print(SortArray(a,n))"
   ]
  },
  {
   "cell_type": "code",
   "execution_count": 26,
   "metadata": {},
   "outputs": [
    {
     "name": "stdout",
     "output_type": "stream",
     "text": [
      "n = 3\n",
      "[5, 6, 4]\n",
      "[2, 0, 1]\n"
     ]
    }
   ],
   "source": [
    "#12\n",
    "import random\n",
    "def SortIndex(a,n,i):\n",
    "    s = a.copy()\n",
    "    for k in range(n):\n",
    "        for j in range(k,n):\n",
    "            if s[k] > s[j]:\n",
    "                s[k],s[j] = s[j],s[k]\n",
    "                i[k],i[j] = i[j],i[k]\n",
    "    return i\n",
    "n = int(input('n = '))\n",
    "i = list(range(n))\n",
    "a = [randint(1,10) for i in range(n)]\n",
    "print(a)\n",
    "print(SortIndex(a,n,i))"
   ]
  },
  {
   "cell_type": "code",
   "execution_count": null,
   "metadata": {},
   "outputs": [],
   "source": [
    "#12_1\n",
    "from random import randint\n",
    "def SortIndex(a,n,i):\n",
    "    s = []\n",
    "    for i in range\n",
    "    return i\n",
    "n = int(input('n = '))\n",
    "i = list(range(n))\n",
    "a = [randint(1,10) for i in range(n)]\n",
    "print(a)\n",
    "print(SortIndex(a,n,i))"
   ]
  },
  {
   "cell_type": "code",
   "execution_count": 36,
   "metadata": {
    "run_control": {
     "marked": false
    }
   },
   "outputs": [
    {
     "name": "stdout",
     "output_type": "stream",
     "text": [
      "n = 10\n",
      "[8, 10, 7, 1, 2, 4, 10, 2, 9, 5]\n",
      "[1, 2, 5, 8, 10, 10, 9, 7, 4, 2]\n",
      "n = 5\n",
      "[4, 2, 4, 2, 7]\n",
      "[2, 4, 7, 4, 2]\n",
      "n = 2\n",
      "[2, 9]\n",
      "[2, 9]\n"
     ]
    }
   ],
   "source": [
    "#13\n",
    "def Bell(a,n):\n",
    "    res = [0]*n\n",
    "    for i in range(n//2+1):\n",
    "        if not a:\n",
    "            break\n",
    "        res[i] = min(a)\n",
    "        a.remove(min(a))\n",
    "        if not a:\n",
    "            break\n",
    "        res[n-i-1] = min(a)\n",
    "        a.remove(min(a))\n",
    "    return res\n",
    "for i in range(3):\n",
    "    n = int(input('n = '))\n",
    "    a = [randint(1,10) for j in range(n)]\n",
    "    print(a)\n",
    "    print(Bell(a,n))"
   ]
  },
  {
   "cell_type": "code",
   "execution_count": 31,
   "metadata": {},
   "outputs": [
    {
     "name": "stdout",
     "output_type": "stream",
     "text": [
      "n = 10\n",
      "[0, 1, 2, 3, 4, 5, 6, 7, 8, 9]\n",
      "([1, 3, 5, 7, 9], 5, '\\n', [0, 2, 4, 6, 8], 5)\n"
     ]
    }
   ],
   "source": [
    "#14\n",
    "def Split(a,n):\n",
    "    b = []\n",
    "    c = []\n",
    "    for i in range(0,n,2):\n",
    "        c.append(a[i])\n",
    "        if i + 1 == n:\n",
    "            break\n",
    "        b.append(a[i+1])\n",
    "    return b,len(b),c,len(c)\n",
    "n = int(input('n = '))\n",
    "a = list(range(0,n))\n",
    "print(a)\n",
    "print(Split(a,n))"
   ]
  },
  {
   "cell_type": "code",
   "execution_count": 1,
   "metadata": {},
   "outputs": [
    {
     "name": "stdout",
     "output_type": "stream",
     "text": [
      "n = 10\n",
      "([4, 8, 4, 8, 10, 6], 6, [1, 1, 1, 1], 4)\n"
     ]
    }
   ],
   "source": [
    "#15\n",
    "from random import randint\n",
    "def Split2(a,n):\n",
    "    b = []\n",
    "    c = []\n",
    "    for i in range(n):\n",
    "        if a[i] % 2 == 0:\n",
    "            b.append(a[i])\n",
    "        else:\n",
    "            c.append(a[i])\n",
    "    return b,len(b),c,len(c)\n",
    "n = int(input('n = '))\n",
    "a = [randint(0,10) for i in range(n)]\n",
    "print(Split2(a,n))"
   ]
  },
  {
   "cell_type": "code",
   "execution_count": 6,
   "metadata": {},
   "outputs": [
    {
     "name": "stdout",
     "output_type": "stream",
     "text": [
      "k = 10\n",
      "[4, 7, 2, 2, 8, 5, 7, 4, 4, 9]\n",
      "m = 4\n",
      "n = 3\n",
      "[[4, 7, 2], [2, 8, 5], [7, 4, 4], [9, 0, 0]]\n"
     ]
    }
   ],
   "source": [
    "#16\n",
    "def ArrayToMatRow(a,k,m,n):\n",
    "    b = []\n",
    "    s = 0\n",
    "    for i in range(m):\n",
    "        t = []\n",
    "        for j in range(n):\n",
    "            if s > len(a) - 1:\n",
    "                t.append(0)\n",
    "            else:\n",
    "                t.append(a[s])\n",
    "            s += 1\n",
    "        b.append(t)\n",
    "    return b\n",
    "k = int(input('k = '))\n",
    "a = [randint(1,10) for i in range(k)]\n",
    "print(a)\n",
    "m = int(input('m = '))\n",
    "n = int(input('n = '))\n",
    "print(ArrayToMatRow(a,k,m,n))"
   ]
  },
  {
   "cell_type": "code",
   "execution_count": null,
   "metadata": {},
   "outputs": [],
   "source": [
    "#17\n",
    "def ArrayToMatCol(a,k,m,n):\n",
    "    b = [[0 for i in range(m)] for j in range(n)]\n",
    "    s = 0\n",
    "    for i in range(m):\n",
    "        for j in range(n):\n",
    "            if s > len(a) - 1:\n",
    "                b[j][i] = 0\n",
    "            else:\n",
    "                b[j][i] = a[s]\n",
    "            s += 1\n",
    "f    return b\n",
    "k = int(input('k = '))\n",
    "a = [randint(1,10) for i in range(k)]\n",
    "print(a)\n",
    "m = int(input('m = '))\n",
    "n = int(input('n = '))\n",
    "print(ArrayToMatRow(a,k,m,n))"
   ]
  },
  {
   "cell_type": "code",
   "execution_count": 1,
   "metadata": {},
   "outputs": [
    {
     "name": "stdout",
     "output_type": "stream",
     "text": [
      "m=3\n",
      "n=4\n",
      "1 0 1\n",
      "0 1 0\n",
      "1 0 1\n",
      "0 1 0\n"
     ]
    }
   ],
   "source": [
    "#18\n",
    "def con(i):\n",
    "    if i == 1:\n",
    "        return 0\n",
    "    return 1\n",
    "def chessboard(m,n):\n",
    "    a = m * [0]\n",
    "    for i in range(0,len(a),2):\n",
    "        a[i]=1\n",
    "    res = []\n",
    "    for i in range(n):\n",
    "        res.append(a)\n",
    "        a=list(map(con,a))\n",
    "    for i in range(n):\n",
    "        print(*res[i])\n",
    "m = int(input('m='))\n",
    "n = int(input('n='))\n",
    "chessboard(m,n)"
   ]
  },
  {
   "cell_type": "code",
   "execution_count": 5,
   "metadata": {},
   "outputs": [],
   "source": [
    "#19\n",
    "from random import randint\n",
    "def norm(a):\n",
    "    res =[]\n",
    "    for i in range(len(a)):\n",
    "        s = 0\n",
    "        for j in range(len(a[0])):\n",
    "            s += a[j][i]\n",
    "        res.append(s)\n",
    "    return max(res)"
   ]
  },
  {
   "cell_type": "code",
   "execution_count": 2,
   "metadata": {},
   "outputs": [
    {
     "name": "stdout",
     "output_type": "stream",
     "text": [
      "m = 4\n",
      "n = 5\n",
      "9 6 1 6\n",
      "3 9 5 1\n",
      "6 1 2 5\n",
      "4 1 7 1\n",
      "8 4 2 6\n",
      "\n",
      "k1 = 1\n",
      "k2 = 3\n",
      "9 6 1 6\n",
      "3 1 5 9\n",
      "6 5 2 1\n",
      "4 1 7 1\n",
      "8 6 2 4\n"
     ]
    }
   ],
   "source": [
    "#24\n",
    "from random import randint\n",
    "def swapcol(a,k1,k2):\n",
    "    if k1>len(a[0]) or k2>len(a[0]):\n",
    "        return 0\n",
    "    for i in range(len(a)):\n",
    "        a[i][k1],a[i][k2] = a[i][k2],a[i][k1]\n",
    "    for i in range(len(a)):\n",
    "        print(*a[i])\n",
    "m=int(input('m = '))\n",
    "n=int(input('n = '))\n",
    "a = [[randint(1,9) for i in range(m)] for j in range(n)]\n",
    "for i in range(len(a)):\n",
    "    print(*a[i])\n",
    "print()\n",
    "k1=int(input('k1 = '))\n",
    "k2=int(input('k2 = '))\n",
    "swapcol(a,k1,k2)"
   ]
  },
  {
   "cell_type": "code",
   "execution_count": 3,
   "metadata": {},
   "outputs": [
    {
     "name": "stdout",
     "output_type": "stream",
     "text": [
      "m = 5\n",
      "8 5 2 1 5\n",
      "8 5 7 2 8\n",
      "3 9 2 9 4\n",
      "6 1 7 6 1\n",
      "9 5 9 1 5\n",
      "\n",
      "8 8 3 6 9\n",
      "5 5 9 1 5\n",
      "2 7 2 7 9\n",
      "1 2 9 6 1\n",
      "5 8 4 1 5\n"
     ]
    }
   ],
   "source": [
    "#25\n",
    "def transp(a):\n",
    "    for i in range(len(a)):\n",
    "        for j in range(i+1,len(a)):\n",
    "            a[i][j],a[j][i] = a[j][i],a[i][j]\n",
    "    for i in range(len(a)):\n",
    "        print(*a[i])\n",
    "\n",
    "m=int(input('m = '))\n",
    "a=[[randint(1,9) for i in range(m)]for j in range(m)]\n",
    "for i in range(m):\n",
    "    print(*a[i])\n",
    "print()\n",
    "transp(a)"
   ]
  },
  {
   "cell_type": "code",
   "execution_count": 2,
   "metadata": {},
   "outputs": [
    {
     "name": "stdout",
     "output_type": "stream",
     "text": [
      "m=2\n",
      "n=3\n",
      "k1=1\n",
      "k2=2\n",
      "[2, 1]\n",
      "[9, 5]\n",
      "[6, 6]\n",
      "\n",
      "[2, 1]\n"
     ]
    }
   ],
   "source": [
    "#26\n",
    "from random import randint\n",
    "def rem(a,m,n,k1,k2):\n",
    "    x = k2 - k1 + 1\n",
    "    if k2 > m:\n",
    "        for i in range(n-k2+1):\n",
    "            del a[k1]\n",
    "        for i in range(m):\n",
    "            print(a[i])\n",
    "        return len(a)\n",
    "    else:\n",
    "        for i in range(x):\n",
    "            del a[k1]\n",
    "    for i in a:\n",
    "        print(i)\n",
    "m=int(input('m='))\n",
    "n=int(input('n='))\n",
    "k1=int(input('k1='))\n",
    "k2=int(input('k2='))\n",
    "a=[[randint(1,10) for i in range(m)] for j in range(n)]\n",
    "for i in a:\n",
    "    print(i)\n",
    "print()\n",
    "rem(a,m,n,k1,k2)"
   ]
  },
  {
   "cell_type": "code",
   "execution_count": 5,
   "metadata": {},
   "outputs": [
    {
     "name": "stdout",
     "output_type": "stream",
     "text": [
      "m=4\n",
      "n=5\n",
      "k1=1\n",
      "k2=3\n",
      "[2, 4, 7, 5]\n",
      "[1, 8, 6, 4]\n",
      "[4, 10, 3, 4]\n",
      "[9, 5, 10, 3]\n",
      "[4, 8, 1, 4]\n",
      "\n",
      "[1, 8, 4]\n",
      "[4, 10, 4]\n",
      "[9, 5, 3]\n",
      "[4, 8, 4]\n"
     ]
    }
   ],
   "source": [
    "#28\n",
    "def rem(a,m,n,r,c):\n",
    "    if r>m or c>n:\n",
    "        return a\n",
    "    del a[r-1]\n",
    "    for i in range(m):\n",
    "        del a[i][c-1]\n",
    "    for i in range(len(a)):\n",
    "        print(a[i])\n",
    "m=int(input('m='))\n",
    "n=int(input('n='))\n",
    "k1=int(input('k1='))\n",
    "k2=int(input('k2='))\n",
    "a=[[randint(1,10) for i in range(m)] for j in range(n)]\n",
    "for i in a:\n",
    "    print(i)\n",
    "print()\n",
    "rem(a,m,n,k1,k2)"
   ]
  },
  {
   "cell_type": "code",
   "execution_count": 30,
   "metadata": {},
   "outputs": [
    {
     "name": "stdout",
     "output_type": "stream",
     "text": [
      "m = 3\n",
      "n = 2\n",
      "2 2 2\n",
      "3 2 1\n",
      "[2, 1, 0]\n",
      "\n",
      "[1, 2, 3]\n",
      "[2, 2, 2]\n",
      "[3, 2, 1]\n"
     ]
    }
   ],
   "source": [
    "#29\n",
    "def SortCols(a,m,n):\n",
    "    for i in range(n):\n",
    "        if len(set(a[i])) == 1:\n",
    "            continue\n",
    "        else:\n",
    "            x=i\n",
    "            break\n",
    "    index=list(range(m))\n",
    "    s=a[x]\n",
    "    for i in range(m):\n",
    "        for j in range(m-i-1):\n",
    "            if s[j]>s[j+1]:\n",
    "                s[j],s[j+1]=s[j+1],s[j]\n",
    "                index[j],index[j+1]=index[j+1],index[j]\n",
    "    p=[[a[i][index[j]] for j in range(m)] for i in range(n)]\n",
    "    print(index)\n",
    "    print()\n",
    "    print(s)\n",
    "    for i in range(n):\n",
    "        print(p[i])\n",
    "m=int(input('m = '))\n",
    "n=int(input('n = '))\n",
    "a=list(list(map(int,input().split())) for i in range(n))\n",
    "SortCols(a,m,n) "
   ]
  },
  {
   "cell_type": "code",
   "execution_count": 24,
   "metadata": {},
   "outputs": [
    {
     "ename": "SyntaxError",
     "evalue": "invalid syntax (<ipython-input-24-eb6b28accc9c>, line 1)",
     "output_type": "error",
     "traceback": [
      "\u001b[1;36m  File \u001b[1;32m\"<ipython-input-24-eb6b28accc9c>\"\u001b[1;36m, line \u001b[1;32m1\u001b[0m\n\u001b[1;33m    6 5 4\u001b[0m\n\u001b[1;37m      ^\u001b[0m\n\u001b[1;31mSyntaxError\u001b[0m\u001b[1;31m:\u001b[0m invalid syntax\n"
     ]
    }
   ],
   "source": [
    "6 5 4\n",
    "7 8 9\n",
    "1 4 2"
   ]
  },
  {
   "cell_type": "code",
   "execution_count": 7,
   "metadata": {},
   "outputs": [
    {
     "name": "stdout",
     "output_type": "stream",
     "text": [
      "[[1, 4], [2, 5], [3, 6]]\n"
     ]
    }
   ],
   "source": [
    "a=[[1,2,3],[4,5,6]]\n",
    "a=[[a[j][i] for j in range(2)] for i in range(3)]\n",
    "print(a)\n"
   ]
  },
  {
   "cell_type": "code",
   "execution_count": 1,
   "metadata": {},
   "outputs": [],
   "source": [
    "#30\n",
    "import re\n",
    "def isident(s):\n",
    "    pat = r'[^/d][a-zA-Z]+/d+_+'\n",
    "    s = s.split('\\n') "
   ]
  },
  {
   "cell_type": "code",
   "execution_count": 2,
   "metadata": {},
   "outputs": [],
   "source": [
    "#31\n",
    "def FillStr(s,n):\n",
    "    k = s\n",
    "    if len(s) == n:\n",
    "        return s\n",
    "    elif len(s) > n:\n",
    "        return s[:n]\n",
    "    while len(s) <= n:\n",
    "        s += k\n",
    "    return s[:n]"
   ]
  },
  {
   "cell_type": "code",
   "execution_count": 4,
   "metadata": {},
   "outputs": [
    {
     "name": "stdout",
     "output_type": "stream",
     "text": [
      "katta kichik kitob  kerak kocha kurak\n",
      "k\n"
     ]
    },
    {
     "data": {
      "text/plain": [
       "'atta ichik itob  erak ocha urak'"
      ]
     },
     "execution_count": 4,
     "metadata": {},
     "output_type": "execute_result"
    }
   ],
   "source": [
    "#34\n",
    "import re\n",
    "def TrimLeftC(S,C):\n",
    "    if S[0] == C:\n",
    "        S = S[1:]\n",
    "    S = re.sub(' ' + C,' ',S)\n",
    "    return S\n",
    "s = input()\n",
    "c = input()\n",
    "TrimLeftC(s,c)"
   ]
  },
  {
   "cell_type": "code",
   "execution_count": null,
   "metadata": {},
   "outputs": [],
   "source": [
    "#35\n",
    "import re\n",
    "def TrimRightC(S,C):\n",
    "    S = re.sub(C + ' ',' ',S)\n",
    "    return S\n",
    "s = input()\n",
    "c = input()\n",
    "TrimRightC(s,c)"
   ]
  },
  {
   "cell_type": "code",
   "execution_count": 5,
   "metadata": {},
   "outputs": [
    {
     "name": "stdout",
     "output_type": "stream",
     "text": [
      "Katta orzu katta harakat katta oy tushunarsiz oy tushunchasiz oy\n",
      "k = 9\n",
      "n = 16\n"
     ]
    },
    {
     "data": {
      "text/plain": [
       "'Katta orzattak u harakat katta oy tushunarsiz oy tushunchasiz oy'"
      ]
     },
     "execution_count": 5,
     "metadata": {},
     "output_type": "execute_result"
    }
   ],
   "source": [
    "#36\n",
    "def InvertStr(s,k,n):\n",
    "    if k>len(s):\n",
    "        return ' '\n",
    "    return s[:k] + s[k:n][::-1] + s[n:]\n",
    "s=input()\n",
    "k=int(input('k = '))\n",
    "n=int(input('n = '))\n",
    "InvertStr(s,k,n)"
   ]
  },
  {
   "cell_type": "code",
   "execution_count": 1,
   "metadata": {},
   "outputs": [
    {
     "name": "stdout",
     "output_type": "stream",
     "text": [
      "S = tushunarsiz tushunchalar katta ulkan senga nima qo'zichoq\n",
      "S0 = ulkan\n",
      "K = 4\n",
      "N = 100000000\n"
     ]
    },
    {
     "data": {
      "text/plain": [
       "31"
      ]
     },
     "execution_count": 1,
     "metadata": {},
     "output_type": "execute_result"
    }
   ],
   "source": [
    "#37\n",
    "import re\n",
    "def PosSub(S0,S,K,N):\n",
    "    if len(S)<K:\n",
    "        return 0\n",
    "    if re.search(S0,S):\n",
    "        return re.search(S0,S).span()[0]\n",
    "    return 0\n",
    "S=input('S = ')\n",
    "S0=input('S0 = ')\n",
    "K=int(input('K = '))\n",
    "N=int(input('N = '))\n",
    "PosSub(S0,S,K,N)"
   ]
  },
  {
   "cell_type": "code",
   "execution_count": null,
   "metadata": {},
   "outputs": [],
   "source": [
    "#38\n",
    "import re\n",
    "def PosLast(S0,S,K,N):\n",
    "    if len(S)<K:\n",
    "        return 0\n",
    "    if re.search(S0,S):\n",
    "        return re.finditer(S0,S)[-1].span()[0]\n",
    "    return 0\n",
    "S=input('S = ')\n",
    "S0=input('S0 = ')\n",
    "K=int(input('K = '))\n",
    "N=int(input('N = '))\n",
    "PosLast(S0,S,K,N)"
   ]
  },
  {
   "cell_type": "code",
   "execution_count": null,
   "metadata": {},
   "outputs": [],
   "source": [
    "#39\n",
    "def PosK(S0,S,K):\n",
    "    if len(S)<K:\n",
    "        return 0\n",
    "    if re.search(S0[:K],S):\n",
    "        return re.search(S0[:K],S).span()[0]\n",
    "    return 0\n",
    "S=input('S = ')\n",
    "S0=input('S0 = ')\n",
    "K=int(input('K = '))\n",
    "PosSub(S0,S,K)"
   ]
  },
  {
   "cell_type": "code",
   "execution_count": 20,
   "metadata": {},
   "outputs": [
    {
     "name": "stdout",
     "output_type": "stream",
     "text": [
      "S = katta     ulkan kichik barra marra                            urra\n",
      "K = 2\n",
      "['katta', 'ulkan', 'kichik', 'barra', 'marra', 'urra']\n"
     ]
    },
    {
     "data": {
      "text/plain": [
       "'ulkan'"
      ]
     },
     "execution_count": 20,
     "metadata": {},
     "output_type": "execute_result"
    }
   ],
   "source": [
    "#40\n",
    "def WordK(S,K):\n",
    "    S=re.sub('\\s+',' ',S)\n",
    "    S=S.split(' ')\n",
    "    print(S)\n",
    "    if len(S)<K:\n",
    "        return ' '\n",
    "    return S[K-1]\n",
    "S=input('S = ')\n",
    "K=int(input('K = '))\n",
    "WordK(S,K)"
   ]
  },
  {
   "cell_type": "code",
   "execution_count": null,
   "metadata": {},
   "outputs": [],
   "source": [
    "#41\n",
    "def SplitStr(S):\n",
    "    S=re.sub('\\s+',' ',S)\n",
    "    S=S.split(' ')\n",
    "    print(len(S))\n",
    "    print(S)"
   ]
  },
  {
   "cell_type": "code",
   "execution_count": 13,
   "metadata": {
    "run_control": {
     "marked": false
    }
   },
   "outputs": [
    {
     "name": "stdout",
     "output_type": "stream",
     "text": [
      "S = qqqqqwwwwwwwwwwwwdddaaakkkkkkkmmmmmmjj\n",
      "q{5}w{12}dddaaak{7}m{6}jj\n"
     ]
    }
   ],
   "source": [
    "#42\n",
    "def CompressStr(S):\n",
    "    S = ' '.join(S)\n",
    "    S = S.split(' ')\n",
    "    letters = []\n",
    "    count = []\n",
    "    for i in range(len(S)):\n",
    "        if S[i] not in letters:\n",
    "            letters.append(S[i])\n",
    "            count.append(S.count(S[i]))\n",
    "    S = ''\n",
    "    for i in range(len(count)):\n",
    "        if count[i] > 4:\n",
    "            S += letters[i]\n",
    "            S += '{'+ str(count[i]) + '}'\n",
    "        else:\n",
    "            S += count[i]*letters[i]\n",
    "    return S\n",
    "S = input('S = ')\n",
    "print(CompressStr(S))"
   ]
  },
  {
   "cell_type": "code",
   "execution_count": 21,
   "metadata": {},
   "outputs": [
    {
     "name": "stdout",
     "output_type": "stream",
     "text": [
      "qqqqqwwwwwwwwwwwwdddaaakkkkkkkmmmmmmjj\n"
     ]
    }
   ],
   "source": [
    "#43\n",
    "def DecompressStr(S):\n",
    "    k = ''\n",
    "    son = ''\n",
    "    x = 0\n",
    "    for i in range(len(S)):\n",
    "        if S[i] == '{':\n",
    "            x = True\n",
    "            continue\n",
    "        if S[i] == '}':\n",
    "            x = False\n",
    "        if x:\n",
    "            son += S[i]\n",
    "            continue\n",
    "        if son:\n",
    "            k += k[-1] * (int(son)-1)\n",
    "            son =''\n",
    "        else:\n",
    "            k += S[i]\n",
    "    return k\n",
    "S = 'q{5}w{12}dddaaak{7}m{6}jj'\n",
    "print(DecompressStr(S))"
   ]
  },
  {
   "cell_type": "code",
   "execution_count": 24,
   "metadata": {},
   "outputs": [
    {
     "name": "stdout",
     "output_type": "stream",
     "text": [
      "12\n"
     ]
    },
    {
     "data": {
      "text/plain": [
       "'1100'"
      ]
     },
     "execution_count": 24,
     "metadata": {},
     "output_type": "execute_result"
    }
   ],
   "source": [
    "#44\n",
    "def DecToBin(N):\n",
    "    return bin(N)[2:]\n",
    "n=int(input())\n",
    "DecToBin(n)"
   ]
  },
  {
   "cell_type": "code",
   "execution_count": 27,
   "metadata": {},
   "outputs": [
    {
     "name": "stdout",
     "output_type": "stream",
     "text": [
      "4587\n"
     ]
    },
    {
     "data": {
      "text/plain": [
       "'11eb'"
      ]
     },
     "execution_count": 27,
     "metadata": {},
     "output_type": "execute_result"
    }
   ],
   "source": [
    "#45\n",
    "def DecToHex(N):\n",
    "    return hex(N)[2:]\n",
    "n=int(input())\n",
    "DecToHex(n)"
   ]
  },
  {
   "cell_type": "code",
   "execution_count": 31,
   "metadata": {},
   "outputs": [
    {
     "name": "stdout",
     "output_type": "stream",
     "text": [
      "100\n"
     ]
    },
    {
     "data": {
      "text/plain": [
       "4"
      ]
     },
     "execution_count": 31,
     "metadata": {},
     "output_type": "execute_result"
    }
   ],
   "source": [
    "#46\n",
    "def BinToDec(N):\n",
    "    return int(N,2)\n",
    "n=input()\n",
    "BinToDec(n)"
   ]
  },
  {
   "cell_type": "code",
   "execution_count": 10,
   "metadata": {},
   "outputs": [
    {
     "name": "stdout",
     "output_type": "stream",
     "text": [
      "4E8\n"
     ]
    },
    {
     "data": {
      "text/plain": [
       "1256"
      ]
     },
     "execution_count": 10,
     "metadata": {},
     "output_type": "execute_result"
    }
   ],
   "source": [
    "#47\n",
    "def DecToBin(S):\n",
    "    s=''\n",
    "    S=int(S)\n",
    "    while S>0:\n",
    "        if S%16>9:\n",
    "            s+=str(chr(S%16+55))\n",
    "        else:\n",
    "            s+=str(S%16)\n",
    "        S//=16\n",
    "    return s[::-1]\n",
    "print(DecToBin('1256'))\n",
    "def HexToDec(S):\n",
    "    s=0\n",
    "    for i in range(len(S)):\n",
    "        if S[i].isdigit():\n",
    "            s+=int(S[i])*16**(len(S)-i-1)\n",
    "        else:\n",
    "            s+=(ord(S[i])-55)*16**(len(S)-i-1)\n",
    "    return s\n",
    "HexToDec('4E8')"
   ]
  },
  {
   "cell_type": "code",
   "execution_count": 1,
   "metadata": {},
   "outputs": [
    {
     "data": {
      "text/plain": [
       "13"
      ]
     },
     "execution_count": 1,
     "metadata": {},
     "output_type": "execute_result"
    }
   ],
   "source": [
    "#48\n",
    "def IntSizeFile(file):\n",
    "    with open(file) as f:\n",
    "        k=f.read()\n",
    "    return len(k)\n",
    "file='new.txt'\n",
    "IntSizeFile(file)"
   ]
  },
  {
   "cell_type": "code",
   "execution_count": 3,
   "metadata": {
    "run_control": {
     "marked": false
    }
   },
   "outputs": [
    {
     "data": {
      "text/plain": [
       "1"
      ]
     },
     "execution_count": 3,
     "metadata": {},
     "output_type": "execute_result"
    }
   ],
   "source": [
    "#49\n",
    "def LineCount(file):\n",
    "    with open(file) as f:\n",
    "        k=f.readlines()\n",
    "    return len(k)\n",
    "file='new.txt'\n",
    "LineCount(file)"
   ]
  },
  {
   "cell_type": "code",
   "execution_count": null,
   "metadata": {},
   "outputs": [],
   "source": [
    "#50\n",
    "def InvertIntFile(file):\n",
    "    try:\n",
    "        with open(file) as f:\n",
    "            k=f.readlines()\n",
    "            if len(k)<2:\n",
    "                return ''\n",
    "        return len(k)\n",
    "    except FileNotFoundError:\n",
    "        return 'Fayl topilmadi'    \n",
    "file='new.txt'\n",
    "InvertIntFile(file)"
   ]
  },
  {
   "cell_type": "code",
   "execution_count": 6,
   "metadata": {},
   "outputs": [],
   "source": [
    "#51\n",
    "def AddLineNumbers(S,N,K,L):\n",
    "    with open(S) as f:\n",
    "        lines=f.readlines()\n",
    "    with open(S,'w') as f:\n",
    "        for i in range(len(lines)):\n",
    "            f.write(K*' '+str(N)+L*' '+lines[i])\n",
    "            N+=1\n",
    "AddLineNumbers('new.txt',4,5,3)        "
   ]
  },
  {
   "cell_type": "code",
   "execution_count": null,
   "metadata": {},
   "outputs": [],
   "source": [
    "#52\n",
    "def RemoveLineNumbers(S):\n",
    "    with open(S) as f:\n",
    "        lines=f.readlines()\n",
    "    for i in range(len(lines)):\n",
    "        lines[i] = lines[i]"
   ]
  },
  {
   "cell_type": "code",
   "execution_count": 1,
   "metadata": {},
   "outputs": [],
   "source": [
    "#53\n",
    "def SplitFile(S0,K,S1,S2):\n",
    "    with open(S0) as f:\n",
    "        k=f.read()\n",
    "    with open(S1,'x+') as f:\n",
    "        f.write(k[:K])\n",
    "    if K<len(k):\n",
    "        with open(S2,'x+') as f:\n",
    "            f.write(k[K:])\n",
    "SplitFile('new.txt',10,'new1.txt','new2.txt')"
   ]
  },
  {
   "cell_type": "code",
   "execution_count": 12,
   "metadata": {},
   "outputs": [
    {
     "name": "stdout",
     "output_type": "stream",
     "text": [
      "k=2\n",
      "abcdef\n",
      "ABCDEF\n",
      "453\n",
      "cdefgh\n",
      "CDEFGH\n",
      "453\n"
     ]
    }
   ],
   "source": [
    "#57\n",
    "import re\n",
    "def con(a):\n",
    "    global k\n",
    "    k = k%26\n",
    "    if a.islower() and ord(a)+k>122:\n",
    "        return chr(ord(a)+k-26)\n",
    "    elif a.isupper() and ord(a)+k>90:\n",
    "        return chr(ord(a)+k-26)\n",
    "    elif a.isalpha():\n",
    "        return chr(ord(a)+k)\n",
    "    else:\n",
    "        return a\n",
    "def EncodeText(S,K):\n",
    "    with open(S) as f:\n",
    "        k=f.read()\n",
    "    print(k)\n",
    "    k=''.join(map(con,k))\n",
    "    with open(S,'w+') as f:\n",
    "        f.write(k)\n",
    "    with open(S) as f:    \n",
    "        m=f.read()\n",
    "    print(m)\n",
    "k=int(input('k='))\n",
    "EncodeText('new.txt',k)"
   ]
  },
  {
   "cell_type": "code",
   "execution_count": null,
   "metadata": {},
   "outputs": [],
   "source": [
    "#52"
   ]
  },
  {
   "cell_type": "code",
   "execution_count": 12,
   "metadata": {},
   "outputs": [
    {
     "name": "stdout",
     "output_type": "stream",
     "text": [
      "t = 1\n",
      "n = 3\n",
      "a = 1\n",
      "a = 2\n",
      "a = 3\n",
      "a = 1\n",
      "a = 4\n",
      "a = 5\n",
      "a = 3\n",
      "a = 2\n",
      "a = 7\n",
      "1 2 3\n",
      "1 4 5\n",
      "3 2 7\n",
      "Case#1 12 0 2\n"
     ]
    }
   ],
   "source": [
    "def diagonal(a,n): #Diagonal yig'indisini hisoblaydi\n",
    "    return sum([a[i][i] for i in range(n)])\n",
    "\n",
    "def ustun(a,n): #Takrorlanadigan elementlari bor ustunlar soni\n",
    "    s = 0\n",
    "    t = [[a[j][i] for j in range(n)] for i in range(n)]\n",
    "    for j in range(n):\n",
    "        if len(set(t[j])) < len(t[j]):\n",
    "            s += 1\n",
    "    return s\n",
    "\n",
    "def satr(a,n): #Takrorlanadigan elementlari bor satrlar soni\n",
    "    s = 0\n",
    "    for i in range(n):\n",
    "        if len(set(a[i])) < len(a[i]):\n",
    "            s += 1\n",
    "    return s\n",
    "\n",
    "t = int(input('t = '))\n",
    "for i in range(t):\n",
    "    n = int(input('n = '))\n",
    "    a = [[int(input('a = ')) for i in range(n)] for j in range(n)]\n",
    "    for k in range(n):\n",
    "        print(*a[k])\n",
    "    print(f\"Case#{i+1}\",diagonal(a,n),satr(a,n),ustun(a,n))"
   ]
  },
  {
   "cell_type": "code",
   "execution_count": 2,
   "metadata": {
    "run_control": {
     "marked": false
    }
   },
   "outputs": [
    {
     "name": "stdout",
     "output_type": "stream",
     "text": [
      "2\n",
      "3\n",
      "2 8\n",
      "3 5\n",
      "6 7\n",
      "\n",
      "1 6\n",
      "9 1\n",
      "2 8\n"
     ]
    },
    {
     "data": {
      "text/plain": [
       "[[3, 12, 8], [14, 6, 15]]"
      ]
     },
     "execution_count": 2,
     "metadata": {},
     "output_type": "execute_result"
    }
   ],
   "source": [
    "from random import randint\n",
    "def matrix(n,m):\n",
    "    return [[randint(1,9) for i in range(n)] for j in range(m)]\n",
    "def matprint(a):\n",
    "    for i in range(len(a)):\n",
    "        print(*a[i])\n",
    "def matplus(a,b):\n",
    "    return [[a[i][j]+b[i][j] for i in range(len(a))] for j in range(len(a[0]))]\n",
    "def matkop(a,b):\n",
    "    res = [[[0]*len(a[0])]*len(a)]\n",
    "    for i in range(len(a)):\n",
    "        for j in range(len(b[0])):\n",
    "            for k in range(len(b)):\n",
    "                res[i][j] += a[i][k] + b[k][j]\n",
    "    return res\n",
    "n = int(input())\n",
    "m = int(input())\n",
    "a = matrix(n,m)\n",
    "b = matrix(n,m)\n",
    "matprint(a)\n",
    "print()\n",
    "matprint(b)\n",
    "matplus(a,b)"
   ]
  },
  {
   "cell_type": "code",
   "execution_count": 7,
   "metadata": {},
   "outputs": [
    {
     "name": "stdout",
     "output_type": "stream",
     "text": [
      "uzbekistan\n",
      "ZBKSTN\n"
     ]
    }
   ],
   "source": [
    "import re\n",
    "def katta(func):\n",
    "    def convert():\n",
    "        return func().upper\n",
    "    return convert()\n",
    "\n",
    "def unli(func):\n",
    "    def tozala():    \n",
    "        return re.sub(r'[auoei]','',func())\n",
    "    return tozala\n",
    "@katta\n",
    "@unli\n",
    "def drive():\n",
    "    s=input()\n",
    "    return s\n",
    "print(drive())"
   ]
  },
  {
   "cell_type": "code",
   "execution_count": 43,
   "metadata": {},
   "outputs": [
    {
     "name": "stdout",
     "output_type": "stream",
     "text": [
      "i e t g h\n"
     ]
    }
   ],
   "source": [
    "s='ietgh'\n",
    "print(' '.join(s))"
   ]
  },
  {
   "cell_type": "code",
   "execution_count": 54,
   "metadata": {},
   "outputs": [
    {
     "name": "stdout",
     "output_type": "stream",
     "text": [
      "n = 3\n",
      "0:00:00.920357\n"
     ]
    }
   ],
   "source": [
    "import datetime\n",
    "from math import factorial\n",
    "def sin(func):\n",
    "    def hisob():\n",
    "        st=datetime.datetime.now()\n",
    "        s=0\n",
    "        for i in range(func()):\n",
    "            s+=1/factorial(i)\n",
    "        fin=datetime.datetime.now()\n",
    "        return fin-st\n",
    "    return hisob\n",
    "@sin\n",
    "def drive():\n",
    "    n=int(input('n = '))\n",
    "    return n\n",
    "print(drive())"
   ]
  },
  {
   "cell_type": "code",
   "execution_count": null,
   "metadata": {},
   "outputs": [],
   "source": []
  }
 ],
 "metadata": {
  "kernelspec": {
   "display_name": "Python 3",
   "language": "python",
   "name": "python3"
  },
  "language_info": {
   "codemirror_mode": {
    "name": "ipython",
    "version": 3
   },
   "file_extension": ".py",
   "mimetype": "text/x-python",
   "name": "python",
   "nbconvert_exporter": "python",
   "pygments_lexer": "ipython3",
   "version": "3.8.5"
  }
 },
 "nbformat": 4,
 "nbformat_minor": 4
}

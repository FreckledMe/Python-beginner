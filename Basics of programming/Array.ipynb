{
 "cells": [
  {
   "cell_type": "code",
   "execution_count": 23,
   "metadata": {},
   "outputs": [
    {
     "name": "stdout",
     "output_type": "stream",
     "text": [
      "n=3\n",
      "[1, 3, 5]\n"
     ]
    }
   ],
   "source": [
    "#1\n",
    "n=int(input('n='))\n",
    "a=[]\n",
    "for i in range(1,2*n+1,2):\n",
    "    a.append(i)\n",
    "print(a)\n"
   ]
  },
  {
   "cell_type": "code",
   "execution_count": 47,
   "metadata": {},
   "outputs": [
    {
     "name": "stdout",
     "output_type": "stream",
     "text": [
      "n=11\n",
      "[1, 2, 4, 8, 16, 32, 64, 128, 256, 512, 1024]\n"
     ]
    }
   ],
   "source": [
    "#2\n",
    "n=int(input('n='))\n",
    "a=[2**i for i in range(n)]\n",
    "print(a)"
   ]
  },
  {
   "cell_type": "code",
   "execution_count": 5,
   "metadata": {},
   "outputs": [
    {
     "name": "stdout",
     "output_type": "stream",
     "text": [
      "n=10\n",
      "a=2\n",
      "d=3\n",
      "[2, 5, 8, 11, 14, 17, 20, 23, 26, 29]\n"
     ]
    }
   ],
   "source": [
    "#3\n",
    "n=int(input('n='))\n",
    "k=int(input('a='))\n",
    "a=[k]\n",
    "d=int(input('d='))\n",
    "for i in range(1,n+1):\n",
    "    a.append(a[i-1]+d)\n",
    "print(a)"
   ]
  },
  {
   "cell_type": "code",
   "execution_count": 6,
   "metadata": {},
   "outputs": [
    {
     "name": "stdout",
     "output_type": "stream",
     "text": [
      "n=10\n",
      "a=2\n",
      "d=2\n",
      "[2, 4, 8, 16, 32, 64, 128, 256, 512, 1024, 2048]\n"
     ]
    }
   ],
   "source": [
    "#4\n",
    "n=int(input('n='))\n",
    "k=int(input('a='))\n",
    "a=[k]\n",
    "d=int(input('d='))\n",
    "for i in range(1,n+1):\n",
    "    a.append(a[i-1]*d)\n",
    "print(a)"
   ]
  },
  {
   "cell_type": "code",
   "execution_count": 8,
   "metadata": {},
   "outputs": [
    {
     "name": "stdout",
     "output_type": "stream",
     "text": [
      "n=10\n",
      "[0, 1, 1, 2, 3, 5, 8, 13, 21, 34, 55]\n"
     ]
    }
   ],
   "source": [
    "#5\n",
    "n=int(input('n='))\n",
    "a=[0,1]\n",
    "for i in range(2,n+1):\n",
    "    a.append(a[i-1]+a[i-2])\n",
    "print(a)"
   ]
  },
  {
   "cell_type": "code",
   "execution_count": 11,
   "metadata": {},
   "outputs": [
    {
     "name": "stdout",
     "output_type": "stream",
     "text": [
      "n=10\n",
      "a=2\n",
      "b=3\n",
      "[2, 3, 5, 10, 20, 40, 80, 160, 320, 640, 1280]\n"
     ]
    }
   ],
   "source": [
    "#6\n",
    "n=int(input('n='))\n",
    "A=int(input('a='))\n",
    "B=int(input('b='))\n",
    "a=[A,B]\n",
    "s=A+B\n",
    "for i in range(2,n+1):\n",
    "    a.append(s)\n",
    "    s+=a[i]\n",
    "print(a)"
   ]
  },
  {
   "cell_type": "code",
   "execution_count": 15,
   "metadata": {},
   "outputs": [
    {
     "name": "stdout",
     "output_type": "stream",
     "text": [
      "[4, 1, 9, 2, 1, 10, 5, 4, 3, 7]\n",
      "[7, 3, 4, 5, 10, 1, 2, 9, 1, 4]\n"
     ]
    }
   ],
   "source": [
    "#7\n",
    "import random\n",
    "a=[random.randint(1,10) for i in range(10)]\n",
    "print(a)\n",
    "print(a[::-1])"
   ]
  },
  {
   "cell_type": "code",
   "execution_count": 18,
   "metadata": {},
   "outputs": [
    {
     "name": "stdout",
     "output_type": "stream",
     "text": [
      "[5, 4, 7, 4, 1, 1, 6, 1, 5, 1]\n",
      "[1, 5, 1, 6, 1, 1, 4, 7, 4, 5]\n"
     ]
    }
   ],
   "source": [
    "#7_1\n",
    "import random\n",
    "a=[random.randint(1,10) for i in range(10)]\n",
    "print(a)\n",
    "a.reverse()\n",
    "print(a)"
   ]
  },
  {
   "cell_type": "code",
   "execution_count": 28,
   "metadata": {},
   "outputs": [
    {
     "name": "stdout",
     "output_type": "stream",
     "text": [
      "n =10\n",
      "[4, 4, 4, 5, 4, 10, 2, 7, 8, 3]\n",
      "[5, 7, 3]\n",
      "3\n"
     ]
    }
   ],
   "source": [
    "#8\n",
    "import random\n",
    "n=int(input('n ='))\n",
    "s=0\n",
    "k=[]\n",
    "a=[random.randint(1,10) for i in range(n)]\n",
    "for i in range(n):\n",
    "    if a[i]%2==1:\n",
    "        s+=1\n",
    "        k.append(a[i])\n",
    "print(a)\n",
    "print(k)\n",
    "print(s)"
   ]
  },
  {
   "cell_type": "code",
   "execution_count": 30,
   "metadata": {},
   "outputs": [
    {
     "name": "stdout",
     "output_type": "stream",
     "text": [
      "n =10\n",
      "[5, 2, 3, 2, 10, 8, 4, 7, 6, 5]\n",
      "[6, 4, 8, 10, 2, 2]\n",
      "6\n"
     ]
    }
   ],
   "source": [
    "#9\n",
    "import random\n",
    "n=int(input('n ='))\n",
    "s=0\n",
    "k=[]\n",
    "a=[random.randint(1,10) for i in range(n)]\n",
    "for i in range(n):\n",
    "    if a[i]%2==0:\n",
    "        s+=1\n",
    "        k.append(a[i])\n",
    "print(a)\n",
    "print(k[::-1])\n",
    "print(s)\n"
   ]
  },
  {
   "cell_type": "code",
   "execution_count": 32,
   "metadata": {},
   "outputs": [
    {
     "name": "stdout",
     "output_type": "stream",
     "text": [
      "n =10\n",
      "[4, 8, 6, 9, 7, 5]\n"
     ]
    }
   ],
   "source": [
    "#10\n",
    "import random\n",
    "n=int(input('n ='))\n",
    "k=[]\n",
    "m=[]\n",
    "s=0\n",
    "a=[random.randint(1,10) for i in range(n)]\n",
    "for i in range(n):\n",
    "    if a[i]%2==0:\n",
    "        k.append(a[i])\n",
    "for i in range(n):\n",
    "    if a[i]%2==1:\n",
    "        m.append(a[i])\n",
    "print(k+m[::-1])\n",
    "    "
   ]
  },
  {
   "cell_type": "code",
   "execution_count": 6,
   "metadata": {},
   "outputs": [
    {
     "name": "stdout",
     "output_type": "stream",
     "text": [
      "n=10\n",
      "[0, 1, 2, 3, 4, 5, 6, 7, 8, 9]\n",
      "[0, 2, 4, 6, 8, 9, 7, 5, 3, 1]\n"
     ]
    }
   ],
   "source": [
    "#10_1\n",
    "import random\n",
    "n=int(input('n='))\n",
    "#=[random.randint(1,100) for i in range(n)]\n",
    "a=[0,1,2,3,4,5,6,7,8,9]\n",
    "print(a)\n",
    "k=n\n",
    "if n%2==1:\n",
    "    k-=2\n",
    "a=a[::2]+a[k:0:-2]\n",
    "print(a)"
   ]
  },
  {
   "cell_type": "code",
   "execution_count": 3,
   "metadata": {},
   "outputs": [
    {
     "name": "stdout",
     "output_type": "stream",
     "text": [
      "n=11\n",
      "k=2\n",
      "[3, 5, 9, 1, 8, 7, 1, 2, 5, 2, 10]\n",
      "[9, 8, 1, 5, 10]\n"
     ]
    }
   ],
   "source": [
    "#11\n",
    "import random\n",
    "n=int(input('n='))\n",
    "k=int(input('k='))\n",
    "a=[random.randint(1,10) for i in range(n)]\n",
    "m=[]\n",
    "for i in range(k,n,k):\n",
    "    m.append(a[i])\n",
    "print(a)\n",
    "print(m)"
   ]
  },
  {
   "cell_type": "code",
   "execution_count": 7,
   "metadata": {},
   "outputs": [
    {
     "name": "stdout",
     "output_type": "stream",
     "text": [
      "n=10\n",
      "[17, 93, 2, 61, 33, 15, 31, 95, 68, 17]\n",
      "k=2\n",
      "[17, 2, 33, 31, 68]\n"
     ]
    }
   ],
   "source": [
    "#11_1\n",
    "import random \n",
    "n=int(input('n='))\n",
    "a=[random.randint(1,100) for i in range(n)]\n",
    "print(a)\n",
    "k=int(input('k='))\n",
    "a=a[::k]\n",
    "print(a)"
   ]
  },
  {
   "cell_type": "code",
   "execution_count": 8,
   "metadata": {},
   "outputs": [
    {
     "name": "stdout",
     "output_type": "stream",
     "text": [
      "n=10\n",
      "[6, 3, 2, 3, 1, 7, 5, 2, 9, 7]\n",
      "[6, 2, 1, 5, 9]\n"
     ]
    }
   ],
   "source": [
    "#12\n",
    "import random\n",
    "n=int(input('n='))\n",
    "a=[random.randint(1,10) for i in range(n)]\n",
    "print(a)\n",
    "a=a[::2]\n",
    "print(a)"
   ]
  },
  {
   "cell_type": "code",
   "execution_count": 9,
   "metadata": {},
   "outputs": [
    {
     "name": "stdout",
     "output_type": "stream",
     "text": [
      "n=15\n",
      "[3, 8, 6, 4, 9, 9, 4, 7, 5, 8, 3, 3, 10, 3, 3]\n",
      "k=2\n",
      "l=4\n",
      "[8, 4, 9, 7, 8, 3, 3]\n"
     ]
    }
   ],
   "source": [
    "import random\n",
    "n=int(input('n='))\n",
    "a=[random.randint(1,10) for i in range(n)]\n",
    "print(a)\n",
    "k=int(input('k='))\n",
    "l=int(input('l='))\n",
    "a=[a[i] for i in range(n) if i%k!=0 and i%l!=0]\n",
    "print(a)"
   ]
  },
  {
   "cell_type": "code",
   "execution_count": 10,
   "metadata": {},
   "outputs": [
    {
     "name": "stdout",
     "output_type": "stream",
     "text": [
      "n=15\n",
      "[1, 9, 8, 2, 10, 7, 7, 7, 2, 4, 3, 1, 3, 6, 7]\n",
      "k=2\n",
      "l=4\n",
      "[1, 3, 5, 7, 9, 11, 13]\n"
     ]
    }
   ],
   "source": [
    "import random\n",
    "n=int(input('n='))\n",
    "a=[random.randint(1,10) for i in range(n)]\n",
    "print(a)\n",
    "k=int(input('k='))\n",
    "l=int(input('l='))\n",
    "a=[i for i in range(n) if i%k!=0 and i%l!=0]\n",
    "print(a)"
   ]
  },
  {
   "cell_type": "code",
   "execution_count": 7,
   "metadata": {},
   "outputs": [
    {
     "name": "stdout",
     "output_type": "stream",
     "text": [
      "n=11\n",
      "[1, 9, 4, 4, 4, 10, 9, 3, 3, 9, 6]\n",
      "[6, 3, 9, 4, 4, 1]\n"
     ]
    }
   ],
   "source": [
    "#13\n",
    "import random\n",
    "n=int(input('n='))\n",
    "a=[random.randint(1,10) for i in range(n)]\n",
    "m=[]\n",
    "while n>0:\n",
    "    m.append(a[n-1])\n",
    "    n-=2\n",
    "print(a)\n",
    "print(m)"
   ]
  },
  {
   "cell_type": "code",
   "execution_count": 9,
   "metadata": {},
   "outputs": [
    {
     "name": "stdout",
     "output_type": "stream",
     "text": [
      "n=11\n",
      "2 10 9 10 5 7 8 7 2 3 1\n",
      "2 9 5 8 2 1 10 10 7 7 3\n"
     ]
    }
   ],
   "source": [
    "#14\n",
    "import random\n",
    "n=int(input('n='))\n",
    "a=[random.randint(1,10) for i in range(n)]\n",
    "m=[]\n",
    "for i in range(0,n,2):\n",
    "    m.append(a[i])\n",
    "for i in range(1,n,2):\n",
    "    m.append(a[i])\n",
    "print(*a)\n",
    "print(*m)"
   ]
  },
  {
   "cell_type": "code",
   "execution_count": 14,
   "metadata": {},
   "outputs": [
    {
     "name": "stdout",
     "output_type": "stream",
     "text": [
      "n=11\n",
      "[0, 1, 2, 3, 4, 5, 6, 7, 8, 9, 10]\n",
      "[1, 3, 5, 7, 9, 10, 8, 6, 4, 2, 0]\n"
     ]
    }
   ],
   "source": [
    "#15\n",
    "import random\n",
    "n=int(input('n='))\n",
    "#a=[random.randint(1,10) for i in range(n)]\n",
    "a=[0,1,2,3,4,5,6,7,8,9,10]\n",
    "print(a)\n",
    "m=[]\n",
    "x=-1\n",
    "for i in range(1,n,2):\n",
    "    m.append(a[i])\n",
    "    x+=1\n",
    "for i in range(0,n,2):\n",
    "    m.insert(x+1,a[i])\n",
    "print(m)"
   ]
  },
  {
   "cell_type": "code",
   "execution_count": 14,
   "metadata": {},
   "outputs": [
    {
     "name": "stdout",
     "output_type": "stream",
     "text": [
      "n=10\n",
      "[5, 10, 5, 1, 1, 4, 7, 5, 2, 9]\n",
      "[10, 1, 4, 5, 9, 2, 7, 1, 5, 5]\n"
     ]
    }
   ],
   "source": [
    "#15_1\n",
    "import random\n",
    "n=int(input('n='))\n",
    "a=[random.randint(1,10) for i in range(n)]\n",
    "print(a)\n",
    "a=a[1::2]+a[n-2::-2]\n",
    "print(a)"
   ]
  },
  {
   "cell_type": "code",
   "execution_count": 27,
   "metadata": {},
   "outputs": [
    {
     "name": "stdout",
     "output_type": "stream",
     "text": [
      "n=10\n",
      "[0, 1, 2, 3, 4, 5, 6, 7, 8, 9]\n",
      "[0, 9, 1, 8, 2, 7, 3, 6, 4, 5]\n"
     ]
    }
   ],
   "source": [
    "#16\n",
    "import random\n",
    "n=int(input('n='))\n",
    "#a=[random.randint(1,10) for i in range(n)]\n",
    "a=[0,1,2,3,4,5,6,7,8,9]\n",
    "print(a)\n",
    "m=[]\n",
    "x=1\n",
    "k=n//2\n",
    "for i in range(k+1):\n",
    "    m.append(a[i])\n",
    "for i in range(n-1,k,-1):\n",
    "    m.insert(x,a[i])\n",
    "    x+=2\n",
    "print(m)"
   ]
  },
  {
   "cell_type": "code",
   "execution_count": 5,
   "metadata": {},
   "outputs": [
    {
     "name": "stdout",
     "output_type": "stream",
     "text": [
      "n=20\n",
      "[6, 3, 3, 2, 5, 3, 5, 9, 3, 4, 4, 9, 7, 4, 6, 10, 4, 3, 2, 10]\n",
      "[6, 3, 10, 2, 3, 2, 3, 4, 5, 3, 10, 6, 5, 9, 4, 7, 3, 4, 9, 4]\n"
     ]
    }
   ],
   "source": [
    "#17\n",
    "import random\n",
    "n=int(input('n='))\n",
    "a=[random.randint(1,10) for i in range(n)]\n",
    "print(a)\n",
    "m=[]\n",
    "i=0\n",
    "n-=1\n",
    "while i<n:\n",
    "    if i==n+1:\n",
    "        break\n",
    "    m.append(a[i])\n",
    "    i+=1\n",
    "    if i==n+1:\n",
    "        break\n",
    "    m.append(a[i])\n",
    "    i+=1\n",
    "    if i==n+1:\n",
    "        break\n",
    "    m.append(a[n])\n",
    "    n-=1\n",
    "    if i==n+1:\n",
    "        break\n",
    "    m.append(a[n])\n",
    "    n-=1\n",
    "print(m)\n"
   ]
  },
  {
   "cell_type": "code",
   "execution_count": 37,
   "metadata": {},
   "outputs": [
    {
     "name": "stdout",
     "output_type": "stream",
     "text": [
      "n=11\n",
      "[6, 4, 1, 2, 3, 3, 4, 3, 10, 1, 8]\n",
      "6\n"
     ]
    }
   ],
   "source": [
    "#18\n",
    "import random\n",
    "n=int(input('n='))\n",
    "a=[random.randint(1,10) for i in range(n)]\n",
    "print(a)\n",
    "s=0\n",
    "k=a[-1]\n",
    "for i in range(0,n-1):\n",
    "    if a[i]<k:\n",
    "        print(a[i])\n",
    "        s=1\n",
    "        break\n",
    "if s==0:\n",
    "    print(0)"
   ]
  },
  {
   "cell_type": "code",
   "execution_count": 2,
   "metadata": {},
   "outputs": [
    {
     "name": "stdout",
     "output_type": "stream",
     "text": [
      "n=11\n",
      "[4, 2, 8, 7, 2, 3, 7, 4, 10, 6, 7]\n",
      "6\n"
     ]
    }
   ],
   "source": [
    "#19\n",
    "import random\n",
    "n=int(input('n='))\n",
    "a=[random.randint(1,10) for i in range(n)]\n",
    "print(a)\n",
    "x=True\n",
    "s=0\n",
    "k=a[-1]\n",
    "m=a[0]\n",
    "for i in range(1,n-1):\n",
    "    if x and m<a[i]<k:\n",
    "        maxi=a[i]\n",
    "        s=1\n",
    "        x=False\n",
    "    if maxi<=a[i] and m<a[i]<k:\n",
    "        maxi=a[i]\n",
    "if s==0:\n",
    "    print(0)\n",
    "else:\n",
    "    print(maxi)"
   ]
  },
  {
   "cell_type": "code",
   "execution_count": 4,
   "metadata": {},
   "outputs": [
    {
     "name": "stdout",
     "output_type": "stream",
     "text": [
      "n=10\n",
      "[9, 10, 2, 7, 1, 6, 10, 5, 6, 6]\n",
      "k=5\n",
      "l=8\n",
      "15\n"
     ]
    }
   ],
   "source": [
    "#20\n",
    "n=int(input('n='))\n",
    "a=[random.randint(1,10) for i in range(n)]\n",
    "print(a)\n",
    "k=int(input('k='))\n",
    "l=int(input('l='))\n",
    "s=0\n",
    "for i in range(n):\n",
    "    if k<i<l:\n",
    "        s+=a[i]\n",
    "print(s)"
   ]
  },
  {
   "cell_type": "code",
   "execution_count": 40,
   "metadata": {},
   "outputs": [
    {
     "name": "stdout",
     "output_type": "stream",
     "text": [
      "n=10\n",
      "[4, 3, 10, 6, 4, 7, 1, 9, 2, 7]\n",
      "k=4\n",
      "l=8\n",
      "5.666666666666667\n"
     ]
    }
   ],
   "source": [
    "#21\n",
    "n=int(input('n='))\n",
    "a=[random.randint(1,10) for i in range(n)]\n",
    "print(a)\n",
    "k=int(input('k='))\n",
    "l=int(input('l='))\n",
    "s=0\n",
    "t=0\n",
    "for i in range(n):\n",
    "    if k<i<l:\n",
    "        s+=a[i]\n",
    "        t+=1\n",
    "print(s/t)"
   ]
  },
  {
   "cell_type": "code",
   "execution_count": 41,
   "metadata": {},
   "outputs": [
    {
     "name": "stdout",
     "output_type": "stream",
     "text": [
      "n=10\n",
      "[9, 6, 2, 6, 3, 2, 3, 10, 2, 4]\n",
      "k=5\n",
      "l=3\n",
      "47\n"
     ]
    }
   ],
   "source": [
    "#22\n",
    "n=int(input('n='))\n",
    "a=[random.randint(1,10) for i in range(n)]\n",
    "print(a)\n",
    "k=int(input('k='))\n",
    "l=int(input('l='))\n",
    "s=0\n",
    "for i in range(n):\n",
    "    if not k<i<l:\n",
    "        s+=a[i]\n",
    "print(s)"
   ]
  },
  {
   "cell_type": "code",
   "execution_count": 42,
   "metadata": {},
   "outputs": [
    {
     "name": "stdout",
     "output_type": "stream",
     "text": [
      "n=10\n",
      "[5, 7, 6, 6, 4, 9, 10, 4, 3, 10]\n",
      "k=3\n",
      "l=8\n",
      "6.166666666666667\n"
     ]
    }
   ],
   "source": [
    "#23\n",
    "n=int(input('n='))\n",
    "a=[random.randint(1,10) for i in range(n)]\n",
    "print(a)\n",
    "k=int(input('k='))\n",
    "l=int(input('l='))\n",
    "s=0\n",
    "t=0\n",
    "for i in range(n):\n",
    "    if not k<i<l:\n",
    "        s+=a[i]\n",
    "        t+=1\n",
    "print(s/t)"
   ]
  },
  {
   "cell_type": "code",
   "execution_count": null,
   "metadata": {},
   "outputs": [],
   "source": [
    "n=int(input('n='))\n",
    "a=[random.randint(1,10) for i in range(n)]\n",
    "print(a)\n",
    "k=int(input('k='))\n",
    "l=int(input('l='))\n",
    "print((sum(a)-sum(a[k:l+1])/(n-l+k-1))"
   ]
  },
  {
   "cell_type": "code",
   "execution_count": 14,
   "metadata": {},
   "outputs": [
    {
     "name": "stdout",
     "output_type": "stream",
     "text": [
      "n=3\n",
      "a=2\n",
      "a=4\n",
      "a=8\n",
      "0\n"
     ]
    }
   ],
   "source": [
    "#24\n",
    "n=int(input('n='))\n",
    "s=0\n",
    "a=[int(input('a=')) for i in range(n)]\n",
    "d=a[1]-a[0]\n",
    "for i in range(n):\n",
    "    s+=a[i]\n",
    "if s==(a[0]+a[n-1])*n/2:\n",
    "    print(d)\n",
    "else:\n",
    "    print(0)"
   ]
  },
  {
   "cell_type": "code",
   "execution_count": 19,
   "metadata": {},
   "outputs": [
    {
     "name": "stdout",
     "output_type": "stream",
     "text": [
      "n=3\n",
      "a=625\n",
      "a=125\n",
      "a=25\n",
      "0.2\n"
     ]
    }
   ],
   "source": [
    "#25\n",
    "n=int(input('n='))\n",
    "s=0\n",
    "a=[int(input('a=')) for i in range(n)]\n",
    "d=a[1]/a[0]\n",
    "for i in range(n):\n",
    "    s+=a[i]\n",
    "if s==a[0]*(d**n-1)/(d-1):\n",
    "    print(d)\n",
    "else:\n",
    "    print(0)"
   ]
  },
  {
   "cell_type": "code",
   "execution_count": 2,
   "metadata": {},
   "outputs": [
    {
     "name": "stdout",
     "output_type": "stream",
     "text": [
      "n=10\n",
      "[2, 2, 2, 10, 10, 5, 7, 1, 8, 10]\n",
      "2\n"
     ]
    }
   ],
   "source": [
    "#26\n",
    "from random import randint\n",
    "n=int(input('n='))\n",
    "a=[randint(1,10) for i in range(n)]\n",
    "print(a)\n",
    "for i in range(n-1):\n",
    "    if a[i]%2==a[i+1]%2:\n",
    "        print(a[i+1])\n",
    "        break"
   ]
  },
  {
   "cell_type": "code",
   "execution_count": 34,
   "metadata": {},
   "outputs": [
    {
     "name": "stdout",
     "output_type": "stream",
     "text": [
      "n=5\n",
      "a=-1\n",
      "a=2\n",
      "a=2\n",
      "a=-3\n",
      "a=4\n",
      "[-1, 2, 2, -3, 4]\n",
      "2\n"
     ]
    }
   ],
   "source": [
    "#27\n",
    "n=int(input('n='))\n",
    "s=0\n",
    "x=True\n",
    "y=True\n",
    "a=[int(input('a=')) for i in range(n)]\n",
    "print(a)\n",
    "if a[0]>0:\n",
    "    for i in range(0,n,2):\n",
    "        if a[i]<0 and x:\n",
    "            s=1\n",
    "            indeks=i\n",
    "            x=False\n",
    "    for i in range(1,n,2):\n",
    "        if a[i]>0 and y:\n",
    "            s=1\n",
    "            indeks1=i\n",
    "            y=False\n",
    "elif a[0]<0:\n",
    "    for i in range(0,n,2):\n",
    "        if a[i]>0 and x:\n",
    "            s=1\n",
    "            indeks=i\n",
    "            x=False\n",
    "    for i in range(1,n,2):\n",
    "        if a[i]<0 and y:\n",
    "            s=1\n",
    "            indeks1=i\n",
    "            y=False\n",
    "if s==0:\n",
    "    print(0)\n",
    "else:\n",
    "    print(min(indeks,indeks1))"
   ]
  },
  {
   "cell_type": "code",
   "execution_count": 18,
   "metadata": {},
   "outputs": [
    {
     "name": "stdout",
     "output_type": "stream",
     "text": [
      "n=10\n",
      "a=1\n",
      "a=-2\n",
      "a=3\n",
      "a=-4\n",
      "a=-5\n",
      "a=6\n",
      "a=-7\n",
      "a=-8\n",
      "a=9\n",
      "a=-10\n",
      "[1, -2, 3, -4, -5, 6, -7, -8, 9, -10]\n",
      "4\n",
      "7\n"
     ]
    }
   ],
   "source": [
    "#27_1\n",
    "n=int(input('n='))\n",
    "a=[int(input('a=')) for i in range(n)]\n",
    "print(a)\n",
    "for i in range(n-1):\n",
    "    if a[i]*a[i+1]>=0:\n",
    "        print(i+1)\n",
    "        break"
   ]
  },
  {
   "cell_type": "code",
   "execution_count": 17,
   "metadata": {},
   "outputs": [
    {
     "name": "stdout",
     "output_type": "stream",
     "text": [
      "n=10\n",
      "[2, 46, 18, 40, 72, 85, 8, 39, 87, 49]\n",
      "2\n"
     ]
    }
   ],
   "source": [
    "#28\n",
    "import random\n",
    "n=int(input('n='))\n",
    "x=True\n",
    "a=[random.randint(1,100) for i in range(n)]\n",
    "for i in range(0,n,2):\n",
    "    if x:\n",
    "        mini=a[i]\n",
    "        x=False\n",
    "    if mini>a[i]:\n",
    "        mini=a[i]\n",
    "print(a)\n",
    "print(mini)"
   ]
  },
  {
   "cell_type": "code",
   "execution_count": 6,
   "metadata": {},
   "outputs": [
    {
     "name": "stdout",
     "output_type": "stream",
     "text": [
      "n=12\n",
      "[78, 93, 79, 79, 71, 96, 33, 70, 99, 23, 84, 56]\n",
      "96\n"
     ]
    }
   ],
   "source": [
    "#29\n",
    "import random\n",
    "n=int(input('n='))\n",
    "x=True\n",
    "a=[random.randint(1,100) for i in range(n)]\n",
    "for i in range(1,n,2):\n",
    "    if x:\n",
    "        maxi=a[i]\n",
    "        x=False\n",
    "    if maxi<a[i]:\n",
    "        maxi=a[i]\n",
    "print(a)\n",
    "print(maxi)"
   ]
  },
  {
   "cell_type": "code",
   "execution_count": 11,
   "metadata": {},
   "outputs": [
    {
     "name": "stdout",
     "output_type": "stream",
     "text": [
      "n=11\n",
      "65 74 54 66 48 27 4 23 19 20 28\n",
      "1 3 4 5 7\n",
      "5\n"
     ]
    }
   ],
   "source": [
    "#30\n",
    "import random\n",
    "n=int(input('n='))\n",
    "m=[]\n",
    "s=0\n",
    "a=[random.randint(1,100) for i in range(n)]\n",
    "for i in range(n):\n",
    "    if i+1==n:\n",
    "        break\n",
    "    if a[i]>a[i+1]:\n",
    "        m.append(i)\n",
    "        s+=1\n",
    "print(*a)\n",
    "print(*m)\n",
    "print(s)"
   ]
  },
  {
   "cell_type": "code",
   "execution_count": 1,
   "metadata": {},
   "outputs": [
    {
     "name": "stdout",
     "output_type": "stream",
     "text": [
      "hello world\n"
     ]
    }
   ],
   "source": [
    "print('hello world')"
   ]
  },
  {
   "cell_type": "code",
   "execution_count": 13,
   "metadata": {},
   "outputs": [
    {
     "name": "stdout",
     "output_type": "stream",
     "text": [
      "n=11\n",
      "[11, 12, 72, 6, 49, 92, 4, 83, 60, 88, 17]\n",
      "[8, 6, 4, 3, 1, 0]\n",
      "6\n"
     ]
    }
   ],
   "source": [
    "#31\n",
    "import random\n",
    "n=int(input('n='))\n",
    "m=[]\n",
    "s=0\n",
    "a=[random.randint(1,100) for i in range(n)]\n",
    "for i in range(n):\n",
    "    if i+1==n:\n",
    "        break\n",
    "    if a[i]<a[i+1]:\n",
    "        m.append(i)\n",
    "        s+=1\n",
    "print(a)\n",
    "m.reverse()\n",
    "print(m)\n",
    "print(s)"
   ]
  },
  {
   "cell_type": "code",
   "execution_count": 15,
   "metadata": {},
   "outputs": [
    {
     "name": "stdout",
     "output_type": "stream",
     "text": [
      "n=11\n",
      "[65, 76, 64, 47, 8, 80, 38, 98, 10, 53, 94]\n",
      "9\n"
     ]
    }
   ],
   "source": [
    "#32\n",
    "import random\n",
    "n=int(input('n='))\n",
    "a=[random.randint(1,100) for i in range(n)]\n",
    "print(a)\n",
    "for i in range(n):\n",
    "    if i+2==n:\n",
    "        break\n",
    "    if a[i]>a[i+1] and a[i+1]<a[i+2]:\n",
    "        print(i+1)\n",
    "        break"
   ]
  },
  {
   "cell_type": "code",
   "execution_count": 18,
   "metadata": {},
   "outputs": [
    {
     "name": "stdout",
     "output_type": "stream",
     "text": [
      "n=15\n",
      "[37, 74, 37, 6, 62, 71, 78, 94, 56, 9, 47, 77, 17, 47, 57]\n",
      "11\n"
     ]
    }
   ],
   "source": [
    "#33\n",
    "import random\n",
    "n=int(input('n='))\n",
    "a=[random.randint(1,100) for i in range(n)]\n",
    "print(a)\n",
    "for i in range(n-1,-1,-1):\n",
    "    if i-2==-1:\n",
    "        break\n",
    "    if a[i]<a[i-1] and a[i-1]>a[i-2]:\n",
    "        print(a[i-1])\n",
    "       "
   ]
  },
  {
   "cell_type": "code",
   "execution_count": 19,
   "metadata": {},
   "outputs": [
    {
     "name": "stdout",
     "output_type": "stream",
     "text": [
      "n=15\n",
      "[36, 27, 4, 40, 11, 6, 52, 25, 99, 77, 76, 96, 92, 82, 80]\n",
      "76\n"
     ]
    }
   ],
   "source": [
    "#34\n",
    "import random\n",
    "x=True\n",
    "n=int(input('n='))\n",
    "a=[random.randint(1,100) for i in range(n)]\n",
    "print(a)\n",
    "for i in range(n):\n",
    "    if i+2==n:\n",
    "        break\n",
    "    if a[i]>a[i+1] and a[i+1]<a[i+2] and x:\n",
    "        maxi=a[i+1]\n",
    "        x=False\n",
    "    if a[i]>a[i+1] and a[i+1]<a[i+2] and maxi<a[i+1]:\n",
    "        maxi=a[i+1]\n",
    "print(maxi)"
   ]
  },
  {
   "cell_type": "code",
   "execution_count": 1,
   "metadata": {},
   "outputs": [
    {
     "name": "stdout",
     "output_type": "stream",
     "text": [
      "n=11\n",
      "[8, 42, 92, 86, 100, 62, 77, 40, 93, 60, 15]\n",
      "77\n"
     ]
    }
   ],
   "source": [
    "#35\n",
    "import random\n",
    "x=True\n",
    "n=int(input('n='))\n",
    "a=[random.randint(1,100) for i in range(n)]\n",
    "print(a)\n",
    "for i in range(n-1,-1,-1):\n",
    "    if i-2==-1:\n",
    "        break\n",
    "    if a[i]<a[i-1] and a[i-1]>a[i-2] and x:\n",
    "        mini=a[i-1]\n",
    "        x=False\n",
    "    if a[i]<a[i-1] and a[i-1]>a[i-2] and mini>a[i-1]:\n",
    "        mini=a[i-1]\n",
    "print(mini)"
   ]
  },
  {
   "cell_type": "code",
   "execution_count": null,
   "metadata": {},
   "outputs": [],
   "source": [
    "#36\n",
    "import random\n",
    "n=int(input('n='))\n",
    "a=[random.randint(1,100) for i in range(n)]\n",
    "print(a)\n",
    "m=[]\n",
    "for i in range(n):\n",
    "    if i+2==n:\n",
    "        break\n",
    "    if a[i]>a[i+1] and a[i+1]<a[i+2]:\n",
    "        print(i+1)"
   ]
  },
  {
   "cell_type": "code",
   "execution_count": 8,
   "metadata": {},
   "outputs": [
    {
     "name": "stdout",
     "output_type": "stream",
     "text": [
      "n=2\n",
      "[77, 64]\n",
      "\n",
      "0\n"
     ]
    }
   ],
   "source": [
    "#37\n",
    "import random\n",
    "n=int(input('n='))\n",
    "m=[]\n",
    "s=1\n",
    "k=0\n",
    "a=[random.randint(1,100) for i in range(n)]\n",
    "for i in range(n-1):\n",
    "    if a[i]<a[i+1]:\n",
    "        s+=1\n",
    "    else:\n",
    "        if s!=1:\n",
    "            k+=1\n",
    "            m.append(s)\n",
    "        s=1\n",
    "if s>1:\n",
    "    m.append(s)\n",
    "    k+=1\n",
    "print(a)\n",
    "print(*m)\n",
    "print(k)  "
   ]
  },
  {
   "cell_type": "code",
   "execution_count": 2,
   "metadata": {},
   "outputs": [
    {
     "name": "stdout",
     "output_type": "stream",
     "text": [
      "n=10\n",
      "[62, 89, 59, 77, 77, 66, 20, 41, 16, 30]\n",
      "2 3 2\n",
      "3\n"
     ]
    }
   ],
   "source": [
    "#38\n",
    "import random\n",
    "n=int(input('n='))\n",
    "m=[]\n",
    "k=0\n",
    "s=1\n",
    "a=[random.randint(1,100) for i in range(n)]\n",
    "for i in range(n):\n",
    "    if i+1==n:\n",
    "        break\n",
    "    if a[i]>a[i+1]:\n",
    "        s+=1\n",
    "    else:\n",
    "        if s!=1:\n",
    "            k+=1\n",
    "            m.append(s)\n",
    "        s=1\n",
    "if s>1:\n",
    "    m.append(s)\n",
    "    k+=1\n",
    "print(a)\n",
    "print(*m)\n",
    "print(k)"
   ]
  },
  {
   "cell_type": "code",
   "execution_count": 9,
   "metadata": {},
   "outputs": [
    {
     "name": "stdout",
     "output_type": "stream",
     "text": [
      "n=15\n",
      "[56, 3, 74, 25, 34, 93, 16, 4, 19, 27, 74, 81, 79, 53, 19]\n",
      "7\n"
     ]
    }
   ],
   "source": [
    "from random import randint\n",
    "n=int(input(\"n=\"))\n",
    "if n>1:\n",
    "    k=0\n",
    "    sana=0\n",
    "    a=[randint(1,100) for i in range(n)]\n",
    "    print(a)\n",
    "    for i in range(1,n):\n",
    "        if a[i]<a[i-1]:\n",
    "            if k==0:\n",
    "                sana+=1\n",
    "            k=1\n",
    "        else:\n",
    "            k=0\n",
    "    for i in range(1,n):\n",
    "        if a[i]>a[i-1]:\n",
    "            if k==0:\n",
    "                sana+=1\n",
    "            k=1\n",
    "        else:\n",
    "            k=0\n",
    "    print(sana)\n",
    "\n",
    "else:\n",
    "    print(\"n>1 sharti bajarilishi kerak\")\n"
   ]
  },
  {
   "cell_type": "code",
   "execution_count": 19,
   "metadata": {},
   "outputs": [
    {
     "name": "stdout",
     "output_type": "stream",
     "text": [
      "n=10\n",
      "[14, 21, 38, 62, 9, 39, 54, 49, 32, 82]\n",
      "5\n"
     ]
    }
   ],
   "source": [
    "from random import randint\n",
    "n=int(input(\"n=\"))\n",
    "if n>1:\n",
    "    k=0\n",
    "    j=0\n",
    "    sana=0\n",
    "    a=[randint(1,100) for i in range(n)]\n",
    "    print(a)\n",
    "    for i in range(1,n):\n",
    "        if a[i]<a[i-1]:\n",
    "            if k==0:\n",
    "                sana+=1\n",
    "            k=1\n",
    "        else:\n",
    "            k=0\n",
    "        if a[i]>a[i-1]:\n",
    "            if j==0:\n",
    "                sana+=1\n",
    "            j=1\n",
    "        else:\n",
    "            j=0\n",
    "    print(sana)\n",
    "else:\n",
    "    print(\"n>1 sharti bajarilishi kerak\")\n"
   ]
  },
  {
   "cell_type": "code",
   "execution_count": 9,
   "metadata": {},
   "outputs": [
    {
     "name": "stdout",
     "output_type": "stream",
     "text": [
      "n=11\n",
      "R=5\n",
      "[52, 10, 28, 52, 1, 58, 59, 4, 81, 6, 82]\n",
      "4\n"
     ]
    }
   ],
   "source": [
    "#40\n",
    "n=int(input('n='))\n",
    "R=int(input(\"R=\"))\n",
    "a=[random.randint(1,100) for i in range(n)]\n",
    "print(a)\n",
    "x=True\n",
    "for i in range(n):\n",
    "    if x:\n",
    "        ayirma=abs(a[i]-R)\n",
    "        k=a[i]\n",
    "        x=False\n",
    "    if ayirma>=abs(a[i]-R):\n",
    "        ayirma=abs(a[i]-R)\n",
    "        k=a[i]\n",
    "print(k)"
   ]
  },
  {
   "cell_type": "code",
   "execution_count": 12,
   "metadata": {},
   "outputs": [
    {
     "name": "stdout",
     "output_type": "stream",
     "text": [
      "n=15\n",
      "[41, 67, 88, 16, 99, 19, 80, 11, 61, 68, 39, 51, 67, 33, 48]\n",
      "155\n"
     ]
    }
   ],
   "source": [
    "#41\n",
    "import random\n",
    "n=int(input('n='))\n",
    "a=[random.randint(1,100) for i in range(n)]\n",
    "print(a)\n",
    "x=True\n",
    "for i in range(n):\n",
    "    if i+1==n:\n",
    "        break\n",
    "    if x:\n",
    "        maxi=a[i]+a[i+1]\n",
    "        x=False\n",
    "    if maxi<a[i]+a[i+1]:\n",
    "        maxi=a[i]+a[i+1]\n",
    "print(maxi)"
   ]
  },
  {
   "cell_type": "code",
   "execution_count": 3,
   "metadata": {},
   "outputs": [
    {
     "name": "stdout",
     "output_type": "stream",
     "text": [
      "n=20\n",
      "R=7\n",
      "[10, 8, 6, 4, 10, 10, 6, 10, 8, 6, 10, 8, 8, 6, 8, 5, 9, 3, 8, 4]\n",
      "6 4\n"
     ]
    }
   ],
   "source": [
    "#42\n",
    "n=int(input('n='))\n",
    "R=int(input(\"R=\"))\n",
    "a=[random.randint(1,10) for i in range(n)]\n",
    "print(a)\n",
    "x=True\n",
    "for i in range(n-1):\n",
    "    if x:\n",
    "        ayirma=abs(a[i]+a[i+1]-R)\n",
    "        k=a[i]\n",
    "        m=a[i+1]\n",
    "        x=False\n",
    "    if ayirma>=abs(a[i]+a[i+1]-R):\n",
    "        ayirma=abs(a[i]+a[i+1]-R)\n",
    "        k=a[i]\n",
    "        m=a[i+1]\n",
    "print(k,m)"
   ]
  },
  {
   "cell_type": "code",
   "execution_count": 4,
   "metadata": {},
   "outputs": [
    {
     "name": "stdout",
     "output_type": "stream",
     "text": [
      "9223372036854775807\n"
     ]
    }
   ],
   "source": [
    "import sys\n",
    "print(sys.maxsize)"
   ]
  },
  {
   "cell_type": "code",
   "execution_count": 3,
   "metadata": {
    "scrolled": true
   },
   "outputs": [
    {
     "name": "stdout",
     "output_type": "stream",
     "text": [
      "n=10\n",
      "[3, 4, 4, 4, 6, 6, 7, 7, 8, 10]\n",
      "6\n"
     ]
    }
   ],
   "source": [
    "#43\n",
    "import random\n",
    "n=int(input('n='))\n",
    "a=[random.randint(1,10) for i in range(n)]\n",
    "a.sort()\n",
    "print(a)\n",
    "print(len(set(a)))"
   ]
  },
  {
   "cell_type": "code",
   "execution_count": 3,
   "metadata": {},
   "outputs": [
    {
     "name": "stdout",
     "output_type": "stream",
     "text": [
      "n=10\n",
      "a=1\n",
      "a=2\n",
      "a=3\n",
      "a=4\n",
      "a=5\n",
      "a=6\n",
      "a=3\n",
      "a=7\n",
      "a=8\n",
      "a=9\n",
      "2 6\n"
     ]
    }
   ],
   "source": [
    "#44\n",
    "n=int(input('n='))\n",
    "a=[int(input('a=')) for i in range(n)]\n",
    "for i in range(n):\n",
    "    if a.count(a[i])==2:\n",
    "        m=a[i]\n",
    "        k=i\n",
    "        break\n",
    "a.remove(m)\n",
    "print(k,a.index(m)+1)"
   ]
  },
  {
   "cell_type": "code",
   "execution_count": 10,
   "metadata": {},
   "outputs": [
    {
     "name": "stdout",
     "output_type": "stream",
     "text": [
      "n=10\n",
      "[5, 1, 9, 9, 10, 6, 7, 5, 8, 8]\n",
      "2 3\n"
     ]
    }
   ],
   "source": [
    "#45\n",
    "import random\n",
    "n=int(input('n='))\n",
    "x=True\n",
    "a=[random.randint(1,10) for i in range(n)]\n",
    "for i in range(n):\n",
    "    if i+1==n:\n",
    "        break\n",
    "    if x:\n",
    "        mini=abs(a[i]-a[i+1])\n",
    "        k=i\n",
    "        x=False\n",
    "    if mini>abs(a[i]-a[i+1]):\n",
    "        mini=abs(a[i]-a[i+1])\n",
    "        k=i\n",
    "print(a)\n",
    "print(k,k+1)"
   ]
  },
  {
   "cell_type": "code",
   "execution_count": 4,
   "metadata": {},
   "outputs": [
    {
     "name": "stdout",
     "output_type": "stream",
     "text": [
      "n=20\n",
      "R=9\n",
      "[5, 8, 9, 6, 2, 6, 8, 8, 3, 4, 4, 10, 2, 6, 7, 10, 5, 5, 9, 9]\n",
      "5 4\n"
     ]
    }
   ],
   "source": [
    "#46\n",
    "import random\n",
    "n=int(input('n='))\n",
    "R=int(input('R='))\n",
    "x=True\n",
    "a=[random.randint(1,10) for i in range(n)]\n",
    "for i in range(n):\n",
    "    for j in range(n):\n",
    "        if j+1==n:\n",
    "            break\n",
    "        if i==j:\n",
    "            continue\n",
    "        if x:\n",
    "            mini=abs(a[i]+a[j]-R)\n",
    "            m=i\n",
    "            k=j\n",
    "            x=False\n",
    "        if mini>abs(a[i]+a[j]-R):\n",
    "            mini=abs(a[i]+a[j]-R)\n",
    "            m=i\n",
    "            k=j\n",
    "print(a)\n",
    "print(a[m],a[k])"
   ]
  },
  {
   "cell_type": "code",
   "execution_count": 2,
   "metadata": {},
   "outputs": [
    {
     "name": "stdout",
     "output_type": "stream",
     "text": [
      "n=20\n",
      "[41, 57, 49, 72, 10, 23, 19, 45, 6, 37, 49, 34, 53, 95, 79, 64, 11, 99, 26, 7]\n",
      "99\n"
     ]
    }
   ],
   "source": [
    "import random\n",
    "n=int(input('n='))\n",
    "a=[random.randint(1,100) for i in range(n)]\n",
    "print(a)\n",
    "x=True\n",
    "for i in range(n-1,-1,-1):\n",
    "    if i-2==-1:\n",
    "        break\n",
    "    if a[i]<a[i-1] and a[i-1]>a[i-2] and x:\n",
    "        maxi=a[i-1]\n",
    "        x=False\n",
    "    if a[i]<a[i-1] and a[i-1]>a[i-2] and maxi<a[i-1]:\n",
    "        maxi=a[i-1]\n",
    "print(maxi)"
   ]
  },
  {
   "cell_type": "code",
   "execution_count": 3,
   "metadata": {},
   "outputs": [
    {
     "name": "stdout",
     "output_type": "stream",
     "text": [
      "n=10\n",
      "[8, 1, 4, 3, 7, 9, 5, 8, 10, 7]\n",
      "[8, 1, 4, 3, 7, 9, 5, 10]\n"
     ]
    }
   ],
   "source": [
    "#47\n",
    "import random\n",
    "n=int(input('n='))\n",
    "a=[random.randint(1,10) for i in range(n)]\n",
    "print(a)\n",
    "s=[]\n",
    "while a!=[]:\n",
    "    k=a.count(a[0])\n",
    "    m=a[0]\n",
    "    s.append(m)\n",
    "    while k>0:\n",
    "        a.remove(m)\n",
    "        k-=1\n",
    "print(s)"
   ]
  },
  {
   "cell_type": "code",
   "execution_count": 12,
   "metadata": {},
   "outputs": [
    {
     "name": "stdout",
     "output_type": "stream",
     "text": [
      "n=20\n",
      "[2, 2, 8, 8, 7, 9, 1, 8, 8, 10, 3, 5, 10, 3, 3, 6, 9, 3, 2, 8]\n",
      "[2, 8, 7, 9, 1, 10, 3, 5, 6]\n"
     ]
    }
   ],
   "source": [
    "#47_\n",
    "import random\n",
    "n=int(input('n='))\n",
    "a=[random.randint(1,10) for i in range(n)]\n",
    "print(a)\n",
    "i=0\n",
    "while i<len(a):\n",
    "    s=a[i]\n",
    "    for j in range(a.count(s)) :\n",
    "        a.remove(s)\n",
    "    a.insert(i,s)\n",
    "    i+=1\n",
    "print(a)"
   ]
  },
  {
   "cell_type": "code",
   "execution_count": 21,
   "metadata": {},
   "outputs": [
    {
     "name": "stdout",
     "output_type": "stream",
     "text": [
      "a=1\n",
      "a=2\n",
      "a=3\n",
      "a=4\n",
      "a=5\n",
      "a=6\n",
      "a=8\n",
      "a=9\n",
      "a=6\n",
      "a=5\n",
      "a=6\n",
      "a=1\n",
      "a=0\n",
      "a=20\n",
      "a=45\n",
      "a=4\n",
      "a=5\n",
      "a=6\n",
      "a=3\n",
      "a=2\n",
      "45\n"
     ]
    }
   ],
   "source": [
    "x=True\n",
    "for i in range(20):\n",
    "    a=int(input('a='))\n",
    "    if x:\n",
    "        maxi=a\n",
    "        x=False\n",
    "    if maxi<a:\n",
    "        maxi=a\n",
    "print(maxi)"
   ]
  },
  {
   "cell_type": "code",
   "execution_count": 19,
   "metadata": {},
   "outputs": [
    {
     "name": "stdout",
     "output_type": "stream",
     "text": [
      "n=200\n",
      "[4, 7, 4, 8, 10, 5, 4, 8, 5, 3, 8, 6, 4, 5, 1, 4, 7, 3, 9, 8, 10, 1, 7, 7, 5, 2, 9, 9, 6, 4, 5, 1, 7, 8, 4, 5, 4, 9, 7, 3, 8, 1, 8, 3, 3, 1, 6, 8, 1, 3, 1, 10, 4, 2, 2, 6, 8, 10, 2, 6, 4, 4, 2, 5, 1, 2, 6, 9, 10, 9, 10, 4, 7, 1, 6, 6, 4, 1, 10, 3, 7, 1, 1, 9, 7, 10, 4, 3, 8, 5, 7, 10, 5, 10, 3, 5, 5, 2, 8, 5, 5, 3, 5, 5, 4, 3, 3, 8, 7, 10, 7, 1, 1, 5, 1, 1, 6, 9, 6, 8, 10, 3, 1, 1, 2, 9, 4, 6, 2, 9, 9, 10, 9, 10, 5, 10, 5, 7, 7, 5, 6, 8, 10, 7, 8, 2, 5, 4, 3, 8, 3, 4, 10, 4, 10, 10, 5, 5, 5, 2, 1, 9, 10, 9, 2, 2, 6, 1, 8, 1, 3, 5, 1, 4, 8, 9, 6, 3, 1, 7, 4, 1, 7, 10, 10, 4, 6, 10, 10, 10, 9, 2, 3, 10, 5, 7, 3, 7, 5, 4]\n",
      "26\n"
     ]
    }
   ],
   "source": [
    "#48\n",
    "import random\n",
    "n=int(input('n='))\n",
    "a=[random.randint(1,10) for i in range(n)]\n",
    "x=True\n",
    "print(a)\n",
    "for i in range(n):\n",
    "    if x:\n",
    "        k=a.count(a[i])\n",
    "        x=False\n",
    "    if k<a.count(a[i]):\n",
    "        k=a.count(a[i])\n",
    "print(k)"
   ]
  },
  {
   "cell_type": "code",
   "execution_count": 3,
   "metadata": {},
   "outputs": [
    {
     "name": "stdout",
     "output_type": "stream",
     "text": [
      "n=10\n",
      "a=1\n",
      "a=2\n",
      "a=3\n",
      "a=4\n",
      "a=8\n",
      "a=7\n",
      "a=6\n",
      "a=9\n",
      "a=11\n",
      "a=3\n",
      "11\n"
     ]
    }
   ],
   "source": [
    "#49\n",
    "n=int(input('n='))\n",
    "a=[int(input('a=')) for i in range(n)]\n",
    "s=0\n",
    "x=True\n",
    "for i in range(n):\n",
    "    if 1<=a[i]<n:\n",
    "        continue\n",
    "    else:\n",
    "        s+=1\n",
    "        if x:\n",
    "            k=a[i]\n",
    "            x=False\n",
    "if s==0:\n",
    "    print(0)\n",
    "else:\n",
    "    print(k)"
   ]
  },
  {
   "cell_type": "code",
   "execution_count": null,
   "metadata": {},
   "outputs": [],
   "source": [
    "n=int(input('n='))\n"
   ]
  },
  {
   "cell_type": "code",
   "execution_count": 5,
   "metadata": {},
   "outputs": [
    {
     "name": "stdout",
     "output_type": "stream",
     "text": [
      "n=12\n",
      "[12, 40, 91, 84, 4, 56, 58, 91, 69, 61, 46, 11]\n",
      "6\n"
     ]
    }
   ],
   "source": [
    "#50\n",
    "import random\n",
    "n=int(input('n='))\n",
    "s=0\n",
    "a=[random.randint(1,100) for i in range(n)]\n",
    "for i in range(n-1):\n",
    "    if a[i]>a[i+1]:\n",
    "        s+=1\n",
    "print(a)\n",
    "print(s)"
   ]
  },
  {
   "cell_type": "code",
   "execution_count": 2,
   "metadata": {
    "scrolled": true
   },
   "outputs": [
    {
     "name": "stdout",
     "output_type": "stream",
     "text": [
      "n=10\n",
      "[14, 6, 6, 72, 11, 100, 49, 50, 33, 98]\n",
      "[70, 61, 61, 89, 82, 33, 5, 71, 89, 14]\n",
      "[70, 61, 61, 89, 82, 33, 5, 71, 89, 14]\n",
      "[14, 6, 6, 72, 11, 100, 49, 50, 33, 98]\n"
     ]
    }
   ],
   "source": [
    "#51\n",
    "from random import randint\n",
    "n=int(input('n='))\n",
    "a=[randint(1,100) for i in range(n)]\n",
    "b=[randint(1,100) for i in range(n)]\n",
    "print(a)\n",
    "print(b)\n",
    "a,b=b.copy(),a.copy()\n",
    "print(a)\n",
    "print(b)"
   ]
  },
  {
   "cell_type": "code",
   "execution_count": 1,
   "metadata": {},
   "outputs": [
    {
     "name": "stdout",
     "output_type": "stream",
     "text": [
      "n=10\n",
      "[6, 2, 6, 5, 1, 1, 6, 4, 8, 6]\n",
      "[3.0, 4, 3.0, 2.5, 2, 2, 3.0, 8, 4.0, 3.0]\n"
     ]
    }
   ],
   "source": [
    "#52\n",
    "from random import randint\n",
    "n=int(input('n='))\n",
    "a=[randint(1,10) for i in range(n)]\n",
    "print(a)\n",
    "b=[]\n",
    "for i in range(n):\n",
    "    if a[i]<5:\n",
    "        b.append(2*a[i])\n",
    "    else:\n",
    "        b.append(a[i]/2)\n",
    "print(b)"
   ]
  },
  {
   "cell_type": "code",
   "execution_count": 1,
   "metadata": {},
   "outputs": [
    {
     "name": "stdout",
     "output_type": "stream",
     "text": [
      "n=10\n",
      "[93, 59, 88, 86, 32, 87, 52, 62, 54, 53]\n",
      "[23, 14, 57, 100, 83, 90, 79, 80, 98, 50]\n",
      "[93, 59, 88, 100, 83, 90, 79, 80, 98, 53]\n"
     ]
    }
   ],
   "source": [
    "#53\n",
    "from random import randint\n",
    "n=int(input('n='))\n",
    "a=[randint(1,100) for i in range(n)]\n",
    "b=[randint(1,100) for i in range(n)]\n",
    "c=[]\n",
    "for i in range(n):\n",
    "    c.append(max(a[i],b[i]))\n",
    "print(a)\n",
    "print(b)\n",
    "print(c)"
   ]
  },
  {
   "cell_type": "code",
   "execution_count": 4,
   "metadata": {},
   "outputs": [
    {
     "name": "stdout",
     "output_type": "stream",
     "text": [
      "n=10\n",
      "[30, 52, 41, 50, 21, 49, 16, 2, 43, 38]\n",
      "[30, 52, 50, 16, 2, 38]\n",
      "6\n"
     ]
    }
   ],
   "source": [
    "#54\n",
    "from random import randint\n",
    "n=int(input('n='))\n",
    "a=[randint(1,100) for i in range(n)]\n",
    "b=[]\n",
    "for i in range(n):\n",
    "    if a[i]%2==0:\n",
    "        b.append(a[i])\n",
    "print(a)\n",
    "print(b)\n",
    "print(len(b))"
   ]
  },
  {
   "cell_type": "code",
   "execution_count": 9,
   "metadata": {},
   "outputs": [
    {
     "name": "stdout",
     "output_type": "stream",
     "text": [
      "n=10\n",
      "[81, 7, 60, 90, 6, 20, 10, 68, 30, 44]\n",
      "[7, 90, 20, 68, 44]\n"
     ]
    }
   ],
   "source": [
    "#55\n",
    "from random import randint\n",
    "n=int(input('n='))\n",
    "a=[randint(1,100) for i in range(n)]\n",
    "c=a[1:n:2]\n",
    "print(a)\n",
    "print(c)"
   ]
  },
  {
   "cell_type": "code",
   "execution_count": 10,
   "metadata": {},
   "outputs": [
    {
     "name": "stdout",
     "output_type": "stream",
     "text": [
      "n=7\n",
      "[81, 79, 94, 47, 63, 5, 3]\n",
      "[47, 3]\n"
     ]
    }
   ],
   "source": [
    "#56\n",
    "from random import randint\n",
    "n=int(input('n='))\n",
    "a=[randint(1,100) for i in range(n)]\n",
    "b=a[3:n:3]\n",
    "print(a)\n",
    "print(b)"
   ]
  },
  {
   "cell_type": "code",
   "execution_count": 3,
   "metadata": {},
   "outputs": [
    {
     "name": "stdout",
     "output_type": "stream",
     "text": [
      "n=10\n",
      "[33, 18, 40, 62, 26, 2, 90, 9, 47, 53]\n",
      "[33, 40, 26, 90, 47, 18, 62, 2, 9, 53]\n"
     ]
    }
   ],
   "source": [
    "#57\n",
    "from random import randint\n",
    "n=int(input('n='))\n",
    "a=[randint(1,100) for i in range(n)]\n",
    "b=a[::2]+a[1::2]\n",
    "print(a)\n",
    "print(b)"
   ]
  },
  {
   "cell_type": "code",
   "execution_count": 6,
   "metadata": {},
   "outputs": [
    {
     "name": "stdout",
     "output_type": "stream",
     "text": [
      "n=10\n",
      "[4, 1, 6, 4, 7, 8, 7, 9, 2, 3]\n",
      "[4, 5, 11, 15, 22, 30, 37, 46, 48, 51]\n"
     ]
    }
   ],
   "source": [
    "#58\n",
    "from random import randint\n",
    "n=int(input('n='))\n",
    "a=[randint(1,10) for i in range(n)]\n",
    "s=0\n",
    "b=[]\n",
    "for i in range(n):\n",
    "    s+=a[i]\n",
    "    b.append(s)\n",
    "print(a)\n",
    "print(b)"
   ]
  },
  {
   "cell_type": "code",
   "execution_count": 7,
   "metadata": {},
   "outputs": [
    {
     "name": "stdout",
     "output_type": "stream",
     "text": [
      "n=10\n",
      "[9, 9, 9, 9, 2, 1, 9, 6, 1, 10]\n",
      "[9.0, 9.0, 9.0, 9.0, 7.6, 6.5, 6.857142857142857, 6.75, 6.111111111111111, 6.5]\n"
     ]
    }
   ],
   "source": [
    "#59\n",
    "from random import randint\n",
    "n=int(input('n='))\n",
    "a=[randint(1,10) for i in range(n)]\n",
    "s=0\n",
    "b=[]\n",
    "for i in range(n):\n",
    "    s+=a[i]\n",
    "    b.append(s/(i+1))\n",
    "print(a)\n",
    "print(b)"
   ]
  },
  {
   "cell_type": "code",
   "execution_count": 2,
   "metadata": {},
   "outputs": [
    {
     "name": "stdout",
     "output_type": "stream",
     "text": [
      "n=10\n",
      "[1, 9, 10, 4, 10, 5, 2, 3, 4, 5]\n",
      "[53, 52, 43, 33, 29, 19, 14, 12, 9, 5]\n"
     ]
    }
   ],
   "source": [
    "#60\n",
    "from random import randint\n",
    "n=int(input('n='))\n",
    "a=[randint(1,10) for i in range(n)]\n",
    "b=[]\n",
    "for i in range(n):\n",
    "    s=0\n",
    "    for j in range(i,n):\n",
    "        s+=a[j]\n",
    "    b.append(s)\n",
    "print(a)\n",
    "print(b)"
   ]
  },
  {
   "cell_type": "code",
   "execution_count": 19,
   "metadata": {},
   "outputs": [
    {
     "name": "stdout",
     "output_type": "stream",
     "text": [
      "n=10\n",
      "[5, 1, 4, 10, 5, 3, 2, 1, 4, 3]\n",
      "[3, 7, 8, 10, 13, 18, 28, 32, 33, 38]\n"
     ]
    }
   ],
   "source": [
    "from random import randint\n",
    "n=int(input('n='))\n",
    "a=[randint(1,10) for i in range(n)]\n",
    "b=[sum(a[n-i-1:]) for i in range(n) ]\n",
    "print(a)\n",
    "print(b)"
   ]
  },
  {
   "cell_type": "code",
   "execution_count": 3,
   "metadata": {},
   "outputs": [
    {
     "name": "stdout",
     "output_type": "stream",
     "text": [
      "n=10\n",
      "[10, 9, 6, 6, 1, 9, 9, 5, 5, 4]\n",
      "[6.4, 6.0, 5.625, 5.571428571428571, 5.5, 6.4, 5.75, 4.666666666666667, 4.5, 4.0]\n"
     ]
    }
   ],
   "source": [
    "#61\n",
    "from random import randint\n",
    "n=int(input('n='))\n",
    "a=[randint(1,10) for i in range(n)]\n",
    "b=[]\n",
    "for i in range(n):\n",
    "    s=0\n",
    "    for j in range(i,n):\n",
    "        s+=a[j]\n",
    "    b.append(s/(n-i))\n",
    "print(a)\n",
    "print(b)"
   ]
  },
  {
   "cell_type": "code",
   "execution_count": 5,
   "metadata": {},
   "outputs": [
    {
     "name": "stdout",
     "output_type": "stream",
     "text": [
      "n=10\n",
      "a=2\n",
      "a=3\n",
      "a=-2\n",
      "a=3\n",
      "a=-5\n",
      "a=6\n",
      "a=9\n",
      "a=-8\n",
      "a=6\n",
      "a=-3\n",
      "[2, 3, -2, 3, -5, 6, 9, -8, 6, -3]\n",
      "[2, 3, 3, 6, 9, 6]\n",
      "[-2, -5, -8, -3]\n",
      "6\n",
      "4\n"
     ]
    }
   ],
   "source": [
    "#62\n",
    "n=int(input('n='))\n",
    "a=[int(input('a=')) for i in range(n)]\n",
    "b=[]\n",
    "c=[]\n",
    "for i in range(n):\n",
    "    if a[i]>0:\n",
    "        b.append(a[i])\n",
    "    if a[i]<0:\n",
    "        c.append(a[i])\n",
    "print(a)\n",
    "print(b)\n",
    "print(c)\n",
    "print(len(b))\n",
    "print(len(c))"
   ]
  },
  {
   "cell_type": "code",
   "execution_count": 1,
   "metadata": {},
   "outputs": [
    {
     "name": "stdout",
     "output_type": "stream",
     "text": [
      "a=4\n",
      "a=2\n",
      "a=3\n",
      "a=15\n",
      "a=7\n",
      "b=5\n",
      "b=1\n",
      "b=23\n",
      "b=7\n",
      "b=5\n",
      "[4, 2, 3, 15, 7]\n",
      "[5, 1, 23, 7, 5]\n",
      "[1, 2, 3, 4, 5, 5, 7, 7, 15, 23]\n"
     ]
    }
   ],
   "source": [
    "#63\n",
    "a=[int(input('a=')) for i in range(5)]\n",
    "b=[int(input('b=')) for i in range(5)]\n",
    "c=[]\n",
    "print(a)\n",
    "print(b)\n",
    "while a!=[] or b!=[]:\n",
    "    if a==[]:\n",
    "        x=min(b)\n",
    "    elif b==[]:\n",
    "        x=min(a)\n",
    "    else:\n",
    "        x=min(min(a),min(b))\n",
    "    c.append(x)\n",
    "    if x in a:\n",
    "        a.remove(x)\n",
    "    elif x in b:\n",
    "        b.remove(x)\n",
    "print(c)"
   ]
  },
  {
   "cell_type": "code",
   "execution_count": 15,
   "metadata": {},
   "outputs": [
    {
     "name": "stdout",
     "output_type": "stream",
     "text": [
      "n=5\n",
      "a=7\n",
      "a=8\n",
      "a=9\n",
      "a=10\n",
      "a=11\n",
      "b=1\n",
      "b=2\n",
      "b=3\n",
      "b=4\n",
      "b=5\n",
      "c=8\n",
      "c=9\n",
      "c=10\n",
      "c=11\n",
      "c=12\n",
      "[7, 8, 9, 10, 11]\n",
      "[1, 2, 3, 4, 5]\n",
      "[8, 9, 10, 11, 12]\n",
      "[1, 2, 3, 4, 5, 7, 8, 8, 9, 9, 10, 10, 11, 11, 12]\n"
     ]
    }
   ],
   "source": [
    "#64\n",
    "n=int(input('n='))\n",
    "a=[int(input('a=')) for i in range(n)]\n",
    "b=[int(input('b=')) for i in range(n)]\n",
    "c=[int(input('c=')) for i in range(n)]\n",
    "m=[]\n",
    "d=[]\n",
    "print(a)\n",
    "print(b)\n",
    "print(c)\n",
    "while a!=[] or b!=[]:\n",
    "    if a==[]:\n",
    "        x=min(b)\n",
    "    elif b==[]:\n",
    "        x=min(a)\n",
    "    else:\n",
    "        x=min(min(a),min(b))\n",
    "    m.append(x)\n",
    "    if x in a:\n",
    "        a.remove(x)\n",
    "    elif x in b:\n",
    "        b.remove(x)\n",
    "while m!=[] or c!=[]:\n",
    "    if m==[]:\n",
    "        x=min(c)\n",
    "    elif c==[]:\n",
    "        x=min(m)\n",
    "    else:\n",
    "        x=min(min(m),min(c))\n",
    "    d.append(x)\n",
    "    if x in m:\n",
    "        m.remove(x)\n",
    "    elif x in c:\n",
    "        c.remove(x)\n",
    "print(d)"
   ]
  },
  {
   "cell_type": "code",
   "execution_count": 10,
   "metadata": {},
   "outputs": [
    {
     "name": "stdout",
     "output_type": "stream",
     "text": [
      "n=5\n",
      "a=4\n",
      "a=5\n",
      "a=2\n",
      "a=7\n",
      "a=5\n",
      "b=2\n",
      "b=7\n",
      "b=8\n",
      "b=9\n",
      "b=1\n",
      "c=2\n",
      "c=5\n",
      "c=4\n",
      "c=3\n",
      "c=6\n",
      "[4, 5, 2, 7, 5]\n",
      "[2, 7, 8, 9, 1]\n",
      "[2, 5, 4, 3, 6]\n",
      "[1, 2, 2, 2, 3, 4, 4, 5, 5, 5, 6, 7, 7, 8, 9]\n"
     ]
    }
   ],
   "source": [
    "#64\n",
    "n=int(input('n='))\n",
    "k=[int(input('a=')) for i in range(n)]\n",
    "i=[int(input('b=')) for i in range(n)]\n",
    "c=[int(input('c=')) for i in range(n)]\n",
    "d=[]\n",
    "print(k)\n",
    "print(i)\n",
    "print(c)\n",
    "def ket(a,b):\n",
    "    m=[]\n",
    "    while a!=[] or b!=[]:\n",
    "        if a==[]:\n",
    "            x=min(b)\n",
    "        elif b==[]:\n",
    "            x=min(a)\n",
    "        else:\n",
    "            x=min(min(a),min(b))\n",
    "        m.append(x)\n",
    "        if x in a:\n",
    "            a.remove(x)\n",
    "        elif x in b:\n",
    "            b.remove(x)\n",
    "    return m\n",
    "y=ket(k,i)\n",
    "print(ket(y,c))\n"
   ]
  },
  {
   "cell_type": "code",
   "execution_count": 20,
   "metadata": {},
   "outputs": [
    {
     "name": "stdout",
     "output_type": "stream",
     "text": [
      "n=10\n",
      "k=2\n",
      "[2, 4, 2, 7, 9, 1, 10, 10, 5, 4]\n",
      "[4, 6, 4, 9, 11, 3, 12, 12, 7, 6]\n"
     ]
    }
   ],
   "source": [
    "#65\n",
    "from random import randint\n",
    "n=int(input('n='))\n",
    "k=int(input('k='))\n",
    "a=[randint(1,10) for i in range(n)]\n",
    "print(a)\n",
    "a=[a[i]+a[k] for i in range(n)]\n",
    "print(a)"
   ]
  },
  {
   "cell_type": "code",
   "execution_count": 13,
   "metadata": {},
   "outputs": [
    {
     "name": "stdout",
     "output_type": "stream",
     "text": [
      "n=10\n",
      "[10, 6, 4, 5, 4, 9, 1, 9, 7, 8]\n",
      "[20, 16, 14, 5, 14, 9, 1, 9, 7, 18]\n"
     ]
    }
   ],
   "source": [
    "#66\n",
    "from random import randint\n",
    "n=int(input('n='))\n",
    "a=[randint(1,10) for i in range(n)]\n",
    "x=True\n",
    "print(a)\n",
    "for i in range(n):\n",
    "    if x and a[i]%2==0:\n",
    "        y=a[i]\n",
    "        x=False\n",
    "    if a[i]%2==0:\n",
    "        a[i]+=y\n",
    "print(a)"
   ]
  },
  {
   "cell_type": "code",
   "execution_count": 14,
   "metadata": {},
   "outputs": [
    {
     "name": "stdout",
     "output_type": "stream",
     "text": [
      "n=10\n",
      "[9, 2, 10, 8, 6, 8, 3, 9, 4, 9]\n",
      "[18, 2, 10, 8, 6, 8, 12, 18, 4, 18]\n"
     ]
    }
   ],
   "source": [
    "#67\n",
    "from random import randint\n",
    "n=int(input('n='))\n",
    "a=[randint(1,10) for i in range(n)]\n",
    "x=True\n",
    "print(a)\n",
    "for i in range(n-1,-1,-1):\n",
    "    if x and a[i]%2==1:\n",
    "        y=a[i]\n",
    "        x=False\n",
    "    if a[i]%2==1:\n",
    "        a[i]+=y\n",
    "print(a)"
   ]
  },
  {
   "cell_type": "code",
   "execution_count": 20,
   "metadata": {},
   "outputs": [
    {
     "name": "stdout",
     "output_type": "stream",
     "text": [
      "n=20\n",
      "[17, 67, 45, 91, 60, 7, 89, 10, 99, 72, 89, 80, 37, 50, 38, 35, 98, 53, 52, 91]\n",
      "[17, 67, 45, 91, 60, 99, 89, 10, 7, 72, 89, 80, 37, 50, 38, 35, 98, 53, 52, 91]\n"
     ]
    }
   ],
   "source": [
    "#68\n",
    "from random import randint\n",
    "n=int(input('n='))\n",
    "a=[randint(1,100) for i in range(n)]\n",
    "x=max(a)\n",
    "y=min(a)\n",
    "print(a)\n",
    "i=a.index(x)\n",
    "j=a.index(y)\n",
    "a[i]=y\n",
    "a[j]=x\n",
    "print(a)"
   ]
  },
  {
   "cell_type": "code",
   "execution_count": 24,
   "metadata": {},
   "outputs": [
    {
     "name": "stdout",
     "output_type": "stream",
     "text": [
      "n=11\n",
      "[12, 69, 46, 26, 63, 16, 9, 51, 58, 74, 77]\n",
      "[69, 12, 26, 46, 16, 63, 51, 9, 74, 58, 77]\n"
     ]
    }
   ],
   "source": [
    "#69\n",
    "from random import randint\n",
    "n=int(input('n='))\n",
    "a=[randint(1,100) for i in range(n)]\n",
    "print(a)\n",
    "for i in range(0,n,2):\n",
    "    a[i],a[i+1]=a[i+1],a[i]\n",
    "print(a)"
   ]
  },
  {
   "cell_type": "code",
   "execution_count": 8,
   "metadata": {},
   "outputs": [
    {
     "name": "stdout",
     "output_type": "stream",
     "text": [
      "n=10\n",
      "[12, 63, 95, 80, 68, 51, 3, 9, 82, 29]\n",
      "[51, 3, 9, 82, 29, 12, 63, 95, 80, 68]\n"
     ]
    }
   ],
   "source": [
    "#70\n",
    "from random import randint\n",
    "n=int(input('n='))\n",
    "a=[randint(1,100) for i in range(n)]\n",
    "print(a)\n",
    "for i in range(int(n/2)):\n",
    "    a[i],a[n//2+i]=a[n//2+i],a[i]\n",
    "print(a)"
   ]
  },
  {
   "cell_type": "code",
   "execution_count": 14,
   "metadata": {},
   "outputs": [
    {
     "name": "stdout",
     "output_type": "stream",
     "text": [
      "n=11\n",
      "[54, 87, 11, 27, 58, 76, 90, 21, 22, 38, 64]\n",
      "[76, 90, 21, 22, 38, 64, 54, 87, 11, 27, 58]\n"
     ]
    }
   ],
   "source": [
    "#70\n",
    "from random import randint\n",
    "n=int(input('n='))\n",
    "a=[randint(1,100) for i in range(n)]\n",
    "print(a)\n",
    "a=a[n//2:n]+a[0:n//2]\n",
    "print(a)"
   ]
  },
  {
   "cell_type": "code",
   "execution_count": 22,
   "metadata": {},
   "outputs": [
    {
     "name": "stdout",
     "output_type": "stream",
     "text": [
      "n=11\n",
      "[76, 62, 86, 76, 73, 65, 75, 2, 21, 81, 36]\n",
      "[81, 21, 2, 75, 65, 73, 76, 86, 62, 76, 36]\n"
     ]
    }
   ],
   "source": [
    "#71\n",
    "from random import randint\n",
    "n=int(input('n='))\n",
    "a=[randint(1,100) for i in range(n)]\n",
    "print(a)\n",
    "if n%2==0:\n",
    "    for i in range(0,n,2):\n",
    "        a[i],a[n-i-1]=a[n-i-1],a[i]\n",
    "else:\n",
    "    for i in range(1,n,2):\n",
    "        a[i],a[n-i-2]=a[n-i-2],a[i]\n",
    "print(a)"
   ]
  },
  {
   "cell_type": "code",
   "execution_count": null,
   "metadata": {},
   "outputs": [],
   "source": [
    "#72??????????\n",
    "from random import randint\n",
    "n=int(input('n='))\n",
    "a=[randint(1,100) for i in range(n)]\n",
    "print(a)\n",
    "k=int(input('k='))\n",
    "h=int(input('h='))\n"
   ]
  },
  {
   "cell_type": "code",
   "execution_count": 24,
   "metadata": {},
   "outputs": [
    {
     "name": "stdout",
     "output_type": "stream",
     "text": [
      "n=10\n",
      "[91, 47, 73, 18, 38, 51, 70, 11, 58, 18]\n",
      "k=2\n",
      "h=6\n",
      "[91, 47, 73, 51, 38, 18, 70, 11, 58, 18]\n"
     ]
    }
   ],
   "source": [
    "#73\n",
    "from random import randint\n",
    "n=int(input('n='))\n",
    "a=[randint(1,100) for i in range(n)]\n",
    "print(a)\n",
    "k=int(input('k='))\n",
    "h=int(input('h='))\n",
    "a=a[:k+1]+a[h-1:k:-1]+a[h:]\n",
    "print(a)"
   ]
  },
  {
   "cell_type": "code",
   "execution_count": 15,
   "metadata": {},
   "outputs": [
    {
     "name": "stdout",
     "output_type": "stream",
     "text": [
      "n=10\n",
      "[10, 47, 77, 69, 52, 58, 79, 27, 54, 85]\n",
      "[10, 0, 0, 0, 0, 0, 0, 0, 0, 85]\n"
     ]
    }
   ],
   "source": [
    "#74\n",
    "from random import randint\n",
    "n=int(input('n='))\n",
    "a=[randint(1,100) for i in range(n)]\n",
    "print(a)\n",
    "k=max(a)\n",
    "m=min(a)\n",
    "for i in range(n):\n",
    "    if m<a[i]<k or k<a[i]<m:\n",
    "        a[i]=0\n",
    "print(a)"
   ]
  },
  {
   "cell_type": "code",
   "execution_count": 8,
   "metadata": {},
   "outputs": [
    {
     "name": "stdout",
     "output_type": "stream",
     "text": [
      "n=15\n",
      "[75, 94, 56, 55, 71, 36, 26, 81, 17, 13, 72, 1, 50, 28, 4]\n",
      "[75, 1, 72, 13, 17, 81, 26, 36, 71, 55, 56, 94, 50, 28, 4]\n"
     ]
    }
   ],
   "source": [
    "#75\n",
    "from random import randint\n",
    "n=int(input('n='))\n",
    "a=[randint(1,100) for i in range(n)]\n",
    "print(a)\n",
    "x=True\n",
    "k=a.index(max(a))\n",
    "m=a.index(min(a))\n",
    "b=[]\n",
    "for i in range(n):\n",
    "    if m<=i<=k or k<=i<=m:\n",
    "        if x:\n",
    "            min_index=i\n",
    "            x=False\n",
    "        max_index=i\n",
    "        b.append(a[i])\n",
    "b.reverse()\n",
    "t=a[0:min_index]\n",
    "r=a[max_index+1:n]\n",
    "a.clear()\n",
    "a=t+b+r\n",
    "print(a)"
   ]
  },
  {
   "cell_type": "code",
   "execution_count": 26,
   "metadata": {},
   "outputs": [
    {
     "name": "stdout",
     "output_type": "stream",
     "text": [
      "n=10\n",
      "[26, 64, 7, 4, 93, 64, 91, 24, 2, 31]\n",
      "[26, 0, 7, 4, 0, 64, 0, 24, 2, 31]\n"
     ]
    }
   ],
   "source": [
    "#76\n",
    "from random import randint\n",
    "n=int(input('n='))\n",
    "a=[randint(1,100) for i in range(n)]\n",
    "m=a.copy()\n",
    "print(a)\n",
    "for i in range(1,n-1):\n",
    "    if m[i]>m[i+1] and m[i]>m[i-1]:\n",
    "        a[i]=0\n",
    "print(a)"
   ]
  },
  {
   "cell_type": "code",
   "execution_count": 23,
   "metadata": {},
   "outputs": [
    {
     "name": "stdout",
     "output_type": "stream",
     "text": [
      "n=10\n",
      "[40, 25, 79, 17, 45, 14, 92, 27, 5, 5]\n",
      "[40, 625, 79, 289, 45, 196, 92, 27, 5, 5]\n"
     ]
    }
   ],
   "source": [
    "#77\n",
    "from random import randint\n",
    "n=int(input('n='))\n",
    "a=[randint(1,100) for i in range(n)]\n",
    "m=a.copy()\n",
    "print(a)\n",
    "for i in range(n):\n",
    "    if i+2==n:\n",
    "        break\n",
    "    if m[i]>m[i+1] and m[i+1]<m[i+2]:\n",
    "        a[i+1]*=a[i+1]\n",
    "print(a)"
   ]
  },
  {
   "cell_type": "code",
   "execution_count": 24,
   "metadata": {},
   "outputs": [
    {
     "name": "stdout",
     "output_type": "stream",
     "text": [
      "n=10\n",
      "[50, 39, 29, 56, 43, 76, 45, 57, 70, 16]\n",
      "[44.5, 34.0, 42.5, 49.5, 59.5, 60.5, 51.0, 63.5, 43.0, 16]\n"
     ]
    }
   ],
   "source": [
    "#78\n",
    "from random import randint\n",
    "n=int(input('n='))\n",
    "a=[randint(1,100) for i in range(n)]\n",
    "m=a.copy()\n",
    "print(a)\n",
    "for i in range(n):\n",
    "    if i+1==n:\n",
    "        break\n",
    "    a[i]=(m[i]+m[i+1])/2\n",
    "print(a)"
   ]
  },
  {
   "cell_type": "code",
   "execution_count": 27,
   "metadata": {},
   "outputs": [
    {
     "name": "stdout",
     "output_type": "stream",
     "text": [
      "n=10\n",
      "[60, 16, 63, 35, 14, 76, 31, 1, 56, 71]\n",
      "[0, 16, 63, 35, 14, 76, 31, 1, 56]\n"
     ]
    }
   ],
   "source": [
    "#79\n",
    "from random import randint\n",
    "n=int(input('n='))\n",
    "a=[randint(1,100) for i in range(n)]\n",
    "print(a)\n",
    "a.pop(0)\n",
    "a.pop(-1)\n",
    "a.insert(0,0)\n",
    "print(a)"
   ]
  },
  {
   "cell_type": "code",
   "execution_count": 30,
   "metadata": {},
   "outputs": [
    {
     "name": "stdout",
     "output_type": "stream",
     "text": [
      "n=10\n",
      "[76, 79, 76, 33, 64, 35, 99, 50, 24, 24]\n",
      "[79, 76, 33, 64, 35, 99, 50, 24, 24, 0]\n"
     ]
    }
   ],
   "source": [
    "#80\n",
    "from random import randint\n",
    "n=int(input('n='))\n",
    "a=[randint(1,100) for i in range(n)]\n",
    "print(a)\n",
    "a.pop(0)\n",
    "a.append(0)\n",
    "print(a)"
   ]
  },
  {
   "cell_type": "code",
   "execution_count": 15,
   "metadata": {},
   "outputs": [
    {
     "name": "stdout",
     "output_type": "stream",
     "text": [
      "n=10\n",
      "[68, 79, 75, 27, 70, 62, 67, 65, 18, 70]\n",
      "k=5\n",
      "[0, 0, 0, 0, 0, 68, 79, 75, 27, 70]\n"
     ]
    }
   ],
   "source": [
    "#81\n",
    "from random import randint\n",
    "n=int(input('n='))\n",
    "a=[randint(1,100) for i in range(n)]\n",
    "print(a)\n",
    "k=int(input('k='))\n",
    "for i in range(k):\n",
    "    a.insert(i,a[i])\n",
    "    a[i]=0\n",
    "a=a[0:n]\n",
    "print(a)"
   ]
  },
  {
   "cell_type": "code",
   "execution_count": 5,
   "metadata": {},
   "outputs": [
    {
     "name": "stdout",
     "output_type": "stream",
     "text": [
      "n=0\n",
      "[]\n"
     ]
    },
    {
     "ename": "KeyboardInterrupt",
     "evalue": "Interrupted by user",
     "output_type": "error",
     "traceback": [
      "\u001b[1;31m---------------------------------------------------------------------------\u001b[0m",
      "\u001b[1;31mKeyboardInterrupt\u001b[0m                         Traceback (most recent call last)",
      "\u001b[1;32m<ipython-input-5-95a8b3c0ef0c>\u001b[0m in \u001b[0;36m<module>\u001b[1;34m\u001b[0m\n\u001b[0;32m      3\u001b[0m \u001b[0ma\u001b[0m\u001b[1;33m=\u001b[0m\u001b[1;33m[\u001b[0m\u001b[0mrandint\u001b[0m\u001b[1;33m(\u001b[0m\u001b[1;36m1\u001b[0m\u001b[1;33m,\u001b[0m\u001b[1;36m100\u001b[0m\u001b[1;33m)\u001b[0m \u001b[1;32mfor\u001b[0m \u001b[0mi\u001b[0m \u001b[1;32min\u001b[0m \u001b[0mrange\u001b[0m\u001b[1;33m(\u001b[0m\u001b[0mn\u001b[0m\u001b[1;33m)\u001b[0m\u001b[1;33m]\u001b[0m\u001b[1;33m\u001b[0m\u001b[1;33m\u001b[0m\u001b[0m\n\u001b[0;32m      4\u001b[0m \u001b[0mprint\u001b[0m\u001b[1;33m(\u001b[0m\u001b[0ma\u001b[0m\u001b[1;33m)\u001b[0m\u001b[1;33m\u001b[0m\u001b[1;33m\u001b[0m\u001b[0m\n\u001b[1;32m----> 5\u001b[1;33m \u001b[0mk\u001b[0m\u001b[1;33m=\u001b[0m\u001b[0mint\u001b[0m\u001b[1;33m(\u001b[0m\u001b[0minput\u001b[0m\u001b[1;33m(\u001b[0m\u001b[1;34m'k='\u001b[0m\u001b[1;33m)\u001b[0m\u001b[1;33m)\u001b[0m\u001b[1;33m\u001b[0m\u001b[1;33m\u001b[0m\u001b[0m\n\u001b[0m\u001b[0;32m      6\u001b[0m \u001b[0ma\u001b[0m\u001b[1;33m=\u001b[0m\u001b[1;33m[\u001b[0m\u001b[1;36m0\u001b[0m \u001b[1;32mfor\u001b[0m \u001b[0mi\u001b[0m \u001b[1;32min\u001b[0m \u001b[0mrange\u001b[0m\u001b[1;33m(\u001b[0m\u001b[0mk\u001b[0m\u001b[1;33m)\u001b[0m\u001b[1;33m]\u001b[0m\u001b[1;33m+\u001b[0m\u001b[0ma\u001b[0m\u001b[1;33m[\u001b[0m\u001b[1;33m:\u001b[0m\u001b[0mn\u001b[0m\u001b[1;33m-\u001b[0m\u001b[0mk\u001b[0m\u001b[1;33m]\u001b[0m\u001b[1;33m\u001b[0m\u001b[1;33m\u001b[0m\u001b[0m\n\u001b[0;32m      7\u001b[0m \u001b[0mprint\u001b[0m\u001b[1;33m(\u001b[0m\u001b[0ma\u001b[0m\u001b[1;33m)\u001b[0m\u001b[1;33m\u001b[0m\u001b[1;33m\u001b[0m\u001b[0m\n",
      "\u001b[1;32mc:\\users\\админ\\opencv\\lib\\site-packages\\ipykernel\\kernelbase.py\u001b[0m in \u001b[0;36mraw_input\u001b[1;34m(self, prompt)\u001b[0m\n\u001b[0;32m    858\u001b[0m                 \u001b[1;34m\"raw_input was called, but this frontend does not support input requests.\"\u001b[0m\u001b[1;33m\u001b[0m\u001b[1;33m\u001b[0m\u001b[0m\n\u001b[0;32m    859\u001b[0m             )\n\u001b[1;32m--> 860\u001b[1;33m         return self._input_request(str(prompt),\n\u001b[0m\u001b[0;32m    861\u001b[0m             \u001b[0mself\u001b[0m\u001b[1;33m.\u001b[0m\u001b[0m_parent_ident\u001b[0m\u001b[1;33m,\u001b[0m\u001b[1;33m\u001b[0m\u001b[1;33m\u001b[0m\u001b[0m\n\u001b[0;32m    862\u001b[0m             \u001b[0mself\u001b[0m\u001b[1;33m.\u001b[0m\u001b[0m_parent_header\u001b[0m\u001b[1;33m,\u001b[0m\u001b[1;33m\u001b[0m\u001b[1;33m\u001b[0m\u001b[0m\n",
      "\u001b[1;32mc:\\users\\админ\\opencv\\lib\\site-packages\\ipykernel\\kernelbase.py\u001b[0m in \u001b[0;36m_input_request\u001b[1;34m(self, prompt, ident, parent, password)\u001b[0m\n\u001b[0;32m    902\u001b[0m             \u001b[1;32mexcept\u001b[0m \u001b[0mKeyboardInterrupt\u001b[0m\u001b[1;33m:\u001b[0m\u001b[1;33m\u001b[0m\u001b[1;33m\u001b[0m\u001b[0m\n\u001b[0;32m    903\u001b[0m                 \u001b[1;31m# re-raise KeyboardInterrupt, to truncate traceback\u001b[0m\u001b[1;33m\u001b[0m\u001b[1;33m\u001b[0m\u001b[1;33m\u001b[0m\u001b[0m\n\u001b[1;32m--> 904\u001b[1;33m                 \u001b[1;32mraise\u001b[0m \u001b[0mKeyboardInterrupt\u001b[0m\u001b[1;33m(\u001b[0m\u001b[1;34m\"Interrupted by user\"\u001b[0m\u001b[1;33m)\u001b[0m \u001b[1;32mfrom\u001b[0m \u001b[1;32mNone\u001b[0m\u001b[1;33m\u001b[0m\u001b[1;33m\u001b[0m\u001b[0m\n\u001b[0m\u001b[0;32m    905\u001b[0m             \u001b[1;32mexcept\u001b[0m \u001b[0mException\u001b[0m \u001b[1;32mas\u001b[0m \u001b[0me\u001b[0m\u001b[1;33m:\u001b[0m\u001b[1;33m\u001b[0m\u001b[1;33m\u001b[0m\u001b[0m\n\u001b[0;32m    906\u001b[0m                 \u001b[0mself\u001b[0m\u001b[1;33m.\u001b[0m\u001b[0mlog\u001b[0m\u001b[1;33m.\u001b[0m\u001b[0mwarning\u001b[0m\u001b[1;33m(\u001b[0m\u001b[1;34m\"Invalid Message:\"\u001b[0m\u001b[1;33m,\u001b[0m \u001b[0mexc_info\u001b[0m\u001b[1;33m=\u001b[0m\u001b[1;32mTrue\u001b[0m\u001b[1;33m)\u001b[0m\u001b[1;33m\u001b[0m\u001b[1;33m\u001b[0m\u001b[0m\n",
      "\u001b[1;31mKeyboardInterrupt\u001b[0m: Interrupted by user"
     ]
    }
   ],
   "source": [
    "from random import randint\n",
    "n=int(input('n='))\n",
    "a=[randint(1,100) for i in range(n)]\n",
    "print(a)\n",
    "k=int(input('k='))\n",
    "a=[0 for i in range(k)]+a[:n-k]\n",
    "print(a)"
   ]
  },
  {
   "cell_type": "code",
   "execution_count": 6,
   "metadata": {},
   "outputs": [
    {
     "name": "stdout",
     "output_type": "stream",
     "text": [
      "n=10\n",
      "[48, 4, 23, 80, 65, 99, 54, 55, 66, 87]\n",
      "k=5\n",
      "[87, 66, 55, 54, 99, 0, 0, 0, 0, 0]\n"
     ]
    }
   ],
   "source": [
    "#82\n",
    "from random import randint\n",
    "n=int(input('n='))\n",
    "a=[randint(1,100) for i in range(n)]\n",
    "m=a.copy()\n",
    "s=1\n",
    "print(a)\n",
    "k=int(input('k='))\n",
    "for i in range(k):\n",
    "    a.insert(k,m[n-s])\n",
    "    a[-1*s]=0\n",
    "    s+=1\n",
    "    k+=1\n",
    "a=a[k//2:n+k//2]\n",
    "print(a)"
   ]
  },
  {
   "cell_type": "code",
   "execution_count": 7,
   "metadata": {},
   "outputs": [
    {
     "name": "stdout",
     "output_type": "stream",
     "text": [
      "n=10\n",
      "[73, 45, 59, 12, 62, 79, 55, 33, 84, 26]\n",
      "[26, 73, 45, 59, 12, 62, 79, 55, 33, 84]\n"
     ]
    }
   ],
   "source": [
    "#83\n",
    "from random import randint\n",
    "n=int(input('n='))\n",
    "a=[randint(1,100) for i in range(n)]\n",
    "print(a)\n",
    "k=a[-1]\n",
    "a.pop(-1)\n",
    "a.insert(0,k)\n",
    "print(a)"
   ]
  },
  {
   "cell_type": "code",
   "execution_count": 9,
   "metadata": {},
   "outputs": [
    {
     "name": "stdout",
     "output_type": "stream",
     "text": [
      "n=10\n",
      "[50, 18, 72, 66, 78, 72, 87, 76, 72, 40]\n",
      "[18, 72, 66, 78, 72, 87, 76, 72, 40, 50]\n"
     ]
    }
   ],
   "source": [
    "#84\n",
    "from random import randint\n",
    "n=int(input('n='))\n",
    "a=[randint(1,100) for i in range(n)]\n",
    "print(a)\n",
    "k=a[0]\n",
    "a.pop(0)\n",
    "a.append(k)\n",
    "print(a)"
   ]
  },
  {
   "cell_type": "code",
   "execution_count": 21,
   "metadata": {},
   "outputs": [
    {
     "name": "stdout",
     "output_type": "stream",
     "text": [
      "n=10\n",
      "[99, 64, 7, 58, 62, 75, 52, 20, 3, 59]\n",
      "k=3\n",
      "[20, 3, 59, 99, 64, 7, 58, 62, 75, 52]\n"
     ]
    }
   ],
   "source": [
    "#85\n",
    "from random import randint\n",
    "n=int(input('n='))\n",
    "a=[randint(1,100) for i in range(n)]\n",
    "print(a)\n",
    "k=int(input('k='))\n",
    "b=a[0:n-k]\n",
    "c=a[n-k:n]\n",
    "print(c+b)"
   ]
  },
  {
   "cell_type": "code",
   "execution_count": 7,
   "metadata": {},
   "outputs": [
    {
     "name": "stdout",
     "output_type": "stream",
     "text": [
      "n=10\n",
      "[86, 16, 34, 38, 62, 98, 52, 45, 76, 26]\n",
      "k=6\n",
      "[52, 45, 76, 26, 86, 16, 34, 38, 62, 98]\n"
     ]
    }
   ],
   "source": [
    "#86\n",
    "from random import randint\n",
    "n=int(input('n='))\n",
    "a=[randint(1,100) for i in range(n)]\n",
    "print(a)\n",
    "k=int(input('k='))\n",
    "a=a[k:]+a[:k]\n",
    "print(a)"
   ]
  },
  {
   "cell_type": "code",
   "execution_count": 29,
   "metadata": {},
   "outputs": [
    {
     "name": "stdout",
     "output_type": "stream",
     "text": [
      "n=10\n",
      "a=10\n",
      "a=1\n",
      "a=2\n",
      "a=3\n",
      "a=4\n",
      "a=5\n",
      "a=6\n",
      "a=7\n",
      "a=8\n",
      "a=9\n",
      "[10, 1, 2, 3, 4, 5, 6, 7, 8, 9]\n",
      "[1, 2, 3, 4, 5, 6, 7, 8, 9, 10]\n"
     ]
    }
   ],
   "source": [
    "#87\n",
    "n=int(input('n='))\n",
    "a=[int(input('a=')) for i in range(n)]\n",
    "print(a)\n",
    "k=a[0]\n",
    "for i in range(1,n):\n",
    "    if i+1!=n and a[i]<k<a[i+1]:\n",
    "        a.insert(i+1,k)\n",
    "if a[0]>a[-1]:\n",
    "    a.append(k)\n",
    "a.pop(0)\n",
    "print(a)"
   ]
  },
  {
   "cell_type": "code",
   "execution_count": 32,
   "metadata": {},
   "outputs": [
    {
     "name": "stdout",
     "output_type": "stream",
     "text": [
      "n=10\n",
      "a=2\n",
      "a=3\n",
      "a=4\n",
      "a=5\n",
      "a=6\n",
      "a=7\n",
      "a=8\n",
      "a=9\n",
      "a=10\n",
      "a=1\n",
      "[2, 3, 4, 5, 6, 7, 8, 9, 10, 1]\n",
      "[1, 2, 3, 4, 5, 6, 7, 8, 9, 10]\n"
     ]
    }
   ],
   "source": [
    "#88\n",
    "n=int(input('n='))\n",
    "a=[int(input('a=')) for i in range(n)]\n",
    "print(a)\n",
    "k=a[-1]\n",
    "for i in range(1,n):\n",
    "    if i+1!=n and a[i]<k<a[i+1]:\n",
    "        a.insert(i+1,k)\n",
    "if a[0]>a[-1]:\n",
    "    a.insert(0,k)\n",
    "a.pop(-1)\n",
    "print(a)"
   ]
  },
  {
   "cell_type": "code",
   "execution_count": 8,
   "metadata": {},
   "outputs": [
    {
     "name": "stdout",
     "output_type": "stream",
     "text": [
      "n=5\n",
      "a=4\n",
      "a=9\n",
      "a=8\n",
      "a=20\n",
      "a=30\n",
      "[4, 9, 8, 20, 30]\n",
      "[4, 8, 9, 20, 30]\n"
     ]
    }
   ],
   "source": [
    "#89\n",
    "n=int(input('n='))\n",
    "a=[int(input('a=')) for i in range(n)]\n",
    "print(a)\n",
    "for i in range(n):\n",
    "    if i+1==n or i+2==n:\n",
    "        break\n",
    "    if not a[i]<a[i+1]<a[i+2]:\n",
    "        s=a[i+1]\n",
    "        k=i+1\n",
    "    if a[-1]<a[-2]:\n",
    "        s=a[-1]\n",
    "if s==a[-1]:\n",
    "    a.pop(-1)\n",
    "else:\n",
    "    a.pop(k)\n",
    "for i in range(n):\n",
    "    if i+1==n:\n",
    "        break\n",
    "    if a[i]<s<a[i+1]:\n",
    "        a.insert(i+1,s)\n",
    "print(a)"
   ]
  },
  {
   "cell_type": "code",
   "execution_count": 10,
   "metadata": {},
   "outputs": [
    {
     "name": "stdout",
     "output_type": "stream",
     "text": [
      "n=10\n",
      "[67, 30, 39, 48, 66, 26, 36, 3, 97, 41]\n",
      "k=5\n",
      "[67, 30, 39, 48, 66, 36, 3, 97, 41]\n"
     ]
    }
   ],
   "source": [
    "#90_Massivga element qo'shish va o'chirish\n",
    "from random import randint\n",
    "n=int(input('n='))\n",
    "a=[randint(1,100) for i in range(n)]\n",
    "print(a)\n",
    "k=int(input('k='))\n",
    "a.pop(k)\n",
    "print(a)"
   ]
  },
  {
   "cell_type": "code",
   "execution_count": 12,
   "metadata": {},
   "outputs": [
    {
     "name": "stdout",
     "output_type": "stream",
     "text": [
      "n=10\n",
      "[21, 30, 100, 82, 73, 77, 1, 35, 2, 57]\n",
      "k=2\n",
      "m=8\n",
      "[21, 30, 2, 57]\n",
      "4\n"
     ]
    }
   ],
   "source": [
    "#91\n",
    "from random import randint\n",
    "n=int(input('n='))\n",
    "a=[randint(1,100) for i in range(n)]\n",
    "print(a)\n",
    "k=int(input('k='))\n",
    "m=int(input('m='))\n",
    "a=a[0:k]+a[m:n]\n",
    "print(a)\n",
    "print(len(a))"
   ]
  },
  {
   "cell_type": "code",
   "execution_count": 13,
   "metadata": {},
   "outputs": [
    {
     "name": "stdout",
     "output_type": "stream",
     "text": [
      "n=10\n",
      "[86, 52, 46, 49, 25, 78, 38, 90, 77, 34]\n",
      "k=2\n",
      "m=4\n",
      "[86, 52, 46, 78, 38, 90, 77, 34]\n"
     ]
    }
   ],
   "source": [
    "from random import randint\n",
    "n=int(input('n='))\n",
    "a=[randint(1,100) for i in range(n)]\n",
    "print(a)\n",
    "k=int(input('k='))\n",
    "m=int(input('m='))\n",
    "i=0\n",
    "while i<m-k:\n",
    "    a.pop(k+1)\n",
    "    i+=1\n",
    "print(a)"
   ]
  },
  {
   "cell_type": "code",
   "execution_count": 17,
   "metadata": {},
   "outputs": [
    {
     "ename": "SyntaxError",
     "evalue": "invalid syntax (<ipython-input-17-100a1abe7c22>, line 7)",
     "output_type": "error",
     "traceback": [
      "\u001b[1;36m  File \u001b[1;32m\"<ipython-input-17-100a1abe7c22>\"\u001b[1;36m, line \u001b[1;32m7\u001b[0m\n\u001b[1;33m    while\u001b[0m\n\u001b[1;37m          ^\u001b[0m\n\u001b[1;31mSyntaxError\u001b[0m\u001b[1;31m:\u001b[0m invalid syntax\n"
     ]
    }
   ],
   "source": [
    "from random import randint\n",
    "n=int(input('n='))\n",
    "a=[randint(1,100) for i in range(n)]\n",
    "print(a)\n",
    "j=0\n",
    "while j<len(a):\n",
    "    for i i\n",
    "    if a[i]%2==1:\n",
    "        a.remove(a[i])\n",
    "    i+=1\n",
    "print(a)"
   ]
  },
  {
   "cell_type": "code",
   "execution_count": 14,
   "metadata": {},
   "outputs": [
    {
     "name": "stdout",
     "output_type": "stream",
     "text": [
      "n=20\n",
      "[83, 24, 64, 62, 87, 68, 19, 60, 4, 23, 22, 17, 48, 93, 97, 21, 73, 66, 24, 38]\n",
      "[24, 64, 62, 68, 60, 4, 22, 48, 66, 24, 38]\n"
     ]
    }
   ],
   "source": [
    "#92\n",
    "from random import randint\n",
    "n=int(input('n='))\n",
    "a=[randint(1,100) for i in range(n)]\n",
    "print(a)\n",
    "n-=1\n",
    "while n>=0:\n",
    "    if a[n]%2==1:\n",
    "        a.pop(n)\n",
    "    n-=1\n",
    "print(a)"
   ]
  },
  {
   "cell_type": "code",
   "execution_count": 15,
   "metadata": {},
   "outputs": [
    {
     "name": "stdout",
     "output_type": "stream",
     "text": [
      "n=10\n",
      "[11, 36, 16, 46, 86, 96, 57, 19, 80, 72]\n",
      "[11, 57, 19]\n"
     ]
    }
   ],
   "source": [
    "#93\n",
    "from random import randint\n",
    "n=int(input('n='))\n",
    "a=[randint(1,100) for i in range(n)]\n",
    "print(a)\n",
    "n-=1\n",
    "while n>=0:\n",
    "    if a[n]%2==0:\n",
    "        a.pop(n)\n",
    "    n-=1\n",
    "print(a)"
   ]
  },
  {
   "cell_type": "code",
   "execution_count": 16,
   "metadata": {},
   "outputs": [
    {
     "name": "stdout",
     "output_type": "stream",
     "text": [
      "n=10\n",
      "[73, 83, 48, 47, 91, 27, 72, 51, 56, 8]\n",
      "[73, 48, 91, 72, 56]\n"
     ]
    }
   ],
   "source": [
    "#94\n",
    "from random import randint\n",
    "n=int(input('n='))\n",
    "a=[randint(1,100) for i in range(n)]\n",
    "print(a)\n",
    "n-=1\n",
    "while n>=0:\n",
    "    if n%2==1:\n",
    "        a.pop(n)\n",
    "    n-=1\n",
    "print(a)"
   ]
  },
  {
   "cell_type": "code",
   "execution_count": 17,
   "metadata": {},
   "outputs": [
    {
     "name": "stdout",
     "output_type": "stream",
     "text": [
      "n=10\n",
      "[4, 34, 44, 82, 25, 58, 77, 18, 87, 28]\n",
      "[4, 44, 25, 77, 87]\n"
     ]
    }
   ],
   "source": [
    "#94_1\n",
    "from random import randint\n",
    "n=int(input('n='))\n",
    "a=[randint(1,100) for i in range(n)]\n",
    "print(a)\n",
    "a=a[0:n:2]\n",
    "print(a)"
   ]
  },
  {
   "cell_type": "code",
   "execution_count": 20,
   "metadata": {},
   "outputs": [
    {
     "name": "stdout",
     "output_type": "stream",
     "text": [
      "n=10\n",
      "a=1\n",
      "a=1\n",
      "a=1\n",
      "a=2\n",
      "a=2\n",
      "a=2\n",
      "a=3\n",
      "a=3\n",
      "a=4\n",
      "a=5\n",
      "[1, 1, 1, 2, 2, 2, 3, 3, 4, 5]\n",
      "[1, 1, 2, 2, 3, 3, 4, 5]\n"
     ]
    }
   ],
   "source": [
    "#95\n",
    "n=int(input('n='))\n",
    "a=[int(input('a=')) for i in range(n)]\n",
    "print(a)\n",
    "n-=1\n",
    "while n>=1:\n",
    "    if a[n]==a[n-1]==a[n-2]:\n",
    "        a.pop(n-1)\n",
    "    elif a[n]==a[n-1]:\n",
    "        a.pop(n)\n",
    "    n-=1\n",
    "print(a) "
   ]
  },
  {
   "cell_type": "code",
   "execution_count": 36,
   "metadata": {},
   "outputs": [
    {
     "name": "stdout",
     "output_type": "stream",
     "text": [
      "n=20\n",
      "[8, 2, 3, 2, 1, 2, 1, 10, 1, 8, 5, 5, 7, 2, 9, 3, 10, 1, 6, 5]\n",
      "[8, 2, 3, 2, 1, 2, 1, 10, 1, 5, 5, 7, 2, 9, 3, 10, 1, 6, 5]\n",
      "[8, 2, 3, 1, 1, 10, 1, 5, 5, 7, 9, 3, 10, 1, 6, 5]\n",
      "[8, 2, 3, 1, 1, 10, 1, 5, 5, 7, 9, 10, 1, 6, 5]\n",
      "[8, 2, 3, 1, 10, 5, 5, 7, 9, 10, 6, 5]\n",
      "[8, 2, 3, 1, 10, 5, 5, 7, 9, 6, 5]\n",
      "[8, 2, 3, 1, 10, 5, 7, 9, 6]\n",
      "[8, 2, 3, 1, 10, 5, 7, 9, 6]\n",
      "[8, 2, 3, 1, 10, 5, 7, 9, 6]\n",
      "[8, 2, 3, 1, 10, 5, 7, 9, 6]\n",
      "[8, 2, 3, 1, 10, 5, 7, 9, 6]\n"
     ]
    }
   ],
   "source": [
    "#96\n",
    "from random import randint\n",
    "n=int(input('n='))\n",
    "a=[randint(1,10) for i in range(n)]\n",
    "i=0\n",
    "print(a)\n",
    "while i<len(a):\n",
    "    k=a.count(a[i])\n",
    "    s=a[i]\n",
    "    while k>0:\n",
    "        a.remove(s)\n",
    "        k-=1\n",
    "    a.insert(i,s)\n",
    "    i+=1\n",
    "print(a)"
   ]
  },
  {
   "cell_type": "code",
   "execution_count": 37,
   "metadata": {},
   "outputs": [
    {
     "name": "stdout",
     "output_type": "stream",
     "text": [
      "n=20\n",
      "[1, 10, 8, 3, 7, 4, 4, 2, 6, 2, 10, 3, 6, 2, 1, 3, 5, 8, 10, 10]\n",
      "[7, 4, 6, 2, 1, 3, 5, 8, 10]\n"
     ]
    }
   ],
   "source": [
    "#97\n",
    "from random import randint\n",
    "n=int(input('n='))\n",
    "a=[randint(1,10) for i in range(n)]\n",
    "i=0\n",
    "print(a)\n",
    "a.reverse()\n",
    "while i<len(a):\n",
    "    k=a.count(a[i])\n",
    "    s=a[i]\n",
    "    while k>0:\n",
    "        a.remove(s)\n",
    "        k-=1\n",
    "    a.insert(i,s)\n",
    "    i+=1\n",
    "a.reverse()\n",
    "print(a)"
   ]
  },
  {
   "cell_type": "code",
   "execution_count": 39,
   "metadata": {},
   "outputs": [
    {
     "name": "stdout",
     "output_type": "stream",
     "text": [
      "n=30\n",
      "[3, 10, 5, 7, 10, 5, 9, 8, 6, 1, 2, 9, 7, 10, 3, 4, 5, 9, 8, 2, 3, 1, 3, 3, 3, 3, 4, 8, 9, 7]\n",
      "[3, 10, 5, 7, 10, 5, 9, 8, 9, 7, 10, 3, 5, 9, 8, 3, 3, 3, 3, 3, 8, 9, 7]\n"
     ]
    }
   ],
   "source": [
    "#98\n",
    "from random import randint\n",
    "n=int(input('n='))\n",
    "a=[randint(1,10) for i in range(n)]\n",
    "print(a)\n",
    "i=0\n",
    "while i<len(a):\n",
    "    s=a[i]\n",
    "    k=a.count(a[i])\n",
    "    while 0<k<3:\n",
    "        a.remove(s)\n",
    "        k-=1\n",
    "    i+=1\n",
    "print(a)"
   ]
  },
  {
   "cell_type": "code",
   "execution_count": null,
   "metadata": {},
   "outputs": [],
   "source": [
    "#99\n",
    "from random import randint\n",
    "n=int(input('n='))\n",
    "a=[randint(1,10) for i in range(n)]\n",
    "print(a)\n",
    "i=0\n",
    "while i<len(a):\n",
    "    s=a[i]\n",
    "    k=a.count(a[i])\n",
    "    while k>2:\n",
    "        a.remove(s)\n",
    "        k-=1\n",
    "    i+=1\n",
    "print(a)"
   ]
  },
  {
   "cell_type": "code",
   "execution_count": 40,
   "metadata": {},
   "outputs": [
    {
     "name": "stdout",
     "output_type": "stream",
     "text": [
      "n=20\n",
      "[10, 9, 4, 1, 10, 9, 10, 9, 3, 4, 5, 2, 1, 5, 8, 2, 5, 6, 8, 1]\n",
      "[10, 9, 1, 10, 9, 10, 9, 3, 5, 1, 5, 5, 6, 1]\n"
     ]
    }
   ],
   "source": [
    "#100\n",
    "from random import randint\n",
    "n=int(input('n='))\n",
    "a=[randint(1,10) for i in range(n)]\n",
    "print(a)\n",
    "i=0\n",
    "while i<len(a):\n",
    "    s=a[i]\n",
    "    k=a.count(a[i])\n",
    "    if k==2:\n",
    "        while k>0:\n",
    "            a.remove(s)\n",
    "            k-=1\n",
    "    i+=1\n",
    "print(a)"
   ]
  },
  {
   "cell_type": "code",
   "execution_count": 1,
   "metadata": {},
   "outputs": [
    {
     "name": "stdout",
     "output_type": "stream",
     "text": [
      "n=10\n",
      "[9, 7, 6, 7, 4, 1, 9, 10, 4, 5]\n",
      "k=2\n",
      "[9, 7, 0, 6, 7, 4, 1, 9, 10, 4, 5]\n"
     ]
    }
   ],
   "source": [
    "#101\n",
    "from random import randint\n",
    "n=int(input('n='))\n",
    "a=[randint(1,10) for i in range(n)]\n",
    "print(a)\n",
    "k=int(input('k='))\n",
    "a.insert(k,0)\n",
    "print(a)"
   ]
  },
  {
   "cell_type": "code",
   "execution_count": 2,
   "metadata": {},
   "outputs": [
    {
     "name": "stdout",
     "output_type": "stream",
     "text": [
      "n=10\n",
      "[3, 2, 2, 4, 3, 6, 2, 10, 6, 10]\n",
      "k=3\n",
      "[3, 2, 2, 4, 0, 3, 6, 2, 10, 6, 10]\n"
     ]
    }
   ],
   "source": [
    "#102\n",
    "from random import randint\n",
    "n=int(input('n='))\n",
    "a=[randint(1,10) for i in range(n)]\n",
    "print(a)\n",
    "k=int(input('k='))\n",
    "a.insert(k+1,0)\n",
    "print(a)"
   ]
  },
  {
   "cell_type": "code",
   "execution_count": 3,
   "metadata": {},
   "outputs": [
    {
     "name": "stdout",
     "output_type": "stream",
     "text": [
      "n=10\n",
      "[2, 2, 3, 4, 10, 9, 10, 2, 2, 3]\n",
      "[0, 2, 2, 3, 4, 10, 0, 9, 10, 2, 2, 3]\n"
     ]
    }
   ],
   "source": [
    "#103\n",
    "from random import randint\n",
    "n=int(input('n='))\n",
    "a=[randint(1,10) for i in range(n)]\n",
    "print(a)\n",
    "k=min(a)\n",
    "m=max(a)\n",
    "a.insert(a.index(k),0)\n",
    "a.insert(a.index(m)+1,0)\n",
    "print(a)"
   ]
  },
  {
   "cell_type": "code",
   "execution_count": 4,
   "metadata": {},
   "outputs": [
    {
     "name": "stdout",
     "output_type": "stream",
     "text": [
      "n=10\n",
      "[5, 6, 10, 9, 4, 9, 6, 5, 10, 9]\n",
      "k=3\n",
      "m=5\n",
      "[5, 6, 10, 0, 0, 0, 0, 0, 9, 4, 9, 6, 5, 10, 9]\n"
     ]
    }
   ],
   "source": [
    "#104\n",
    "from random import randint\n",
    "n=int(input('n='))\n",
    "a=[randint(1,10) for i in range(n)]\n",
    "print(a)\n",
    "k=int(input('k='))\n",
    "m=int(input('m='))\n",
    "while m>0:\n",
    "    a.insert(k,0)\n",
    "    m-=1\n",
    "print(a)"
   ]
  },
  {
   "cell_type": "code",
   "execution_count": 5,
   "metadata": {},
   "outputs": [
    {
     "name": "stdout",
     "output_type": "stream",
     "text": [
      "n=10\n",
      "[10, 9, 6, 8, 5, 10, 3, 6, 2, 3]\n",
      "k=3\n",
      "m=5\n",
      "[10, 9, 6, 8, 0, 0, 0, 0, 0, 5, 10, 3, 6, 2, 3]\n"
     ]
    }
   ],
   "source": [
    "#105\n",
    "from random import randint\n",
    "n=int(input('n='))\n",
    "a=[randint(1,10) for i in range(n)]\n",
    "print(a)\n",
    "k=int(input('k='))\n",
    "m=int(input('m='))\n",
    "while m>0:\n",
    "    a.insert(k+1,0)\n",
    "    m-=1\n",
    "print(a)"
   ]
  },
  {
   "cell_type": "code",
   "execution_count": 6,
   "metadata": {},
   "outputs": [
    {
     "name": "stdout",
     "output_type": "stream",
     "text": [
      "n=10\n",
      "[36, 25, 89, 53, 94, 61, 51, 53, 58, 48]\n",
      "[36, 25, 89, 53, 94, 61, 51, 53, 58, 48, 36, 89, 94, 51, 58]\n"
     ]
    }
   ],
   "source": [
    "#106\n",
    "from random import randint\n",
    "n=int(input('n='))\n",
    "a=[randint(1,100) for i in range(n)]\n",
    "print(a)\n",
    "a+=a[0::2]\n",
    "print(a)"
   ]
  },
  {
   "cell_type": "code",
   "execution_count": 7,
   "metadata": {},
   "outputs": [
    {
     "name": "stdout",
     "output_type": "stream",
     "text": [
      "n=10\n",
      "[4, 81, 99, 11, 49, 38, 11, 45, 35, 69]\n",
      "[4, 81, 99, 11, 49, 38, 11, 45, 35, 69, 81, 11, 38, 45, 69, 81, 11, 38, 45, 69]\n"
     ]
    }
   ],
   "source": [
    "#107\n",
    "from random import randint\n",
    "n=int(input('n='))\n",
    "a=[randint(1,100) for i in range(n)]\n",
    "print(a)\n",
    "a+=2*a[1::2]\n",
    "print(a)"
   ]
  },
  {
   "cell_type": "code",
   "execution_count": 4,
   "metadata": {},
   "outputs": [
    {
     "name": "stdout",
     "output_type": "stream",
     "text": [
      "n=10\n",
      "[-7, 1, 7, -10, 2, 0, 6, 4, 9, -6]\n",
      "[-7, 1, 7, -10, 2, 0, 6, 4, 9, -6, -10, 2, 0, 6, 4, -6]\n"
     ]
    }
   ],
   "source": [
    "#109\n",
    "from random import randint\n",
    "n=int(input('n='))\n",
    "a=[randint(-10,10) for i in range(n)]\n",
    "print(a)\n",
    "a.extend([i for i in a if i%2==0])\n",
    "print(a)"
   ]
  },
  {
   "cell_type": "code",
   "execution_count": 13,
   "metadata": {},
   "outputs": [
    {
     "name": "stdout",
     "output_type": "stream",
     "text": [
      "n=10\n",
      "[2, 7, 9, 9, 6, 1, 1, 3, 6, 4]\n",
      "[2, 7, 9, 9, 6, 1, 1, 3, 6, 4, 2, 6, 6, 4]\n"
     ]
    }
   ],
   "source": [
    "#110\n",
    "from random import randint\n",
    "n=int(input('n='))\n",
    "a=[randint(1,10) for i in range(n)]\n",
    "print(a)\n",
    "for i in range(n):\n",
    "    if a[i]%2==0:\n",
    "        a.append(a[i])\n",
    "print(a)"
   ]
  },
  {
   "cell_type": "code",
   "execution_count": 14,
   "metadata": {},
   "outputs": [
    {
     "name": "stdout",
     "output_type": "stream",
     "text": [
      "n=10\n",
      "[3, 7, 2, 5, 8, 10, 7, 4, 10, 2]\n",
      "[3, 7, 2, 5, 8, 10, 7, 4, 10, 2, 3, 7, 5, 7, 3, 7, 5, 7]\n"
     ]
    }
   ],
   "source": [
    "#111\n",
    "from random import randint\n",
    "n=int(input('n='))\n",
    "a=[randint(1,10) for i in range(n)]\n",
    "print(a)\n",
    "s=2\n",
    "while s>0:\n",
    "    for i in range(n):\n",
    "        if a[i]%2==1:\n",
    "            a.append(a[i])\n",
    "    s-=1\n",
    "print(a)"
   ]
  },
  {
   "cell_type": "code",
   "execution_count": 2,
   "metadata": {},
   "outputs": [
    {
     "name": "stdout",
     "output_type": "stream",
     "text": [
      "n=5\n",
      "9\n",
      "1\n",
      "8\n",
      "4\n",
      "0\n",
      "[9, 1, 8, 4, 0]\n",
      "[0, 1, 4, 8, 9]\n"
     ]
    }
   ],
   "source": [
    "#112\n",
    "from random import randint\n",
    "n=int(input('n='))\n",
    "a=[int(input()) for i in range(n)]\n",
    "print(a)\n",
    "for i in range(n):\n",
    "    for j in range(n-i-1):\n",
    "        if a[j]>a[j+1]:\n",
    "            a[j],a[j+1]=a[j+1],a[j]\n",
    "print(a)"
   ]
  },
  {
   "cell_type": "code",
   "execution_count": 28,
   "metadata": {},
   "outputs": [
    {
     "name": "stdout",
     "output_type": "stream",
     "text": [
      "n=10\n",
      "[5, 10, 1, 4, 5, 1, 1, 3, 10, 1]\n",
      "[1, 1, 1, 1, 3, 4, 5, 5, 10, 10]\n"
     ]
    }
   ],
   "source": [
    "#113\n",
    "from random import randint\n",
    "n=int(input('n='))\n",
    "a=[randint(1,10) for i in range(n)]\n",
    "print(a)\n",
    "for i in range(n):\n",
    "    y=True\n",
    "    x=min(a[i:])\n",
    "    for j in range(i+1,n):\n",
    "        if a[j]==x and y:\n",
    "            index=j\n",
    "            y=False\n",
    "    a[i],a[index]=a[index],a[i]\n",
    "print(a)"
   ]
  },
  {
   "cell_type": "code",
   "execution_count": 8,
   "metadata": {},
   "outputs": [
    {
     "name": "stdout",
     "output_type": "stream",
     "text": [
      "n=10\n",
      "[8, 1, 2, 10, 3, 6, 10, 7, 1, 3]\n",
      "[1, 1, 2, 3, 3, 6, 7, 8, 10, 10]\n"
     ]
    }
   ],
   "source": [
    "#114\n",
    "from random import randint\n",
    "n=int(input('n='))\n",
    "a=[randint(1,10) for i in range(n)]\n",
    "print(a)\n",
    "for i in range(n):\n",
    "    for j in range(n-1):\n",
    "        if a[j]>a[j+1]:\n",
    "            a.insert(j,a[j+1])\n",
    "            a.pop(j+2)\n",
    "print(a)"
   ]
  },
  {
   "cell_type": "code",
   "execution_count": 23,
   "metadata": {},
   "outputs": [
    {
     "name": "stdout",
     "output_type": "stream",
     "text": [
      "n=10\n",
      "[9, 3, 7, 8, 9, 6, 7, 6, 4, 7]\n",
      "[1, 8, 5, 7, 2, 6, 9, 3, 0, 4]\n"
     ]
    }
   ],
   "source": [
    "#115\n",
    "from random import randint\n",
    "n=int(input('n='))\n",
    "a=[randint(1,10) for i in range(n)]\n",
    "print(a)\n",
    "m=max(a)+1\n",
    "k=a.copy()\n",
    "s=[]\n",
    "for i in range(n):\n",
    "    s.append(k.index(min(k)))\n",
    "    if i==n-1:\n",
    "        break\n",
    "    j=k.index(min(k))\n",
    "    k.pop(k.index(min(k)))\n",
    "    k.insert(j,m)\n",
    "print(s)"
   ]
  },
  {
   "cell_type": "code",
   "execution_count": null,
   "metadata": {},
   "outputs": [],
   "source": [
    "from random import randint\n",
    "n=int(input('n='))\n",
    "a=[randint(1,10) for i in range(n)]\n",
    "print(a)\n",
    "for i in range(n):"
   ]
  },
  {
   "cell_type": "code",
   "execution_count": 55,
   "metadata": {},
   "outputs": [
    {
     "name": "stdout",
     "output_type": "stream",
     "text": [
      "n=10\n",
      "[1, 1, 1, 1, 3, 2, 1, 2, 2, 1]\n",
      "[4, 1, 1, 1, 2, 1]\n",
      "[1, 3, 2, 1, 2, 1]\n"
     ]
    }
   ],
   "source": [
    "#116 Butun sonlar seriyasi\n",
    "from random import randint\n",
    "n=int(input('n='))\n",
    "a=[randint(1,3) for i in range(n)]\n",
    "s=1\n",
    "b=[]\n",
    "c=[]\n",
    "for i in range(n-1):\n",
    "    if a[i]==a[i+1]:\n",
    "        s+=1\n",
    "    else:\n",
    "        b.append(s)\n",
    "        c.append(a[i])\n",
    "        s=1\n",
    "if a[-1]!=a[-2]:\n",
    "    b.append(1)\n",
    "    c.append(a[-1])\n",
    "print(a)\n",
    "print(b)\n",
    "print(c)"
   ]
  },
  {
   "cell_type": "code",
   "execution_count": 27,
   "metadata": {},
   "outputs": [
    {
     "name": "stdout",
     "output_type": "stream",
     "text": [
      "n=10\n",
      "[4, 1, 5, 4, 2, 1, 1, 4, 3, 5]\n",
      "[0, 4, 0, 1, 0, 5, 0, 4, 0, 2, 0, 1, 1, 0, 4, 0, 3, 0, 5]\n"
     ]
    }
   ],
   "source": [
    "#117\n",
    "from random import randint\n",
    "n=int(input('n='))\n",
    "a=[randint(1,5) for i in range(n)]\n",
    "print(a)\n",
    "i=0\n",
    "while i<len(a)-1:\n",
    "    if a[i]!=a[i+1] and a[i]!=0:\n",
    "        a.insert(i+1,0)\n",
    "    i+=1\n",
    "a.insert(0,0)\n",
    "print(a)"
   ]
  },
  {
   "cell_type": "code",
   "execution_count": 41,
   "metadata": {},
   "outputs": [
    {
     "name": "stdout",
     "output_type": "stream",
     "text": [
      "n=10\n",
      "[4, 2, 2, 3, 2, 4, 4, 3, 3, 4]\n",
      "[4, 0, 2, 2, 0, 3, 0, 2, 0, 4, 4, 0, 3, 3, 0, 4, 0]\n"
     ]
    }
   ],
   "source": [
    "#118\n",
    "from random import randint\n",
    "n=int(input('n='))\n",
    "a=[randint(1,5) for i in range(n)]\n",
    "print(a)\n",
    "i=0\n",
    "while i<len(a)-1:\n",
    "    if a[i]!=a[i+1] and a[i]!=0:\n",
    "        a.insert(i+1,0)\n",
    "    i+=1\n",
    "a.append(0)\n",
    "print(a)"
   ]
  },
  {
   "cell_type": "code",
   "execution_count": 42,
   "metadata": {},
   "outputs": [
    {
     "name": "stdout",
     "output_type": "stream",
     "text": [
      "n=5\n",
      "[1, 1, 4, 3, 2]\n",
      "[1, 1, 1, 4, 4, 3, 3, 2, 2]\n"
     ]
    }
   ],
   "source": [
    "#119\n",
    "from random import randint\n",
    "n=int(input('n='))\n",
    "a=[randint(1,5) for i in range(n)]\n",
    "print(a)\n",
    "i=0\n",
    "while i<len(a)-1:\n",
    "    if a[i]!=a[i+1]:\n",
    "        a.insert(i,a[i])\n",
    "        i+=1\n",
    "    i+=1\n",
    "a.append(a[-1])\n",
    "print(a)"
   ]
  },
  {
   "cell_type": "code",
   "execution_count": 17,
   "metadata": {},
   "outputs": [
    {
     "name": "stdout",
     "output_type": "stream",
     "text": [
      "n=10\n",
      "[3, 2, 2, 3, 3, 1, 3, 2, 1, 2]\n",
      "[2, 3]\n"
     ]
    }
   ],
   "source": [
    "#120\n",
    "from random import randint\n",
    "n=int(input('n='))\n",
    "a=[randint(1,3) for i in range(n)]\n",
    "print(a)\n",
    "i=0\n",
    "while i<len(a)-1:\n",
    "    if a[i]!=a[i+1]:\n",
    "        a.pop(i)\n",
    "        i-=1\n",
    "    i+=1\n",
    "a.pop(-1)\n",
    "print(a)"
   ]
  },
  {
   "cell_type": "code",
   "execution_count": 1,
   "metadata": {},
   "outputs": [
    {
     "name": "stdout",
     "output_type": "stream",
     "text": [
      "n=10\n",
      "[2, 1, 2, 1, 1, 3, 2, 1, 2, 1]\n",
      "k=3\n",
      "[2, 1, 2, 1, 3, 2, 1, 2, 1]\n",
      "[1, 1, 1, 2, 1, 1, 1, 1, 1]\n",
      "[2, 1, 2, 2, 1, 1, 3, 2, 1, 2, 1]\n"
     ]
    }
   ],
   "source": [
    "#121\n",
    "from random import randint\n",
    "n=int(input('n='))\n",
    "a=[randint(1,3) for i in range(n)]\n",
    "print(a)\n",
    "k=int(input('k='))\n",
    "b=[]\n",
    "c=[]\n",
    "S=1\n",
    "for i in range(1,len(a)):\n",
    "    if a[i-1]==a[i]:\n",
    "        S+=1\n",
    "    else:\n",
    "        b.append(a[i-1])\n",
    "        c.append(S)\n",
    "        S=1\n",
    "b.append(a[len(a)-1])\n",
    "c.append(S)\n",
    "print(b)\n",
    "print(c)\n",
    "a=[]\n",
    "for i in range(len(b)):\n",
    "    if k==i+1:\n",
    "        c[i]*=2\n",
    "    for j in range(c[i]):\n",
    "        a.append(b[i])            \n",
    "print(a)"
   ]
  },
  {
   "cell_type": "code",
   "execution_count": 32,
   "metadata": {},
   "outputs": [
    {
     "name": "stdout",
     "output_type": "stream",
     "text": [
      "n=10\n",
      "[3, 3, 3, 1, 2, 1, 2, 1, 3, 1]\n",
      "k=3\n",
      "[3, 3, 3, 1, 1, 2, 1, 3, 1]\n"
     ]
    }
   ],
   "source": [
    "#122\n",
    "from random import randint\n",
    "n=int(input('n='))\n",
    "a=[randint(1,3) for i in range(n)]\n",
    "print(a)\n",
    "k=int(input('k='))\n",
    "s=1;b=[];c=[]\n",
    "for i in range(n-1):\n",
    "    if a[i]==a[i+1]:\n",
    "        s+=1\n",
    "    else:\n",
    "        b.append(s)\n",
    "        c.append(a[i])\n",
    "        if k==len(b):\n",
    "            j=b[-1]\n",
    "            while j>0:\n",
    "                a.pop(sum(b[:-1]))\n",
    "                j-=1\n",
    "            break\n",
    "        s=1\n",
    "if a[-1]!=a[-2]:\n",
    "    b.append(1)\n",
    "    c.append(a[-1])\n",
    "    if k==len(b):\n",
    "        j=b[-1]\n",
    "        while j>0:\n",
    "            a.pop(sum(b[:-1]))\n",
    "            j-=1\n",
    "print(a)"
   ]
  },
  {
   "cell_type": "code",
   "execution_count": 6,
   "metadata": {},
   "outputs": [
    {
     "name": "stdout",
     "output_type": "stream",
     "text": [
      "n=10\n",
      "[2, 3, 2, 1, 2, 3, 1, 3, 2, 3]\n",
      "k=2\n",
      "[2, 2, 1, 2, 3, 1, 3, 2, 3]\n"
     ]
    }
   ],
   "source": [
    "#122\n",
    "from random import randint\n",
    "n=int(input('n='))\n",
    "a=[randint(1,3) for i in range(n)]\n",
    "print(a)\n",
    "k=int(input('k='))\n",
    "b=[]\n",
    "c=[]\n",
    "S=1\n",
    "for i in range(1,len(a)):\n",
    "    if a[i-1]==a[i]:\n",
    "        S+=1\n",
    "    else:\n",
    "        b.append(a[i-1])\n",
    "        c.append(S)\n",
    "        S=1\n",
    "b.append(a[len(a)-1])\n",
    "c.append(S)\n",
    "a=[]\n",
    "x=True\n",
    "for i in range(len(b)):\n",
    "    for j in range(c[i]):\n",
    "        if k==i+1 and x:\n",
    "            x=False\n",
    "            break\n",
    "        a.append(b[i])\n",
    "print(a)"
   ]
  },
  {
   "cell_type": "code",
   "execution_count": 13,
   "metadata": {},
   "outputs": [
    {
     "name": "stdout",
     "output_type": "stream",
     "text": [
      "n=10\n",
      "[2, 2, 2, 2, 2, 3, 3, 1, 1, 1]\n",
      "k=3\n",
      "[1, 1, 1, 3, 3, 2, 2, 2, 2, 2]\n"
     ]
    }
   ],
   "source": [
    "#123\n",
    "from random import randint\n",
    "n=int(input('n='))\n",
    "a=[randint(1,3) for i in range(n)]\n",
    "print(a)\n",
    "k=int(input('k='))\n",
    "b=[]\n",
    "c=[]\n",
    "S=1\n",
    "for i in range(1,len(a)):\n",
    "    if a[i-1]==a[i]:\n",
    "        S+=1\n",
    "    else:\n",
    "        b.append(a[i-1])\n",
    "        c.append(S)\n",
    "        S=1\n",
    "b.append(a[len(a)-1])\n",
    "c.append(S)\n",
    "a=[]\n",
    "b[k-1],b[0]=b[0],b[k-1]\n",
    "c[k-1],c[0]=c[0],c[k-1]\n",
    "for i in range(len(b)):\n",
    "    for j in range(c[i]):\n",
    "        a.append(b[i])\n",
    "print(a)"
   ]
  },
  {
   "cell_type": "code",
   "execution_count": 14,
   "metadata": {},
   "outputs": [
    {
     "name": "stdout",
     "output_type": "stream",
     "text": [
      "n=10\n",
      "[3, 2, 2, 2, 2, 2, 2, 3, 1, 1]\n",
      "k=2\n",
      "[3, 1, 1, 3, 2, 2, 2, 2, 2, 2]\n"
     ]
    }
   ],
   "source": [
    "# 124\n",
    "from random import randint\n",
    "n=int(input('n='))\n",
    "a=[randint(1,3) for i in range(n)]\n",
    "print(a)\n",
    "k=int(input('k='))\n",
    "b=[]\n",
    "c=[]\n",
    "S=1\n",
    "for i in range(1,len(a)):\n",
    "    if a[i-1]==a[i]:\n",
    "        S+=1\n",
    "    else:\n",
    "        b.append(a[i-1])\n",
    "        c.append(S)\n",
    "        S=1\n",
    "b.append(a[len(a)-1])\n",
    "c.append(S)\n",
    "a=[]\n",
    "b[k-1],b[-1]=b[-1],b[k-1]\n",
    "c[k-1],c[-1]=c[-1],c[k-1]\n",
    "for i in range(len(b)):\n",
    "    for j in range(c[i]):\n",
    "        a.append(b[i])\n",
    "print(a)"
   ]
  },
  {
   "cell_type": "code",
   "execution_count": 30,
   "metadata": {},
   "outputs": [
    {
     "name": "stdout",
     "output_type": "stream",
     "text": [
      "n=10\n",
      "[2, 3, 2, 3, 2, 3, 2, 2, 2, 3]\n",
      "k=3\n",
      "[2, 0, 0, 0, 0, 0, 0, 2, 2, 3, 0]\n"
     ]
    }
   ],
   "source": [
    "#125\n",
    "from random import randint\n",
    "n=int(input('n='))\n",
    "a=[randint(1,3) for i in range(n)]\n",
    "print(a)\n",
    "k=int(input('k='))\n",
    "b=[]\n",
    "c=[]\n",
    "S=1\n",
    "for i in range(1,len(a)):\n",
    "    if a[i-1]==a[i]:\n",
    "        S+=1\n",
    "    else:\n",
    "        b.append(a[i-1])\n",
    "        c.append(S)\n",
    "        S=1\n",
    "b.append(a[len(a)-1])\n",
    "c.append(S)\n",
    "a=[]\n",
    "for i in range(len(b)):\n",
    "    for j in range(c[i]):\n",
    "        if c[i]<k:\n",
    "            a.append(0)\n",
    "            break\n",
    "        a.append(b[i])\n",
    "print(a)"
   ]
  },
  {
   "cell_type": "code",
   "execution_count": 24,
   "metadata": {},
   "outputs": [
    {
     "name": "stdout",
     "output_type": "stream",
     "text": [
      "n=5\n",
      "[2, 5, 2, 2, 5]\n",
      "k=2\n"
     ]
    }
   ],
   "source": [
    "#126\n",
    "from random import randint\n",
    "n=int(input('n='))\n",
    "a=[randint(1,3) for i in range(n)]\n",
    "print(a)\n",
    "k=int(input('k='))\n",
    "b=[]\n",
    "c=[]\n",
    "S=1\n",
    "for i in range(1,len(a)):\n",
    "    if a[i-1]==a[i]:\n",
    "        S+=1\n",
    "    else:\n",
    "        b.append(a[i-1])\n",
    "        c.append(S)\n",
    "        S=1\n",
    "b.append(a[len(a)-1])\n",
    "c.append(S)\n",
    "a=[]\n",
    "for i in range(len(b)):\n",
    "    for j in range(c[i]):\n",
    "        if c[i]==k:\n",
    "            a.append(0)\n",
    "            break\n",
    "        a.append(b[i])\n",
    "print(a)"
   ]
  },
  {
   "cell_type": "code",
   "execution_count": 49,
   "metadata": {},
   "outputs": [
    {
     "name": "stdout",
     "output_type": "stream",
     "text": [
      "n=10\n",
      "[2, 2, 1, 2, 1, 2, 3, 3, 2, 1]\n",
      "k=1\n",
      "[0, 1, 2, 1, 2, 0, 2, 1]\n"
     ]
    }
   ],
   "source": [
    "#127\n",
    "from random import randint\n",
    "n=int(input('n='))\n",
    "a=[randint(1,3) for i in range(n)]\n",
    "print(a)\n",
    "k=int(input('k='))\n",
    "b=[]\n",
    "c=[]\n",
    "S=1\n",
    "for i in range(1,len(a)):\n",
    "    if a[i-1]==a[i]:\n",
    "        S+=1\n",
    "    else:\n",
    "        b.append(a[i-1])\n",
    "        c.append(S)\n",
    "        S=1\n",
    "b.append(a[len(a)-1])\n",
    "c.append(S)\n",
    "a=[]\n",
    "for i in range(len(b)):\n",
    "    for j in range(c[i]):\n",
    "        if c[i]>k:\n",
    "            a.append(0)\n",
    "            break\n",
    "        a.append(b[i])\n",
    "print(a)"
   ]
  },
  {
   "cell_type": "code",
   "execution_count": 15,
   "metadata": {},
   "outputs": [
    {
     "name": "stdout",
     "output_type": "stream",
     "text": [
      "n=10\n",
      "[2, 3, 3, 1, 3, 3, 2, 3, 2, 3]\n",
      "[2, 3, 3, 3, 1, 3, 3, 2, 3, 2, 3]\n"
     ]
    }
   ],
   "source": [
    "#128\n",
    "from random import randint\n",
    "n=int(input('n='))\n",
    "a=[randint(1,3) for i in range(n)]\n",
    "print(a)\n",
    "b=[]\n",
    "c=[]\n",
    "S=1\n",
    "for i in range(1,len(a)):\n",
    "    if a[i-1]==a[i]:\n",
    "        S+=1\n",
    "    else:\n",
    "        b.append(a[i-1])\n",
    "        c.append(S)\n",
    "        S=1\n",
    "b.append(a[len(a)-1])\n",
    "c.append(S)\n",
    "a=[]\n",
    "x=True\n",
    "k=max(c)\n",
    "for i in range(len(b)):\n",
    "    for j in range(c[i]):\n",
    "        if c[i]==k and x:\n",
    "            a.append(b[i])\n",
    "            x=False\n",
    "        a.append(b[i])\n",
    "print(a)"
   ]
  },
  {
   "cell_type": "code",
   "execution_count": 17,
   "metadata": {},
   "outputs": [
    {
     "name": "stdout",
     "output_type": "stream",
     "text": [
      "n=10\n",
      "[2, 3, 2, 2, 3, 2, 2, 3, 1, 3]\n",
      "[2, 3, 2, 2, 3, 2, 2, 2, 3, 1, 3]\n"
     ]
    }
   ],
   "source": [
    "#129\n",
    "from random import randint\n",
    "n=int(input('n='))\n",
    "a=[randint(1,3) for i in range(n)]\n",
    "print(a)\n",
    "b=[]\n",
    "c=[]\n",
    "S=1\n",
    "for i in range(1,len(a)):\n",
    "    if a[i-1]==a[i]:\n",
    "        S+=1\n",
    "    else:\n",
    "        b.append(a[i-1])\n",
    "        c.append(S)\n",
    "        S=1\n",
    "b.append(a[len(a)-1])\n",
    "c.append(S)\n",
    "a=[]\n",
    "x=True\n",
    "k=c[0];index=0\n",
    "for i in range(len(c)):\n",
    "    if k<=c[i]:\n",
    "        k=c[i]\n",
    "        index=i\n",
    "for i in range(len(b)):\n",
    "    for j in range(c[i]):\n",
    "        if c[i]==k and x and i==index:\n",
    "            a.append(b[i])\n",
    "            x=False\n",
    "        a.append(b[i])\n",
    "print(a)"
   ]
  },
  {
   "cell_type": "code",
   "execution_count": 16,
   "metadata": {},
   "outputs": [
    {
     "name": "stdout",
     "output_type": "stream",
     "text": [
      "n=10\n",
      "[4, 4, 1, 4, 5, 5, 5, 1, 1, 5]\n",
      "[4, 4, 4, 1, 1, 4, 4, 5, 5, 5, 5, 1, 1, 1, 5, 5]\n"
     ]
    }
   ],
   "source": [
    "#130\n",
    "from random import randint\n",
    "n=int(input('n='))\n",
    "a=[randint(1,5) for i in range(n)]\n",
    "print(a)\n",
    "i=0\n",
    "while i<len(a)-1:\n",
    "    if a[i]!=a[i+1]:\n",
    "        a.insert(i,a[i])\n",
    "        i+=1\n",
    "    i+=1\n",
    "a.append(a[-1])\n",
    "print(a)"
   ]
  },
  {
   "cell_type": "code",
   "execution_count": 22,
   "metadata": {},
   "outputs": [
    {
     "name": "stdout",
     "output_type": "stream",
     "text": [
      "n=10\n",
      "b_x=0\n",
      "b_y=1\n",
      "[-9, 5, 0, -1, -3, 8, -8, 4, -2, 6]\n",
      "[-9, 5, 9, -5, -8, 8, 9, -3, 2, -9]\n",
      "-2 2\n"
     ]
    }
   ],
   "source": [
    "#131\n",
    "from random import randint\n",
    "n=int(input('n='))\n",
    "z=True\n",
    "x=[randint(-10,10) for i in range(n)]\n",
    "y=[randint(-10,10) for i in range(n)]\n",
    "b_x=int(input('b_x='))\n",
    "b_y=int(input('b_y='))\n",
    "for i in range(n):\n",
    "    if z:\n",
    "        mini=((x[i]-b_x)**2+(y[i]-b_y)**2)**0.5\n",
    "        j=i\n",
    "        z=False\n",
    "    if mini>((x[i]-b_x)**2+(y[i]-b_y)**2)**0.5:\n",
    "        mini=((x[i]-b_x)**2+(y[i]-b_y)**2)**0.5\n",
    "        j=i\n",
    "print(x)\n",
    "print(y)\n",
    "print(x[j],y[j])"
   ]
  },
  {
   "cell_type": "code",
   "execution_count": 20,
   "metadata": {},
   "outputs": [
    {
     "name": "stdout",
     "output_type": "stream",
     "text": [
      "n=10\n",
      "[-3, 3, -7, 1, 5, 1, -6, -3, 7, 1]\n",
      "[8, 4, -2, -4, 9, 2, 4, -8, -5, 1]\n",
      "5 9\n"
     ]
    }
   ],
   "source": [
    "#132\n",
    "from random import randint\n",
    "n=int(input('n='))\n",
    "z=True\n",
    "x=[randint(-10,10) for i in range(n)]\n",
    "y=[randint(-10,10) for i in range(n)]\n",
    "for i in range(n):\n",
    "    if z and x[i]<0 and y[i]>0:\n",
    "        maxi=(x[i]**2+y[i]**2)**0.5\n",
    "        max_x=x[i]\n",
    "        max_y=y[i]\n",
    "        z=False\n",
    "    if maxi<(x[i]**2+y[i]**2)**0.5 and x[i]>0 and y[i]>0:\n",
    "        maxi=(x[i]**2+y[i]**2)**0.5\n",
    "        max_x=x[i]\n",
    "        max_y=y[i]\n",
    "print(x)\n",
    "print(y)\n",
    "print(max_x,max_y)"
   ]
  },
  {
   "cell_type": "code",
   "execution_count": 23,
   "metadata": {},
   "outputs": [
    {
     "name": "stdout",
     "output_type": "stream",
     "text": [
      "n=10\n",
      "[-4, -9, -3, 4, 4, 5, 10, -8, -1, 10]\n",
      "[-2, 0, -1, -2, 5, 9, 7, 3, 0, -4]\n",
      "10 7\n"
     ]
    }
   ],
   "source": [
    "#133\n",
    "from random import randint\n",
    "n=int(input('n='))\n",
    "z=True\n",
    "x=[randint(-10,10) for i in range(n)]\n",
    "y=[randint(-10,10) for i in range(n)]\n",
    "for i in range(n):\n",
    "    if z and (x[i]>0 and y[i]>0 or x[i]<0 and y[i]<0):\n",
    "        maxi=(x[i]**2+y[i]**2)**0.5\n",
    "        max_x=x[i]\n",
    "        max_y=y[i]\n",
    "        z=False\n",
    "    if maxi<(x[i]**2+y[i]**2)**0.5 and (x[i]>0 and y[i]>0 or x[i]<0 and y[i]<0):\n",
    "        maxi=(x[i]**2+y[i]**2)**0.5\n",
    "        max_x=x[i]\n",
    "        max_y=y[i]\n",
    "print(x)\n",
    "print(y)\n",
    "print(max_x,max_y)"
   ]
  },
  {
   "cell_type": "code",
   "execution_count": 6,
   "metadata": {},
   "outputs": [
    {
     "name": "stdout",
     "output_type": "stream",
     "text": [
      "n=10\n",
      "10 -9\n",
      "[0.0, 9.486832980505138, 16.492422502470642, 12.041594578792296, 14.142135623730951, 14.422205101855956, 7.211102550927978, 5.0, 8.54400374531753, 15.264337522473747, 9.486832980505138, 0.0, 23.021728866442675, 3.605551275463989, 18.384776310850235, 15.033296378372908, 10.295630140987, 5.0, 12.529964086141668, 16.0312195418814, 16.492422502470642, 23.021728866442675, 0.0, 23.345235059857504, 6.324555320336759, 12.649110640673518, 12.806248474865697, 20.615528128088304, 10.63014581273465, 12.36931687685298, 12.041594578792296, 3.605551275463989, 23.345235059857504, 0.0, 18.027756377319946, 13.601470508735444, 10.63014581273465, 8.246211251235321, 12.727922061357855, 14.560219778561036, 14.142135623730951, 18.384776310850235, 6.324555320336759, 18.027756377319946, 0.0, 6.324555320336759, 8.246211251235321, 17.11724276862369, 6.082762530298219, 6.082762530298219, 14.422205101855956, 15.033296378372908, 12.649110640673518, 13.601470508735444, 6.324555320336759, 0.0, 7.211102550927978, 15.524174696260024, 6.4031242374328485, 1.0, 7.211102550927978, 10.295630140987, 12.806248474865697, 10.63014581273465, 8.246211251235321, 7.211102550927978, 0.0, 9.0, 2.23606797749979, 8.06225774829855, 5.0, 5.0, 20.615528128088304, 8.246211251235321, 17.11724276862369, 15.524174696260024, 9.0, 0.0, 11.045361017187261, 16.492422502470642, 8.54400374531753, 12.529964086141668, 10.63014581273465, 12.727922061357855, 6.082762530298219, 6.4031242374328485, 2.23606797749979, 11.045361017187261, 0.0, 7.0710678118654755, 15.264337522473747, 16.0312195418814, 12.36931687685298, 14.560219778561036, 6.082762530298219, 1.0, 8.06225774829855, 16.492422502470642, 7.0710678118654755, 0.0]\n",
      "6 7\n",
      "23.345235059857504\n",
      "[6, -3, 10, -6, 4, -2, 2, 2, 3, -2]\n",
      "[7, 10, -9, 8, -7, -5, 1, 10, -1, -6]\n"
     ]
    }
   ],
   "source": [
    "#134\n",
    "def masofa(a,b,c,d):\n",
    "    return ((a-b)**2+(c-d)**2)**0.5\n",
    "from random import randint\n",
    "n=int(input('n='))\n",
    "s=[]\n",
    "x=[randint(-10,10) for i in range(n)]\n",
    "y=[randint(-10,10) for i in range(n)]\n",
    "for i in range(n):\n",
    "    for j in range(n):\n",
    "        s.append(masofa(x[i],x[j],y[i],y[j]))\n",
    "a=s.index(max(s))//n\n",
    "b=s.index(min(s))//n\n",
    "print(x[a],y[a])\n",
    "print(s)\n",
    "print(x[b],y[b])\n",
    "print(max(s))\n",
    "print(x)\n",
    "print(y)"
   ]
  },
  {
   "cell_type": "code",
   "execution_count": 2,
   "metadata": {},
   "outputs": [
    {
     "name": "stdout",
     "output_type": "stream",
     "text": [
      "n1=5\n",
      "n2=4\n",
      "[2, 1, 2, 4, 8]\n",
      "[5, 1, 8, 7]\n",
      "1 1\n",
      "1.4142135623730951\n"
     ]
    }
   ],
   "source": [
    "#135\n",
    "from random import randint\n",
    "n1=int(input('n1='))\n",
    "a=[randint(1,10) for i in range(n1)]\n",
    "n2=int(input('n2='))\n",
    "b=[randint(1,10) for i in range(n2)]\n",
    "mini=a[0]**2+b[0]**2\n",
    "index1=0\n",
    "index2=0\n",
    "for i in range(n1):\n",
    "    for j in range(n2):\n",
    "        if mini>a[i]**2+b[j]**2:\n",
    "            mini=a[i]**2+b[j]**2\n",
    "            index1=i\n",
    "            index2=j\n",
    "print(a)\n",
    "print(b)\n",
    "print(a[index1],b[index2])\n",
    "print(mini**0.5)"
   ]
  },
  {
   "cell_type": "code",
   "execution_count": 11,
   "metadata": {},
   "outputs": [
    {
     "name": "stdout",
     "output_type": "stream",
     "text": [
      "n=5\n",
      "8 4\n",
      "[8, 8, -9, -1, -8]\n",
      "[-8, 4, 4, 8, 6]\n"
     ]
    }
   ],
   "source": [
    "#136\n",
    "def masofa(a,b,c,d):\n",
    "    return ((a-c)**2+(b-d)**2)**0.5\n",
    "from random import randint\n",
    "n=int(input('n='))\n",
    "s=[]\n",
    "k=0\n",
    "x=[randint(-10,10) for i in range(n)]\n",
    "y=[randint(-10,10) for i in range(n)]\n",
    "for i in range(n):\n",
    "    S=0\n",
    "    for j in range(n):\n",
    "        S+=masofa(x[i],x[j],y[i],y[j])\n",
    "    s.append(S)\n",
    "a=s.index(min(s))\n",
    "print(x[a],y[a])\n",
    "print(x)\n",
    "print(y)"
   ]
  },
  {
   "cell_type": "code",
   "execution_count": 19,
   "metadata": {},
   "outputs": [
    {
     "name": "stdout",
     "output_type": "stream",
     "text": [
      "n=10\n",
      "[4, -10, -9, 7, -4, -2, 0, 6, -7, 5]\n",
      "[-10, -5, -8, 0, -7, -10, 6, 6, 9, -8]\n",
      "-9 -8\n",
      "4 -10\n",
      "-7 9\n",
      "52.22468760668975\n"
     ]
    }
   ],
   "source": [
    "#137\n",
    "def Leng(x1,y1,x2,y2):\n",
    "    return ((x2-x1)**2+(y2-y1)**2)**0.5\n",
    "def Perim(x1,y1,x2,y2,x3,y3):\n",
    "    return Leng(x1,y1,x2,y2)+Leng(x2,y2,x3,y3)+Leng(x1,y1,x3,y3)\n",
    "def Uchburchak(x1,y1,x2,y2,x3,y3):\n",
    "    if Leng(x1,y1,x2,y2)+Leng(x2,y2,x3,y3)>Leng(x1,y1,x3,y3):\n",
    "        return True\n",
    "    if Leng(x1,y1,x2,y2)+Leng(x1,y1,x3,y3)>Leng(x2,y2,x3,y3):\n",
    "        return True\n",
    "    if Leng(x1,y1,x3,y3)+Leng(x2,y2,x3,y3)>Leng(x1,y1,x2,y2):\n",
    "        return True\n",
    "n=int(input('n='))\n",
    "x=[randint(-10,10) for i in range(n)]\n",
    "y=[randint(-10,10) for i in range(n)]\n",
    "print(x)\n",
    "print(y)\n",
    "z=True\n",
    "for i in range(n):\n",
    "    for j in range(n):\n",
    "        for k in range(n):\n",
    "            if z and Uchburchak(x[i],y[i],x[j],y[j],x[k],y[k]):\n",
    "                maxi=Perim(x[i],y[i],x[j],y[j],x[k],y[k])\n",
    "                index_i=i\n",
    "                index_j=j\n",
    "                index_k=k\n",
    "                z=False\n",
    "            if not z and Uchburchak(x[i],y[i],x[j],y[j],x[k],y[k]) and maxi<Perim(x[i],y[i],x[j],y[j],x[k],y[k]):\n",
    "                maxi=Perim(x[i],y[i],x[j],y[j],x[k],y[k])\n",
    "                index_i=i\n",
    "                index_j=j\n",
    "                index_k=k\n",
    "print(x[index_i],y[index_i])\n",
    "print(x[index_j],y[index_j])\n",
    "print(x[index_k],y[index_k])\n",
    "print(maxi)"
   ]
  },
  {
   "cell_type": "code",
   "execution_count": 20,
   "metadata": {},
   "outputs": [
    {
     "name": "stdout",
     "output_type": "stream",
     "text": [
      "n=10\n",
      "[-8, -10, 5, 0, -1, 6, 8, 5, -8, 9]\n",
      "[-3, -10, -7, 9, -3, 10, 4, 3, 1, -6]\n",
      "9 -6\n",
      "9 -6\n",
      "5 -7\n",
      "8.246211251235321\n"
     ]
    }
   ],
   "source": [
    "#138\n",
    "def Leng(x1,y1,x2,y2):\n",
    "    return ((x2-x1)**2+(y2-y1)**2)**0.5\n",
    "def Perim(x1,y1,x2,y2,x3,y3):\n",
    "    return Leng(x1,y1,x2,y2)+Leng(x2,y2,x3,y3)+Leng(x1,y1,x3,y3)\n",
    "def Uchburchak(x1,y1,x2,y2,x3,y3):\n",
    "    if Leng(x1,y1,x2,y2)+Leng(x2,y2,x3,y3)>Leng(x1,y1,x3,y3):\n",
    "        return True\n",
    "    if Leng(x1,y1,x2,y2)+Leng(x1,y1,x3,y3)>Leng(x2,y2,x3,y3):\n",
    "        return True\n",
    "    if Leng(x1,y1,x3,y3)+Leng(x2,y2,x3,y3)>Leng(x1,y1,x2,y2):\n",
    "        return True\n",
    "n=int(input('n='))\n",
    "x=[randint(-10,10) for i in range(n)]\n",
    "y=[randint(-10,10) for i in range(n)]\n",
    "print(x)\n",
    "print(y)\n",
    "z=True\n",
    "for i in range(n):\n",
    "    for j in range(n):\n",
    "        for k in range(n):\n",
    "            if z and Uchburchak(x[i],y[i],x[j],y[j],x[k],y[k]):\n",
    "                mini=Perim(x[i],y[i],x[j],y[j],x[k],y[k])\n",
    "                index_i=i\n",
    "                index_j=j\n",
    "                index_k=k\n",
    "                z=False\n",
    "            if not z and Uchburchak(x[i],y[i],x[j],y[j],x[k],y[k]) and mini>Perim(x[i],y[i],x[j],y[j],x[k],y[k]):\n",
    "                maxi=Perim(x[i],y[i],x[j],y[j],x[k],y[k])\n",
    "                index_i=i\n",
    "                index_j=j\n",
    "                index_k=k\n",
    "print(x[index_i],y[index_i])\n",
    "print(x[index_j],y[index_j])\n",
    "print(x[index_k],y[index_k])\n",
    "print(maxi)"
   ]
  },
  {
   "cell_type": "code",
   "execution_count": 22,
   "metadata": {},
   "outputs": [
    {
     "name": "stdout",
     "output_type": "stream",
     "text": [
      "n=10\n",
      "[0, 1, 9, -5, -3, 3, -6, 6, -7, -10]\n",
      "[8, -1, -10, -9, 0, 0, 4, 4, -10, -6]\n",
      "[-10, -7, -5, -6, 1, 3, -3, 9, 6, 0]\n",
      "[-6, -10, -9, 4, -1, 0, 0, -10, 4, 8]\n"
     ]
    }
   ],
   "source": [
    "#139\n",
    "n=int(input('n='))\n",
    "x=[randint(-10,10) for i in range(n)]\n",
    "y=[randint(-10,10) for i in range(n)]\n",
    "print(x)\n",
    "print(y)\n",
    "for i in range(n):\n",
    "    for j in range(n-i-1):\n",
    "        if not((x[j]<x[j+1] or x[j]==x[j+1]) and y[j]<y[j+1]):\n",
    "            x[j],x[j+1]=x[j+1],x[j]\n",
    "            y[j],y[j+1]=y[j+1],y[j]\n",
    "print(x)\n",
    "print(y)"
   ]
  },
  {
   "cell_type": "code",
   "execution_count": 1,
   "metadata": {},
   "outputs": [
    {
     "name": "stdout",
     "output_type": "stream",
     "text": [
      "n=5\n"
     ]
    },
    {
     "ename": "NameError",
     "evalue": "name 'randint' is not defined",
     "output_type": "error",
     "traceback": [
      "\u001b[1;31m---------------------------------------------------------------------------\u001b[0m",
      "\u001b[1;31mNameError\u001b[0m                                 Traceback (most recent call last)",
      "\u001b[1;32m<ipython-input-1-c3c2e2f8f602>\u001b[0m in \u001b[0;36m<module>\u001b[1;34m\u001b[0m\n\u001b[0;32m      1\u001b[0m \u001b[1;31m#140\u001b[0m\u001b[1;33m\u001b[0m\u001b[1;33m\u001b[0m\u001b[1;33m\u001b[0m\u001b[0m\n\u001b[0;32m      2\u001b[0m \u001b[0mn\u001b[0m\u001b[1;33m=\u001b[0m\u001b[0mint\u001b[0m\u001b[1;33m(\u001b[0m\u001b[0minput\u001b[0m\u001b[1;33m(\u001b[0m\u001b[1;34m'n='\u001b[0m\u001b[1;33m)\u001b[0m\u001b[1;33m)\u001b[0m\u001b[1;33m\u001b[0m\u001b[1;33m\u001b[0m\u001b[0m\n\u001b[1;32m----> 3\u001b[1;33m \u001b[0mx\u001b[0m\u001b[1;33m=\u001b[0m\u001b[1;33m[\u001b[0m\u001b[0mrandint\u001b[0m\u001b[1;33m(\u001b[0m\u001b[1;36m1\u001b[0m\u001b[1;33m,\u001b[0m\u001b[1;36m10\u001b[0m\u001b[1;33m)\u001b[0m \u001b[1;32mfor\u001b[0m \u001b[0mi\u001b[0m \u001b[1;32min\u001b[0m \u001b[0mrange\u001b[0m\u001b[1;33m(\u001b[0m\u001b[0mn\u001b[0m\u001b[1;33m)\u001b[0m\u001b[1;33m]\u001b[0m\u001b[1;33m\u001b[0m\u001b[1;33m\u001b[0m\u001b[0m\n\u001b[0m\u001b[0;32m      4\u001b[0m \u001b[0my\u001b[0m\u001b[1;33m=\u001b[0m\u001b[1;33m[\u001b[0m\u001b[0mrandint\u001b[0m\u001b[1;33m(\u001b[0m\u001b[1;36m1\u001b[0m\u001b[1;33m,\u001b[0m\u001b[1;36m10\u001b[0m\u001b[1;33m)\u001b[0m \u001b[1;32mfor\u001b[0m \u001b[0mi\u001b[0m \u001b[1;32min\u001b[0m \u001b[0mrange\u001b[0m\u001b[1;33m(\u001b[0m\u001b[0mn\u001b[0m\u001b[1;33m)\u001b[0m\u001b[1;33m]\u001b[0m\u001b[1;33m\u001b[0m\u001b[1;33m\u001b[0m\u001b[0m\n\u001b[0;32m      5\u001b[0m \u001b[0mprint\u001b[0m\u001b[1;33m(\u001b[0m\u001b[0mx\u001b[0m\u001b[1;33m)\u001b[0m\u001b[1;33m\u001b[0m\u001b[1;33m\u001b[0m\u001b[0m\n",
      "\u001b[1;32m<ipython-input-1-c3c2e2f8f602>\u001b[0m in \u001b[0;36m<listcomp>\u001b[1;34m(.0)\u001b[0m\n\u001b[0;32m      1\u001b[0m \u001b[1;31m#140\u001b[0m\u001b[1;33m\u001b[0m\u001b[1;33m\u001b[0m\u001b[1;33m\u001b[0m\u001b[0m\n\u001b[0;32m      2\u001b[0m \u001b[0mn\u001b[0m\u001b[1;33m=\u001b[0m\u001b[0mint\u001b[0m\u001b[1;33m(\u001b[0m\u001b[0minput\u001b[0m\u001b[1;33m(\u001b[0m\u001b[1;34m'n='\u001b[0m\u001b[1;33m)\u001b[0m\u001b[1;33m)\u001b[0m\u001b[1;33m\u001b[0m\u001b[1;33m\u001b[0m\u001b[0m\n\u001b[1;32m----> 3\u001b[1;33m \u001b[0mx\u001b[0m\u001b[1;33m=\u001b[0m\u001b[1;33m[\u001b[0m\u001b[0mrandint\u001b[0m\u001b[1;33m(\u001b[0m\u001b[1;36m1\u001b[0m\u001b[1;33m,\u001b[0m\u001b[1;36m10\u001b[0m\u001b[1;33m)\u001b[0m \u001b[1;32mfor\u001b[0m \u001b[0mi\u001b[0m \u001b[1;32min\u001b[0m \u001b[0mrange\u001b[0m\u001b[1;33m(\u001b[0m\u001b[0mn\u001b[0m\u001b[1;33m)\u001b[0m\u001b[1;33m]\u001b[0m\u001b[1;33m\u001b[0m\u001b[1;33m\u001b[0m\u001b[0m\n\u001b[0m\u001b[0;32m      4\u001b[0m \u001b[0my\u001b[0m\u001b[1;33m=\u001b[0m\u001b[1;33m[\u001b[0m\u001b[0mrandint\u001b[0m\u001b[1;33m(\u001b[0m\u001b[1;36m1\u001b[0m\u001b[1;33m,\u001b[0m\u001b[1;36m10\u001b[0m\u001b[1;33m)\u001b[0m \u001b[1;32mfor\u001b[0m \u001b[0mi\u001b[0m \u001b[1;32min\u001b[0m \u001b[0mrange\u001b[0m\u001b[1;33m(\u001b[0m\u001b[0mn\u001b[0m\u001b[1;33m)\u001b[0m\u001b[1;33m]\u001b[0m\u001b[1;33m\u001b[0m\u001b[1;33m\u001b[0m\u001b[0m\n\u001b[0;32m      5\u001b[0m \u001b[0mprint\u001b[0m\u001b[1;33m(\u001b[0m\u001b[0mx\u001b[0m\u001b[1;33m)\u001b[0m\u001b[1;33m\u001b[0m\u001b[1;33m\u001b[0m\u001b[0m\n",
      "\u001b[1;31mNameError\u001b[0m: name 'randint' is not defined"
     ]
    }
   ],
   "source": [
    "#140\n",
    "n=int(input('n='))\n",
    "x=[randint(1,10) for i in range(n)]\n",
    "y=[randint(1,10) for i in range(n)]\n",
    "print(x)\n",
    "print(y)\n",
    "for i in range(n):\n",
    "    for j in range(n-i-1):\n",
    "        if (x[j]+y[j]>x[j+1]+y[j+1] or x[j]+y[j]==x[j+1]+y[j+1] and x[j]>x[j+1]):\n",
    "            x[j],x[j+1]=x[j+1],x[j]\n",
    "            y[j],y[j+1]=y[j+1],y[j]\n",
    "print(x)\n",
    "print(y)"
   ]
  },
  {
   "cell_type": "code",
   "execution_count": 3,
   "metadata": {},
   "outputs": [
    {
     "ename": "SyntaxError",
     "evalue": "invalid syntax (<ipython-input-3-114fee16a985>, line 1)",
     "output_type": "error",
     "traceback": [
      "\u001b[1;36m  File \u001b[1;32m\"<ipython-input-3-114fee16a985>\"\u001b[1;36m, line \u001b[1;32m1\u001b[0m\n\u001b[1;33m    32orlqlytuiq\u001b[0m\n\u001b[1;37m      ^\u001b[0m\n\u001b[1;31mSyntaxError\u001b[0m\u001b[1;31m:\u001b[0m invalid syntax\n"
     ]
    }
   ],
   "source": [
    "32orlqlytuiq"
   ]
  },
  {
   "cell_type": "code",
   "execution_count": 4,
   "metadata": {},
   "outputs": [
    {
     "name": "stdout",
     "output_type": "stream",
     "text": [
      "hello world\n"
     ]
    }
   ],
   "source": [
    "print('hello world')"
   ]
  },
  {
   "cell_type": "code",
   "execution_count": 11,
   "metadata": {},
   "outputs": [
    {
     "name": "stdout",
     "output_type": "stream",
     "text": [
      "n = 6\n",
      "k = 3\n",
      "11\n",
      "19\n",
      "15\n",
      "16\n",
      "17\n",
      "9\n",
      "\n",
      "[11, 19, 15, 16, 17, 9, 0, 1, 2]\n",
      "3\n"
     ]
    }
   ],
   "source": [
    "n=int(input('n = '))\n",
    "k=int(input('k = '))\n",
    "a = [int(input()) for i in range(n)]\n",
    "print()\n",
    "mini = min(a)\n",
    "j=mini\n",
    "t=0\n",
    "for i in range(k):\n",
    "    if mini - 1 >= t:\n",
    "        a.append(t)\n",
    "        t += 1\n",
    "    else:\n",
    "        while True:\n",
    "            if t+1 in a:\n",
    "                t+=1\n",
    "            else:\n",
    "                break\n",
    "        a.append(t+1)\n",
    "        t += 1\n",
    "while a:\n",
    "    k = min(a)+1\n",
    "    if k in a:\n",
    "        a.remove(min(a))\n",
    "    else:\n",
    "        print(k)\n",
    "        break"
   ]
  },
  {
   "cell_type": "code",
   "execution_count": null,
   "metadata": {},
   "outputs": [],
   "source": []
  }
 ],
 "metadata": {
  "kernelspec": {
   "display_name": "Python 3",
   "language": "python",
   "name": "python3"
  },
  "language_info": {
   "codemirror_mode": {
    "name": "ipython",
    "version": 3
   },
   "file_extension": ".py",
   "mimetype": "text/x-python",
   "name": "python",
   "nbconvert_exporter": "python",
   "pygments_lexer": "ipython3",
   "version": "3.8.5"
  }
 },
 "nbformat": 4,
 "nbformat_minor": 4
}

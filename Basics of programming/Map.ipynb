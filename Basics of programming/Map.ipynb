{
 "cells": [
  {
   "cell_type": "code",
   "execution_count": 6,
   "metadata": {},
   "outputs": [
    {
     "name": "stdout",
     "output_type": "stream",
     "text": [
      "1 2 3 4 5 6\n",
      "[3, 6, 9, 12, 15, 18]\n"
     ]
    }
   ],
   "source": [
    "#1\n",
    "a = list(map(int,input().split()))\n",
    "b = list(map(lambda x:x*3,a))\n",
    "print(b)"
   ]
  },
  {
   "cell_type": "code",
   "execution_count": 8,
   "metadata": {},
   "outputs": [
    {
     "name": "stdout",
     "output_type": "stream",
     "text": [
      "1 2 3\n",
      "4 5 6\n",
      "7 8 9\n",
      "[12, 15, 18]\n"
     ]
    }
   ],
   "source": [
    "#2\n",
    "a = list(map(int,input().split()))\n",
    "b = list(map(int,input().split()))\n",
    "c = list(map(int,input().split()))\n",
    "d = list(map(lambda x,y,z:x+y+z,a,b,c))\n",
    "print(d)"
   ]
  },
  {
   "cell_type": "code",
   "execution_count": 39,
   "metadata": {},
   "outputs": [
    {
     "name": "stdout",
     "output_type": "stream",
     "text": [
      "[['k', 'a', 't', 't', 'a'], ['k', 'i', 'c', 'h', 'i', 'k'], ['u', 'l', 'k', 'a', 'n']]\n"
     ]
    }
   ],
   "source": [
    "#3\n",
    "a = ['katta','kichik','ulkan']\n",
    "b = list(map(list,a))\n",
    "print(b)"
   ]
  },
  {
   "cell_type": "code",
   "execution_count": 6,
   "metadata": {},
   "outputs": [
    {
     "name": "stdout",
     "output_type": "stream",
     "text": [
      "1 2 3 4\n",
      "[1, 2, 9, 64]\n"
     ]
    }
   ],
   "source": [
    "#4\n",
    "a = list(map(int,input().split()))\n",
    "c = list(range(len(a)))\n",
    "b = list(map(lambda x,y:x**y,a,c))\n",
    "print(b)"
   ]
  },
  {
   "cell_type": "code",
   "execution_count": 10,
   "metadata": {},
   "outputs": [
    {
     "name": "stdout",
     "output_type": "stream",
     "text": [
      "1 2 3\n",
      "[1, 4, 9]\n"
     ]
    }
   ],
   "source": [
    "#5\n",
    "a = list(map(int,input().split()))\n",
    "b = list(map(lambda x:x*x,a))\n",
    "print(b)"
   ]
  },
  {
   "cell_type": "code",
   "execution_count": 9,
   "metadata": {},
   "outputs": [
    {
     "name": "stdout",
     "output_type": "stream",
     "text": [
      "qwer DGCAD dg qwer DGFD\n",
      "['dgfd', 'DG', 'QWER', 'dgcad']\n"
     ]
    }
   ],
   "source": [
    "#6\n",
    "def convert(a):\n",
    "    if a.isupper():\n",
    "        return a.lower()\n",
    "    elif a.islower():\n",
    "        return a.upper()\n",
    "a = list(map(str,input().split()))\n",
    "b = list(set(list((map(convert,a)))))\n",
    "print(b)"
   ]
  },
  {
   "cell_type": "code",
   "execution_count": 15,
   "metadata": {},
   "outputs": [
    {
     "name": "stdout",
     "output_type": "stream",
     "text": [
      "1 2 3\n",
      "4 2 6\n",
      "[3, 0, 3]\n",
      "[5, 4, 9]\n"
     ]
    }
   ],
   "source": [
    "#7\n",
    "def difference(x,y):\n",
    "    return abs(x-y)\n",
    "a = list(map(int,input().split()))\n",
    "c = list(map(int,input().split()))\n",
    "d = list(map(difference,a,c))\n",
    "e = list(map(lambda x,y:x+y,a,c))\n",
    "print(d,e,sep='\\n')"
   ]
  },
  {
   "cell_type": "code",
   "execution_count": 18,
   "metadata": {},
   "outputs": [
    {
     "name": "stdout",
     "output_type": "stream",
     "text": [
      "rikgf 56 fha 0 .fd fdb7f 8f\n",
      "['5', '6', '0', '7', '8']\n"
     ]
    }
   ],
   "source": [
    "#8\n",
    "satr = input()\n",
    "integer = list(filter(lambda x:x.isdigit(),satr))\n",
    "print(integer)"
   ]
  },
  {
   "cell_type": "code",
   "execution_count": 22,
   "metadata": {},
   "outputs": [
    {
     "name": "stdout",
     "output_type": "stream",
     "text": [
      "[49, 115, 50, 100]\n"
     ]
    }
   ],
   "source": [
    "#9\n",
    "t = (1,'s',2,'d')\n",
    "a = list(map(lambda x:ord(str(x)),t))\n",
    "print(a)"
   ]
  },
  {
   "cell_type": "code",
   "execution_count": 5,
   "metadata": {},
   "outputs": [
    {
     "name": "stdout",
     "output_type": "stream",
     "text": [
      "n = 10\n",
      "[0, 1, 1, 2, 3, 5, 8, 13, 21, 34]\n",
      "[0, 1, 1, 2, 3, 5, 8, 13, 21, 34]\n"
     ]
    }
   ],
   "source": [
    "#10\n",
    "n=int(input(\"n = \"))\n",
    "a=[0,1]\n",
    "for i in range(n-2):\n",
    "    a.append(a[-1]+a[-2])\n",
    "print(a)\n",
    "a=list(map(lambda x:x,a))\n",
    "print(a)"
   ]
  },
  {
   "cell_type": "code",
   "execution_count": 32,
   "metadata": {},
   "outputs": [
    {
     "name": "stdout",
     "output_type": "stream",
     "text": [
      "10\n"
     ]
    }
   ],
   "source": [
    "#11\n",
    "from functools import reduce\n",
    "a = [1, 2, 3, 4]\n",
    "sum_a = reduce(lambda x, y:x+y, a)\n",
    "print(sum_a)"
   ]
  },
  {
   "cell_type": "code",
   "execution_count": 36,
   "metadata": {},
   "outputs": [
    {
     "name": "stdout",
     "output_type": "stream",
     "text": [
      "1 2 0 -7\n",
      "0.5\n"
     ]
    }
   ],
   "source": [
    "#12\n",
    "n = list(map(int,input().split()))\n",
    "m = list(map(lambda x: x>0,n))\n",
    "print(sum(m)/len(n))"
   ]
  },
  {
   "cell_type": "code",
   "execution_count": 37,
   "metadata": {},
   "outputs": [
    {
     "name": "stdout",
     "output_type": "stream",
     "text": [
      "1 2 3 4 5\n",
      "4 5 6 7 8 9\n",
      "[False, False, False, True, True]\n"
     ]
    }
   ],
   "source": [
    "#13\n",
    "n = list(map(int,input().split()))\n",
    "m = list(map(int,input().split()))\n",
    "n = list(set(n))\n",
    "a = list(map(lambda x: x in m,n))\n",
    "print(sum(a))"
   ]
  },
  {
   "cell_type": "code",
   "execution_count": null,
   "metadata": {},
   "outputs": [],
   "source": [
    "#14\n",
    "n = list(map(int,input().split()))\n",
    "m = list(map(int,input().split()))\n",
    "k = list(map())"
   ]
  },
  {
   "cell_type": "code",
   "execution_count": 17,
   "metadata": {},
   "outputs": [
    {
     "name": "stdout",
     "output_type": "stream",
     "text": [
      "['a', 'b', 'c']\n"
     ]
    }
   ],
   "source": [
    "#15\n",
    "dict1 = {\n",
    "    'a':[1,2,3,4,5],\n",
    "    'b':[6,7,8,9,10],\n",
    "    'c':[11,12,13,14,15]\n",
    "}\n",
    "list1 = list(map(str,dict1))\n",
    "print(list1)"
   ]
  },
  {
   "cell_type": "code",
   "execution_count": 2,
   "metadata": {},
   "outputs": [
    {
     "name": "stdout",
     "output_type": "stream",
     "text": [
      "[{'a': 1, 'b': 5}, {'a': 2, 'b': 6}, {'a': 3, 'b': 7}, {'a': 4, 'b': 8}, {'a': 5, 'b': 9}]\n"
     ]
    }
   ],
   "source": [
    "a={\"a\":[1,2,3,4,5],\"b\":[5,6,7,8,9]}\n",
    "c=list(a.keys())\n",
    "d=list(a.values())\n",
    "b=list(map(lambda x,y:{c[0]:x,c[1]:y},d[0],d[1]))\n",
    "print(b)\n"
   ]
  },
  {
   "cell_type": "code",
   "execution_count": 24,
   "metadata": {},
   "outputs": [
    {
     "name": "stdout",
     "output_type": "stream",
     "text": [
      "[['as'], ['asd'], ['qwer']]\n"
     ]
    }
   ],
   "source": [
    "#16\n",
    "str_list = ['as','asd','qwer']\n",
    "str_list1 = list(map(lambda x:[x],str_list))\n",
    "print(str_list1)"
   ]
  },
  {
   "cell_type": "code",
   "execution_count": 9,
   "metadata": {},
   "outputs": [
    {
     "name": "stdout",
     "output_type": "stream",
     "text": [
      "[['1', '2', '3'], ['4', '5', 'AppData', '6'], ['7', '8', '9']]\n"
     ]
    }
   ],
   "source": [
    "#17\n",
    "def convert(a):\n",
    "    massiv = [str(i) for i in a]\n",
    "    return massiv\n",
    "tuple_list = [(1,2,3),(4,5,'AppData',6),(7,8,9)]\n",
    "str_list = list(map(convert,tuple_list))\n",
    "print(str_list)"
   ]
  },
  {
   "cell_type": "code",
   "execution_count": null,
   "metadata": {},
   "outputs": [],
   "source": []
  }
 ],
 "metadata": {
  "kernelspec": {
   "display_name": "Python 3",
   "language": "python",
   "name": "python3"
  },
  "language_info": {
   "codemirror_mode": {
    "name": "ipython",
    "version": 3
   },
   "file_extension": ".py",
   "mimetype": "text/x-python",
   "name": "python",
   "nbconvert_exporter": "python",
   "pygments_lexer": "ipython3",
   "version": "3.8.5"
  }
 },
 "nbformat": 4,
 "nbformat_minor": 4
}

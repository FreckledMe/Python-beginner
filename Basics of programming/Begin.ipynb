{
 "cells": [
  {
   "cell_type": "code",
   "execution_count": 1,
   "metadata": {},
   "outputs": [
    {
     "name": "stdout",
     "output_type": "stream",
     "text": [
      "a=2\n",
      "8\n"
     ]
    }
   ],
   "source": [
    "#1\n",
    "a=int(input('a='))\n",
    "p=4*a\n",
    "print(p)"
   ]
  },
  {
   "cell_type": "code",
   "execution_count": 2,
   "metadata": {},
   "outputs": [
    {
     "name": "stdout",
     "output_type": "stream",
     "text": [
      "a=2\n",
      "4\n"
     ]
    }
   ],
   "source": [
    "#2\n",
    "a=int(input('a='))\n",
    "s=a*a\n",
    "print(s)"
   ]
  },
  {
   "cell_type": "code",
   "execution_count": 3,
   "metadata": {},
   "outputs": [
    {
     "name": "stdout",
     "output_type": "stream",
     "text": [
      "a=3\n",
      "b=4\n",
      "12 14\n"
     ]
    }
   ],
   "source": [
    "#3\n",
    "a=int(input('a='))\n",
    "b=int(input('b='))\n",
    "s=a*b\n",
    "p=2*(a+b)\n",
    "print(s,p)"
   ]
  },
  {
   "cell_type": "code",
   "execution_count": 6,
   "metadata": {},
   "outputs": [
    {
     "name": "stdout",
     "output_type": "stream",
     "text": [
      "d=3\n",
      "9.42477796076938\n"
     ]
    }
   ],
   "source": [
    "#4\n",
    "from math import pi\n",
    "d=int(input('d='))\n",
    "l=pi*d\n",
    "print(l)\n"
   ]
  },
  {
   "cell_type": "code",
   "execution_count": 7,
   "metadata": {},
   "outputs": [
    {
     "name": "stdout",
     "output_type": "stream",
     "text": [
      "a=3\n",
      "27 54\n"
     ]
    }
   ],
   "source": [
    "#5\n",
    "a=int(input('a='))\n",
    "v=a**3\n",
    "s=6*a*a\n",
    "print(v,s)"
   ]
  },
  {
   "cell_type": "code",
   "execution_count": 8,
   "metadata": {},
   "outputs": [
    {
     "name": "stdout",
     "output_type": "stream",
     "text": [
      "a=3\n",
      "b=2\n",
      "c=5\n",
      "30 62\n"
     ]
    }
   ],
   "source": [
    "#6\n",
    "a=int(input('a='))\n",
    "b=int(input('b='))\n",
    "c=int(input('c='))\n",
    "v=a*b*c\n",
    "s=2*(a*b+b*c+a*c)\n",
    "print(v,s)"
   ]
  },
  {
   "cell_type": "code",
   "execution_count": 12,
   "metadata": {},
   "outputs": [
    {
     "name": "stdout",
     "output_type": "stream",
     "text": [
      "R=3\n",
      "18.84955592153876\n",
      "28.274333882308138\n"
     ]
    }
   ],
   "source": [
    "#7\n",
    "from math import pi\n",
    "R=int(input('R='))\n",
    "L=pi*2*R\n",
    "S=pi*R*R\n",
    "print(L)\n",
    "print(S)\n"
   ]
  },
  {
   "cell_type": "code",
   "execution_count": 13,
   "metadata": {},
   "outputs": [
    {
     "name": "stdout",
     "output_type": "stream",
     "text": [
      "a=2\n",
      "b=8\n",
      "5.0\n"
     ]
    }
   ],
   "source": [
    "#8\n",
    "a=int(input('a='))\n",
    "b=int(input('b='))\n",
    "print((a+b)/2)"
   ]
  },
  {
   "cell_type": "code",
   "execution_count": 14,
   "metadata": {},
   "outputs": [
    {
     "name": "stdout",
     "output_type": "stream",
     "text": [
      "a=2\n",
      "b=6\n",
      "2.8284271247461903\n"
     ]
    }
   ],
   "source": [
    "#9\n",
    "a=int(input('a='))\n",
    "b=int(input('b='))\n",
    "print((a+b)**0.5)"
   ]
  },
  {
   "cell_type": "code",
   "execution_count": 15,
   "metadata": {},
   "outputs": [
    {
     "name": "stdout",
     "output_type": "stream",
     "text": [
      "a=3\n",
      "b=4\n",
      "7\n",
      "12\n",
      "9 16\n"
     ]
    }
   ],
   "source": [
    "#10\n",
    "a=int(input('a='))\n",
    "b=int(input('b='))\n",
    "print(a+b)\n",
    "print(a*b)\n",
    "print(a*a,b*b)"
   ]
  },
  {
   "cell_type": "code",
   "execution_count": 16,
   "metadata": {},
   "outputs": [
    {
     "name": "stdout",
     "output_type": "stream",
     "text": [
      "a=-7\n",
      "b=8\n",
      "1\n",
      "-56\n",
      "7 8\n"
     ]
    }
   ],
   "source": [
    "#11\n",
    "a=int(input('a='))\n",
    "b=int(input('b='))\n",
    "print(a+b)\n",
    "print(a*b)\n",
    "print(abs(a),abs(b))"
   ]
  },
  {
   "cell_type": "code",
   "execution_count": 17,
   "metadata": {},
   "outputs": [
    {
     "name": "stdout",
     "output_type": "stream",
     "text": [
      "a=3\n",
      "b=4\n",
      "5.0 12.0\n"
     ]
    }
   ],
   "source": [
    "#12\n",
    "a=int(input('a='))\n",
    "b=int(input('b='))\n",
    "c=(a*a+b*b)**0.5\n",
    "p=a+b+c\n",
    "print(c,p)"
   ]
  },
  {
   "cell_type": "code",
   "execution_count": 18,
   "metadata": {},
   "outputs": [
    {
     "name": "stdout",
     "output_type": "stream",
     "text": [
      "R1=4\n",
      "R2=1\n",
      "47.12388980384689\n"
     ]
    }
   ],
   "source": [
    "#13\n",
    "#R1>R2\n",
    "from math import pi\n",
    "R1=int(input('R1='))\n",
    "R2=int(input('R2='))\n",
    "print(pi*(R1*R1-R2*R2))"
   ]
  },
  {
   "cell_type": "code",
   "execution_count": 19,
   "metadata": {},
   "outputs": [
    {
     "name": "stdout",
     "output_type": "stream",
     "text": [
      "L=14\n",
      "2.228169203286535\n",
      "15.597184423005746\n"
     ]
    }
   ],
   "source": [
    "#14\n",
    "from math import pi\n",
    "L=int(input('L='))\n",
    "R=L/(2*pi)\n",
    "S=pi*R*R\n",
    "print(R)\n",
    "print(S)"
   ]
  },
  {
   "cell_type": "code",
   "execution_count": 20,
   "metadata": {},
   "outputs": [
    {
     "name": "stdout",
     "output_type": "stream",
     "text": [
      "S=9\n",
      "1.692568750643269\n",
      "10.634723105433096\n"
     ]
    }
   ],
   "source": [
    "#15\n",
    "from math import pi\n",
    "S=int(input('S='))\n",
    "R=(S/pi)**0.5\n",
    "L=2*pi*R\n",
    "print(R)\n",
    "print(L)"
   ]
  },
  {
   "cell_type": "code",
   "execution_count": 21,
   "metadata": {},
   "outputs": [
    {
     "name": "stdout",
     "output_type": "stream",
     "text": [
      "x1=4\n",
      "x2=-12\n",
      "16\n"
     ]
    }
   ],
   "source": [
    "#16\n",
    "x1=int(input('x1='))\n",
    "x2=int(input('x2='))\n",
    "print(abs(x1-x2))"
   ]
  },
  {
   "cell_type": "code",
   "execution_count": 22,
   "metadata": {},
   "outputs": [
    {
     "name": "stdout",
     "output_type": "stream",
     "text": [
      "a=2\n",
      "b=-9\n",
      "c=12\n",
      "11\n",
      "60\n",
      "71\n"
     ]
    }
   ],
   "source": [
    "#17\n",
    "a=int(input('a='))\n",
    "b=int(input('b='))\n",
    "c=int(input('c='))\n",
    "s1=abs(a-b)\n",
    "s2=abs(a-s)\n",
    "s3=s1+s2\n",
    "print(s1)\n",
    "print(s2)\n",
    "print(s3)"
   ]
  },
  {
   "cell_type": "code",
   "execution_count": 23,
   "metadata": {},
   "outputs": [
    {
     "name": "stdout",
     "output_type": "stream",
     "text": [
      "a=7\n",
      "b=10\n",
      "c=18\n",
      "165\n"
     ]
    }
   ],
   "source": [
    "#18\n",
    "a=int(input('a='))\n",
    "b=int(input('b='))\n",
    "c=int(input('c='))\n",
    "s1=abs(a-b)\n",
    "s2=abs(a-s)\n",
    "s3=s1*s2\n",
    "print(s3)"
   ]
  },
  {
   "cell_type": "code",
   "execution_count": 24,
   "metadata": {},
   "outputs": [
    {
     "name": "stdout",
     "output_type": "stream",
     "text": [
      "x1=2\n",
      "y1=-4\n",
      "x2=7\n",
      "y2=5\n",
      "28\n",
      "45\n"
     ]
    }
   ],
   "source": [
    "#19\n",
    "x1=int(input('x1='))\n",
    "y1=int(input('y1='))\n",
    "x2=int(input('x2='))\n",
    "y2=int(input('y2='))\n",
    "p=2*(abs(x1-x2)+abs(y1-y2))\n",
    "s=(abs(x1-x2)*abs(y1-y2))\n",
    "print(p)\n",
    "print(s)"
   ]
  },
  {
   "cell_type": "code",
   "execution_count": 25,
   "metadata": {},
   "outputs": [
    {
     "name": "stdout",
     "output_type": "stream",
     "text": [
      "x1=2\n",
      "y1=3\n",
      "x2=8\n",
      "y2=10\n",
      "9.219544457292887\n"
     ]
    }
   ],
   "source": [
    "#20\n",
    "x1=int(input('x1='))\n",
    "y1=int(input('y1='))\n",
    "x2=int(input('x2='))\n",
    "y2=int(input('y2='))\n",
    "x=((x1-x2)**2+(y1-y2)**2)**0.5\n",
    "print(x)"
   ]
  },
  {
   "cell_type": "code",
   "execution_count": 26,
   "metadata": {},
   "outputs": [
    {
     "name": "stdout",
     "output_type": "stream",
     "text": [
      "x1=2\n",
      "y1=6\n",
      "x2=7\n",
      "y2=3\n",
      "x3=-9\n",
      "y3=2\n",
      "26.499999999999982\n",
      "33.56687134744632\n"
     ]
    }
   ],
   "source": [
    "#21\n",
    "x1=int(input('x1='))\n",
    "y1=int(input('y1='))\n",
    "x2=int(input('x2='))\n",
    "y2=int(input('y2='))\n",
    "x3=int(input('x3='))\n",
    "y3=int(input('y3='))\n",
    "a=((x1-x2)**2+(y1-y2)**2)**0.5\n",
    "b=((x1-x3)**2+(y1-y3)**2)**0.5\n",
    "c=((x2-x3)**2+(y2-y3)**2)**0.5\n",
    "p=(a+b+c)/2\n",
    "S=(p*(p-a)*(p-b)*(p-c))**0.5\n",
    "P=p*2\n",
    "print(S)\n",
    "print(P)"
   ]
  },
  {
   "cell_type": "code",
   "execution_count": 28,
   "metadata": {},
   "outputs": [
    {
     "name": "stdout",
     "output_type": "stream",
     "text": [
      "a=2\n",
      "b=3\n",
      "a= 3 b= 2\n"
     ]
    }
   ],
   "source": [
    "#22\n",
    "a=int(input('a='))\n",
    "b=int(input('b='))\n",
    "a,b=b,a\n",
    "print('a=',a,'b=',b)"
   ]
  },
  {
   "cell_type": "code",
   "execution_count": 29,
   "metadata": {},
   "outputs": [
    {
     "name": "stdout",
     "output_type": "stream",
     "text": [
      "a=2\n",
      "b=3\n",
      "c=4\n",
      "3 4 2\n"
     ]
    }
   ],
   "source": [
    "#23\n",
    "a=int(input('a='))\n",
    "b=int(input('b='))\n",
    "c=int(input('c='))\n",
    "a,b,c=b,c,a\n",
    "print(a,b,c)"
   ]
  },
  {
   "cell_type": "code",
   "execution_count": 30,
   "metadata": {},
   "outputs": [
    {
     "name": "stdout",
     "output_type": "stream",
     "text": [
      "a=1\n",
      "b=2\n",
      "c=3\n",
      "3 1 2\n"
     ]
    }
   ],
   "source": [
    "#24\n",
    "a=int(input('a='))\n",
    "b=int(input('b='))\n",
    "c=int(input('c='))\n",
    "a,b,c=c,a,b\n",
    "print(a,b,c)"
   ]
  },
  {
   "cell_type": "code",
   "execution_count": 31,
   "metadata": {},
   "outputs": [
    {
     "name": "stdout",
     "output_type": "stream",
     "text": [
      "x=2\n",
      "161\n"
     ]
    }
   ],
   "source": [
    "#25\n",
    "x=int(input('x='))\n",
    "y=3*x**6-6*x*x-7\n",
    "print(y)"
   ]
  },
  {
   "cell_type": "code",
   "execution_count": 32,
   "metadata": {},
   "outputs": [
    {
     "name": "stdout",
     "output_type": "stream",
     "text": [
      "x=5\n",
      "230\n"
     ]
    }
   ],
   "source": [
    "#26\n",
    "x=int(input('x='))\n",
    "y=4*(x-3)**6-7*(x-3)**3+2\n",
    "print(y)"
   ]
  },
  {
   "cell_type": "code",
   "execution_count": 33,
   "metadata": {},
   "outputs": [
    {
     "name": "stdout",
     "output_type": "stream",
     "text": [
      "A=3\n",
      "9 81 6561\n"
     ]
    }
   ],
   "source": [
    "#27\n",
    "A=int(input(\"A=\"))\n",
    "print(A**2,A**4,A**8)"
   ]
  },
  {
   "cell_type": "code",
   "execution_count": 36,
   "metadata": {},
   "outputs": [
    {
     "name": "stdout",
     "output_type": "stream",
     "text": [
      "A=2\n",
      "4 8 32 1024 32768\n"
     ]
    }
   ],
   "source": [
    "#28\n",
    "A=int(input(\"A=\"))\n",
    "print(A**2,A**3,A**5,A**10,A**15)"
   ]
  },
  {
   "cell_type": "code",
   "execution_count": 37,
   "metadata": {},
   "outputs": [
    {
     "name": "stdout",
     "output_type": "stream",
     "text": [
      "a=45\n",
      "2578.3100780887044\n"
     ]
    }
   ],
   "source": [
    "#29\n",
    "a=int(input('a='))\n",
    "b=180*a/pi\n",
    "print(b)"
   ]
  },
  {
   "cell_type": "code",
   "execution_count": 38,
   "metadata": {},
   "outputs": [
    {
     "name": "stdout",
     "output_type": "stream",
     "text": [
      "a=15\n",
      "0.2617993877991494\n"
     ]
    }
   ],
   "source": [
    "#30\n",
    "a=int(input('a='))\n",
    "b=a*pi/180\n",
    "print(b)"
   ]
  },
  {
   "cell_type": "code",
   "execution_count": 39,
   "metadata": {},
   "outputs": [
    {
     "name": "stdout",
     "output_type": "stream",
     "text": [
      "Tf=45\n",
      "7.222222222222222\n"
     ]
    }
   ],
   "source": [
    "#31,33\n",
    "Tf=int(input('Tf='))\n",
    "Tc=(Tf-32)*5/9\n",
    "print(Tc)"
   ]
  },
  {
   "cell_type": "code",
   "execution_count": 41,
   "metadata": {},
   "outputs": [
    {
     "name": "stdout",
     "output_type": "stream",
     "text": [
      "X=8\n",
      "A=16\n",
      "Y=4\n",
      "B=6\n",
      "0.5\n"
     ]
    }
   ],
   "source": [
    "#34\n",
    "X=int(input('X='))\n",
    "A=int(input('A='))\n",
    "Y=int(input('Y='))\n",
    "B=int(input('B='))\n",
    "print(A/X-B/Y)\n",
    "\n"
   ]
  },
  {
   "cell_type": "code",
   "execution_count": 42,
   "metadata": {},
   "outputs": [
    {
     "name": "stdout",
     "output_type": "stream",
     "text": [
      "v=12\n",
      "u=8\n",
      "t1=2\n",
      "t2=3\n",
      "52\n"
     ]
    }
   ],
   "source": [
    "#35\n",
    "v=int(input('v='))\n",
    "u=int(input('u='))\n",
    "t1=int(input('t1='))\n",
    "t2=int(input('t2='))\n",
    "s=(v+u)*t1+(v-u)*t2\n",
    "print(s)"
   ]
  },
  {
   "cell_type": "code",
   "execution_count": 44,
   "metadata": {},
   "outputs": [
    {
     "name": "stdout",
     "output_type": "stream",
     "text": [
      "v1=12\n",
      "v2=32\n",
      "t=2\n",
      "88\n"
     ]
    }
   ],
   "source": [
    "#36\n",
    "v1=int(input('v1='))\n",
    "v2=int(input('v2='))\n",
    "t=int(input('t='))\n",
    "s=(v1+v2)*t\n",
    "print(s)"
   ]
  },
  {
   "cell_type": "code",
   "execution_count": 45,
   "metadata": {},
   "outputs": [
    {
     "name": "stdout",
     "output_type": "stream",
     "text": [
      "v1=25\n",
      "v2=45\n",
      "t=2\n",
      "s=400\n",
      "260\n"
     ]
    }
   ],
   "source": [
    "#37\n",
    "v1=int(input('v1='))\n",
    "v2=int(input('v2='))\n",
    "t=int(input('t='))\n",
    "s=int(input('s='))\n",
    "s1=s-(v1+v2)*t\n",
    "print(s1)"
   ]
  },
  {
   "cell_type": "code",
   "execution_count": 46,
   "metadata": {},
   "outputs": [
    {
     "name": "stdout",
     "output_type": "stream",
     "text": [
      "a=5\n",
      "b=3\n",
      "-0.6\n"
     ]
    }
   ],
   "source": [
    "#38\n",
    "a=int(input('a='))\n",
    "b=int(input('b='))\n",
    "x=-b/a\n",
    "print(x)"
   ]
  },
  {
   "cell_type": "code",
   "execution_count": 49,
   "metadata": {},
   "outputs": [
    {
     "name": "stdout",
     "output_type": "stream",
     "text": [
      "a=1\n",
      "b=-4\n",
      "c=3\n",
      "3.0 1.0\n"
     ]
    }
   ],
   "source": [
    "#39\n",
    "a=int(input('a='))\n",
    "b=int(input('b='))\n",
    "c=int(input('c='))\n",
    "d=b*b-4*a*c\n",
    "x1=(-b+d**0.5)/(2*a)\n",
    "x2=(-b-d**0.5)/(2*a)\n",
    "print(x1,x2)"
   ]
  },
  {
   "cell_type": "code",
   "execution_count": 50,
   "metadata": {},
   "outputs": [
    {
     "name": "stdout",
     "output_type": "stream",
     "text": [
      "a1=3\n",
      "b1=4\n",
      "c1=5\n",
      "a2=6\n",
      "b2=7\n",
      "c2=8\n",
      "-1.0 2.0\n"
     ]
    }
   ],
   "source": [
    "#40\n",
    "a1=int(input('a1='))\n",
    "b1=int(input('b1='))\n",
    "c1=int(input('c1='))\n",
    "a2=int(input('a2='))\n",
    "b2=int(input('b2='))\n",
    "c2=int(input('c2='))\n",
    "d=a1*b2-a2*b1\n",
    "x=(c1*b2-c2*b1)/d\n",
    "y=(a1*c2-a2*c1)/d\n",
    "print(x,y)"
   ]
  }
 ],
 "metadata": {
  "kernelspec": {
   "display_name": "Python 3",
   "language": "python",
   "name": "python3"
  },
  "language_info": {
   "codemirror_mode": {
    "name": "ipython",
    "version": 3
   },
   "file_extension": ".py",
   "mimetype": "text/x-python",
   "name": "python",
   "nbconvert_exporter": "python",
   "pygments_lexer": "ipython3",
   "version": "3.8.5"
  }
 },
 "nbformat": 4,
 "nbformat_minor": 4
}

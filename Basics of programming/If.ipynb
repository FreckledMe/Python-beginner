{
 "cells": [
  {
   "cell_type": "code",
   "execution_count": 1,
   "metadata": {},
   "outputs": [
    {
     "name": "stdout",
     "output_type": "stream",
     "text": [
      "a=3\n",
      "4\n"
     ]
    }
   ],
   "source": [
    "#1\n",
    "a=int(input('a='))\n",
    "if a>0:\n",
    "    a+=1\n",
    "print(a)"
   ]
  },
  {
   "cell_type": "code",
   "execution_count": 2,
   "metadata": {},
   "outputs": [
    {
     "name": "stdout",
     "output_type": "stream",
     "text": [
      "a=-6\n",
      "-8\n"
     ]
    }
   ],
   "source": [
    "#2\n",
    "a=int(input('a='))\n",
    "if a>0:\n",
    "    a+=1\n",
    "else:\n",
    "    a-=2\n",
    "print(a)"
   ]
  },
  {
   "cell_type": "code",
   "execution_count": 3,
   "metadata": {},
   "outputs": [
    {
     "name": "stdout",
     "output_type": "stream",
     "text": [
      "a=0\n",
      "10\n"
     ]
    }
   ],
   "source": [
    "#3\n",
    "a=int(input('a='))\n",
    "if a>0:\n",
    "    a+=1\n",
    "if a==0:\n",
    "    a=10\n",
    "if a<0:\n",
    "    a-=2\n",
    "print(a)"
   ]
  },
  {
   "cell_type": "code",
   "execution_count": 5,
   "metadata": {},
   "outputs": [
    {
     "name": "stdout",
     "output_type": "stream",
     "text": [
      "a=4\n",
      "b=-9\n",
      "c=5\n",
      "2 ta musbat\n"
     ]
    }
   ],
   "source": [
    "#4\n",
    "a=int(input('a='))\n",
    "b=int(input('b='))\n",
    "c=int(input('c='))\n",
    "k=0\n",
    "if a>0:\n",
    "    k+=1\n",
    "if b>0:\n",
    "    k+=1\n",
    "if c>0:\n",
    "    k+=1\n",
    "print(k,'ta musbat')"
   ]
  },
  {
   "cell_type": "code",
   "execution_count": 6,
   "metadata": {},
   "outputs": [
    {
     "name": "stdout",
     "output_type": "stream",
     "text": [
      "a=7\n",
      "b=-9\n",
      "c=-6\n",
      "1 ta musbat 2 ta manfiy\n"
     ]
    }
   ],
   "source": [
    "#5\n",
    "a=int(input('a='))\n",
    "b=int(input('b='))\n",
    "c=int(input('c='))\n",
    "k=0\n",
    "if a>0:\n",
    "    k+=1\n",
    "if b>0:\n",
    "    k+=1\n",
    "if c>0:\n",
    "    k+=1\n",
    "print(k,'ta musbat',3-k,'ta manfiy')"
   ]
  },
  {
   "cell_type": "code",
   "execution_count": 7,
   "metadata": {},
   "outputs": [
    {
     "name": "stdout",
     "output_type": "stream",
     "text": [
      "a=4\n",
      "b=6\n",
      "6\n"
     ]
    }
   ],
   "source": [
    "#6\n",
    "a=int(input('a='))\n",
    "b=int(input('b='))\n",
    "if a>b:\n",
    "    print(a)\n",
    "if b>a:\n",
    "    print(b)\n",
    "if a==b:\n",
    "    print(a,b)\n"
   ]
  },
  {
   "cell_type": "code",
   "execution_count": 12,
   "metadata": {},
   "outputs": [
    {
     "name": "stdout",
     "output_type": "stream",
     "text": [
      "a=6\n",
      "b=3\n",
      "1\n"
     ]
    }
   ],
   "source": [
    "#7\n",
    "a=int(input('a='))\n",
    "b=int(input('b='))\n",
    "if a>b:\n",
    "    print(1)\n",
    "if b>a:\n",
    "    print(2)\n",
    "if a==b:\n",
    "    print(0)\n"
   ]
  },
  {
   "cell_type": "code",
   "execution_count": 9,
   "metadata": {},
   "outputs": [
    {
     "name": "stdout",
     "output_type": "stream",
     "text": [
      "a=2\n",
      "b=3\n",
      "3 2\n"
     ]
    }
   ],
   "source": [
    "#8\n",
    "a=int(input('a='))\n",
    "b=int(input('b='))\n",
    "if a>b:\n",
    "    print(a,b)\n",
    "if b>a:\n",
    "    print(b,a)"
   ]
  },
  {
   "cell_type": "code",
   "execution_count": 13,
   "metadata": {},
   "outputs": [
    {
     "name": "stdout",
     "output_type": "stream",
     "text": [
      "a=6\n",
      "b=3\n",
      "3 6\n"
     ]
    }
   ],
   "source": [
    "#9\n",
    "a=int(input('a='))\n",
    "b=int(input('b='))\n",
    "if a>b:\n",
    "    a,b=b,a\n",
    "print(a,b)\n",
    "    "
   ]
  },
  {
   "cell_type": "code",
   "execution_count": 14,
   "metadata": {},
   "outputs": [
    {
     "name": "stdout",
     "output_type": "stream",
     "text": [
      "a=7\n",
      "b=7\n",
      "0 0\n"
     ]
    }
   ],
   "source": [
    "#10\n",
    "a=int(input('a='))\n",
    "b=int(input('b='))\n",
    "if a!=b:\n",
    "    a=b=a+b\n",
    "else:\n",
    "    a=b=0\n",
    "print(a,b)"
   ]
  },
  {
   "cell_type": "code",
   "execution_count": 15,
   "metadata": {},
   "outputs": [
    {
     "name": "stdout",
     "output_type": "stream",
     "text": [
      "a=7\n",
      "b=8\n",
      "8 8\n"
     ]
    }
   ],
   "source": [
    "#11\n",
    "a=int(input('a='))\n",
    "b=int(input('b='))\n",
    "if a!=b:\n",
    "    a=b=max(a,b)\n",
    "else:\n",
    "    a=b=0\n",
    "print(a,b)"
   ]
  },
  {
   "cell_type": "code",
   "execution_count": 16,
   "metadata": {},
   "outputs": [
    {
     "name": "stdout",
     "output_type": "stream",
     "text": [
      "a=1\n",
      "b=2\n",
      "c=3\n",
      "1\n"
     ]
    }
   ],
   "source": [
    "#12\n",
    "a=int(input('a='))\n",
    "b=int(input('b='))\n",
    "c=int(input('c='))\n",
    "if b>c and a>c:\n",
    "    print(c)\n",
    "if c>a and b>a:\n",
    "    print(a)\n",
    "if a>b and c>b:\n",
    "    print(b)"
   ]
  },
  {
   "cell_type": "code",
   "execution_count": 17,
   "metadata": {},
   "outputs": [
    {
     "name": "stdout",
     "output_type": "stream",
     "text": [
      "a=4\n",
      "b=9\n",
      "c=3\n",
      "4\n"
     ]
    }
   ],
   "source": [
    "#13\n",
    "a=int(input('a='))\n",
    "b=int(input('b='))\n",
    "c=int(input('c='))\n",
    "if a>b>c or c>b>a:\n",
    "    print(b)\n",
    "if b>a>c or c>a>b:\n",
    "    print(a)\n",
    "if b>c>a or a>c>b:\n",
    "    print(c)"
   ]
  },
  {
   "cell_type": "code",
   "execution_count": 19,
   "metadata": {},
   "outputs": [
    {
     "name": "stdout",
     "output_type": "stream",
     "text": [
      "a=4\n",
      "b=5\n",
      "c=6\n",
      "4 6\n"
     ]
    }
   ],
   "source": [
    "#14\n",
    "a=int(input('a='))\n",
    "b=int(input('b='))\n",
    "c=int(input('c='))\n",
    "if c<a and c<b:\n",
    "    print(c,max(a,b))\n",
    "if a<c and a<b:\n",
    "    print(a,max(c,b))\n",
    "if b<c and b<a:\n",
    "    print(b,max(a,c))\n",
    "    "
   ]
  },
  {
   "cell_type": "code",
   "execution_count": 20,
   "metadata": {},
   "outputs": [
    {
     "name": "stdout",
     "output_type": "stream",
     "text": [
      "a=1\n",
      "b=2\n",
      "c=3\n",
      "2 3\n"
     ]
    }
   ],
   "source": [
    "#15\n",
    "a=int(input('a='))\n",
    "b=int(input('b='))\n",
    "c=int(input('c='))\n",
    "if b>c and a>c:\n",
    "    print(a,b)\n",
    "if c>a and b>a:\n",
    "    print(b,c)\n",
    "if a>b and c>b:\n",
    "    print(a,c)"
   ]
  },
  {
   "cell_type": "code",
   "execution_count": 21,
   "metadata": {},
   "outputs": [
    {
     "name": "stdout",
     "output_type": "stream",
     "text": [
      "a=4\n",
      "b=2\n",
      "c=6\n",
      "-4 -2 -6\n"
     ]
    }
   ],
   "source": [
    "#16\n",
    "a=int(input('a='))\n",
    "b=int(input('b='))\n",
    "c=int(input('c='))\n",
    "if a<b<c:\n",
    "    print(2*a,2*b,2*c)\n",
    "else:\n",
    "    print(-1*a,-1*b,-1*c)"
   ]
  },
  {
   "cell_type": "code",
   "execution_count": 22,
   "metadata": {},
   "outputs": [
    {
     "name": "stdout",
     "output_type": "stream",
     "text": [
      "a=1\n",
      "b=2\n",
      "c=3\n",
      "2 4 6\n"
     ]
    }
   ],
   "source": [
    "#17\n",
    "a=int(input('a='))\n",
    "b=int(input('b='))\n",
    "c=int(input('c='))\n",
    "if a<b<c or a>b>c:\n",
    "    print(2*a,2*b,2*c)\n",
    "else:\n",
    "    print(-1*a,-1*b,-1*c)"
   ]
  },
  {
   "cell_type": "code",
   "execution_count": 23,
   "metadata": {},
   "outputs": [
    {
     "name": "stdout",
     "output_type": "stream",
     "text": [
      "a=5\n",
      "b=5\n",
      "c=6\n",
      "3\n"
     ]
    }
   ],
   "source": [
    "#18\n",
    "a=int(input('a='))\n",
    "b=int(input('b='))\n",
    "c=int(input('c='))\n",
    "if a==b:\n",
    "    print(3)\n",
    "if a==c:\n",
    "    print(2)\n",
    "if b==c:\n",
    "    print(1)"
   ]
  },
  {
   "cell_type": "code",
   "execution_count": 24,
   "metadata": {},
   "outputs": [
    {
     "name": "stdout",
     "output_type": "stream",
     "text": [
      "a=4\n",
      "b=2\n",
      "c=4\n",
      "d=4\n",
      "2\n"
     ]
    }
   ],
   "source": [
    "#19\n",
    "a=int(input('a='))\n",
    "b=int(input('b='))\n",
    "c=int(input('c='))\n",
    "d=int(input('d='))\n",
    "if a==b==c:\n",
    "    print(4)\n",
    "if a==b==d:\n",
    "    print(3)\n",
    "if a==c==d:\n",
    "    print(2)\n",
    "if b==c==d:\n",
    "    print(1)"
   ]
  },
  {
   "cell_type": "code",
   "execution_count": 25,
   "metadata": {},
   "outputs": [
    {
     "name": "stdout",
     "output_type": "stream",
     "text": [
      "a=-7\n",
      "b=8\n",
      "c=-6\n",
      "-6 1\n"
     ]
    }
   ],
   "source": [
    "#20\n",
    "a=int(input('a='))\n",
    "b=int(input('b='))\n",
    "c=int(input('c='))\n",
    "if abs(a-b)<abs(a-c):\n",
    "    print(b,abs(a-b))\n",
    "if abs(a-b)>abs(a-c):\n",
    "    print(c,abs(a-c))\n",
    "    "
   ]
  },
  {
   "cell_type": "code",
   "execution_count": 27,
   "metadata": {},
   "outputs": [
    {
     "name": "stdout",
     "output_type": "stream",
     "text": [
      "x=0\n",
      "y=4\n",
      "1 2\n"
     ]
    }
   ],
   "source": [
    "#21\n",
    "x=int(input('x='))\n",
    "y=int(input('y='))\n",
    "if x==0 and y==0:\n",
    "    print(0)\n",
    "if x>0 and y==0 or x==0 and y>0:\n",
    "    print(1,2)\n",
    "if x!=0 and y!=0:\n",
    "    print(3)\n",
    "    \n"
   ]
  },
  {
   "cell_type": "code",
   "execution_count": 1,
   "metadata": {},
   "outputs": [
    {
     "name": "stdout",
     "output_type": "stream",
     "text": [
      "x=-5\n",
      "y=2\n",
      "2\n"
     ]
    }
   ],
   "source": [
    "#22\n",
    "x=int(input('x='))\n",
    "y=int(input('y='))\n",
    "if x>0 and y>0:\n",
    "    print(1)\n",
    "if x<0 and y>0:\n",
    "    print(2)\n",
    "if x<0 and y<0:\n",
    "    print(3)\n",
    "if x>0 and y<0:\n",
    "    print(4)"
   ]
  },
  {
   "cell_type": "code",
   "execution_count": 7,
   "metadata": {},
   "outputs": [
    {
     "name": "stdout",
     "output_type": "stream",
     "text": [
      "x1=4\n",
      "y1=2\n",
      "x2=8\n",
      "y2=0\n",
      "x3=8\n",
      "y3=2\n",
      "8 0\n"
     ]
    }
   ],
   "source": [
    "#23\n",
    "x1=int(input('x1='))\n",
    "y1=int(input('y1='))\n",
    "x2=int(input('x2='))\n",
    "y2=int(input('y2='))\n",
    "x3=int(input('x3='))\n",
    "y3=int(input('y3='))\n",
    "x4=0;y4=0\n",
    "if x1==x2:\n",
    "    x4=x3\n",
    "if x2==x3:\n",
    "    x4=x2\n",
    "if y1==y2:\n",
    "    y4=y3\n",
    "if y2==y3:\n",
    "    y4=y1\n",
    "print(x4,y4)"
   ]
  },
  {
   "cell_type": "code",
   "execution_count": 8,
   "metadata": {},
   "outputs": [
    {
     "name": "stdout",
     "output_type": "stream",
     "text": [
      "x=30\n",
      "-1.9760632481857237\n"
     ]
    }
   ],
   "source": [
    "#24\n",
    "from math import sin\n",
    "x=int(input('x='))\n",
    "if x>0:\n",
    "    print(2*sin(x))\n",
    "else:\n",
    "    print(x-6)"
   ]
  },
  {
   "cell_type": "code",
   "execution_count": 9,
   "metadata": {
    "run_control": {
     "marked": false
    },
    "scrolled": true
   },
   "outputs": [
    {
     "name": "stdout",
     "output_type": "stream",
     "text": [
      "x=2\n",
      "-6\n"
     ]
    }
   ],
   "source": [
    "#25\n",
    "x=int(input('x='))\n",
    "if x<-2 or x>2:\n",
    "    print(2*x)\n",
    "else:\n",
    "    print(-3*x)"
   ]
  },
  {
   "cell_type": "code",
   "execution_count": 10,
   "metadata": {
    "run_control": {
     "marked": false
    }
   },
   "outputs": [
    {
     "name": "stdout",
     "output_type": "stream",
     "text": [
      "x=-6\n",
      "6\n"
     ]
    }
   ],
   "source": [
    "#26\n",
    "x=int(input('x='))\n",
    "if x<=0:\n",
    "    print(-1*x)\n",
    "if 0<x<2:\n",
    "    print(x*x)\n",
    "if x>=2:\n",
    "    print(4)"
   ]
  },
  {
   "cell_type": "code",
   "execution_count": 12,
   "metadata": {
    "run_control": {
     "marked": false
    }
   },
   "outputs": [
    {
     "name": "stdout",
     "output_type": "stream",
     "text": [
      "x=5.6\n",
      "-1\n"
     ]
    }
   ],
   "source": [
    "#27\n",
    "x=int(float(input('x=')))\n",
    "if x<0:\n",
    "    print(0)\n",
    "if x%2==0:\n",
    "    print(1)\n",
    "if x%2==1:\n",
    "    print(-1)"
   ]
  },
  {
   "cell_type": "code",
   "execution_count": 15,
   "metadata": {
    "run_control": {
     "marked": false
    }
   },
   "outputs": [
    {
     "name": "stdout",
     "output_type": "stream",
     "text": [
      "y=1300\n",
      "365 kun bor\n"
     ]
    }
   ],
   "source": [
    "#28\n",
    "y=int(input('y='))\n",
    "if y%100!=0 and y%4==0 or y%400==0:\n",
    "    print('366 kun bor')\n",
    "else:\n",
    "    print('365 kun bor')"
   ]
  },
  {
   "cell_type": "code",
   "execution_count": 16,
   "metadata": {
    "run_control": {
     "marked": false
    }
   },
   "outputs": [
    {
     "name": "stdout",
     "output_type": "stream",
     "text": [
      "x=27\n",
      "musbat toq\n"
     ]
    }
   ],
   "source": [
    "#29\n",
    "x=int(input('x='))\n",
    "if x>0 and x%2==0:\n",
    "    print('musbat juft')\n",
    "if x>0 and x%2==1:\n",
    "    print('musbat toq')\n",
    "if x<0 and x%2==0:\n",
    "    print('manfiy juft')\n",
    "if x<0 and x%2==1:\n",
    "    print('manfiy toq')\n",
    "if x==0:\n",
    "    print('nolga teng')"
   ]
  },
  {
   "cell_type": "code",
   "execution_count": 1,
   "metadata": {},
   "outputs": [
    {
     "name": "stdout",
     "output_type": "stream",
     "text": [
      "x=250\n",
      "uch xonali juft\n"
     ]
    }
   ],
   "source": [
    "#30\n",
    "x=int(input('x='))\n",
    "if x>=100 and x%2==0:\n",
    "    print('uch xonali juft')\n",
    "if x>=100 and x%2==1:\n",
    "    print('uch xonali toq')\n",
    "if 10<=x<100 and x%2==0:\n",
    "    print('ikki xonali juft')\n",
    "if 10<=x<100 and x%2==1:\n",
    "    print('ikki xonali toq')\n",
    "if 0<x<10 and x%2==0:\n",
    "    print('juft')\n",
    "if 0<x<10 and x%2==1:\n",
    "    print('toq')\n",
    "if x==0:\n",
    "    print('nolga teng')"
   ]
  },
  {
   "cell_type": "code",
   "execution_count": null,
   "metadata": {},
   "outputs": [],
   "source": []
  }
 ],
 "metadata": {
  "kernelspec": {
   "display_name": "Python 3",
   "language": "python",
   "name": "python3"
  },
  "language_info": {
   "codemirror_mode": {
    "name": "ipython",
    "version": 3
   },
   "file_extension": ".py",
   "mimetype": "text/x-python",
   "name": "python",
   "nbconvert_exporter": "python",
   "pygments_lexer": "ipython3",
   "version": "3.8.5"
  }
 },
 "nbformat": 4,
 "nbformat_minor": 4
}

{
 "cells": [
  {
   "cell_type": "code",
   "execution_count": 30,
   "metadata": {},
   "outputs": [
    {
     "name": "stdout",
     "output_type": "stream",
     "text": [
      "2\n",
      "False\n"
     ]
    }
   ],
   "source": [
    "import re\n",
    "nomer = input()\n",
    "if re.match(\"\\+[0-9]{3}(.[0-9]{2}). [0-9]{3}-[0-9]{2}-[0-9]{2}$\",nomer):\n",
    "    print(True)\n",
    "else:\n",
    "    print(False)"
   ]
  },
  {
   "cell_type": "code",
   "execution_count": 19,
   "metadata": {},
   "outputs": [
    {
     "name": "stdout",
     "output_type": "stream",
     "text": [
      "sana = 1-2-2000\n",
      "True\n"
     ]
    }
   ],
   "source": [
    "sana = input('sana = ')\n",
    "if re.match(\"[0-9]{2}-[0-9]{2}-[0-9]{4}$\",sana) or re.match(\"[0-9]-[0-9]-[0-9]{4}$\",sana):\n",
    "    print('True')\n",
    "else:\n",
    "    print('False')"
   ]
  },
  {
   "cell_type": "code",
   "execution_count": 1,
   "metadata": {},
   "outputs": [
    {
     "name": "stdout",
     "output_type": "stream",
     "text": [
      "Password:········\n",
      "Password: 453853\n"
     ]
    }
   ],
   "source": [
    "#Parol\n",
    "import getpass\n",
    "import re\n",
    "parol = getpass.getpass('Password:')\n",
    "if re.match('[0-9]{4}[a-z]{4}',parol):\n",
    "    print('easy')\n",
    "characters = ['~','`','!','@','#','\\$','%','\\^','&','\\*','\\\\(','\\\\)','-','_','\\+','=','/','\\.','>','<',',','\\s','\\|',':',';','\"','\\\\[','\\\\]','\\\\{','\\\\}']\n",
    "x = True\n",
    "for i in characters:\n",
    "    if re.search(i,parol) and len(parol) >= 8:\n",
    "        print('hard')\n",
    "        x = False\n",
    "        break\n",
    "    else:\n",
    "        continue\n",
    "if x and len(parol) >= 8:\n",
    "    print('medium')\n",
    "print('Password:',parol)"
   ]
  },
  {
   "cell_type": "code",
   "execution_count": 21,
   "metadata": {},
   "outputs": [
    {
     "name": "stdout",
     "output_type": "stream",
     "text": [
      "Name : kamoliddin\n",
      "Last Name : jabbarov\n",
      "Patronymic : ulug'bekovich\n",
      "Login : freckledMe\n",
      "Password : kamoliddin2001\n",
      "Bu parolinggiz juda oddiy!Qaytadan kiriting\n",
      "Password : 2001jabbarov\n",
      "Bu parolinggiz juda oddiy!Qaytadan kiriting\n",
      "Password : 2001\n",
      "Parol qabul qilindi\n"
     ]
    }
   ],
   "source": [
    "#login system\n",
    "name = input('Name : ')\n",
    "l_name = input('Last Name : ')\n",
    "patronymic = input('Patronymic : ')\n",
    "login = input('Login : ')\n",
    "\n",
    "def kriteriya(parol):\n",
    "    if re.match('[0-9]{4}[a-z]{4}',parol):\n",
    "        return 'easy'\n",
    "    characters = ['~','`','!','@','#','\\$','%','\\^','&','\\*','\\\\(','\\\\)','-','_','\\+','=','/','\\.','>','<',',','\\s','\\|',':',';','\"','\\\\[','\\\\]','\\\\{','\\\\}']\n",
    "    x = True\n",
    "    for i in characters:\n",
    "        if re.search(i,parol) and len(parol) >= 8:\n",
    "            return 'hard'\n",
    "        \n",
    "    if x and len(parol) >= 8:\n",
    "        return 'medium'\n",
    "\n",
    "while True:\n",
    "    parol = input('Password : ')\n",
    "    if re.search(name,parol) or re.search(l_name,parol) or re.search(patronymic,parol) or len(parol) < 8:\n",
    "        print('Bu parolinggiz juda oddiy!Qaytadan kiriting')\n",
    "    else:\n",
    "        print(kriteriya(parol))\n",
    "        print('Password accepted')\n",
    "        break"
   ]
  },
  {
   "cell_type": "code",
   "execution_count": 12,
   "metadata": {},
   "outputs": [
    {
     "name": "stdout",
     "output_type": "stream",
     "text": [
      "url : dfsd_.org\n",
      "False\n"
     ]
    }
   ],
   "source": [
    "#url\n",
    "url = input('url : ')\n",
    "if re.match('^https://[^_][0-9a-zA-Z_][^_]+\\.[a-z]{2,63}',url) or re.match('^[^_][0-9a-zA-Z_][^_]+\\.[a-z]{2,63}',url):\n",
    "    print(True)\n",
    "else:\n",
    "    print(False)"
   ]
  },
  {
   "cell_type": "code",
   "execution_count": 21,
   "metadata": {},
   "outputs": [
    {
     "name": "stdout",
     "output_type": "stream",
     "text": [
      "link : https://www.youtube.com/watch?v=63FoPUjzC_Q\n",
      "YouTube\n"
     ]
    }
   ],
   "source": [
    "#video link\n",
    "link = input('link : ')\n",
    "# if re.match('^www\\.youtube\\.com/watch',link) or re.match('^https?://www\\.youtube\\.com/watch',link):\n",
    "if re.match('(https?)?://www\\.youtube\\.com/watch',link):\n",
    "    print('YouTube')\n",
    "elif re.match('^www\\.facebook\\.com/watch',link) or re.match('^https?://www\\.facebook\\.com/watch',link):\n",
    "    print('Facebook')\n",
    "elif re.match('^vimeo\\.com/\\d',link) or re.match('^https?://vimeo\\.com/\\d',link):\n",
    "    print('Vimeo')"
   ]
  },
  {
   "cell_type": "code",
   "execution_count": 22,
   "metadata": {},
   "outputs": [
    {
     "ename": "SyntaxError",
     "evalue": "invalid syntax (<ipython-input-22-8bd7b7c04b99>, line 1)",
     "output_type": "error",
     "traceback": [
      "\u001b[1;36m  File \u001b[1;32m\"<ipython-input-22-8bd7b7c04b99>\"\u001b[1;36m, line \u001b[1;32m1\u001b[0m\n\u001b[1;33m    1. 1-1-2000 01-01-2000 1/1/2000\u001b[0m\n\u001b[1;37m       ^\u001b[0m\n\u001b[1;31mSyntaxError\u001b[0m\u001b[1;31m:\u001b[0m invalid syntax\n"
     ]
    }
   ],
   "source": [
    "1. 1-1-2000 01-01-2000 1/1/2000\n",
    "Kabisa yoki kabisa emas\n",
    "2. Url tekshiramiz\n",
    "3. Video sslika , Facebook, Youtube, Vimeo\n",
    "4. Parol qiyin oddiy, o'rta solishtiramiz\n",
    "5. Login system:\n",
    "    Ism\n",
    "    familiya\n",
    "    Sharifi\n",
    "    login\n",
    "    parol"
   ]
  },
  {
   "cell_type": "code",
   "execution_count": 12,
   "metadata": {},
   "outputs": [
    {
     "name": "stdout",
     "output_type": "stream",
     "text": [
      "sana : 02.29.2000\n"
     ]
    },
    {
     "ename": "TypeError",
     "evalue": "unsupported operand type(s) for &: 'str' and 'int'",
     "output_type": "error",
     "traceback": [
      "\u001b[1;31m---------------------------------------------------------------------------\u001b[0m",
      "\u001b[1;31mTypeError\u001b[0m                                 Traceback (most recent call last)",
      "\u001b[1;32m<ipython-input-12-8d5dff7a9791>\u001b[0m in \u001b[0;36m<module>\u001b[1;34m\u001b[0m\n\u001b[0;32m      8\u001b[0m \u001b[0mdate\u001b[0m \u001b[1;33m=\u001b[0m \u001b[1;34m''\u001b[0m\u001b[1;33m\u001b[0m\u001b[1;33m\u001b[0m\u001b[0m\n\u001b[0;32m      9\u001b[0m \u001b[0mdate\u001b[0m \u001b[1;33m=\u001b[0m \u001b[1;34m'|'\u001b[0m\u001b[1;33m.\u001b[0m\u001b[0mjoin\u001b[0m\u001b[1;33m(\u001b[0m\u001b[1;34m'(?:%s)'\u001b[0m \u001b[1;33m%\u001b[0m\u001b[0mstr\u001b[0m\u001b[1;33m(\u001b[0m\u001b[0mx\u001b[0m\u001b[1;33m)\u001b[0m \u001b[1;32mfor\u001b[0m \u001b[0mx\u001b[0m \u001b[1;32min\u001b[0m \u001b[1;33m(\u001b[0m\u001b[0mvar_30\u001b[0m\u001b[1;33m,\u001b[0m\u001b[0mvar_31\u001b[0m\u001b[1;33m,\u001b[0m\u001b[0mvar_fevral\u001b[0m\u001b[1;33m,\u001b[0m\u001b[0mvar_kabisa\u001b[0m\u001b[1;33m)\u001b[0m\u001b[1;33m)\u001b[0m\u001b[1;33m\u001b[0m\u001b[1;33m\u001b[0m\u001b[0m\n\u001b[1;32m---> 10\u001b[1;33m \u001b[1;32mif\u001b[0m \u001b[0mre\u001b[0m\u001b[1;33m.\u001b[0m\u001b[0mcompile\u001b[0m\u001b[1;33m(\u001b[0m\u001b[0mdate\u001b[0m\u001b[1;33m,\u001b[0m\u001b[0msana\u001b[0m\u001b[1;33m)\u001b[0m\u001b[1;33m:\u001b[0m\u001b[1;33m\u001b[0m\u001b[1;33m\u001b[0m\u001b[0m\n\u001b[0m\u001b[0;32m     11\u001b[0m     \u001b[0mprint\u001b[0m\u001b[1;33m(\u001b[0m\u001b[1;34m'Sana qabul qilindi'\u001b[0m\u001b[1;33m)\u001b[0m\u001b[1;33m\u001b[0m\u001b[1;33m\u001b[0m\u001b[0m\n\u001b[0;32m     12\u001b[0m \u001b[1;32melse\u001b[0m\u001b[1;33m:\u001b[0m\u001b[1;33m\u001b[0m\u001b[1;33m\u001b[0m\u001b[0m\n",
      "\u001b[1;32mD:\\Conda\\lib\\re.py\u001b[0m in \u001b[0;36mcompile\u001b[1;34m(pattern, flags)\u001b[0m\n\u001b[0;32m    250\u001b[0m \u001b[1;32mdef\u001b[0m \u001b[0mcompile\u001b[0m\u001b[1;33m(\u001b[0m\u001b[0mpattern\u001b[0m\u001b[1;33m,\u001b[0m \u001b[0mflags\u001b[0m\u001b[1;33m=\u001b[0m\u001b[1;36m0\u001b[0m\u001b[1;33m)\u001b[0m\u001b[1;33m:\u001b[0m\u001b[1;33m\u001b[0m\u001b[1;33m\u001b[0m\u001b[0m\n\u001b[0;32m    251\u001b[0m     \u001b[1;34m\"Compile a regular expression pattern, returning a Pattern object.\"\u001b[0m\u001b[1;33m\u001b[0m\u001b[1;33m\u001b[0m\u001b[0m\n\u001b[1;32m--> 252\u001b[1;33m     \u001b[1;32mreturn\u001b[0m \u001b[0m_compile\u001b[0m\u001b[1;33m(\u001b[0m\u001b[0mpattern\u001b[0m\u001b[1;33m,\u001b[0m \u001b[0mflags\u001b[0m\u001b[1;33m)\u001b[0m\u001b[1;33m\u001b[0m\u001b[1;33m\u001b[0m\u001b[0m\n\u001b[0m\u001b[0;32m    253\u001b[0m \u001b[1;33m\u001b[0m\u001b[0m\n\u001b[0;32m    254\u001b[0m \u001b[1;32mdef\u001b[0m \u001b[0mpurge\u001b[0m\u001b[1;33m(\u001b[0m\u001b[1;33m)\u001b[0m\u001b[1;33m:\u001b[0m\u001b[1;33m\u001b[0m\u001b[1;33m\u001b[0m\u001b[0m\n",
      "\u001b[1;32mD:\\Conda\\lib\\re.py\u001b[0m in \u001b[0;36m_compile\u001b[1;34m(pattern, flags)\u001b[0m\n\u001b[0;32m    302\u001b[0m     \u001b[1;32mif\u001b[0m \u001b[1;32mnot\u001b[0m \u001b[0msre_compile\u001b[0m\u001b[1;33m.\u001b[0m\u001b[0misstring\u001b[0m\u001b[1;33m(\u001b[0m\u001b[0mpattern\u001b[0m\u001b[1;33m)\u001b[0m\u001b[1;33m:\u001b[0m\u001b[1;33m\u001b[0m\u001b[1;33m\u001b[0m\u001b[0m\n\u001b[0;32m    303\u001b[0m         \u001b[1;32mraise\u001b[0m \u001b[0mTypeError\u001b[0m\u001b[1;33m(\u001b[0m\u001b[1;34m\"first argument must be string or compiled pattern\"\u001b[0m\u001b[1;33m)\u001b[0m\u001b[1;33m\u001b[0m\u001b[1;33m\u001b[0m\u001b[0m\n\u001b[1;32m--> 304\u001b[1;33m     \u001b[0mp\u001b[0m \u001b[1;33m=\u001b[0m \u001b[0msre_compile\u001b[0m\u001b[1;33m.\u001b[0m\u001b[0mcompile\u001b[0m\u001b[1;33m(\u001b[0m\u001b[0mpattern\u001b[0m\u001b[1;33m,\u001b[0m \u001b[0mflags\u001b[0m\u001b[1;33m)\u001b[0m\u001b[1;33m\u001b[0m\u001b[1;33m\u001b[0m\u001b[0m\n\u001b[0m\u001b[0;32m    305\u001b[0m     \u001b[1;32mif\u001b[0m \u001b[1;32mnot\u001b[0m \u001b[1;33m(\u001b[0m\u001b[0mflags\u001b[0m \u001b[1;33m&\u001b[0m \u001b[0mDEBUG\u001b[0m\u001b[1;33m)\u001b[0m\u001b[1;33m:\u001b[0m\u001b[1;33m\u001b[0m\u001b[1;33m\u001b[0m\u001b[0m\n\u001b[0;32m    306\u001b[0m         \u001b[1;32mif\u001b[0m \u001b[0mlen\u001b[0m\u001b[1;33m(\u001b[0m\u001b[0m_cache\u001b[0m\u001b[1;33m)\u001b[0m \u001b[1;33m>=\u001b[0m \u001b[0m_MAXCACHE\u001b[0m\u001b[1;33m:\u001b[0m\u001b[1;33m\u001b[0m\u001b[1;33m\u001b[0m\u001b[0m\n",
      "\u001b[1;32mD:\\Conda\\lib\\sre_compile.py\u001b[0m in \u001b[0;36mcompile\u001b[1;34m(p, flags)\u001b[0m\n\u001b[0;32m    762\u001b[0m     \u001b[1;32mif\u001b[0m \u001b[0misstring\u001b[0m\u001b[1;33m(\u001b[0m\u001b[0mp\u001b[0m\u001b[1;33m)\u001b[0m\u001b[1;33m:\u001b[0m\u001b[1;33m\u001b[0m\u001b[1;33m\u001b[0m\u001b[0m\n\u001b[0;32m    763\u001b[0m         \u001b[0mpattern\u001b[0m \u001b[1;33m=\u001b[0m \u001b[0mp\u001b[0m\u001b[1;33m\u001b[0m\u001b[1;33m\u001b[0m\u001b[0m\n\u001b[1;32m--> 764\u001b[1;33m         \u001b[0mp\u001b[0m \u001b[1;33m=\u001b[0m \u001b[0msre_parse\u001b[0m\u001b[1;33m.\u001b[0m\u001b[0mparse\u001b[0m\u001b[1;33m(\u001b[0m\u001b[0mp\u001b[0m\u001b[1;33m,\u001b[0m \u001b[0mflags\u001b[0m\u001b[1;33m)\u001b[0m\u001b[1;33m\u001b[0m\u001b[1;33m\u001b[0m\u001b[0m\n\u001b[0m\u001b[0;32m    765\u001b[0m     \u001b[1;32melse\u001b[0m\u001b[1;33m:\u001b[0m\u001b[1;33m\u001b[0m\u001b[1;33m\u001b[0m\u001b[0m\n\u001b[0;32m    766\u001b[0m         \u001b[0mpattern\u001b[0m \u001b[1;33m=\u001b[0m \u001b[1;32mNone\u001b[0m\u001b[1;33m\u001b[0m\u001b[1;33m\u001b[0m\u001b[0m\n",
      "\u001b[1;32mD:\\Conda\\lib\\sre_parse.py\u001b[0m in \u001b[0;36mparse\u001b[1;34m(str, flags, state)\u001b[0m\n\u001b[0;32m    946\u001b[0m \u001b[1;33m\u001b[0m\u001b[0m\n\u001b[0;32m    947\u001b[0m     \u001b[1;32mtry\u001b[0m\u001b[1;33m:\u001b[0m\u001b[1;33m\u001b[0m\u001b[1;33m\u001b[0m\u001b[0m\n\u001b[1;32m--> 948\u001b[1;33m         \u001b[0mp\u001b[0m \u001b[1;33m=\u001b[0m \u001b[0m_parse_sub\u001b[0m\u001b[1;33m(\u001b[0m\u001b[0msource\u001b[0m\u001b[1;33m,\u001b[0m \u001b[0mstate\u001b[0m\u001b[1;33m,\u001b[0m \u001b[0mflags\u001b[0m \u001b[1;33m&\u001b[0m \u001b[0mSRE_FLAG_VERBOSE\u001b[0m\u001b[1;33m,\u001b[0m \u001b[1;36m0\u001b[0m\u001b[1;33m)\u001b[0m\u001b[1;33m\u001b[0m\u001b[1;33m\u001b[0m\u001b[0m\n\u001b[0m\u001b[0;32m    949\u001b[0m     \u001b[1;32mexcept\u001b[0m \u001b[0mVerbose\u001b[0m\u001b[1;33m:\u001b[0m\u001b[1;33m\u001b[0m\u001b[1;33m\u001b[0m\u001b[0m\n\u001b[0;32m    950\u001b[0m         \u001b[1;31m# the VERBOSE flag was switched on inside the pattern.  to be\u001b[0m\u001b[1;33m\u001b[0m\u001b[1;33m\u001b[0m\u001b[1;33m\u001b[0m\u001b[0m\n",
      "\u001b[1;31mTypeError\u001b[0m: unsupported operand type(s) for &: 'str' and 'int'"
     ]
    }
   ],
   "source": [
    "#sana\n",
    "import re\n",
    "sana = input('sana : ')\n",
    "var_31 = r'(0?[13578]$|1[02]$)(\\.|:|-|/)(0?[1-9]$|[12][0-9]$|3[01]$)(\\.|:|-|/)([[1-9999])'\n",
    "var_30 = r'(0?[469]$|11$)(\\.|:|-|/)(0?[1-9]$|[12][0-9]$|30$)(\\.|:|-|/)([1-9999])'\n",
    "var_fevral = r'(0?2$)(\\.|:|-|/)(0?[1-9]$|1[0-9]$|2[0-8]$)(\\.|:|-|/)([1-9999])'\n",
    "var_kabisa = r'(0?2$)(\\.|:|-|/)(0?[1-9]$|1[0-9]$|2[0-9]$)(\\.|:|-|/)([48]$|[13579][26]$|[2468][048]$|[13579][26]00$|[2468][048]00$)'\n",
    "date = '|'.join('(?:%s)' %str(x) for x in (var_30,var_31,var_fevral,var_kabisa))\n",
    "if re.compile(date,sana):\n",
    "    print('Sana qabul qilindi')\n",
    "else:\n",
    "    print('Sana qabul qilinmadi!')"
   ]
  },
  {
   "cell_type": "code",
   "execution_count": null,
   "metadata": {},
   "outputs": [],
   "source": [
    "(? = foo) - Lookahead\n",
    "Asserts that what immediately follows the current position in the string is foo"
   ]
  },
  {
   "cell_type": "code",
   "execution_count": 4,
   "metadata": {},
   "outputs": [
    {
     "name": "stdout",
     "output_type": "stream",
     "text": [
      "S = qwre12 sda78 456\n",
      "['12', '78', '456']\n"
     ]
    }
   ],
   "source": [
    "import re\n",
    "inp = input('S = ')\n",
    "print(re.findall(r\"[0-9]+\",inp))"
   ]
  },
  {
   "cell_type": "code",
   "execution_count": 7,
   "metadata": {},
   "outputs": [
    {
     "name": "stdout",
     "output_type": "stream",
     "text": [
      "S = sdfgah77ewro7 7sdfh\n",
      "['sdfgah', 'ewro', ' ', 'sdfh']\n"
     ]
    }
   ],
   "source": [
    "inp = input('S = ')\n",
    "print(re.split(r\"7+\",inp))"
   ]
  },
  {
   "cell_type": "code",
   "execution_count": 12,
   "metadata": {},
   "outputs": [
    {
     "name": "stdout",
     "output_type": "stream",
     "text": [
      "S = 132564e sdgha 7887 ksdh\n",
      "Uzg = o'zgartirdim\n",
      "o'zgartirdim o'zgartirdim o'zgartirdim o'zgartirdim\n"
     ]
    }
   ],
   "source": [
    "inp = input('S = ')\n",
    "uzg=input('Uzg = ')\n",
    "print(re.sub(\"\\w+\",uzg,inp))"
   ]
  },
  {
   "cell_type": "code",
   "execution_count": 1,
   "metadata": {},
   "outputs": [
    {
     "name": "stdout",
     "output_type": "stream",
     "text": [
      "re.compile('https?://www.[a-zA-z0-9_+.-]*.?[a-zA-Z]+/?')\n",
      "A = https://www.dfaa.com\n",
      "True\n"
     ]
    }
   ],
   "source": [
    "import re\n",
    "x=re.compile(r\"https?://www.[a-zA-z0-9_+.-]*.?[a-zA-Z]+/?\")\n",
    "print(x)\n",
    "if x.match(input('A = ')):\n",
    "    print(True)\n",
    "else:\n",
    "    print(False)"
   ]
  },
  {
   "cell_type": "markdown",
   "metadata": {},
   "source": [
    "Lookahead"
   ]
  },
  {
   "cell_type": "markdown",
   "metadata": {},
   "source": [
    "Positive lookahead"
   ]
  },
  {
   "cell_type": "code",
   "execution_count": 13,
   "metadata": {
    "run_control": {
     "marked": false
    }
   },
   "outputs": [
    {
     "name": "stdout",
     "output_type": "stream",
     "text": [
      "[]\n"
     ]
    }
   ],
   "source": [
    "import re\n",
    "x = re.findall('geeks(?=[\\s])','geeksadf')\n",
    "print(x)"
   ]
  },
  {
   "cell_type": "code",
   "execution_count": 15,
   "metadata": {},
   "outputs": [
    {
     "name": "stdout",
     "output_type": "stream",
     "text": [
      "startoo\n",
      "<re.Match object; span=(0, 5), match='start'>\n"
     ]
    }
   ],
   "source": [
    "s = input()\n",
    "x = re.match('start(?=o)',s)\n",
    "print(x)"
   ]
  },
  {
   "cell_type": "markdown",
   "metadata": {},
   "source": [
    "Negative lookahead"
   ]
  },
  {
   "cell_type": "code",
   "execution_count": 17,
   "metadata": {},
   "outputs": [
    {
     "name": "stdout",
     "output_type": "stream",
     "text": [
      "begin ?\n",
      "<re.Match object; span=(0, 5), match='begin'>\n"
     ]
    }
   ],
   "source": [
    "s = input()\n",
    "print(re.search(r'begin(?![a-z])',s))"
   ]
  },
  {
   "cell_type": "code",
   "execution_count": 54,
   "metadata": {},
   "outputs": [
    {
     "name": "stdout",
     "output_type": "stream",
     "text": [
      "<p><a href=\"http://www.quackit.com/html/tutorial/html_links.cfm\">Example Link</a></p> <div class=\"more-info\"><a href=\"http://www.quackit.com/html/examples/html_links_examples.cfm\">More Link Examples...</a></div>\n"
     ]
    },
    {
     "ename": "TypeError",
     "evalue": "'re.Match' object is not iterable",
     "output_type": "error",
     "traceback": [
      "\u001b[1;31m---------------------------------------------------------------------------\u001b[0m",
      "\u001b[1;31mTypeError\u001b[0m                                 Traceback (most recent call last)",
      "\u001b[1;32m<ipython-input-54-8eac992ef0ed>\u001b[0m in \u001b[0;36m<module>\u001b[1;34m\u001b[0m\n\u001b[0;32m      3\u001b[0m \u001b[0mpattern_url\u001b[0m \u001b[1;33m=\u001b[0m \u001b[1;34mr'<a href=\"[a-zA-Z0-9_/\\.:]+\"'\u001b[0m\u001b[1;33m\u001b[0m\u001b[1;33m\u001b[0m\u001b[0m\n\u001b[0;32m      4\u001b[0m \u001b[0mpattern_link\u001b[0m \u001b[1;33m=\u001b[0m \u001b[1;34mr'>[a-zA-Z\\s\\.]+</a>'\u001b[0m\u001b[1;33m\u001b[0m\u001b[1;33m\u001b[0m\u001b[0m\n\u001b[1;32m----> 5\u001b[1;33m \u001b[0murls\u001b[0m \u001b[1;33m=\u001b[0m \u001b[1;33m[\u001b[0m\u001b[1;34m' '\u001b[0m \u001b[1;33m+\u001b[0m \u001b[0mi\u001b[0m\u001b[1;33m[\u001b[0m\u001b[1;36m9\u001b[0m\u001b[1;33m:\u001b[0m\u001b[0mlen\u001b[0m\u001b[1;33m(\u001b[0m\u001b[0mi\u001b[0m\u001b[1;33m)\u001b[0m \u001b[1;33m-\u001b[0m \u001b[1;36m1\u001b[0m\u001b[1;33m]\u001b[0m \u001b[1;33m+\u001b[0m \u001b[1;34m' '\u001b[0m \u001b[1;32mfor\u001b[0m \u001b[0mi\u001b[0m \u001b[1;32min\u001b[0m \u001b[0mre\u001b[0m\u001b[1;33m.\u001b[0m\u001b[0msearch\u001b[0m\u001b[1;33m(\u001b[0m\u001b[0mpattern_url\u001b[0m\u001b[1;33m,\u001b[0m\u001b[0ms\u001b[0m\u001b[1;33m)\u001b[0m\u001b[1;33m]\u001b[0m\u001b[1;33m\u001b[0m\u001b[1;33m\u001b[0m\u001b[0m\n\u001b[0m\u001b[0;32m      6\u001b[0m \u001b[0mlinks\u001b[0m \u001b[1;33m=\u001b[0m\u001b[1;33m[\u001b[0m\u001b[0mi\u001b[0m\u001b[1;33m[\u001b[0m\u001b[1;36m1\u001b[0m\u001b[1;33m:\u001b[0m\u001b[0mlen\u001b[0m\u001b[1;33m(\u001b[0m\u001b[0mi\u001b[0m\u001b[1;33m)\u001b[0m \u001b[1;33m-\u001b[0m \u001b[1;36m4\u001b[0m\u001b[1;33m]\u001b[0m \u001b[1;32mfor\u001b[0m \u001b[0mi\u001b[0m \u001b[1;32min\u001b[0m \u001b[0mre\u001b[0m\u001b[1;33m.\u001b[0m\u001b[0mfindall\u001b[0m\u001b[1;33m(\u001b[0m\u001b[0mpattern_link\u001b[0m\u001b[1;33m,\u001b[0m\u001b[0ms\u001b[0m\u001b[1;33m)\u001b[0m\u001b[1;33m]\u001b[0m\u001b[1;33m\u001b[0m\u001b[1;33m\u001b[0m\u001b[0m\n\u001b[0;32m      7\u001b[0m \u001b[1;32mfor\u001b[0m \u001b[0mi\u001b[0m \u001b[1;32min\u001b[0m \u001b[0mrange\u001b[0m\u001b[1;33m(\u001b[0m\u001b[0mlen\u001b[0m\u001b[1;33m(\u001b[0m\u001b[0murls\u001b[0m\u001b[1;33m)\u001b[0m\u001b[1;33m)\u001b[0m\u001b[1;33m:\u001b[0m\u001b[1;33m\u001b[0m\u001b[1;33m\u001b[0m\u001b[0m\n",
      "\u001b[1;31mTypeError\u001b[0m: 're.Match' object is not iterable"
     ]
    }
   ],
   "source": [
    "# Enter your code here. Read input from STDIN. Print output to STDOUT+\n",
    "s = input()\n",
    "pattern_url = r'<a href=\"[a-zA-Z0-9_/\\.:]+\"'\n",
    "pattern_link = r'>[a-zA-Z\\s\\.]+</a>'\n",
    "urls = [' ' + i[9:len(i) - 1] + ' ' for i in re.findall(pattern_url,s)]\n",
    "links =[i[1:len(i) - 4] for i in re.findall(pattern_link,s)]\n",
    "for i in range(len(urls)):\n",
    "    print(f'{urls[i]},{links[i]}')"
   ]
  },
  {
   "cell_type": "code",
   "execution_count": 55,
   "metadata": {},
   "outputs": [
    {
     "name": "stdout",
     "output_type": "stream",
     "text": [
      "<p><a href=\"http://www.quackit.com/html/tutorial/html_links.cfm\">Example Link</a></p> <div class=\"more-info\"><a href=\"http://www.quackit.com/html/examples/html_links_examples.cfm\">More Link Examples...</a></div>\n",
      "<re.Match object; span=(64, 81), match='>Example Link</a>'>\n"
     ]
    }
   ],
   "source": [
    "print(re.search(pattern_link,input()))"
   ]
  },
  {
   "cell_type": "code",
   "execution_count": 34,
   "metadata": {},
   "outputs": [
    {
     "name": "stdout",
     "output_type": "stream",
     "text": [
      "a = 1 0.47 -0.11 0.55\n",
      "b = 1.33\n",
      "c = 1 2 3\n",
      "d = 13\n",
      "-5.705700000000001\n",
      "a = 0.42 1 0.35 0.17\n",
      "b = 1.29\n",
      "c = 2 3 5\n",
      "d = 4\n",
      "4.386\n",
      "a = -0.25 0.67 1 0.36\n",
      "b = 2.11\n",
      "c = 3 5 9\n",
      "d = 17\n",
      "-80.7075\n"
     ]
    }
   ],
   "source": [
    "for i in range(3):\n",
    "    a = list(map(float,input('a = ').split()))\n",
    "    b = float(input('b = '))\n",
    "    c = list(map(int,input('c = ').split()))\n",
    "    d = int(input('d = '))\n",
    "    print(min(a) * b * max(c) * d)"
   ]
  },
  {
   "cell_type": "code",
   "execution_count": 56,
   "metadata": {},
   "outputs": [
    {
     "name": "stdout",
     "output_type": "stream",
     "text": [
      "sgfhgtj\n"
     ]
    },
    {
     "ename": "ValueError",
     "evalue": "invalid literal for int() with base 10: 'sgfhgtj'",
     "output_type": "error",
     "traceback": [
      "\u001b[1;31m---------------------------------------------------------------------------\u001b[0m",
      "\u001b[1;31mValueError\u001b[0m                                Traceback (most recent call last)",
      "\u001b[1;32m<ipython-input-56-594464446896>\u001b[0m in \u001b[0;36m<module>\u001b[1;34m\u001b[0m\n\u001b[0;32m      1\u001b[0m \u001b[1;31m# Enter your code here. Read input from STDIN. Print output to STDOUT+\u001b[0m\u001b[1;33m\u001b[0m\u001b[1;33m\u001b[0m\u001b[1;33m\u001b[0m\u001b[0m\n\u001b[0;32m      2\u001b[0m \u001b[1;32mimport\u001b[0m \u001b[0mre\u001b[0m\u001b[1;33m\u001b[0m\u001b[1;33m\u001b[0m\u001b[0m\n\u001b[1;32m----> 3\u001b[1;33m \u001b[0mn\u001b[0m \u001b[1;33m=\u001b[0m \u001b[0mint\u001b[0m\u001b[1;33m(\u001b[0m\u001b[0minput\u001b[0m\u001b[1;33m(\u001b[0m\u001b[1;33m)\u001b[0m\u001b[1;33m)\u001b[0m\u001b[1;33m\u001b[0m\u001b[1;33m\u001b[0m\u001b[0m\n\u001b[0m\u001b[0;32m      4\u001b[0m \u001b[0mpattern_url\u001b[0m \u001b[1;33m=\u001b[0m \u001b[1;34mr'<a href=\"[a-zA-Z\\d_/\\.:;\\&\\?=]+\"'\u001b[0m\u001b[1;33m\u001b[0m\u001b[1;33m\u001b[0m\u001b[0m\n\u001b[0;32m      5\u001b[0m \u001b[0mpattern_link\u001b[0m \u001b[1;33m=\u001b[0m \u001b[1;34mr'>[a-zA-Z\\s\\.]+</a>'\u001b[0m\u001b[1;33m\u001b[0m\u001b[1;33m\u001b[0m\u001b[0m\n",
      "\u001b[1;31mValueError\u001b[0m: invalid literal for int() with base 10: 'sgfhgtj'"
     ]
    }
   ],
   "source": [
    "# Enter your code here. Read input from STDIN. Print output to STDOUT+\n",
    "import re\n",
    "n = int(input())\n",
    "pattern_url = r'<a href=\"[a-zA-Z\\d_/\\.:;\\&\\?=]+\"'\n",
    "pattern_link = r'>[a-zA-Z\\s\\.]+</a>'\n",
    "for i in range(n):\n",
    "    s = input()\n",
    "    if not re.search(pattern_url,s):\n",
    "        continue\n",
    "    u = re.findall(pattern_url,s)\n",
    "    l = re.findall(pattern_link,s)\n",
    "    url = u[0][9:len(u[0])-1]\n",
    "    link = l[0][1:len(l[0])-4]\n",
    "    print(f'{url},{link}')"
   ]
  },
  {
   "cell_type": "code",
   "execution_count": null,
   "metadata": {},
   "outputs": [
    {
     "name": "stdout",
     "output_type": "stream",
     "text": [
      "9\n",
      "<li style=\"-moz-float-edge: content-box\">... that <a href=\"/wiki/Orval_Overall\" title=\"Orval Overall\">Orval Overall</a> <i>(pictured)</i> is the only <b><a href=\"/wiki/List_of_Major_League_Baseball_pitchers_who_have_struck_out_four_batters_in_one_inning\" title=\"List of Major League Baseball pitchers who have struck out four batters in one inning\">Major League Baseball player to strike out four batters in one inning</a></b> in the <a href=\"/wiki/World_Series\" title=\"World Series\">World Series</a>?</li>\n",
      "['<a href=\"/wiki/Orval_Overall', '<a href=\"/wiki/List_of_Major_League_Baseball_pitchers_who_have_struck_out_four_batters_in_one_inning', '<a href=\"/wiki/World_Series']\n",
      "/wiki/Orval_Overall,Orval Overall\n",
      "/wiki/List_of_Major_League_Baseball_pitchers_who_have_struck_out_four_batters_in_one_inning,Major League Baseball player to strike out four batters in one inning\n",
      "/wiki/World_Series,World Series\n",
      "<li style=\"-moz-float-edge: content-box\">... that the three cities of the <b><a href=\"/wiki/West_Triangle_Economic_Zone\" title=\"West Triangle Economic Zone\">West Triangle Economic Zone</a></b> contribute 40% of Western China's GDP?</li>\n",
      "['<a href=\"/wiki/West_Triangle_Economic_Zone']\n",
      "/wiki/West_Triangle_Economic_Zone,West Triangle Economic Zone\n",
      "<li style=\"-moz-float-edge: content-box\">... that the three cities of the <b><a href=\"/wiki/West_Triangle_Economic_Zone\" title=\"West Triangle Economic Zone\">West Triangle Economic Zone</a></b> contribute 40% of Western China's GDP?</li>\n",
      "['<a href=\"/wiki/West_Triangle_Economic_Zone']\n",
      "/wiki/West_Triangle_Economic_Zone,West Triangle Economic Zone\n",
      "<li style=\"-moz-float-edge: content-box\">... that <a href=\"/wiki/Zhu_Chenhao\" title=\"Zhu Chenhao\">Zhu Chenhao</a> was sentenced to <a href=\"/wiki/Slow_slicing\" title=\"Slow slicing\">slow slicing</a> for leading the <b><a href=\"/wiki/Prince_of_Ning_rebellion\" title=\"Prince of Ning rebellion\">Prince of Ning rebellion</a></b> against the <a href=\"/wiki/Ming_Dynasty\" title=\"Ming Dynasty\">Ming Dynasty</a> <a href=\"/wiki/Zhengde_Emperor\" title=\"Zhengde Emperor\">emperor Zhengde</a>?</li>\n",
      "['<a href=\"/wiki/Zhu_Chenhao', '<a href=\"/wiki/Slow_slicing', '<a href=\"/wiki/Prince_of_Ning_rebellion', '<a href=\"/wiki/Ming_Dynasty', '<a href=\"/wiki/Zhengde_Emperor']\n",
      "/wiki/Zhu_Chenhao,Zhu Chenhao\n",
      "/wiki/Slow_slicing,slow slicing\n",
      "/wiki/Prince_of_Ning_rebellion,Prince of Ning rebellion\n",
      "/wiki/Ming_Dynasty,Ming Dynasty\n",
      "/wiki/Zhengde_Emperor,emperor Zhengde\n",
      "<li style=\"-moz-float-edge: content-box\">... that <b><a href=\"/wiki/Mirza_Adeeb\" title=\"Mirza Adeeb\">Mirza Adeeb</a></b> was a prominent modern Pakistani <a href=\"/wiki/Urdu\" title=\"Urdu\">Urdu</a> playwright whose later work focuses on social problems and daily life?</li>\n",
      "['<a href=\"/wiki/Mirza_Adeeb', '<a href=\"/wiki/Urdu']\n",
      "/wiki/Mirza_Adeeb,Mirza Adeeb\n",
      "/wiki/Urdu,Urdu\n",
      "<li style=\"-moz-float-edge: content-box\">... that in <i><b><a href=\"/wiki/La%C3%9Ft_uns_sorgen,_la%C3%9Ft_uns_wachen,_BWV_213\" title=\"Lat uns sorgen, lat uns wachen, BWV 213\">Die Wahl des Herkules</a></b></i>, Hercules must choose between the good cop and the bad cop?<br style=\"clear:both;\" />\n",
      "['<a href=\"/wiki/La%C3%9Ft_uns_sorgen,_la%C3%9Ft_uns_wachen,_BWV_213']\n",
      "/wiki/La%C3%9Ft_uns_sorgen,_la%C3%9Ft_uns_wachen,_BWV_213,Die Wahl des Herkules\n",
      "<div style=\"text-align: right;\" class=\"noprint\"><b><a href=\"/wiki/Wikipedia:Recent_additions\" title=\"Wikipedia:Recent additions\">Archive</a></b>  <b><a href=\"/wiki/Wikipedia:Your_first_article\" title=\"Wikipedia:Your first article\">Start a new article</a></b>  \n",
      "['<a href=\"/wiki/Wikipedia:Recent_additions', '<a href=\"/wiki/Wikipedia:Your_first_article']\n",
      "/wiki/Wikipedia:Recent_additions,Archive\n",
      "/wiki/Wikipedia:Your_first_article,Start a new article\n"
     ]
    }
   ],
   "source": [
    "# Enter your code here. Read input from STDIN. Print output to STDOUT+\n",
    "import re\n",
    "n = int(input())\n",
    "result = []\n",
    "pattern_url = r'<a href=\"[a-zA-Z\\d\\~`!@#\\$%\\^\\*&\\\\(\\\\)-=\\+:;><,\\.\\?/\\/_]+'\n",
    "pattern_link = r'>[a-zA-Z\\s\\.]+</a>'\n",
    "for i in range(n):\n",
    "    s = input()\n",
    "    if not re.search(pattern_url,s):\n",
    "        continue\n",
    "    u = re.findall(pattern_url,s)\n",
    "    l = re.findall(pattern_link,s)\n",
    "    print(u)\n",
    "    for i in range(len(u)):\n",
    "        url = u[i][9:len(u[i])]\n",
    "        link = l[i][1:len(l[i])-4]\n",
    "        result.append(url)\n",
    "        result.append(link)\n",
    "for i in range(0,len(result),2):\n",
    "    print(f'{result[i]},{result[i+1]}')"
   ]
  },
  {
   "cell_type": "code",
   "execution_count": 59,
   "metadata": {
    "scrolled": false
   },
   "outputs": [
    {
     "name": "stdout",
     "output_type": "stream",
     "text": [
      "1\n",
      "<div id=\"mp-other\" style=\"padding-top:4px; padding-bottom:2px;\"> <h2><span class=\"mw-headline\" id=\"Other_areas_of_Wikipedia\">Other areas of Wikipedia</span></h2> <ul> <li><b><a href=\"/wiki/Wikipedia:Community_portal\" title=\"Wikipedia:Community portal\">Community portal</a></b>  Bulletin board, projects, resources and activities covering a wide range of Wikipedia areas.</li> <li><b><a href=\"/wiki/Wikipedia:Help_desk\" title=\"Wikipedia:Help desk\">Help desk</a></b>  Ask questions about using Wikipedia.</li> <li><b><a href=\"/wiki/Wikipedia:Local_Embassy\" title=\"Wikipedia:Local Embassy\">Local embassy</a></b>  For Wikipedia-related communication in languages other than English.</li> <li><b><a href=\"/wiki/Wikipedia:Reference_desk\" title=\"Wikipedia:Reference desk\">Reference desk</a></b>  Serving as virtual librarians, Wikipedia volunteers tackle your questions on a wide range of subjects.</li> <li><b><a href=\"/wiki/Wikipedia:News\" title=\"Wikipedia:News\">Site news</a></b>  Announcements, updates, articles and press releases on Wikipedia and the Wikimedia Foundation.</li> <li><b><a href=\"/wiki/Wikipedia:Village_pump\" title=\"Wikipedia:Village pump\">Village pump</a></b>  For discussions about Wikipedia itself, including areas for technical issues and policies.</li> </ul> </div>\n",
      "a;b;div;h2;li;span;ul"
     ]
    }
   ],
   "source": [
    "# Enter your code here. Read input from STDIN. Print output to STDOUT\n",
    "import re\n",
    "n = int(input())\n",
    "massiv = []\n",
    "result = ''\n",
    "pattern1 = r'(/[a-z]+>)'\n",
    "pattern2 = r'<[a-z]+\\s{1}'\n",
    "pattern3 = r'<[a-z0-9]+>'\n",
    "for i in range(n):\n",
    "    s = input()\n",
    "    k = re.findall(pattern1,s)\n",
    "    r = re.findall(pattern2,s)\n",
    "    m = re.findall(pattern3,s)\n",
    "    k = list(set(k))\n",
    "    r = list(set(r))\n",
    "    m = list(set(m))\n",
    "    j = [k[i][1:len(k[i])-1] for i in range(len(k))] + [r[i][1:len(r[i])-1] for i in range(len(r))] + [m[i][1:len(m[i])-1] for i in range(len(m))]\n",
    "    j = list(set(j))\n",
    "    j.sort()\n",
    "    massiv += j\n",
    "massiv = list(set(massiv))\n",
    "massiv.sort()\n",
    "for i in range(len(massiv)):\n",
    "    print(massiv[i],end = '')\n",
    "    if i == len(massiv)-1:\n",
    "        break\n",
    "    print(';',end = '')"
   ]
  },
  {
   "cell_type": "code",
   "execution_count": 68,
   "metadata": {},
   "outputs": [
    {
     "name": "stdout",
     "output_type": "stream",
     "text": [
      "1\n",
      "satisfied)profit profit'container fashion.profit'egg profit-ms profit_unimportant leaf(profit profit.fall bear_profit offend_profit audience(profit'manager interested(lack interested.normal slowly-interested interested'schedule untidy,interested sign(interested interested_tube boil(interestedthey interestedconfined pretty.interested,stressed journalist)profit(cat crop(profit class)profit altogether(profit pound,profit-assure strange'profit kindly'profit-over profit)potentially credit,profit-homework profit.devote goldclimbing extent_gold manage(gold.relaxing scream'gold insect_gold look'gold-town conventional-gold noticeablegoldpromptly intention.gold gold.make organizationinterested'important interested-climb bankinterested picture.interested irritate'interested,variation encouragementinterested interested-beautiful noise-interested)luggage interested.variation cellphone-interested media(profit staff-profit search-profit foreignprofit my'profit_find profit'ct disappointment'profit.climb blackprofit profit-have tin.profit promptly(adult_pronunciation through)adult adult)repair hand)adult section(adult(difficult interval_adult.retired adult_task adult)further adult'sexual faith_adult after)profit trick,profit profit)electronic profit'grab lake'profit_price avoid'profit'chop whistle,profit.confined profitoccasion combination,profit'direction curb_profit)straight profit)spare profit.aspect floodprofit-care profitlocate profit-fundamental dog,profitgroup profitadequate petrol)profit-object profitreasonable profit'female capture.gold actively.gold.separation gold.cold gold)particular gold)faithful frame,gold glue.gold gold.model sail-gold.nature lane(gold)sink spirit.adult adult(basis adult-rush adult,get adult)make waist,adult.quiet throat(adult reality(adult adult)rob adult'closet way-profit.go seriously)profit.desert bitter.profit atomprofit,interior cheque,profit(hatred publication,profit improve,profit variation_profit_good rubber(profitblue profit)quality resource-profit profitwing profit'absence fever_profit profit-chief profit.goal entertainment'profit)neighbourhood gentleman,profit assume,profit_understanding hello-profit adult_fever stupid-adult,expense adultcentury create,adult visionadult perfectlyadult instead,adult south_adult.ice map,adult adult-blood coldlyinterested.nevertheless countyinterested)educated unlikely.interested_landscape interested-themselves interested_homework pension.interested annoyinterested(again mid_interested interested_weapon hammer_interested(swollen themselves,profit weakness'profit insert_profit)record regulation_profit profit-beneath sharp)profit_wrapping obvious-profit.project remind'profit.tendency giveprofit_lie profit'confidently avoid'profit.resort contract)profit float.profit complexprofit profit,save profit.staff profit_expensive mark'profit(brain profit,mg indirect.profit-apartment profit-virtually rough,profit,excuse profit)pool profit-thickness hero_profit profit'lose profit(tea profit(re earth,profit)breathing restriction)profit determined'profit,collapse poetry)profit profit.case profit,cap profit.burn profit-stock flour)profit_construction profit,alone profitinfection flight'profit recover'interested,persuade suck)interested interested'film engaged(interested'traditionally pollution(interested'task interested)give working_interested interested-relaxing ininterested certainly.interested.paper till,profit)wander aged,profit profit-patient profit-cost profit,head research(profit method_profit)mid annual_profit briefly(profit,spoon along)profit offence,adult adult.article granddaughter.adult dentist)adult-mr thank-adult commercial(adult draft.adult'document licence-adult which.adult.well unload'adult.tire gold'statue make.gold whilstgoldrefrigerator themselves_gold goldexamination furniture.gold cat'goldamazed wound)gold_department gold'tuesday potato(gold_wrap serious_adult-wrap real-adult'warm exactly)adult adultengine chair-adult button-adult,take adult'afternoon adult.regulation impose-adult adultconsiderable uncontrolled'adult,help division,adultthorough corner,adult_equipment amuse_adult except-adult_cloth language.adult attorney.adult boot_adult)permanent rely,adult southernadult profit(achievement kilometre.profit each)profit profit'obtain class_profit-few south(profit,yours profitrace profit_contract profit(willingness profit(capture nutprofit.deliberately profitwhich magic.profit sweater)profit profit)translation profit_wash profit)barrier profit-decorative c(profit proportion-profitpresence increaseadult addition_adult)come separated(adult providedadult prepare_adult)shame lonely-adult complete.adult.after adult)forgive hire'adultmuch religion'adult'arms suited)adult salary'adult adultsafety western-adult_technique zeroadult(humorous adult.drugstore adult_theme adult_stranger adulttoy technology,adult amusing(adult fire.adult_suffer hard)adult upon)adult noadult'until spelling)adult-glasses adult-brave throw'adult yours.adult all-adult(wooden interestedconference interested'necessarily interested'visitor publicity,interested roof)interestedlunch etc_interestedapply curl'interestedtiny considerable_interested containinterested interested_earth depressing-adult rid-adult,agent pretend_adult_fancy adult-remain orange_adult take-adult onlyadult(be adult.sewing adult(decrease pick'adult)physical interestedrid park,interested public-interested'woman fork,interested)thing would(interested)pan expected-interested interested.illegally interestedplastic enjoyment(interested interested_trace ruin-interested'basic interestedbacteria interested(sheet interested)contrasting interested)presentation interested_prior nuclear,interested bite.interested-never interested-reception mysterious-interested interested)insist our_interested pace(interested,fish interested.in interestedretirement interior'interested theme-interested interested(appointment interested-none pollution)interested adult,possible adult.gentle adult(reduce willingness,adult hideadult adult.luggage fame.adult beach.adult adult_plate fly,adult profita adequateprofit achieve)profit_style profit_expression central,profit sweep.profit indirectly(profit sound_profit.academic profitcontinue fold)profit_woman interested_skilled interested'engineering interested_objective signalinterested'unhappiness fee)interested wholeinterested)effort interested)depress novel)interested solution)interested'enjoyable awkwardly(interested adult.congratulations sing_adult adult)voice political.adult adult-knee adult(miss enough)adult adult,satisfying adult)cheque ordinary-adult)expensive historical)adult_representative student(adult green_adult confirm_adult.deaf adult_proportion shiny_adult)counter unemployed,adult.foot friendly-adult adult)pig oppositeadult\n",
      "4\n",
      "gold\n",
      "['egoldp', 'tgoldr']\n",
      "profit\n",
      "['_profit_', 'eprofit_']\n",
      "adult\n",
      "['_adult_']\n",
      "interested\n",
      "['_interesteda']\n",
      "2\n",
      "2\n",
      "1\n",
      "1\n"
     ]
    }
   ],
   "source": [
    "# Enter your code here. Read input from STDIN. Print output to STDOUT\n",
    "import re\n",
    "n = int(input())\n",
    "s = input()\n",
    "q = int(input())\n",
    "massiv = []\n",
    "for i in range(q):\n",
    "    test = input()\n",
    "    pattern ='[a-z0-9_]' + test + '[a-z0-9_]'\n",
    "    print(re.findall(pattern,s))\n",
    "    massiv.append(len(re.findall(pattern,s)))\n",
    "for i in massiv:\n",
    "    print(i)"
   ]
  },
  {
   "cell_type": "code",
   "execution_count": 73,
   "metadata": {},
   "outputs": [
    {
     "name": "stdout",
     "output_type": "stream",
     "text": [
      "123.10.2.0\n",
      "<re.Match object; span=(0, 10), match='123.10.2.0'>\n"
     ]
    }
   ],
   "source": [
    "pat = r'[0-2]?[0-9]?[0-4]\\.[0-2]?[0-9]?[0-4]\\.[0-2]?[0-9]?[0-4]\\.[0-2]?[0-9]?[0-4]'\n",
    "n = input()\n",
    "print(re.match(pat,n))"
   ]
  },
  {
   "cell_type": "code",
   "execution_count": 74,
   "metadata": {},
   "outputs": [
    {
     "name": "stdout",
     "output_type": "stream",
     "text": [
      "1\n",
      "22.231.113.164\n",
      "IPv4\n"
     ]
    }
   ],
   "source": [
    "# Enter your code here. Read input from STDIN. Print output to STDOUT\n",
    "import re\n",
    "n = int(input())\n",
    "IPv4 = r'[0-2]?[0-9]?[0-4]\\.[0-2]?[0-9]?[0-4]\\.[0-2]?[0-9]?[0-4]\\.[0-2]?[0-9]?[0-4]$'\n",
    "IPv6 = r'[0-9a-z]{1,4}:[0-9a-z]{1,4}:[0-9a-z]{1,4}:[0-9a-z]{1,4}:[0-9a-z]{1,4}:[0-9a-z]{1,4}:[0-9a-z]{1,4}:[0-9a-z]{1,4}$'\n",
    "for i in range(n):\n",
    "    s = input()\n",
    "    if re.match(IPv4,s):\n",
    "        print('IPv4')\n",
    "    elif re.match(IPv6,s):\n",
    "        print('IPv6')\n",
    "    else:\n",
    "        print('Neither')"
   ]
  },
  {
   "cell_type": "markdown",
   "metadata": {},
   "source": [
    "RegEx 53 talik"
   ]
  },
  {
   "cell_type": "code",
   "execution_count": 2,
   "metadata": {},
   "outputs": [
    {
     "name": "stdout",
     "output_type": "stream",
     "text": [
      "string = asdfDAfd4Adsas\n",
      "True\n"
     ]
    }
   ],
   "source": [
    "#1\n",
    "import re\n",
    "pattern = r'[a-zA-z0-9]+$'\n",
    "string = input(\"string = \")\n",
    "if re.match(pattern,string):\n",
    "    print(True)\n",
    "else:\n",
    "    print(False)"
   ]
  },
  {
   "cell_type": "code",
   "execution_count": null,
   "metadata": {},
   "outputs": [],
   "source": [
    "#2\n",
    "import re\n",
    "pattern = r'ab*$'\n",
    "string = input(\"string = \")\n",
    "if re.match(pattern,string):\n",
    "    print(True)\n",
    "else:\n",
    "    print(False)"
   ]
  },
  {
   "cell_type": "code",
   "execution_count": null,
   "metadata": {},
   "outputs": [],
   "source": [
    "#3\n",
    "import re\n",
    "pattern = r'ab+$'\n",
    "string = input(\"string = \")\n",
    "if re.match(pattern,string):\n",
    "    print(True)\n",
    "else:\n",
    "    print(False)"
   ]
  },
  {
   "cell_type": "code",
   "execution_count": null,
   "metadata": {},
   "outputs": [],
   "source": [
    "#4\n",
    "import re\n",
    "pattern = r'ab?$'\n",
    "string = input(\"string = \")\n",
    "if re.match(pattern,string):\n",
    "    print(True)\n",
    "else:\n",
    "    print(False)\n",
    "#5\n",
    "pattern = r'ab{3}$'\n",
    "#6\n",
    "pattern = r'ab{2,3}'\n",
    "#7\n",
    "pattern = r'[a-z_]+'\n",
    "#8\n",
    "pattern = r'[A-Z][a-z]+$'\n",
    "#9\n",
    "pattern = r'^a.+b$'\n",
    "#10\n",
    "pattern = r'a.+'"
   ]
  },
  {
   "cell_type": "code",
   "execution_count": null,
   "metadata": {},
   "outputs": [],
   "source": [
    "#11\n",
    "pattern = r''"
   ]
  },
  {
   "cell_type": "code",
   "execution_count": 3,
   "metadata": {},
   "outputs": [
    {
     "name": "stdout",
     "output_type": "stream",
     "text": [
      "text = djfzlkj\n",
      "<re.Match object; span=(3, 4), match='z'>\n"
     ]
    }
   ],
   "source": [
    "#12\n",
    "pattern = r'z'\n",
    "x = re.compile(pattern)\n",
    "text = input('text = ')\n",
    "print(x.search(text))"
   ]
  },
  {
   "cell_type": "code",
   "execution_count": 6,
   "metadata": {},
   "outputs": [
    {
     "name": "stdout",
     "output_type": "stream",
     "text": [
      "text = sdgfhajzdskfghj\n",
      "<re.Match object; span=(0, 15), match='sdgfhajzdskfghj'>\n"
     ]
    }
   ],
   "source": [
    "#13\n",
    "pattern = r'[^z].+z.+[^z]'\n",
    "x = re.compile(pattern)\n",
    "text = input('text = ')\n",
    "print(x.fullmatch(text))"
   ]
  },
  {
   "cell_type": "code",
   "execution_count": 7,
   "metadata": {},
   "outputs": [],
   "source": [
    "#15\n",
    "pattern = r'^[0-9].+'"
   ]
  },
  {
   "cell_type": "code",
   "execution_count": null,
   "metadata": {},
   "outputs": [],
   "source": [
    "#49\n",
    "n = int"
   ]
  },
  {
   "cell_type": "code",
   "execution_count": 31,
   "metadata": {},
   "outputs": [
    {
     "name": "stdout",
     "output_type": "stream",
     "text": [
      "1\n",
      "dsgfjk(.dlkhf)\n",
      "dsgfjk\n"
     ]
    }
   ],
   "source": [
    "#50\n",
    "n = int(input())\n",
    "data = [input() for i in range(n)]\n",
    "pattern = r'\\('\n",
    "x = re.compile(pattern)\n",
    "for i in data:\n",
    "    if x.search(i):\n",
    "        print(i[:x.search(i).span()[0]])\n",
    "    else:\n",
    "        print(i)"
   ]
  },
  {
   "cell_type": "code",
   "execution_count": 32,
   "metadata": {},
   "outputs": [
    {
     "name": "stdout",
     "output_type": "stream",
     "text": [
      "https://daryo.uz/2021/05/26/iio-xodimlari-ayblanuvchilarning-pul-va-moddiy-boyliklarini-olib-qoygani-haqidagi-xabarlar-asossiz-murodboy-ishi-boyicha-qoshimcha-ma/\n"
     ]
    },
    {
     "ename": "error",
     "evalue": "unbalanced parenthesis at position 13",
     "output_type": "error",
     "traceback": [
      "\u001b[1;31m---------------------------------------------------------------------------\u001b[0m",
      "\u001b[1;31merror\u001b[0m                                     Traceback (most recent call last)",
      "\u001b[1;32m<ipython-input-32-3d30350d48db>\u001b[0m in \u001b[0;36m<module>\u001b[1;34m\u001b[0m\n\u001b[0;32m      3\u001b[0m \u001b[0mpattern_url\u001b[0m \u001b[1;33m=\u001b[0m \u001b[1;34mr'https?://\\w{3)\\./w\\.\\w'\u001b[0m\u001b[1;33m\u001b[0m\u001b[1;33m\u001b[0m\u001b[0m\n\u001b[0;32m      4\u001b[0m \u001b[0mpattern_date\u001b[0m \u001b[1;33m=\u001b[0m \u001b[1;34mr'(0[1-9]|1[12])(0[1-9]|[12][0-9]|3[01])((19|20)[0-9]{2})'\u001b[0m\u001b[1;33m\u001b[0m\u001b[1;33m\u001b[0m\u001b[0m\n\u001b[1;32m----> 5\u001b[1;33m \u001b[0mx\u001b[0m \u001b[1;33m=\u001b[0m \u001b[0mre\u001b[0m\u001b[1;33m.\u001b[0m\u001b[0mcompile\u001b[0m\u001b[1;33m(\u001b[0m\u001b[0mpattern_url\u001b[0m\u001b[1;33m)\u001b[0m\u001b[1;33m\u001b[0m\u001b[1;33m\u001b[0m\u001b[0m\n\u001b[0m\u001b[0;32m      6\u001b[0m \u001b[0my\u001b[0m \u001b[1;33m=\u001b[0m \u001b[0mre\u001b[0m\u001b[1;33m.\u001b[0m\u001b[0mcompile\u001b[0m\u001b[1;33m(\u001b[0m\u001b[0mpattern_date\u001b[0m\u001b[1;33m)\u001b[0m\u001b[1;33m\u001b[0m\u001b[1;33m\u001b[0m\u001b[0m\n\u001b[0;32m      7\u001b[0m \u001b[1;32mif\u001b[0m \u001b[0mx\u001b[0m\u001b[1;33m.\u001b[0m\u001b[0mmatch\u001b[0m\u001b[1;33m(\u001b[0m\u001b[0murl\u001b[0m\u001b[1;33m)\u001b[0m\u001b[1;33m:\u001b[0m\u001b[1;33m\u001b[0m\u001b[1;33m\u001b[0m\u001b[0m\n",
      "\u001b[1;32mD:\\Conda\\lib\\re.py\u001b[0m in \u001b[0;36mcompile\u001b[1;34m(pattern, flags)\u001b[0m\n\u001b[0;32m    250\u001b[0m \u001b[1;32mdef\u001b[0m \u001b[0mcompile\u001b[0m\u001b[1;33m(\u001b[0m\u001b[0mpattern\u001b[0m\u001b[1;33m,\u001b[0m \u001b[0mflags\u001b[0m\u001b[1;33m=\u001b[0m\u001b[1;36m0\u001b[0m\u001b[1;33m)\u001b[0m\u001b[1;33m:\u001b[0m\u001b[1;33m\u001b[0m\u001b[1;33m\u001b[0m\u001b[0m\n\u001b[0;32m    251\u001b[0m     \u001b[1;34m\"Compile a regular expression pattern, returning a Pattern object.\"\u001b[0m\u001b[1;33m\u001b[0m\u001b[1;33m\u001b[0m\u001b[0m\n\u001b[1;32m--> 252\u001b[1;33m     \u001b[1;32mreturn\u001b[0m \u001b[0m_compile\u001b[0m\u001b[1;33m(\u001b[0m\u001b[0mpattern\u001b[0m\u001b[1;33m,\u001b[0m \u001b[0mflags\u001b[0m\u001b[1;33m)\u001b[0m\u001b[1;33m\u001b[0m\u001b[1;33m\u001b[0m\u001b[0m\n\u001b[0m\u001b[0;32m    253\u001b[0m \u001b[1;33m\u001b[0m\u001b[0m\n\u001b[0;32m    254\u001b[0m \u001b[1;32mdef\u001b[0m \u001b[0mpurge\u001b[0m\u001b[1;33m(\u001b[0m\u001b[1;33m)\u001b[0m\u001b[1;33m:\u001b[0m\u001b[1;33m\u001b[0m\u001b[1;33m\u001b[0m\u001b[0m\n",
      "\u001b[1;32mD:\\Conda\\lib\\re.py\u001b[0m in \u001b[0;36m_compile\u001b[1;34m(pattern, flags)\u001b[0m\n\u001b[0;32m    302\u001b[0m     \u001b[1;32mif\u001b[0m \u001b[1;32mnot\u001b[0m \u001b[0msre_compile\u001b[0m\u001b[1;33m.\u001b[0m\u001b[0misstring\u001b[0m\u001b[1;33m(\u001b[0m\u001b[0mpattern\u001b[0m\u001b[1;33m)\u001b[0m\u001b[1;33m:\u001b[0m\u001b[1;33m\u001b[0m\u001b[1;33m\u001b[0m\u001b[0m\n\u001b[0;32m    303\u001b[0m         \u001b[1;32mraise\u001b[0m \u001b[0mTypeError\u001b[0m\u001b[1;33m(\u001b[0m\u001b[1;34m\"first argument must be string or compiled pattern\"\u001b[0m\u001b[1;33m)\u001b[0m\u001b[1;33m\u001b[0m\u001b[1;33m\u001b[0m\u001b[0m\n\u001b[1;32m--> 304\u001b[1;33m     \u001b[0mp\u001b[0m \u001b[1;33m=\u001b[0m \u001b[0msre_compile\u001b[0m\u001b[1;33m.\u001b[0m\u001b[0mcompile\u001b[0m\u001b[1;33m(\u001b[0m\u001b[0mpattern\u001b[0m\u001b[1;33m,\u001b[0m \u001b[0mflags\u001b[0m\u001b[1;33m)\u001b[0m\u001b[1;33m\u001b[0m\u001b[1;33m\u001b[0m\u001b[0m\n\u001b[0m\u001b[0;32m    305\u001b[0m     \u001b[1;32mif\u001b[0m \u001b[1;32mnot\u001b[0m \u001b[1;33m(\u001b[0m\u001b[0mflags\u001b[0m \u001b[1;33m&\u001b[0m \u001b[0mDEBUG\u001b[0m\u001b[1;33m)\u001b[0m\u001b[1;33m:\u001b[0m\u001b[1;33m\u001b[0m\u001b[1;33m\u001b[0m\u001b[0m\n\u001b[0;32m    306\u001b[0m         \u001b[1;32mif\u001b[0m \u001b[0mlen\u001b[0m\u001b[1;33m(\u001b[0m\u001b[0m_cache\u001b[0m\u001b[1;33m)\u001b[0m \u001b[1;33m>=\u001b[0m \u001b[0m_MAXCACHE\u001b[0m\u001b[1;33m:\u001b[0m\u001b[1;33m\u001b[0m\u001b[1;33m\u001b[0m\u001b[0m\n",
      "\u001b[1;32mD:\\Conda\\lib\\sre_compile.py\u001b[0m in \u001b[0;36mcompile\u001b[1;34m(p, flags)\u001b[0m\n\u001b[0;32m    762\u001b[0m     \u001b[1;32mif\u001b[0m \u001b[0misstring\u001b[0m\u001b[1;33m(\u001b[0m\u001b[0mp\u001b[0m\u001b[1;33m)\u001b[0m\u001b[1;33m:\u001b[0m\u001b[1;33m\u001b[0m\u001b[1;33m\u001b[0m\u001b[0m\n\u001b[0;32m    763\u001b[0m         \u001b[0mpattern\u001b[0m \u001b[1;33m=\u001b[0m \u001b[0mp\u001b[0m\u001b[1;33m\u001b[0m\u001b[1;33m\u001b[0m\u001b[0m\n\u001b[1;32m--> 764\u001b[1;33m         \u001b[0mp\u001b[0m \u001b[1;33m=\u001b[0m \u001b[0msre_parse\u001b[0m\u001b[1;33m.\u001b[0m\u001b[0mparse\u001b[0m\u001b[1;33m(\u001b[0m\u001b[0mp\u001b[0m\u001b[1;33m,\u001b[0m \u001b[0mflags\u001b[0m\u001b[1;33m)\u001b[0m\u001b[1;33m\u001b[0m\u001b[1;33m\u001b[0m\u001b[0m\n\u001b[0m\u001b[0;32m    765\u001b[0m     \u001b[1;32melse\u001b[0m\u001b[1;33m:\u001b[0m\u001b[1;33m\u001b[0m\u001b[1;33m\u001b[0m\u001b[0m\n\u001b[0;32m    766\u001b[0m         \u001b[0mpattern\u001b[0m \u001b[1;33m=\u001b[0m \u001b[1;32mNone\u001b[0m\u001b[1;33m\u001b[0m\u001b[1;33m\u001b[0m\u001b[0m\n",
      "\u001b[1;32mD:\\Conda\\lib\\sre_parse.py\u001b[0m in \u001b[0;36mparse\u001b[1;34m(str, flags, state)\u001b[0m\n\u001b[0;32m    960\u001b[0m     \u001b[1;32mif\u001b[0m \u001b[0msource\u001b[0m\u001b[1;33m.\u001b[0m\u001b[0mnext\u001b[0m \u001b[1;32mis\u001b[0m \u001b[1;32mnot\u001b[0m \u001b[1;32mNone\u001b[0m\u001b[1;33m:\u001b[0m\u001b[1;33m\u001b[0m\u001b[1;33m\u001b[0m\u001b[0m\n\u001b[0;32m    961\u001b[0m         \u001b[1;32massert\u001b[0m \u001b[0msource\u001b[0m\u001b[1;33m.\u001b[0m\u001b[0mnext\u001b[0m \u001b[1;33m==\u001b[0m \u001b[1;34m\")\"\u001b[0m\u001b[1;33m\u001b[0m\u001b[1;33m\u001b[0m\u001b[0m\n\u001b[1;32m--> 962\u001b[1;33m         \u001b[1;32mraise\u001b[0m \u001b[0msource\u001b[0m\u001b[1;33m.\u001b[0m\u001b[0merror\u001b[0m\u001b[1;33m(\u001b[0m\u001b[1;34m\"unbalanced parenthesis\"\u001b[0m\u001b[1;33m)\u001b[0m\u001b[1;33m\u001b[0m\u001b[1;33m\u001b[0m\u001b[0m\n\u001b[0m\u001b[0;32m    963\u001b[0m \u001b[1;33m\u001b[0m\u001b[0m\n\u001b[0;32m    964\u001b[0m     \u001b[1;32mif\u001b[0m \u001b[0mflags\u001b[0m \u001b[1;33m&\u001b[0m \u001b[0mSRE_FLAG_DEBUG\u001b[0m\u001b[1;33m:\u001b[0m\u001b[1;33m\u001b[0m\u001b[1;33m\u001b[0m\u001b[0m\n",
      "\u001b[1;31merror\u001b[0m: unbalanced parenthesis at position 13"
     ]
    }
   ],
   "source": [
    "#24\n",
    "url = input()\n",
    "pattern_url = r'https?://\\w{3)\\./w\\.\\w+'\n",
    "pattern_date = r'(0[1-9]|1[12])/(0[1-9]|[12][0-9]|3[01])/((19|20)[0-9]{2})'\n",
    "x = re.compile(pattern_url)\n",
    "y = re.compile(pattern_date)\n",
    "if x.match(url):\n",
    "    print(url[y.search().span()[0]:y.search().span()[1]])\n",
    "else:\n",
    "    print(\"Bu url emas\")"
   ]
  },
  {
   "cell_type": "code",
   "execution_count": null,
   "metadata": {},
   "outputs": [],
   "source": []
  }
 ],
 "metadata": {
  "kernelspec": {
   "display_name": "Python 3",
   "language": "python",
   "name": "python3"
  },
  "language_info": {
   "codemirror_mode": {
    "name": "ipython",
    "version": 3
   },
   "file_extension": ".py",
   "mimetype": "text/x-python",
   "name": "python",
   "nbconvert_exporter": "python",
   "pygments_lexer": "ipython3",
   "version": "3.8.5"
  }
 },
 "nbformat": 4,
 "nbformat_minor": 4
}

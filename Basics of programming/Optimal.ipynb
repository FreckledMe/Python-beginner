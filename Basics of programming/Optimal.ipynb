{
 "cells": [
  {
   "cell_type": "code",
   "execution_count": 1,
   "metadata": {},
   "outputs": [
    {
     "name": "stdout",
     "output_type": "stream",
     "text": [
      "n=9\n",
      "1 2 3 4 5 6 7 8 9 \n",
      "Amallar yigindisi= 45\n"
     ]
    }
   ],
   "source": [
    "# 1\n",
    "s=0 \n",
    "n=int(input('n='))\n",
    "for i in range(1,n+1):\n",
    "    print(i,end=\" \")\n",
    "    s+=i\n",
    "print('\\nAmallar yigindisi=',s)"
   ]
  },
  {
   "cell_type": "code",
   "execution_count": 8,
   "metadata": {},
   "outputs": [
    {
     "name": "stdout",
     "output_type": "stream",
     "text": [
      "n=13\n",
      "tub\n"
     ]
    }
   ],
   "source": [
    "#3\n",
    "n=int(input('n='))\n",
    "s=0\n",
    "k=int(n**0.5)\n",
    "for i in range(2,k+1):\n",
    "    if n%i==0:\n",
    "        s+=1\n",
    "if s==0:\n",
    "    print('tub')\n",
    "else:\n",
    "    print('tub emas')"
   ]
  },
  {
   "cell_type": "code",
   "execution_count": 9,
   "metadata": {},
   "outputs": [
    {
     "name": "stdout",
     "output_type": "stream",
     "text": [
      "n=1000\n",
      "2 3 5 7 11 13 17 19 23 29 31 37 41 43 47 53 59 61 67 71 73 79 83 89 97 101 103 107 109 113 127 131 137 139 149 151 157 163 167 173 179 181 191 193 197 199 211 223 227 229 233 239 241 251 257 263 269 271 277 281 283 293 307 311 313 317 331 337 347 349 353 359 367 373 379 383 389 397 401 409 419 421 431 433 439 443 449 457 461 463 467 479 487 491 499 503 509 521 523 541 547 557 563 569 571 577 587 593 599 601 607 613 617 619 631 641 643 647 653 659 661 673 677 683 691 701 709 719 727 733 739 743 751 757 761 769 773 787 797 809 811 821 823 827 829 839 853 857 859 863 877 881 883 887 907 911 919 929 937 941 947 953 967 971 977 983 991 997 sana 2351\n",
      "168\n"
     ]
    }
   ],
   "source": [
    "#4\n",
    "n=int(input('n='))\n",
    "print(2,3,end=' ')\n",
    "sana=0\n",
    "x=2\n",
    "for i in range(5,n+1,2):\n",
    "    s=0\n",
    "    k=int(i**0.5)\n",
    "    for a in range(3,k+1,2):\n",
    "        sana+=1\n",
    "        if i%a==0:\n",
    "            s=1\n",
    "            break\n",
    "    if s==0:\n",
    "        print(i,end=' ')\n",
    "        x+=1\n",
    "print('sana=',sana)\n",
    "print(x)"
   ]
  },
  {
   "cell_type": "code",
   "execution_count": 10,
   "metadata": {},
   "outputs": [
    {
     "name": "stdout",
     "output_type": "stream",
     "text": [
      "n=6\n",
      "720\n"
     ]
    }
   ],
   "source": [
    "#5\n",
    "n=int(input('n='))\n",
    "s=1\n",
    "for i in range(1,n+1):\n",
    "    s*=i\n",
    "print(s)"
   ]
  },
  {
   "cell_type": "code",
   "execution_count": 11,
   "metadata": {},
   "outputs": [
    {
     "name": "stdout",
     "output_type": "stream",
     "text": [
      "n=101\n",
      "101 sana 3\n"
     ]
    }
   ],
   "source": [
    "# 6. n soni berilgan. n gacha bo’lgan tub sonlarning oxirgisini aniqlovchi dastur \n",
    "n=int(input('n='))\n",
    "sana=0\n",
    "if n==2 or n==3:\n",
    "    print(n)\n",
    "if n==4:\n",
    "    print(3)\n",
    "if n%2==0:\n",
    "    n-=1\n",
    "for i in range(n,4,-2):\n",
    "    s=0\n",
    "    k=int(i**0.5)\n",
    "    if k%2==0:\n",
    "        k-=1\n",
    "    for a in range(k,3,-2):\n",
    "        sana+=1\n",
    "        if i%a==0:\n",
    "            s=1\n",
    "            break\n",
    "    if s==0:\n",
    "        print(i,end=' ')\n",
    "        break\n",
    "print('sana',sana)"
   ]
  },
  {
   "cell_type": "code",
   "execution_count": 31,
   "metadata": {},
   "outputs": [
    {
     "name": "stdout",
     "output_type": "stream",
     "text": [
      "a=1024\n",
      "b=384\n",
      "128\n",
      "3\n"
     ]
    }
   ],
   "source": [
    " #7. Ikki sonning eng katta umumiy bo'linuvchisini (EKUB) aniqlovchi dastur tuzing.\n",
    "a=int(input('a='))\n",
    "b=int(input('b='))\n",
    "sana=0\n",
    "for i in range(min(a,b),0,-1):\n",
    "    sana+=1\n",
    "    if a>b:\n",
    "        a%=b\n",
    "    else:\n",
    "        b%=a\n",
    "    if a==0:\n",
    "        a=b\n",
    "        break\n",
    "    if b==0:\n",
    "        b=a\n",
    "        break\n",
    "print(a) \n",
    "print(sana)"
   ]
  },
  {
   "cell_type": "code",
   "execution_count": 38,
   "metadata": {},
   "outputs": [
    {
     "name": "stdout",
     "output_type": "stream",
     "text": [
      "n=123\n",
      "6\n",
      "7\n"
     ]
    }
   ],
   "source": [
    " #8.  Berilgan sonning raqamlari yig'indisini aniqlovchi dastur tuzing.\n",
    "n=int(input('n='))\n",
    "k=n\n",
    "j=1\n",
    "sana=0\n",
    "while k>=1:\n",
    "    sana+=1\n",
    "    k//=10\n",
    "    j+=1\n",
    "s=0\n",
    "for i in range(1,j+1):\n",
    "    sana+=1\n",
    "    s+=n%10\n",
    "    n//=10\n",
    "print(s)\n",
    "print(sana)"
   ]
  },
  {
   "cell_type": "code",
   "execution_count": 17,
   "metadata": {},
   "outputs": [
    {
     "name": "stdout",
     "output_type": "stream",
     "text": [
      "n=1234\n",
      "10\n"
     ]
    }
   ],
   "source": [
    "#8_1\n",
    "n=int(input('n='))\n",
    "s=0 \n",
    "while n>=1:\n",
    "    s+=n%10\n",
    "    n//=10\n",
    "print(s)"
   ]
  },
  {
   "cell_type": "code",
   "execution_count": null,
   "metadata": {},
   "outputs": [],
   "source": [
    "# 9.   n soni berilgan. \n",
    "# (1) + (1 + 2) + (1 + 2 + 3) + (1 + 2 + 3 + 4) + ... + (1 + 2 + 3 +…n) ni \n",
    "# hisoblovchi dastur tuzing.\n",
    "# Kiritish: 3 \n",
    "# Chiqarish: 10\n",
    "n=int(input('n='))\n",
    "sana=0\n",
    "s=0\n",
    "for i in range(1,n+1):\n",
    "    for k in range(0,i+1):\n",
    "        s+=k\n",
    "        sana+=1\n",
    "print(s)\n",
    "print(sana)"
   ]
  },
  {
   "cell_type": "code",
   "execution_count": null,
   "metadata": {},
   "outputs": [],
   "source": [
    "# 10. Oxiri -1 bilan tugovchi sonlar ketma-ketligi berilgan, shu ketma-ketlikda\n",
    "# nechta musbat son borligini va Maksimum, minimum qiymatlarini topuvchi dastur\n",
    "# tuzing?\n",
    "n=int(input('n='))\n",
    "b=-1\n",
    "x=True\n",
    "s=0\n",
    "for i in range(1,n):\n",
    "    a=int(input('a='))\n",
    "    if a>0:\n",
    "        s+=1\n",
    "    if x:\n",
    "        maxi=b\n",
    "        mini=b\n",
    "        x=False\n",
    "    if maxi<a:\n",
    "        maxi=a\n",
    "    if mini>a:\n",
    "        mini=a\n",
    "print('a=-1')\n",
    "print(s)\n",
    "print(maxi)\n",
    "print(mini)"
   ]
  },
  {
   "cell_type": "code",
   "execution_count": 19,
   "metadata": {},
   "outputs": [
    {
     "name": "stdout",
     "output_type": "stream",
     "text": [
      "a=5\n",
      "a=6\n",
      "a=-9\n",
      "a=-7\n",
      "a=-1\n",
      "6 -9 2\n"
     ]
    }
   ],
   "source": [
    "x=True\n",
    "k=0\n",
    "maxi=0\n",
    "mini=0\n",
    "while True:\n",
    "    a=int(input('a='))\n",
    "    if a==-1:\n",
    "        break \n",
    "    if x:\n",
    "        maxi=a\n",
    "        mini=a\n",
    "        x=False\n",
    "    if maxi<a:\n",
    "        maxi=a\n",
    "    if mini>a:\n",
    "        mini=a\n",
    "    if a>0:\n",
    "        k+=1\n",
    "print(maxi,mini,k)\n",
    "\n",
    "    "
   ]
  },
  {
   "cell_type": "code",
   "execution_count": 54,
   "metadata": {},
   "outputs": [
    {
     "name": "stdout",
     "output_type": "stream",
     "text": [
      "n=25\n",
      "4 6 8 9 10 12 14 15 16 18 20 21 22 24 25 198\n"
     ]
    }
   ],
   "source": [
    "# 11. n soni berilgan. Berilgan songacha bo’lgan murakkab sonlarni ekranga \n",
    "# chiqaruvchi dastur tuzing. \n",
    "# Kiritish: 25\n",
    "# Chiqarish: 4 6 8 9 10 12 14 15 16 18 20 21 22 24 25\n",
    "n=int(input('n='))\n",
    "sana=0\n",
    "for i in range(1,n+1):\n",
    "    s=0\n",
    "    for k in range(1,i+1):\n",
    "        sana+=1\n",
    "        if i%k==0:\n",
    "            s+=1\n",
    "            if s==3:\n",
    "                print(i,end=' ')\n",
    "                break\n",
    "print(sana)"
   ]
  },
  {
   "cell_type": "code",
   "execution_count": 71,
   "metadata": {},
   "outputs": [
    {
     "name": "stdout",
     "output_type": "stream",
     "text": [
      "n=3\n",
      "###\n",
      "###\n",
      "###\n"
     ]
    }
   ],
   "source": [
    "# 12. n soni berilgan. Tomoni n ga teng bo’lgan kvadrat yasang. Kvadratni \n",
    "#  << # >> belgisi bilan bosib chiqaruvchi dastur tuzing. \n",
    "n=int(input('n='))\n",
    "for i in range(1,n+1):\n",
    "    for k in range(1,n+1):\n",
    "        print('#',end='')\n",
    "        if k==n:\n",
    "            print('')"
   ]
  },
  {
   "cell_type": "code",
   "execution_count": 1,
   "metadata": {},
   "outputs": [
    {
     "name": "stdout",
     "output_type": "stream",
     "text": [
      "n=3\n",
      "\n",
      "1 x 1 = 1\n",
      "1 x 2 = 2\n",
      "1 x 3 = 3\n",
      "1 x 4 = 4\n",
      "1 x 5 = 5\n",
      "1 x 6 = 6\n",
      "1 x 7 = 7\n",
      "1 x 8 = 8\n",
      "1 x 9 = 9\n",
      "1 x 10 = 10\n",
      "\n",
      "2 x 1 = 2\n",
      "2 x 2 = 4\n",
      "2 x 3 = 6\n",
      "2 x 4 = 8\n",
      "2 x 5 = 10\n",
      "2 x 6 = 12\n",
      "2 x 7 = 14\n",
      "2 x 8 = 16\n",
      "2 x 9 = 18\n",
      "2 x 10 = 20\n",
      "\n",
      "3 x 1 = 3\n",
      "3 x 2 = 6\n",
      "3 x 3 = 9\n",
      "3 x 4 = 12\n",
      "3 x 5 = 15\n",
      "3 x 6 = 18\n",
      "3 x 7 = 21\n",
      "3 x 8 = 24\n",
      "3 x 9 = 27\n",
      "3 x 10 = 30\n"
     ]
    }
   ],
   "source": [
    "# 13. 1 dan n gacha vertikal ravishda ko'paytirish jadvalini ko'rsatuvchi dastur \n",
    "# yozing.\n",
    "'''\n",
    "Kiritish: 5\n",
    "Chiqarish:  \n",
    "1x1 = 1    2x1 = 2      3x1 = 3     4x1 = 4     5x1 = 5\n",
    "1x2 = 2    2x2 = 4      3x2 = 6     4x2 = 8     5x2 = 10\n",
    "1x3 = 3    2x3 = 6      3x3 = 9     4x3 = 12    5x3 = 15\n",
    "1x4 = 4    2x4 = 8      3x4 = 12    4x4 = 16    5x4 = 20\n",
    "1x5 = 5    2x5 = 10     3x5 = 15    4x5 = 20    5x5 = 25\n",
    "1x6 = 6    2x6 = 12.    3x6 = 18    4x6 = 24    5x6 = 30\n",
    "1x7 = 7    2x7 = 14     3x7 = 21    4x7 = 28    5x7 = 35\n",
    "1x8 = 8    2x8 = 16     3x8 = 24    4x8 = 32    5x8 = 40\n",
    "1x9 = 9    2x9 = 18     3x9 = 27    4x9 = 36    5x9 = 45\n",
    "1x10 = 10  2x10 = 20    3x10 = 30   4x10 = 40   5x10 = 50\n",
    "'''\n",
    "n=int(input('n='))\n",
    "for i in range(1,n+1):\n",
    "    print('')\n",
    "    for k in range(1,11):\n",
    "        print(i,'x',k,'=',i*k)\n",
    "        "
   ]
  },
  {
   "cell_type": "code",
   "execution_count": 74,
   "metadata": {},
   "outputs": [
    {
     "name": "stdout",
     "output_type": "stream",
     "text": [
      "n=10\n",
      "1 3 5 7 9 11 13 15 17 19 100\n"
     ]
    }
   ],
   "source": [
    "# 14. N musbat soni berilgan. Dastlabki N ta toq sonlarni ekranga chiqaruvchi va \n",
    "# ularning yig’indisini aniqlovchi dastur tuzing.\n",
    "n=int(input('n='))\n",
    "s=0\n",
    "for i in range(1,2*n+1,2):\n",
    "    print(i,end=' ')\n",
    "    s+=i\n",
    "print(s)"
   ]
  },
  {
   "cell_type": "code",
   "execution_count": 75,
   "metadata": {},
   "outputs": [
    {
     "name": "stdout",
     "output_type": "stream",
     "text": [
      "n=10\n",
      "2 4 6 8 10 12 14 16 18 20 110\n"
     ]
    }
   ],
   "source": [
    "#15\n",
    "n=int(input('n='))\n",
    "s=0\n",
    "for i in range(2,2*n+1,2):\n",
    "    print(i,end=' ')\n",
    "    s+=i\n",
    "print(s)"
   ]
  },
  {
   "cell_type": "code",
   "execution_count": 10,
   "metadata": {},
   "outputs": [
    {
     "name": "stdout",
     "output_type": "stream",
     "text": [
      "n=10\n",
      "1234567900\n"
     ]
    }
   ],
   "source": [
    "# 16. 1 + 11 + 111 + 1111 + …+ n qatorlarining yig'indisini aniqlovchi dastur tuzing. \n",
    "# Kiritish: 5\n",
    "# Chiqarish: 12345\n",
    "n=int(input('n='))\n",
    "s=0\n",
    "k=1\n",
    "for i in range(1,n+1):\n",
    "    s+=k\n",
    "    k=10*k+1\n",
    "print(s)"
   ]
  },
  {
   "cell_type": "code",
   "execution_count": 8,
   "metadata": {},
   "outputs": [
    {
     "name": "stdout",
     "output_type": "stream",
     "text": [
      "n=10\n",
      "1 1 2 3 5 8 13 21 34 55 "
     ]
    }
   ],
   "source": [
    "## 17. Fibonachchi sonlarining dastlabki n tasini ekranga chiqaruvchi dastur tuzing.\n",
    "# Kiritish: 10\n",
    "# Chiqarish: 1 1 2 3 5 8 13 21 34 55\n",
    "f1=1\n",
    "f2=1\n",
    "fk=f1+f2\n",
    "n=int(input('n='))\n",
    "print(1,end=' ')\n",
    "for i in range(1,n):\n",
    "    f1=f2\n",
    "    f2=fk\n",
    "    fk=f1+f2\n",
    "    print(f1,end=' ')"
   ]
  },
  {
   "cell_type": "code",
   "execution_count": null,
   "metadata": {},
   "outputs": [],
   "source": [
    "# 18. S musbat soni berilgan. Ushbu sonni ikki tub son yig’indisi ko’rinishida \n",
    "# ifodalash mumkinligini aniqlovchi dastur tuzing. Shu sonlarni ekranga chiqaring.\n",
    "# Kiritish: 20\n",
    "# Chiqarish: Mumkin – 3 va 17\n",
    "s=int(input('s='))\n"
   ]
  },
  {
   "cell_type": "code",
   "execution_count": 10,
   "metadata": {},
   "outputs": [
    {
     "name": "stdout",
     "output_type": "stream",
     "text": [
      "n=5\n",
      "*\n",
      "**\n",
      "***\n",
      "****\n",
      "*****\n"
     ]
    }
   ],
   "source": [
    "# 19. n musbat soni berilgan. Yulduzcha yordamida to'g'ri burchakli uchburchak \n",
    "# shaklini  ekranga chiqaruvchi dastur tuzing. \n",
    "# Kiritish: 5 \n",
    "# Chiqarish:\n",
    "n=int(input('n='))\n",
    "for i in range(1,n+1):\n",
    "    for k in range(1,i+1):\n",
    "        print('*',end='')\n",
    "        if k==i:\n",
    "            print('')"
   ]
  },
  {
   "cell_type": "code",
   "execution_count": 20,
   "metadata": {},
   "outputs": [
    {
     "name": "stdout",
     "output_type": "stream",
     "text": [
      "n=5\n",
      "1\n",
      "12\n",
      "123\n",
      "1234\n",
      "12345\n"
     ]
    }
   ],
   "source": [
    "# 20. n musbat soni berilgan. Ekranga quyidagi “sonli uchburchak”ni chiqaruvchi \n",
    "# dastur tuzing. \n",
    "# Kiritish: 5\n",
    "# Chiqarish: \n",
    "n=int(input('n='))\n",
    "for i in range(1,n+1):\n",
    "    for k in range(1,i+1):\n",
    "        print(k,end='')\n",
    "    print()"
   ]
  },
  {
   "cell_type": "code",
   "execution_count": 13,
   "metadata": {},
   "outputs": [
    {
     "name": "stdout",
     "output_type": "stream",
     "text": [
      "n=5\n",
      "1\n",
      "22\n",
      "333\n",
      "4444\n",
      "55555\n"
     ]
    }
   ],
   "source": [
    "# 21. n musbat soni berilgan. Ekranga quyidagi “sonli uchburchak”ni chiqaruvchi \n",
    "# dastur tuzing. \n",
    "# Kiritish: 5\n",
    "# Chiqarish:\n",
    "n=int(input('n='))\n",
    "for i in range(1,n+1):\n",
    "    for k in range(1,i+1):\n",
    "        print(i,end='')\n",
    "    print()"
   ]
  },
  {
   "cell_type": "code",
   "execution_count": 56,
   "metadata": {},
   "outputs": [
    {
     "name": "stdout",
     "output_type": "stream",
     "text": [
      "n=5\n",
      "1 \n",
      "2 3 \n",
      "4 5 6 \n",
      "7 8 9 10 \n",
      "11 12 13 14 15 \n"
     ]
    }
   ],
   "source": [
    "# 22. n musbat soni berilgan. Ekranga quyidagi “sonli uchburchak”ni chiqaruvchi \n",
    "# dastur tuzing. \n",
    "# Kiritish: 5\n",
    "# Chiqarish:                                                                                   \n",
    "\n",
    "n=int(input('n='))\n",
    "j=1\n",
    "for i in range(1,n+1):\n",
    "    for k in range(1,i+1):\n",
    "        print(j,end=' ')\n",
    "        j+=1\n",
    "    print()"
   ]
  },
  {
   "cell_type": "code",
   "execution_count": 57,
   "metadata": {},
   "outputs": [
    {
     "name": "stdout",
     "output_type": "stream",
     "text": [
      "n=4\n",
      "    1 \n",
      "   2 3 \n",
      "  4 5 6 \n",
      " 7 8 9 10 \n"
     ]
    }
   ],
   "source": [
    "# 23. n musbat soni berilgan. Ekranga quyidagi “sonli piramida”ni chiqaruvchi \n",
    "# dastur tuzing. \n",
    "# Kiritish: 4\n",
    "# Chiqarish:\n",
    "#    1                                                               \n",
    "#   2 3                                                        \n",
    "#  4 5 6                                                             \n",
    "# 7 8 9 10 \n",
    "n=int(input('n='))\n",
    "j=1\n",
    "a=n-1\n",
    "for i in range(1,n+1):\n",
    "    print(a*' ',end=' ')\n",
    "    for k in range(1,i+1):\n",
    "        print(j,end=' ')\n",
    "        j+=1\n",
    "    print()\n",
    "    k-=1\n",
    "    a-=1"
   ]
  },
  {
   "cell_type": "code",
   "execution_count": 12,
   "metadata": {},
   "outputs": [
    {
     "name": "stdout",
     "output_type": "stream",
     "text": [
      "n=5\n",
      "     * \n",
      "    * * \n",
      "   * * * \n",
      "  * * * * \n",
      " * * * * * \n"
     ]
    }
   ],
   "source": [
    "#24\n",
    "n=int(input('n='))\n",
    "a=n-1\n",
    "for i in range(1,n+1):\n",
    "    print(a*' ',end=' ')\n",
    "    for k in range(1,i+1):\n",
    "        print('*',end=' ')\n",
    "    print()\n",
    "    k-=1\n",
    "    a-=1"
   ]
  },
  {
   "cell_type": "code",
   "execution_count": 6,
   "metadata": {},
   "outputs": [
    {
     "name": "stdout",
     "output_type": "stream",
     "text": [
      "n=5\n",
      "     1 \n",
      "    2 2 \n",
      "   3 3 3 \n",
      "  4 4 4 4 \n",
      " 5 5 5 5 5 \n"
     ]
    }
   ],
   "source": [
    "#25. n musbat soni berilgan. Ekranga quyidagi “sonli piramida”ni chiqaruvchi \n",
    "# dastur tuzing.\n",
    "# Kiritish: 5\n",
    "# Chiqarish:                                              \n",
    "#        1                                                              \n",
    "#       2 2                                                             \n",
    "#      3 3 3                                                            \n",
    "#     4 4 4 4                                                           \n",
    "#    5 5 5 5 5  \n",
    "n=int(input('n='))\n",
    "j=1\n",
    "a=n-1\n",
    "for i in range(1,n+1):\n",
    "    print(a*' ',end=' ')\n",
    "    for k in range(1,i+1):\n",
    "        print(j,end=' ')\n",
    "    print()\n",
    "    k-=1\n",
    "    a-=1\n",
    "    j+=1"
   ]
  },
  {
   "cell_type": "code",
   "execution_count": 40,
   "metadata": {},
   "outputs": [
    {
     "name": "stdout",
     "output_type": "stream",
     "text": [
      "n=5\n",
      "     *\n",
      "    ***\n",
      "   *****\n",
      "  *******\n",
      " *********\n"
     ]
    }
   ],
   "source": [
    "#26\n",
    "n=int(input('n='))\n",
    "a=n-1\n",
    "b=1\n",
    "for i in range(1,n+1):\n",
    "    print(a*' ',end=' ')\n",
    "    for k in range(1,b+1):\n",
    "        print('*',end='')\n",
    "    print('')\n",
    "    a-=1\n",
    "    b+=2"
   ]
  },
  {
   "cell_type": "code",
   "execution_count": 68,
   "metadata": {},
   "outputs": [
    {
     "name": "stdout",
     "output_type": "stream",
     "text": [
      "n=5\n",
      "1\n",
      "01\n",
      "101\n",
      "0101\n",
      "10101\n"
     ]
    }
   ],
   "source": [
    "# 27. n musbat soni berilgan. Ekranga n qatorli Floyd uchburchagini chiqaruvchi \n",
    "# dastur tuzing.\n",
    "# Kiritish: 5\n",
    "# Chiqarish:                                             \n",
    "# 1                                                                      \n",
    "# 01                                                                     \n",
    "# 101                                                                    \n",
    "# 0101                                                                   \n",
    "# 10101\n",
    "n=int(input('n='))\n",
    "m=1\n",
    "for i in range(1,n+1):\n",
    "    for k in range(m,0,-1):\n",
    "        if k%2==0:\n",
    "            k=0\n",
    "        else:\n",
    "            k=1\n",
    "        print(k,end='')\n",
    "    m+=1\n",
    "    print('')"
   ]
  },
  {
   "cell_type": "code",
   "execution_count": 9,
   "metadata": {},
   "outputs": [
    {
     "name": "stdout",
     "output_type": "stream",
     "text": [
      "n=8\n",
      "        *\n",
      "       ***\n",
      "      *****\n",
      "     *******\n",
      "    *********\n",
      "   ***********\n",
      "  *************\n",
      " ***************\n",
      "  *************\n",
      "   ***********\n",
      "    *********\n",
      "     *******\n",
      "      *****\n",
      "       ***\n",
      "        *\n"
     ]
    }
   ],
   "source": [
    "# 28. n musbat soni berilgan. Tomoni n ta yulduzchadan iborat bo’lgan romb shaklini \n",
    "# yasovchi dastur tuzing.\n",
    "# Kiritish: 5\n",
    "# Chiqarish:\n",
    "                                                                       \n",
    "#     *                                                                  \n",
    "#    ***                                                                 \n",
    "#   *****                                                                \n",
    "#  *******                                                               \n",
    "# *********                                                              \n",
    "#  *******                                                               \n",
    "#   *****                                                                \n",
    "#    ***                                                                 \n",
    "#     *\n",
    "n=int(input('n='))\n",
    "a=n-1;b=1;m=1;l=2*n-1\n",
    "for i in range(1,n+1):\n",
    "    print(a*' ',end=' ')\n",
    "    for k in range(1,b+1):\n",
    "        print('*',end='')\n",
    "    print('')\n",
    "    a-=1\n",
    "    b+=2\n",
    "for i in range(n,1,-1):\n",
    "    print(m*' ',end=' ')\n",
    "    for k in range(l,2,-1):\n",
    "        print('*',end='')\n",
    "    print('')\n",
    "    m+=1\n",
    "    l-=2"
   ]
  },
  {
   "cell_type": "code",
   "execution_count": 19,
   "metadata": {},
   "outputs": [
    {
     "name": "stdout",
     "output_type": "stream",
     "text": [
      "n=5\n",
      "            1 \n",
      "          1  1 \n",
      "        1  2  1 \n",
      "      1  3  3  1 \n",
      "    1  4  6  4  1 \n"
     ]
    }
   ],
   "source": [
    "# 29. n musbat soni berilgan. n-darajali Paskal uchburchagini piramida ko’rinishida \n",
    "# ekranga chiqaruvchi dastur tuzing.\n",
    "# Kiritish: 5\n",
    "# Chiqarish:                                  \n",
    "#          1                                                            \n",
    "#        1   1                                                          \n",
    "#      1   2   1                                                        \n",
    "#    1   3   3   1                                                      \n",
    "#  1   4   6   4   1\n",
    "n=int(input('n='))\n",
    "i=0\n",
    "j=0\n",
    "num=0\n",
    "space=0\n",
    "a=2*n\n",
    "while i<n:\n",
    "    space=i\n",
    "    print(a*' ',end=' ')\n",
    "    while space<n:\n",
    "        space=space+1\n",
    "    else:\n",
    "        j=0\n",
    "        while j<=i:\n",
    "            if j==0 or i==j:\n",
    "                num=1\n",
    "            else:\n",
    "                num=num*(i-j+1)/j\n",
    "            print(space*'',int(num),end=' ')\n",
    "            j+=1\n",
    "        else:\n",
    "            print('')\n",
    "    i+=1\n",
    "    a-=2"
   ]
  },
  {
   "cell_type": "code",
   "execution_count": 59,
   "metadata": {},
   "outputs": [
    {
     "name": "stdout",
     "output_type": "stream",
     "text": [
      "n=5\n",
      "     1\n",
      "    121\n",
      "   12321\n",
      "  1234321\n",
      " 123454321\n"
     ]
    }
   ],
   "source": [
    "# 30. n musbat soni berilgan. Ekranga quyidagi “sonli piramida”ni chiqaruvchi dastur \n",
    "# tuzing.\n",
    "# Kiritish: 5\n",
    "# Chiqarish:\n",
    "#         1                                                                  \n",
    "#        121                                                                 \n",
    "#       12321                                                                \n",
    "#      1234321                                                               \n",
    "#     123454321\n",
    "n=int(input('n='))\n",
    "m=1\n",
    "a=n-1\n",
    "for i in range(1,n+1):\n",
    "    print(a*' ',end=' ')\n",
    "    c=i-1\n",
    "    for k in range(1,m+1):\n",
    "        if k%i==0:\n",
    "            print(i,end='')\n",
    "        if k<i:\n",
    "            print(k%i,end='')\n",
    "        if k>i:\n",
    "            print(c,end='')\n",
    "            c-=1\n",
    "    m+=2\n",
    "    a-=1\n",
    "    print('')"
   ]
  },
  {
   "cell_type": "code",
   "execution_count": 4,
   "metadata": {},
   "outputs": [
    {
     "name": "stdout",
     "output_type": "stream",
     "text": [
      "n=3\n",
      "   1\n",
      "  232\n",
      " 34543\n"
     ]
    }
   ],
   "source": [
    "# 31.  n musbat soni berilgan. Ekranga quyidagi “sonli piramida”ni chiqaruvchi \n",
    "# dastur tuzing.\n",
    "# Kiritish: 5\n",
    "# Chiqarish:   \n",
    "#       1                                                                  \n",
    "#      232                                                                 \n",
    "#     34543                                                                \n",
    "#    4567654                                                               \n",
    "#   567898765\n",
    "n=int(input('n='))\n",
    "m=1\n",
    "a=n-1\n",
    "x=1\n",
    "for i in range(1,n+1):\n",
    "    b=i\n",
    "    l=x-1\n",
    "    print(a*' ',end=' ')\n",
    "    for k in range(1,m+1):\n",
    "        if b>x:\n",
    "            print(l,end='')\n",
    "            l-=1\n",
    "        else:\n",
    "            print(b,end='')\n",
    "            b+=1\n",
    "    m+=2\n",
    "    a-=1\n",
    "    x+=2\n",
    "    print('')"
   ]
  },
  {
   "cell_type": "code",
   "execution_count": 50,
   "metadata": {},
   "outputs": [
    {
     "name": "stdout",
     "output_type": "stream",
     "text": [
      "n=100\n",
      "1100100\n"
     ]
    }
   ],
   "source": [
    "# 33_1. O'nli sanoq sistemasidagi sonlarni ikkilik sanoq sistemasiga o’tkazib beruvchi \n",
    "# dastur tuzing. \n",
    "# Kiritish: 35\n",
    "# Chiqarish: 100011\n",
    "n=int(input('n='))\n",
    "S=str(n%2)\n",
    "j=1\n",
    "while n>0:\n",
    "    n//=2\n",
    "    S+=str(n%2)\n",
    "    j+=1\n",
    "k=int(S)\n",
    "M=str(k%10)\n",
    "while j>1:\n",
    "    k//=10\n",
    "    M+=str(k%10)\n",
    "    j-=1\n",
    "print(int(M))"
   ]
  },
  {
   "cell_type": "code",
   "execution_count": 18,
   "metadata": {},
   "outputs": [
    {
     "name": "stdout",
     "output_type": "stream",
     "text": [
      "n=100\n",
      "1100100\n"
     ]
    }
   ],
   "source": [
    "#33_2\n",
    "n=int(input('n='))\n",
    "s=0\n",
    "b=0\n",
    "for i in range(1,n+1):\n",
    "    a=n%2\n",
    "    n//=2\n",
    "    s+=a*10**b\n",
    "    b+=1\n",
    "print(s)\n"
   ]
  },
  {
   "cell_type": "code",
   "execution_count": 48,
   "metadata": {},
   "outputs": [
    {
     "name": "stdout",
     "output_type": "stream",
     "text": [
      "n=100\n",
      "144\n"
     ]
    }
   ],
   "source": [
    "# 34. O'nlik sanoq sistemasidagi sonlarni sakkizlik sanoq sistemasiga o’tkazib \n",
    "# beruvchi dastur tuzing. \n",
    "# Kiritish: 15\n",
    "# Chiqarish: 17\n",
    "n=int(input('n='))\n",
    "S=1\n",
    "M=0\n",
    "while n>=1:\n",
    "    S=S*10+n%8\n",
    "    n//=8\n",
    "while S>10:\n",
    "    M=M*10+S%10\n",
    "    S//=10\n",
    "print(M)"
   ]
  },
  {
   "cell_type": "code",
   "execution_count": 1,
   "metadata": {},
   "outputs": [
    {
     "name": "stdout",
     "output_type": "stream",
     "text": [
      "n=1001001\n",
      "73\n"
     ]
    }
   ],
   "source": [
    "# 35. Ikkilik sanoq sistemasidagi sonlarni o’nlik sanoq sistemasiga o’tkazib beruvchi \n",
    "# dastur tuzing. \n",
    "# Kiritish: 1011\n",
    "# Chiqarish: 11\n",
    "i=0\n",
    "S=0\n",
    "n=int(input('n='))\n",
    "while n>=1:\n",
    "    S+=n%10*2**i\n",
    "    n//=10\n",
    "    i+=1\n",
    "print(S)\n"
   ]
  },
  {
   "cell_type": "code",
   "execution_count": 1,
   "metadata": {},
   "outputs": [
    {
     "name": "stdout",
     "output_type": "stream",
     "text": [
      "n=15\n",
      "17\n"
     ]
    }
   ],
   "source": [
    "n=int(input('n='))\n",
    "s=0\n",
    "b=0\n",
    "for i in range(1,n+1):\n",
    "    a=n%8\n",
    "    n//=8\n",
    "    s+=a*10**b\n",
    "    b+=1\n",
    "print(s)\n"
   ]
  },
  {
   "cell_type": "code",
   "execution_count": 13,
   "metadata": {},
   "outputs": [
    {
     "name": "stdout",
     "output_type": "stream",
     "text": [
      "n=5\n",
      "0 1 2 3 4 \n",
      "1 0 1 2 3 \n",
      "2 1 0 1 2 \n",
      "3 2 1 0 1 \n",
      "4 3 2 1 0 \n"
     ]
    }
   ],
   "source": [
    "# 32. n musbat soni berilgan. Quyidagi ko’rinishdagi kvadratni ekranga chiqaruvchi \n",
    "# dastur tuzing.\n",
    "# Kiritish: 5\n",
    "# Chiqarish:\n",
    "'''0 1 2 3 4\n",
    "1 0 1 2 3\n",
    "2 1 0 1 2\n",
    "3 2 1 0 1\n",
    "4 3 2 1 0\n",
    "\n",
    "# Kiritish: 8\n",
    "# Chiqarish:                                                                                      \n",
    "0 1 2 3 4 5 6 7                                                                                        \n",
    "1 0 1 2 3 4 5 6                                                                                        \n",
    "2 1 0 1 2 3 4 5                                                                                        \n",
    "3 2 1 0 1 2 3 4                                                                                        \n",
    "4 3 2 1 0 1 2 3                                                                                        \n",
    "5 4 3 2 1 0 1 2                                                                                        \n",
    "6 5 4 3 2 1 0 1                                                                                        \n",
    "7 6 5 4 3 2 1 0''' \n",
    "n=int(input('n='))\n",
    "m=1\n",
    "for i in range(n-1,-1,-1):\n",
    "    for k in range(0,i+1):\n",
    "        print(k,end=' ')\n",
    "    print('')\n",
    "    if m==n:\n",
    "        break\n",
    "    for b in range(m,0,-1):\n",
    "        print(b,end=' ')\n",
    "    m+=1"
   ]
  },
  {
   "cell_type": "code",
   "execution_count": 1,
   "metadata": {},
   "outputs": [
    {
     "name": "stdout",
     "output_type": "stream",
     "text": [
      "a=8\n",
      "b=18\n",
      "8 18\n",
      "9 17\n",
      "10 16\n",
      "11 15\n",
      "12 14\n",
      "13 13\n",
      "14 12\n",
      "15 11\n",
      "16 10\n",
      "17 9\n",
      "18 8\n",
      "50522194737404841\n"
     ]
    }
   ],
   "source": [
    "a=int(input('a='))\n",
    "b=int(input('b='))\n",
    "s=0\n",
    "for i in range(a,b+1):\n",
    "    s+=i**(b+a-i)\n",
    "    print(i,b+a-i)\n",
    "print(s)"
   ]
  },
  {
   "cell_type": "code",
   "execution_count": null,
   "metadata": {},
   "outputs": [],
   "source": [
    "a=int(input('a='))\n",
    "n=int(input('n='))\n",
    "s=0\n",
    "for i in range(1,n+1,2):\n",
    "    s+=a**i\n",
    "print(s)"
   ]
  },
  {
   "cell_type": "code",
   "execution_count": 42,
   "metadata": {},
   "outputs": [
    {
     "name": "stdout",
     "output_type": "stream",
     "text": [
      "n=6\n",
      "1 3 5 7 9 11 13 15 17 "
     ]
    }
   ],
   "source": [
    "n=int(input('n='))\n",
    "for i in range(1,3*n+1,2):\n",
    "    print(i,end=' ')\n"
   ]
  },
  {
   "cell_type": "code",
   "execution_count": 55,
   "metadata": {},
   "outputs": [
    {
     "name": "stdout",
     "output_type": "stream",
     "text": [
      "n=15\n",
      "2 3 5 7 11 13 17 19 23 29 31 37 41 43 47 sana 28\n"
     ]
    }
   ],
   "source": [
    "n=int(input('n='))\n",
    "print(2,3,end=' ')\n",
    "sana=0\n",
    "j=2\n",
    "i=5\n",
    "while i>0:\n",
    "    s=0\n",
    "    k=int(i**0.5)\n",
    "    for a in range(3,k+1,2):\n",
    "        sana+=1\n",
    "        if i%a==0:\n",
    "            s=1\n",
    "            break\n",
    "    if s==0:\n",
    "        print(i,end=' ')\n",
    "        j+=1\n",
    "    if j==n:\n",
    "        break\n",
    "    i+=2\n",
    "print('sana',sana)"
   ]
  },
  {
   "cell_type": "code",
   "execution_count": 54,
   "metadata": {},
   "outputs": [
    {
     "name": "stdout",
     "output_type": "stream",
     "text": [
      "Enter the number:5\n",
      "2\n",
      "3\n",
      "5\n"
     ]
    }
   ],
   "source": [
    "i = 1\n",
    "x = int(input(\"Enter the number:\"))\n",
    "for k in range(1, x+1):\n",
    "    c = 0\n",
    "    for j in range(1, i+1):\n",
    "        a = i % j\n",
    "        if a == 0:\n",
    "            c = c + 1\n",
    "\n",
    "    if c == 2:\n",
    "        print(i)\n",
    "    else:\n",
    "        k = k - 1\n",
    "\n",
    "    i = i + 1"
   ]
  },
  {
   "cell_type": "code",
   "execution_count": 65,
   "metadata": {},
   "outputs": [
    {
     "name": "stdout",
     "output_type": "stream",
     "text": [
      "n=6\n",
      "1 0 0 0 0 0 \n",
      "0 1 0 0 0 0 \n",
      "0 0 1 0 0 0 \n",
      "0 0 0 1 0 0 \n",
      "0 0 0 0 1 0 \n",
      "0 0 0 0 0 1 \n"
     ]
    }
   ],
   "source": [
    "n=int(input('n='))\n",
    "m=1\n",
    "for i in range(n-1,-1,-1):\n",
    "    l=1\n",
    "    for k in range(1,i+2):\n",
    "        print(l,end=' ')\n",
    "        l=0\n",
    "    print('')\n",
    "    if m==n:\n",
    "        break\n",
    "    for b in range(m,0,-1):\n",
    "        print(0,end=' ')\n",
    "    m+=1"
   ]
  },
  {
   "cell_type": "code",
   "execution_count": 79,
   "metadata": {},
   "outputs": [
    {
     "name": "stdout",
     "output_type": "stream",
     "text": [
      "n=5\n",
      "0 0 0 0 1 \n",
      "0 0 0 1 0 \n",
      "0 0 1 0 0 \n",
      "0 1 0 0 0 \n",
      "1 0 0 0 0 \n"
     ]
    }
   ],
   "source": [
    "n=int(input('n='))\n",
    "for i in range(n):\n",
    "    for k in range(n):\n",
    "        if i+k==n-1:\n",
    "            print(1,end=' ')\n",
    "        else:\n",
    "            print(0,end=' ')\n",
    "        \n",
    "    print()"
   ]
  },
  {
   "cell_type": "code",
   "execution_count": 81,
   "metadata": {},
   "outputs": [
    {
     "name": "stdout",
     "output_type": "stream",
     "text": [
      "n=5\n",
      "00 01 02 03 04 \n",
      "10 11 12 13 14 \n",
      "20 21 22 23 24 \n",
      "30 31 32 33 34 \n",
      "40 41 42 43 44 \n"
     ]
    }
   ],
   "source": [
    "n=int(input('n='))\n",
    "for i in range(n):\n",
    "    for k in range(n):\n",
    "        print(str(i)+str(k),end=' ')\n",
    "    print()"
   ]
  },
  {
   "cell_type": "code",
   "execution_count": null,
   "metadata": {},
   "outputs": [],
   "source": [
    "#a b ekub\n",
    "a=int(input('a='))\n",
    "ekub=int(input('b='))\n",
    "sana=0\n",
    "while a!=b:\n",
    "    sana+=1\n",
    "    if a>b:\n",
    "        a%=b\n",
    "        if a==0:\n",
    "            a=b\n",
    "            break\n",
    "    if b>a:\n",
    "        b%=a\n",
    "        if b==0:\n",
    "            b=a\n",
    "            break\n",
    "print(a)\n",
    "print(sana)\n"
   ]
  },
  {
   "cell_type": "code",
   "execution_count": 1,
   "metadata": {},
   "outputs": [
    {
     "name": "stdout",
     "output_type": "stream",
     "text": [
      "n=3\n",
      "a=5\n",
      "a=6\n",
      "a=7\n",
      "1\n"
     ]
    }
   ],
   "source": [
    "#N gacha ekub 1\n",
    "n=int(input('n='))\n",
    "ekub=int(input('a='))\n",
    "i=1\n",
    "while i<n:\n",
    "    i+=1\n",
    "    a=int(input('a='))\n",
    "    while a!=ekub:\n",
    "        if ekub>a:\n",
    "            ekub%=a\n",
    "        else:\n",
    "            a%=ekub\n",
    "        if a==0:\n",
    "            a=ekub\n",
    "        if ekub==0:\n",
    "            ekub=a\n",
    "print(ekub)\n",
    "        "
   ]
  },
  {
   "cell_type": "code",
   "execution_count": 3,
   "metadata": {},
   "outputs": [
    {
     "name": "stdout",
     "output_type": "stream",
     "text": [
      "n=3\n",
      "a=12\n",
      "a=18\n",
      "a=24\n",
      "6\n"
     ]
    }
   ],
   "source": [
    "#N gacha ekub 2\n",
    "n=int(input('n='))\n",
    "ekub=int(input('a='))\n",
    "i=1\n",
    "while i<n:\n",
    "    i+=1\n",
    "    a=int(input('a='))\n",
    "    if a%ekub==0:\n",
    "        continue\n",
    "    j=min(ekub,a)\n",
    "    while a%j!=0 or ekub%j!=0:\n",
    "        j-=1\n",
    "    ekub=j\n",
    "print(ekub)"
   ]
  },
  {
   "cell_type": "code",
   "execution_count": 4,
   "metadata": {},
   "outputs": [
    {
     "name": "stdout",
     "output_type": "stream",
     "text": [
      "n=3\n",
      "a=12\n",
      "a=24\n",
      "a=36\n",
      "72\n"
     ]
    }
   ],
   "source": [
    "#6\n",
    "#N gacha ekuk \n",
    "n=int(input('n='))\n",
    "ekuk=int(input('a='))\n",
    "i=1\n",
    "while i<n:\n",
    "    i+=1\n",
    "    a=int(input('a='))\n",
    "    if ekuk%a==0:\n",
    "        continue\n",
    "    j=max(ekuk,a)\n",
    "    k=max(ekuk,a)\n",
    "    while j%a!=0 or j%ekuk!=0:\n",
    "        j+=k\n",
    "    ekuk=j\n",
    "print(ekuk)"
   ]
  },
  {
   "cell_type": "code",
   "execution_count": 5,
   "metadata": {},
   "outputs": [
    {
     "name": "stdout",
     "output_type": "stream",
     "text": [
      "n=3\n",
      "a=12\n",
      "a=24\n",
      "a=36\n",
      "36.0\n"
     ]
    }
   ],
   "source": []
  },
  {
   "cell_type": "code",
   "execution_count": 1,
   "metadata": {},
   "outputs": [
    {
     "name": "stdout",
     "output_type": "stream",
     "text": [
      "n=220\n",
      "2 2 5 11.0 "
     ]
    }
   ],
   "source": [
    "#tub kopaytuvchilarga ajratish\n",
    "n=int(input('n='))\n",
    "while n%2==0:\n",
    "    print(2,end=' ')\n",
    "    n/=2\n",
    "for i in range(3,int(n**0.5)+1,2):\n",
    "    while n%i==0:\n",
    "        print(i,end=' ')\n",
    "        n/=i\n",
    "if n>2:\n",
    "    print(n,end=' ')\n"
   ]
  },
  {
   "cell_type": "code",
   "execution_count": 5,
   "metadata": {},
   "outputs": [
    {
     "name": "stdout",
     "output_type": "stream",
     "text": [
      "n=17\n",
      "17 "
     ]
    }
   ],
   "source": [
    "n=int(input('n='))\n",
    "while n%2==0:\n",
    "    n/=2\n",
    "    print(2,end=' ')\n",
    "for i in range(3,int(n)+1,2):\n",
    "    while n%i==0:\n",
    "        print(i,end=' ')\n",
    "        n/=i\n",
    "    else:\n",
    "        continue\n",
    "        \n",
    "    "
   ]
  },
  {
   "cell_type": "code",
   "execution_count": 21,
   "metadata": {},
   "outputs": [
    {
     "name": "stdout",
     "output_type": "stream",
     "text": [
      "n=20\n",
      "17 3\n",
      "13 7\n",
      "7 13\n",
      "1193\n"
     ]
    }
   ],
   "source": [
    "# 18. S musbat soni berilgan. Ushbu sonni ikki tub son yig’indisi ko’rinishida \n",
    "# ifodalash mumkinligini aniqlovchi dastur tuzing. Shu sonlarni ekranga chiqaring.\n",
    "# Kiritish: 20\n",
    "# Chiqarish: Mumkin – 3 va 17\n",
    "n=int(input('n='))\n",
    "sana=0\n",
    "for i in range(2,n+1):\n",
    "    S=0\n",
    "    for j in range(2,i):\n",
    "        if i%j==0:\n",
    "            S+=1\n",
    "    if S==0:\n",
    "        for k in range(n,3,-1):\n",
    "            L=0\n",
    "            for m in range(2,k):\n",
    "                sana+=1\n",
    "                if k%m==0:\n",
    "                    L+=1\n",
    "            if L==0:\n",
    "                if k+i==n:\n",
    "                    print(k,i)\n",
    "                    break\n",
    "print(sana)              "
   ]
  },
  {
   "cell_type": "code",
   "execution_count": 4,
   "metadata": {},
   "outputs": [
    {
     "name": "stdout",
     "output_type": "stream",
     "text": [
      "n=100\n",
      "100 = 3 + 97\n",
      "100 = 11 + 89\n",
      "100 = 17 + 83\n",
      "100 = 29 + 71\n",
      "100 = 41 + 59\n",
      "100 = 47 + 53\n"
     ]
    }
   ],
   "source": [
    "#18_1 Berilgan son ikkita tub sonning yig'indisiga teng yoki teng emasligini aniqlovchi dastur\n",
    "n=int(input('n='))\n",
    "x1=True \n",
    "for i in range(2,n//2):\n",
    "    x2=True;x3=True\n",
    "    for j in range(2,i):\n",
    "        if i%j==0:\n",
    "            x2=False\n",
    "            break\n",
    "    for k in range(2,n-i):\n",
    "        if (n-i)%k==0:\n",
    "            x3=False\n",
    "            break\n",
    "    if x2 and x3:\n",
    "        print(n,'=',i,'+',n-i)\n",
    "        x1=False\n",
    "if x1:\n",
    "    print('Yechim yoq')"
   ]
  },
  {
   "cell_type": "code",
   "execution_count": 5,
   "metadata": {},
   "outputs": [
    {
     "name": "stdout",
     "output_type": "stream",
     "text": [
      "n=20\n",
      "20 = 4 + 16\n",
      "20 = 6 + 14\n",
      "20 = 8 + 12\n"
     ]
    }
   ],
   "source": [
    "#Berilgan son ikkita murakkab sonning yig'indisiga teng yoki teng emasligini aniqlovchi dastur\n",
    "n=int(input('n='))\n",
    "x1=True \n",
    "for i in range(2,n//2):\n",
    "    x2=False;x3=False\n",
    "    for j in range(2,i):\n",
    "        if i%j==0:\n",
    "            x2=True\n",
    "            break\n",
    "    for k in range(2,n-i):\n",
    "        if (n-i)%k==0:\n",
    "            x3=True\n",
    "            break\n",
    "    if x2 and x3:\n",
    "        print(n,'=',i,'+',n-i)\n",
    "        x1=False\n",
    "if x1:\n",
    "    print('Yechim yoq')"
   ]
  },
  {
   "cell_type": "code",
   "execution_count": 15,
   "metadata": {},
   "outputs": [
    {
     "name": "stdout",
     "output_type": "stream",
     "text": [
      "n=6\n",
      "4 6 18\n"
     ]
    }
   ],
   "source": [
    "n=int(input('n='))\n",
    "sana=0\n",
    "for i in range(1,n+1):\n",
    "    s=0\n",
    "    for k in range(1,i+1):\n",
    "        sana+=1\n",
    "        if i%k==0:\n",
    "            s+=1\n",
    "            if s==3:\n",
    "                print(i,end=' ')\n",
    "                break\n",
    "print(sana)"
   ]
  },
  {
   "cell_type": "code",
   "execution_count": 18,
   "metadata": {},
   "outputs": [
    {
     "name": "stdout",
     "output_type": "stream",
     "text": [
      "n=13\n",
      "9 4\n",
      "4 9\n",
      "140\n"
     ]
    }
   ],
   "source": [
    "n=int(input('n='))\n",
    "sana=0\n",
    "for i in range(1,n+1):\n",
    "    S=0\n",
    "    for j in range(1,i+1):\n",
    "        if i%j==0:\n",
    "            S+=1\n",
    "    if S==3:\n",
    "        for k in range(n,0,-1):\n",
    "            L=0\n",
    "            for m in range(1,k+1):\n",
    "                sana+=1\n",
    "                if k%m==0:\n",
    "                    L+=1\n",
    "            if L==3:\n",
    "                if k+i==n:\n",
    "                    print(k,i)\n",
    "                    break\n",
    "print(sana)"
   ]
  },
  {
   "cell_type": "code",
   "execution_count": 28,
   "metadata": {},
   "outputs": [
    {
     "name": "stdout",
     "output_type": "stream",
     "text": [
      "n=6\n",
      "a=1\n",
      "a=5\n",
      "a=0\n",
      "a=3\n",
      "a=0\n",
      "a=4\n",
      "1 2\n"
     ]
    }
   ],
   "source": [
    "n=int(input('n='))\n",
    "x=True\n",
    "y=True\n",
    "s=0\n",
    "k=0\n",
    "for i in range(1,n+1):\n",
    "    a=int(input('a='))\n",
    "    if x:\n",
    "        mini=a\n",
    "        maxi=a\n",
    "        x=False\n",
    "    if mini>a:\n",
    "        mini=a\n",
    "    if y:\n",
    "        imini=i\n",
    "        y=False\n",
    "        if imini>i:\n",
    "            imini=i\n",
    "    if maxi<a:\n",
    "        maxi=a\n",
    "        imaxi=i\n",
    "print(imini,imaxi)"
   ]
  },
  {
   "cell_type": "code",
   "execution_count": 3,
   "metadata": {},
   "outputs": [
    {
     "name": "stdout",
     "output_type": "stream",
     "text": [
      "a=789\n",
      "987\n"
     ]
    }
   ],
   "source": [
    "#5\n",
    "a=int(input('a='))\n",
    "s=0\n",
    "while a>0:\n",
    "    s=s*10+a%10\n",
    "    a//=10\n",
    "print(s)"
   ]
  },
  {
   "cell_type": "code",
   "execution_count": null,
   "metadata": {},
   "outputs": [],
   "source": []
  }
 ],
 "metadata": {
  "kernelspec": {
   "display_name": "Python 3",
   "language": "python",
   "name": "python3"
  },
  "language_info": {
   "codemirror_mode": {
    "name": "ipython",
    "version": 3
   },
   "file_extension": ".py",
   "mimetype": "text/x-python",
   "name": "python",
   "nbconvert_exporter": "python",
   "pygments_lexer": "ipython3",
   "version": "3.8.5"
  }
 },
 "nbformat": 4,
 "nbformat_minor": 4
}

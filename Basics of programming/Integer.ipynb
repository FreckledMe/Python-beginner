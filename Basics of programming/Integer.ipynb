{
 "cells": [
  {
   "cell_type": "code",
   "execution_count": 3,
   "metadata": {},
   "outputs": [
    {
     "name": "stdout",
     "output_type": "stream",
     "text": [
      "L=235\n",
      "2.35\n"
     ]
    }
   ],
   "source": [
    "#1\n",
    "L=int(input('L='))\n",
    "print(L/100)"
   ]
  },
  {
   "cell_type": "code",
   "execution_count": 4,
   "metadata": {},
   "outputs": [
    {
     "name": "stdout",
     "output_type": "stream",
     "text": [
      "M=4265\n",
      "4.265\n"
     ]
    }
   ],
   "source": [
    "#2\n",
    "M=int(input('M='))\n",
    "print(M/1000)"
   ]
  },
  {
   "cell_type": "code",
   "execution_count": 5,
   "metadata": {},
   "outputs": [
    {
     "name": "stdout",
     "output_type": "stream",
     "text": [
      "b=2049\n",
      "2.0009765625\n"
     ]
    }
   ],
   "source": [
    "#3\n",
    "b=int(input('b='))\n",
    "print(b/1024)"
   ]
  },
  {
   "cell_type": "code",
   "execution_count": 6,
   "metadata": {},
   "outputs": [
    {
     "name": "stdout",
     "output_type": "stream",
     "text": [
      "a=42\n",
      "b=10\n",
      "4\n"
     ]
    }
   ],
   "source": [
    "#4\n",
    "a=int(input('a='))\n",
    "b=int(input('b='))\n",
    "print(a//b)"
   ]
  },
  {
   "cell_type": "code",
   "execution_count": 7,
   "metadata": {},
   "outputs": [
    {
     "name": "stdout",
     "output_type": "stream",
     "text": [
      "a=42\n",
      "b=10\n",
      "4\n",
      "2\n"
     ]
    }
   ],
   "source": [
    "#5\n",
    "a=int(input('a='))\n",
    "b=int(input('b='))\n",
    "print(a//b)\n",
    "print(a-a//b*b)"
   ]
  },
  {
   "cell_type": "code",
   "execution_count": 8,
   "metadata": {},
   "outputs": [
    {
     "name": "stdout",
     "output_type": "stream",
     "text": [
      "a=21\n",
      "2 1\n"
     ]
    }
   ],
   "source": [
    "#6\n",
    "a=int(input('a='))\n",
    "print(a//10,a%10)"
   ]
  },
  {
   "cell_type": "code",
   "execution_count": 9,
   "metadata": {},
   "outputs": [
    {
     "name": "stdout",
     "output_type": "stream",
     "text": [
      "a=23\n",
      "5\n"
     ]
    }
   ],
   "source": [
    "#7\n",
    "a=int(input('a='))\n",
    "print(a//10+a%10)"
   ]
  },
  {
   "cell_type": "code",
   "execution_count": 10,
   "metadata": {},
   "outputs": [
    {
     "name": "stdout",
     "output_type": "stream",
     "text": [
      "a=12\n",
      "21\n"
     ]
    }
   ],
   "source": [
    "#8\n",
    "a=int(input('a='))\n",
    "print(a//10+a%10*10)"
   ]
  },
  {
   "cell_type": "code",
   "execution_count": 11,
   "metadata": {},
   "outputs": [
    {
     "name": "stdout",
     "output_type": "stream",
     "text": [
      "a=420\n",
      "4\n"
     ]
    }
   ],
   "source": [
    "#9\n",
    "a=int(input('a='))\n",
    "print(a//100)"
   ]
  },
  {
   "cell_type": "code",
   "execution_count": 12,
   "metadata": {},
   "outputs": [
    {
     "name": "stdout",
     "output_type": "stream",
     "text": [
      "a=123\n",
      "3\n",
      "2\n"
     ]
    }
   ],
   "source": [
    "#10\n",
    "a=int(input('a='))\n",
    "print(a%10)\n",
    "print(a//10%10)"
   ]
  },
  {
   "cell_type": "code",
   "execution_count": 13,
   "metadata": {},
   "outputs": [
    {
     "name": "stdout",
     "output_type": "stream",
     "text": [
      "a=123\n",
      "6\n"
     ]
    }
   ],
   "source": [
    "#11\n",
    "a=int(input('a='))\n",
    "print(a%10+a//10%10+a//100)"
   ]
  },
  {
   "cell_type": "code",
   "execution_count": 14,
   "metadata": {},
   "outputs": [
    {
     "name": "stdout",
     "output_type": "stream",
     "text": [
      "a=123\n",
      "321\n"
     ]
    }
   ],
   "source": [
    "#12\n",
    "a=int(input('a='))\n",
    "print(a%10*100+a//10%10*10+a//100)"
   ]
  },
  {
   "cell_type": "code",
   "execution_count": 15,
   "metadata": {},
   "outputs": [
    {
     "name": "stdout",
     "output_type": "stream",
     "text": [
      "a=123\n",
      "231\n"
     ]
    }
   ],
   "source": [
    "#13\n",
    "a=int(input('a='))\n",
    "print(a//10%10*100+a%10*10+a//100)"
   ]
  },
  {
   "cell_type": "code",
   "execution_count": 19,
   "metadata": {},
   "outputs": [
    {
     "name": "stdout",
     "output_type": "stream",
     "text": [
      "a=123\n",
      "312\n"
     ]
    }
   ],
   "source": [
    "#14\n",
    "a=int(input('a='))\n",
    "print(a%10*100+a//100*10+a//10%10)"
   ]
  },
  {
   "cell_type": "code",
   "execution_count": 20,
   "metadata": {},
   "outputs": [
    {
     "name": "stdout",
     "output_type": "stream",
     "text": [
      "a=123\n",
      "213\n"
     ]
    }
   ],
   "source": [
    "#15\n",
    "a=int(input('a='))\n",
    "print(a//10%10*100+a//100*10+a%10)"
   ]
  },
  {
   "cell_type": "code",
   "execution_count": 22,
   "metadata": {},
   "outputs": [
    {
     "name": "stdout",
     "output_type": "stream",
     "text": [
      "a=123\n",
      "132\n"
     ]
    }
   ],
   "source": [
    "#16\n",
    "a=int(input('a='))\n",
    "print(a//100*100+a%10*10+a//10%10)"
   ]
  },
  {
   "cell_type": "code",
   "execution_count": 23,
   "metadata": {},
   "outputs": [
    {
     "name": "stdout",
     "output_type": "stream",
     "text": [
      "a=456987456321\n",
      "3\n"
     ]
    }
   ],
   "source": [
    "#17\n",
    "a=int(input('a='))\n",
    "print(a//100%10)"
   ]
  },
  {
   "cell_type": "code",
   "execution_count": 24,
   "metadata": {},
   "outputs": [
    {
     "name": "stdout",
     "output_type": "stream",
     "text": [
      "a=45986466\n",
      "6\n"
     ]
    }
   ],
   "source": [
    "#18\n",
    "a=int(input('a='))\n",
    "print(a//1000%10)"
   ]
  },
  {
   "cell_type": "code",
   "execution_count": 25,
   "metadata": {},
   "outputs": [
    {
     "name": "stdout",
     "output_type": "stream",
     "text": [
      "n=1256\n",
      "20\n"
     ]
    }
   ],
   "source": [
    "#19\n",
    "n=int(input('n='))\n",
    "print(n//60)"
   ]
  },
  {
   "cell_type": "code",
   "execution_count": 27,
   "metadata": {},
   "outputs": [
    {
     "name": "stdout",
     "output_type": "stream",
     "text": [
      "n=7200\n",
      "2\n"
     ]
    }
   ],
   "source": [
    "#20\n",
    "n=int(input('n='))\n",
    "print(n//3600)"
   ]
  },
  {
   "cell_type": "code",
   "execution_count": 28,
   "metadata": {},
   "outputs": [
    {
     "name": "stdout",
     "output_type": "stream",
     "text": [
      "n=1201\n",
      "20 minut 1 sekund\n"
     ]
    }
   ],
   "source": [
    "#21\n",
    "n=int(input('n='))\n",
    "print(n//60,'minut',n%60,\"sekund\")\n"
   ]
  },
  {
   "cell_type": "code",
   "execution_count": 29,
   "metadata": {},
   "outputs": [
    {
     "name": "stdout",
     "output_type": "stream",
     "text": [
      "n=7201\n",
      "2 soat 1 sekund\n"
     ]
    }
   ],
   "source": [
    "#22\n",
    "n=int(input('n='))\n",
    "print(n//3600,\"soat\",n%60,\"sekund\")"
   ]
  },
  {
   "cell_type": "code",
   "execution_count": 30,
   "metadata": {},
   "outputs": [
    {
     "name": "stdout",
     "output_type": "stream",
     "text": [
      "n=3661\n",
      "1 soat 1 minut 1 sekund\n"
     ]
    }
   ],
   "source": [
    "#23\n",
    "n=int(input('n='))\n",
    "print(n//3600,\"soat\",n%3600//60,'minut',n%60,\"sekund\")"
   ]
  },
  {
   "cell_type": "code",
   "execution_count": 32,
   "metadata": {},
   "outputs": [
    {
     "name": "stdout",
     "output_type": "stream",
     "text": [
      "k=45\n",
      "3\n"
     ]
    }
   ],
   "source": [
    "#24\n",
    "k=int(input('k='))\n",
    "\n",
    "print(k%7)"
   ]
  },
  {
   "cell_type": "code",
   "execution_count": 33,
   "metadata": {},
   "outputs": [
    {
     "name": "stdout",
     "output_type": "stream",
     "text": [
      "k=2\n",
      "5\n"
     ]
    }
   ],
   "source": [
    "#25\n",
    "k=int(input('k='))\n",
    "n=4\n",
    "print((n+k-1)%7)\n"
   ]
  },
  {
   "cell_type": "code",
   "execution_count": 34,
   "metadata": {},
   "outputs": [
    {
     "name": "stdout",
     "output_type": "stream",
     "text": [
      "k=12\n",
      "6\n"
     ]
    }
   ],
   "source": [
    "#26\n",
    "k=int(input('k='))\n",
    "n=2\n",
    "print((n+k-1)%7)"
   ]
  },
  {
   "cell_type": "code",
   "execution_count": 35,
   "metadata": {},
   "outputs": [
    {
     "name": "stdout",
     "output_type": "stream",
     "text": [
      "k=14\n",
      "6\n"
     ]
    }
   ],
   "source": [
    "#27\n",
    "k=int(input('k='))\n",
    "n=7\n",
    "print((n+k-1)%7)"
   ]
  },
  {
   "cell_type": "code",
   "execution_count": 36,
   "metadata": {},
   "outputs": [
    {
     "name": "stdout",
     "output_type": "stream",
     "text": [
      "k=123\n",
      "n=5\n",
      "1\n"
     ]
    }
   ],
   "source": [
    "#28\n",
    "k=int(input('k='))\n",
    "n=int(input('n='))\n",
    "print((n+k-1)%7)"
   ]
  },
  {
   "cell_type": "code",
   "execution_count": 42,
   "metadata": {},
   "outputs": [
    {
     "name": "stdout",
     "output_type": "stream",
     "text": [
      "a=13\n",
      "b=16\n",
      "c=3\n",
      "20\n",
      "28\n"
     ]
    }
   ],
   "source": [
    "#29\n",
    "a=int(input('a='))\n",
    "b=int(input('b='))\n",
    "c=int(input('c='))\n",
    "k=(a//c) * (b//c)\n",
    "s=a*b-c*c*k\n",
    "print(k)\n",
    "print(s)"
   ]
  },
  {
   "cell_type": "code",
   "execution_count": 43,
   "metadata": {},
   "outputs": [
    {
     "name": "stdout",
     "output_type": "stream",
     "text": [
      "a=1901\n",
      "20\n"
     ]
    }
   ],
   "source": [
    "#30\n",
    "a=int(input('a='))\n",
    "print(a//100+1)"
   ]
  },
  {
   "cell_type": "markdown",
   "metadata": {},
   "source": []
  },
  {
   "cell_type": "markdown",
   "metadata": {},
   "source": []
  }
 ],
 "metadata": {
  "kernelspec": {
   "display_name": "Python 3",
   "language": "python",
   "name": "python3"
  },
  "language_info": {
   "codemirror_mode": {
    "name": "ipython",
    "version": 3
   },
   "file_extension": ".py",
   "mimetype": "text/x-python",
   "name": "python",
   "nbconvert_exporter": "python",
   "pygments_lexer": "ipython3",
   "version": "3.8.6rc1"
  }
 },
 "nbformat": 4,
 "nbformat_minor": 4
}
